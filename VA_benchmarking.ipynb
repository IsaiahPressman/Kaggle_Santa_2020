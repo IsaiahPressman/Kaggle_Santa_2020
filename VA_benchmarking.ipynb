{
 "cells": [
  {
   "cell_type": "code",
   "execution_count": 7,
   "metadata": {},
   "outputs": [
    {
     "name": "stderr",
     "output_type": "stream",
     "text": [
      "100%|██████████| 1999/1999 [00:10<00:00, 191.77it/s]\n"
     ]
    },
    {
     "name": "stdout",
     "output_type": "stream",
     "text": [
      "RandomAgent -vs- RandomAgent\n",
      "Mean scores: 593.01 - 592.38\n",
      "Match score: 5029 - 139 - 4832 (50.3% - 1.4% - 48.3%)\n"
     ]
    }
   ],
   "source": [
    "va.run_vectorized_vs(va.RandomAgent(), va.RandomAgent(), n_envs=10000);"
   ]
  },
  {
   "cell_type": "code",
   "execution_count": 1,
   "metadata": {},
   "outputs": [],
   "source": [
    "import os\n",
    "import time\n",
    "import torch\n",
    "\n",
    "import vectorized_agents as va\n",
    "import vectorized_env as ve\n",
    "\n",
    "DEVICE = torch.device('cuda')\n",
    "\n",
    "if DEVICE == torch.device('cpu'):\n",
    "    os.environ['OMP_NUM_THREADS'] = '4'\n",
    "else:\n",
    "    os.environ['OMP_NUM_THREADS'] = '8'"
   ]
  },
  {
   "cell_type": "code",
   "execution_count": 2,
   "metadata": {},
   "outputs": [],
   "source": [
    "env_kwargs = dict(\n",
    "    n_envs=500 if DEVICE == torch.device('cuda') else 50,\n",
    "    env_device=DEVICE,\n",
    "    out_device=DEVICE\n",
    ")\n",
    "rl_agent_opp_kwargs = dict(\n",
    "    device=DEVICE,\n",
    "    deterministic_policy=True\n",
    ")\n",
    "\n",
    "timesteps = [0, 500]\n",
    "agents = [\n",
    "    va.SavedRLAgent('awac_agent_small_8_64_32_1_norm_v1-230', device=DEVICE, deterministic_policy=True),\n",
    "    va.SavedRLAgent('a3c_agent_small_8_64_32_2_v2-30', device=DEVICE, deterministic_policy=False),\n",
    "]\n",
    "agents_obs_types = [a.obs_type for a in agents]\n",
    "player = va.MultiObsFixedTimeEnsemble(\n",
    "    timesteps,\n",
    "    agents,\n",
    "    agents_obs_types\n",
    ")\n",
    "opponents = (\n",
    "    va.PullVegasSlotMachinesImproved(),\n",
    "    va.SavedRLAgent('a3c_agent_small_8_32-790', **rl_agent_opp_kwargs),\n",
    "    va.SavedRLAgent('awac_agent_small_8_64_32_1_norm_v1-230', **rl_agent_opp_kwargs),\n",
    "    va.SavedRLAgent('a3c_agent_small_8_64_32_2_v2-30', **rl_agent_opp_kwargs),\n",
    ")"
   ]
  },
  {
   "cell_type": "code",
   "execution_count": 3,
   "metadata": {},
   "outputs": [
    {
     "name": "stderr",
     "output_type": "stream",
     "text": [
      "100%|██████████| 1999/1999 [00:28<00:00, 70.35it/s]\n"
     ]
    },
    {
     "name": "stdout",
     "output_type": "stream",
     "text": [
      "MultiObsFixedTimeEnsemble: SavedRLAgent: awac_agent_small_8_64_32_1_norm_v1-230_deterministic__SavedRLAgent: a3c_agent_small_8_64_32_2_v2-30 -vs- PullVegasSlotMachinesImproved\n",
      "Mean scores: 646.09 - 636.95\n",
      "Match score: 312 - 8 - 180 (62.4% - 1.6% - 36.0%)\n"
     ]
    },
    {
     "name": "stderr",
     "output_type": "stream",
     "text": [
      "100%|██████████| 1999/1999 [00:36<00:00, 54.73it/s]\n"
     ]
    },
    {
     "name": "stdout",
     "output_type": "stream",
     "text": [
      "MultiObsFixedTimeEnsemble: SavedRLAgent: awac_agent_small_8_64_32_1_norm_v1-230_deterministic__SavedRLAgent: a3c_agent_small_8_64_32_2_v2-30 -vs- SavedRLAgent: a3c_agent_small_8_32-790_deterministic\n",
      "Mean scores: 643.43 - 638.50\n",
      "Match score: 279 - 5 - 216 (55.8% - 1.0% - 43.2%)\n"
     ]
    },
    {
     "name": "stderr",
     "output_type": "stream",
     "text": [
      "100%|██████████| 1999/1999 [00:40<00:00, 49.30it/s]\n"
     ]
    },
    {
     "name": "stdout",
     "output_type": "stream",
     "text": [
      "MultiObsFixedTimeEnsemble: SavedRLAgent: awac_agent_small_8_64_32_1_norm_v1-230_deterministic__SavedRLAgent: a3c_agent_small_8_64_32_2_v2-30 -vs- SavedRLAgent: awac_agent_small_8_64_32_1_norm_v1-230_deterministic\n",
      "Mean scores: 638.92 - 639.38\n",
      "Match score: 242 - 10 - 248 (48.4% - 2.0% - 49.6%)\n"
     ]
    },
    {
     "name": "stderr",
     "output_type": "stream",
     "text": [
      "100%|██████████| 1999/1999 [00:53<00:00, 37.27it/s]\n"
     ]
    },
    {
     "name": "stdout",
     "output_type": "stream",
     "text": [
      "MultiObsFixedTimeEnsemble: SavedRLAgent: awac_agent_small_8_64_32_1_norm_v1-230_deterministic__SavedRLAgent: a3c_agent_small_8_64_32_2_v2-30 -vs- SavedRLAgent: a3c_agent_small_8_64_32_2_v2-30_deterministic\n",
      "Mean scores: 637.43 - 638.46\n",
      "Match score: 235 - 5 - 260 (47.0% - 1.0% - 52.0%)\n"
     ]
    }
   ],
   "source": [
    "for opp in opponents:\n",
    "    va.run_vectorized_vs(player, opp, **env_kwargs)"
   ]
  },
  {
   "cell_type": "code",
   "execution_count": 2,
   "metadata": {},
   "outputs": [],
   "source": [
    "env_kwargs = dict(\n",
    "    n_envs=500 if DEVICE == torch.device('cuda') else 50,\n",
    "    env_device=DEVICE,\n",
    "    out_device=DEVICE\n",
    ")\n",
    "rl_agent_opp_kwargs = dict(\n",
    "    device=DEVICE,\n",
    "    deterministic_policy=True\n",
    ")\n",
    "\n",
    "all_ensemble_names = ['a3c_agent_small_8_32', 'awac_agent_small_8_64_32_1_norm', 'a3c_agent_small_8_64_32_2']\n",
    "players = (\n",
    "    va.SavedRLAgentMultiObsEnsemble(all_ensemble_names[:2], weight_logits=False, deterministic_policy=True),\n",
    "    va.SavedRLAgentMultiObsEnsemble([all_ensemble_names[0], all_ensemble_names[2]], weight_logits=False, deterministic_policy=True),\n",
    "    va.SavedRLAgentMultiObsEnsemble(all_ensemble_names[-2:], weight_logits=False, deterministic_policy=True),\n",
    "    va.SavedRLAgentMultiObsEnsemble(all_ensemble_names, weight_logits=False, deterministic_policy=True),\n",
    ")\n",
    "opponents = (\n",
    "    va.PullVegasSlotMachinesImproved(),\n",
    "    va.SavedRLAgent('a3c_agent_small_8_32-790', **rl_agent_opp_kwargs),\n",
    "    va.SavedRLAgent('awac_agent_small_8_64_32_1_norm_v1-230', **rl_agent_opp_kwargs),\n",
    "    va.SavedRLAgent('a3c_agent_small_8_64_32_2_v2-30', **rl_agent_opp_kwargs),\n",
    ")"
   ]
  },
  {
   "cell_type": "code",
   "execution_count": 3,
   "metadata": {},
   "outputs": [
    {
     "name": "stdout",
     "output_type": "stream",
     "text": [
      "Evaluating \"SavedRLAgentMultiObsEnsemble: a3c_agent_small_8_32__awac_agent_small_8_64_32_1_norm_weight_probs_deterministic\"\n"
     ]
    },
    {
     "name": "stderr",
     "output_type": "stream",
     "text": [
      "100%|██████████| 1999/1999 [01:51<00:00, 17.93it/s]\n"
     ]
    },
    {
     "name": "stdout",
     "output_type": "stream",
     "text": [
      "SavedRLAgentMultiObsEnsemble: a3c_agent_small_8_32__awac_agent_small_8_64_32_1_norm_weight_probs_deterministic -vs- PullVegasSlotMachinesImproved\n",
      "Mean scores: 646.79 - 639.54\n",
      "Match score: 296 - 8 - 196 (59.2% - 1.6% - 39.2%)\n"
     ]
    },
    {
     "name": "stderr",
     "output_type": "stream",
     "text": [
      "100%|██████████| 1999/1999 [02:07<00:00, 15.67it/s]\n"
     ]
    },
    {
     "name": "stdout",
     "output_type": "stream",
     "text": [
      "SavedRLAgentMultiObsEnsemble: a3c_agent_small_8_32__awac_agent_small_8_64_32_1_norm_weight_probs_deterministic -vs- SavedRLAgent: a3c_agent_small_8_32-790_deterministic\n",
      "Mean scores: 645.70 - 640.98\n",
      "Match score: 271 - 12 - 217 (54.2% - 2.4% - 43.4%)\n"
     ]
    },
    {
     "name": "stderr",
     "output_type": "stream",
     "text": [
      "100%|██████████| 1999/1999 [02:11<00:00, 15.24it/s]\n"
     ]
    },
    {
     "name": "stdout",
     "output_type": "stream",
     "text": [
      "SavedRLAgentMultiObsEnsemble: a3c_agent_small_8_32__awac_agent_small_8_64_32_1_norm_weight_probs_deterministic -vs- SavedRLAgent: awac_agent_small_8_64_32_1_norm_v1-230_deterministic\n",
      "Mean scores: 640.63 - 640.83\n",
      "Match score: 245 - 5 - 250 (49.0% - 1.0% - 50.0%)\n"
     ]
    },
    {
     "name": "stderr",
     "output_type": "stream",
     "text": [
      "100%|██████████| 1999/1999 [02:20<00:00, 14.21it/s]\n"
     ]
    },
    {
     "name": "stdout",
     "output_type": "stream",
     "text": [
      "SavedRLAgentMultiObsEnsemble: a3c_agent_small_8_32__awac_agent_small_8_64_32_1_norm_weight_probs_deterministic -vs- SavedRLAgent: a3c_agent_small_8_64_32_2_v2-30_deterministic\n",
      "Mean scores: 642.46 - 644.91\n",
      "Match score: 220 - 11 - 269 (44.0% - 2.2% - 53.8%)\n",
      "\n",
      "Evaluating \"SavedRLAgentMultiObsEnsemble: awac_agent_small_8_64_32_1_norm__a3c_agent_small_8_64_32_2_weight_probs_deterministic\"\n"
     ]
    },
    {
     "name": "stderr",
     "output_type": "stream",
     "text": [
      "100%|██████████| 1999/1999 [03:10<00:00, 10.48it/s]\n"
     ]
    },
    {
     "name": "stdout",
     "output_type": "stream",
     "text": [
      "SavedRLAgentMultiObsEnsemble: awac_agent_small_8_64_32_1_norm__a3c_agent_small_8_64_32_2_weight_probs_deterministic -vs- PullVegasSlotMachinesImproved\n",
      "Mean scores: 648.98 - 636.41\n",
      "Match score: 328 - 2 - 170 (65.6% - 0.4% - 34.0%)\n"
     ]
    },
    {
     "name": "stderr",
     "output_type": "stream",
     "text": [
      "100%|██████████| 1999/1999 [03:01<00:00, 11.02it/s]\n"
     ]
    },
    {
     "name": "stdout",
     "output_type": "stream",
     "text": [
      "SavedRLAgentMultiObsEnsemble: awac_agent_small_8_64_32_1_norm__a3c_agent_small_8_64_32_2_weight_probs_deterministic -vs- SavedRLAgent: a3c_agent_small_8_32-790_deterministic\n",
      "Mean scores: 642.33 - 638.51\n",
      "Match score: 265 - 13 - 222 (53.0% - 2.6% - 44.4%)\n"
     ]
    },
    {
     "name": "stderr",
     "output_type": "stream",
     "text": [
      "100%|██████████| 1999/1999 [03:23<00:00,  9.82it/s]\n"
     ]
    },
    {
     "name": "stdout",
     "output_type": "stream",
     "text": [
      "SavedRLAgentMultiObsEnsemble: awac_agent_small_8_64_32_1_norm__a3c_agent_small_8_64_32_2_weight_probs_deterministic -vs- SavedRLAgent: awac_agent_small_8_64_32_1_norm_v1-230_deterministic\n",
      "Mean scores: 641.54 - 642.78\n",
      "Match score: 241 - 4 - 255 (48.2% - 0.8% - 51.0%)\n"
     ]
    },
    {
     "name": "stderr",
     "output_type": "stream",
     "text": [
      "100%|██████████| 1999/1999 [03:35<00:00,  9.26it/s]\n"
     ]
    },
    {
     "name": "stdout",
     "output_type": "stream",
     "text": [
      "SavedRLAgentMultiObsEnsemble: awac_agent_small_8_64_32_1_norm__a3c_agent_small_8_64_32_2_weight_probs_deterministic -vs- SavedRLAgent: a3c_agent_small_8_64_32_2_v2-30_deterministic\n",
      "Mean scores: 640.65 - 640.68\n",
      "Match score: 255 - 5 - 240 (51.0% - 1.0% - 48.0%)\n",
      "\n",
      "Evaluating \"SavedRLAgentMultiObsEnsemble: a3c_agent_small_8_32__a3c_agent_small_8_64_32_2_weight_probs_deterministic\"\n"
     ]
    },
    {
     "name": "stderr",
     "output_type": "stream",
     "text": [
      "100%|██████████| 1999/1999 [02:40<00:00, 12.43it/s]\n"
     ]
    },
    {
     "name": "stdout",
     "output_type": "stream",
     "text": [
      "SavedRLAgentMultiObsEnsemble: a3c_agent_small_8_32__a3c_agent_small_8_64_32_2_weight_probs_deterministic -vs- PullVegasSlotMachinesImproved\n",
      "Mean scores: 648.39 - 636.39\n",
      "Match score: 328 - 4 - 168 (65.6% - 0.8% - 33.6%)\n"
     ]
    },
    {
     "name": "stderr",
     "output_type": "stream",
     "text": [
      " 71%|███████   | 1423/1999 [01:58<00:47, 12.01it/s]\n"
     ]
    },
    {
     "ename": "KeyboardInterrupt",
     "evalue": "",
     "output_type": "error",
     "traceback": [
      "\u001b[0;31m---------------------------------------------------------------------------\u001b[0m",
      "\u001b[0;31mKeyboardInterrupt\u001b[0m                         Traceback (most recent call last)",
      "\u001b[0;32m<ipython-input-3-34be83dc6af8>\u001b[0m in \u001b[0;36m<module>\u001b[0;34m\u001b[0m\n\u001b[1;32m      3\u001b[0m     \u001b[0mtime\u001b[0m\u001b[0;34m.\u001b[0m\u001b[0msleep\u001b[0m\u001b[0;34m(\u001b[0m\u001b[0;36m0.5\u001b[0m\u001b[0;34m)\u001b[0m\u001b[0;34m\u001b[0m\u001b[0;34m\u001b[0m\u001b[0m\n\u001b[1;32m      4\u001b[0m     \u001b[0;32mfor\u001b[0m \u001b[0mopp\u001b[0m \u001b[0;32min\u001b[0m \u001b[0mopponents\u001b[0m\u001b[0;34m:\u001b[0m\u001b[0;34m\u001b[0m\u001b[0;34m\u001b[0m\u001b[0m\n\u001b[0;32m----> 5\u001b[0;31m         \u001b[0mva\u001b[0m\u001b[0;34m.\u001b[0m\u001b[0mrun_vectorized_vs\u001b[0m\u001b[0;34m(\u001b[0m\u001b[0mplayer\u001b[0m\u001b[0;34m,\u001b[0m \u001b[0mopp\u001b[0m\u001b[0;34m,\u001b[0m \u001b[0;34m**\u001b[0m\u001b[0menv_kwargs\u001b[0m\u001b[0;34m)\u001b[0m\u001b[0;34m\u001b[0m\u001b[0;34m\u001b[0m\u001b[0m\n\u001b[0m\u001b[1;32m      6\u001b[0m     \u001b[0mprint\u001b[0m\u001b[0;34m(\u001b[0m\u001b[0;34m)\u001b[0m\u001b[0;34m\u001b[0m\u001b[0;34m\u001b[0m\u001b[0m\n",
      "\u001b[0;32m/Windows/Users/isaia/Documents/GitHub/Kaggle/Santa_2020/vectorized_agents.py\u001b[0m in \u001b[0;36mrun_vectorized_vs\u001b[0;34m(p1, p2, p1_name, p2_name, display_out, **env_kwargs)\u001b[0m\n\u001b[1;32m     36\u001b[0m     \u001b[0miterator\u001b[0m \u001b[0;34m=\u001b[0m \u001b[0mtqdm\u001b[0m\u001b[0;34m.\u001b[0m\u001b[0mtrange\u001b[0m \u001b[0;32mif\u001b[0m \u001b[0mdisplay_out\u001b[0m \u001b[0;32melse\u001b[0m \u001b[0mrange\u001b[0m\u001b[0;34m\u001b[0m\u001b[0;34m\u001b[0m\u001b[0m\n\u001b[1;32m     37\u001b[0m     \u001b[0;32mfor\u001b[0m \u001b[0mi\u001b[0m \u001b[0;32min\u001b[0m \u001b[0miterator\u001b[0m\u001b[0;34m(\u001b[0m\u001b[0mvs_env\u001b[0m\u001b[0;34m.\u001b[0m\u001b[0mn_steps\u001b[0m\u001b[0;34m)\u001b[0m\u001b[0;34m:\u001b[0m\u001b[0;34m\u001b[0m\u001b[0;34m\u001b[0m\u001b[0m\n\u001b[0;32m---> 38\u001b[0;31m         \u001b[0ms\u001b[0m\u001b[0;34m,\u001b[0m \u001b[0mr\u001b[0m\u001b[0;34m,\u001b[0m \u001b[0m_\u001b[0m\u001b[0;34m,\u001b[0m \u001b[0m_\u001b[0m \u001b[0;34m=\u001b[0m \u001b[0mvs_env\u001b[0m\u001b[0;34m.\u001b[0m\u001b[0mstep\u001b[0m\u001b[0;34m(\u001b[0m\u001b[0mp1\u001b[0m\u001b[0;34m(\u001b[0m\u001b[0ms\u001b[0m\u001b[0;34m)\u001b[0m\u001b[0;34m)\u001b[0m\u001b[0;34m\u001b[0m\u001b[0;34m\u001b[0m\u001b[0m\n\u001b[0m\u001b[1;32m     39\u001b[0m         \u001b[0mrewards\u001b[0m\u001b[0;34m.\u001b[0m\u001b[0mappend\u001b[0m\u001b[0;34m(\u001b[0m\u001b[0mr\u001b[0m\u001b[0;34m)\u001b[0m\u001b[0;34m\u001b[0m\u001b[0;34m\u001b[0m\u001b[0m\n\u001b[1;32m     40\u001b[0m     \u001b[0mp1_scores\u001b[0m\u001b[0;34m,\u001b[0m \u001b[0mp2_scores\u001b[0m \u001b[0;34m=\u001b[0m \u001b[0mvs_env\u001b[0m\u001b[0;34m.\u001b[0m\u001b[0mplayer_rewards_sums\u001b[0m\u001b[0;34m.\u001b[0m\u001b[0msum\u001b[0m\u001b[0;34m(\u001b[0m\u001b[0;34m-\u001b[0m\u001b[0;36m1\u001b[0m\u001b[0;34m)\u001b[0m\u001b[0;34m.\u001b[0m\u001b[0mchunk\u001b[0m\u001b[0;34m(\u001b[0m\u001b[0;36m2\u001b[0m\u001b[0;34m,\u001b[0m \u001b[0mdim\u001b[0m\u001b[0;34m=\u001b[0m\u001b[0;36m1\u001b[0m\u001b[0;34m)\u001b[0m\u001b[0;34m\u001b[0m\u001b[0;34m\u001b[0m\u001b[0m\n",
      "\u001b[0;32m/Windows/Users/isaia/Documents/GitHub/Kaggle/Santa_2020/vectorized_env.py\u001b[0m in \u001b[0;36mwrapped\u001b[0;34m(self, *args, **kwargs)\u001b[0m\n\u001b[1;32m    184\u001b[0m         \u001b[0;34m@\u001b[0m\u001b[0mwraps\u001b[0m\u001b[0;34m(\u001b[0m\u001b[0mf\u001b[0m\u001b[0;34m)\u001b[0m\u001b[0;34m\u001b[0m\u001b[0;34m\u001b[0m\u001b[0m\n\u001b[1;32m    185\u001b[0m         \u001b[0;32mdef\u001b[0m \u001b[0mwrapped\u001b[0m\u001b[0;34m(\u001b[0m\u001b[0mself\u001b[0m\u001b[0;34m,\u001b[0m \u001b[0;34m*\u001b[0m\u001b[0margs\u001b[0m\u001b[0;34m,\u001b[0m \u001b[0;34m**\u001b[0m\u001b[0mkwargs\u001b[0m\u001b[0;34m)\u001b[0m\u001b[0;34m:\u001b[0m\u001b[0;34m\u001b[0m\u001b[0;34m\u001b[0m\u001b[0m\n\u001b[0;32m--> 186\u001b[0;31m             \u001b[0moriginal_out\u001b[0m \u001b[0;34m=\u001b[0m \u001b[0mf\u001b[0m\u001b[0;34m(\u001b[0m\u001b[0mself\u001b[0m\u001b[0;34m,\u001b[0m \u001b[0;34m*\u001b[0m\u001b[0margs\u001b[0m\u001b[0;34m,\u001b[0m \u001b[0;34m**\u001b[0m\u001b[0mkwargs\u001b[0m\u001b[0;34m)\u001b[0m\u001b[0;34m\u001b[0m\u001b[0;34m\u001b[0m\u001b[0m\n\u001b[0m\u001b[1;32m    187\u001b[0m             \u001b[0;32mif\u001b[0m \u001b[0mself\u001b[0m\u001b[0;34m.\u001b[0m\u001b[0mopponent\u001b[0m \u001b[0;32mis\u001b[0m \u001b[0;32mnot\u001b[0m \u001b[0;32mNone\u001b[0m\u001b[0;34m:\u001b[0m\u001b[0;34m\u001b[0m\u001b[0;34m\u001b[0m\u001b[0m\n\u001b[1;32m    188\u001b[0m                 \u001b[0;32mif\u001b[0m \u001b[0mself\u001b[0m\u001b[0;34m.\u001b[0m\u001b[0mmulti_obs_type\u001b[0m\u001b[0;34m:\u001b[0m\u001b[0;34m\u001b[0m\u001b[0;34m\u001b[0m\u001b[0m\n",
      "\u001b[0;32m/Windows/Users/isaia/Documents/GitHub/Kaggle/Santa_2020/vectorized_env.py\u001b[0m in \u001b[0;36mwrapped\u001b[0;34m(self, *args, **kwargs)\u001b[0m\n\u001b[1;32m    201\u001b[0m         \u001b[0;34m@\u001b[0m\u001b[0mwraps\u001b[0m\u001b[0;34m(\u001b[0m\u001b[0mf\u001b[0m\u001b[0;34m)\u001b[0m\u001b[0;34m\u001b[0m\u001b[0;34m\u001b[0m\u001b[0m\n\u001b[1;32m    202\u001b[0m         \u001b[0;32mdef\u001b[0m \u001b[0mwrapped\u001b[0m\u001b[0;34m(\u001b[0m\u001b[0mself\u001b[0m\u001b[0;34m,\u001b[0m \u001b[0;34m*\u001b[0m\u001b[0margs\u001b[0m\u001b[0;34m,\u001b[0m \u001b[0;34m**\u001b[0m\u001b[0mkwargs\u001b[0m\u001b[0;34m)\u001b[0m\u001b[0;34m:\u001b[0m\u001b[0;34m\u001b[0m\u001b[0;34m\u001b[0m\u001b[0m\n\u001b[0;32m--> 203\u001b[0;31m             \u001b[0moriginal_out\u001b[0m \u001b[0;34m=\u001b[0m \u001b[0mf\u001b[0m\u001b[0;34m(\u001b[0m\u001b[0mself\u001b[0m\u001b[0;34m,\u001b[0m \u001b[0;34m*\u001b[0m\u001b[0margs\u001b[0m\u001b[0;34m,\u001b[0m \u001b[0;34m**\u001b[0m\u001b[0mkwargs\u001b[0m\u001b[0;34m)\u001b[0m\u001b[0;34m\u001b[0m\u001b[0;34m\u001b[0m\u001b[0m\n\u001b[0m\u001b[1;32m    204\u001b[0m             \u001b[0;32mif\u001b[0m \u001b[0mself\u001b[0m\u001b[0;34m.\u001b[0m\u001b[0mmulti_obs_type\u001b[0m\u001b[0;34m:\u001b[0m\u001b[0;34m\u001b[0m\u001b[0;34m\u001b[0m\u001b[0m\n\u001b[1;32m    205\u001b[0m                 \u001b[0mobs_out\u001b[0m \u001b[0;34m=\u001b[0m \u001b[0;34m[\u001b[0m\u001b[0mobs\u001b[0m\u001b[0;34m.\u001b[0m\u001b[0mto\u001b[0m\u001b[0;34m(\u001b[0m\u001b[0mself\u001b[0m\u001b[0;34m.\u001b[0m\u001b[0mout_device\u001b[0m\u001b[0;34m)\u001b[0m \u001b[0;32mfor\u001b[0m \u001b[0mobs\u001b[0m \u001b[0;32min\u001b[0m \u001b[0moriginal_out\u001b[0m\u001b[0;34m[\u001b[0m\u001b[0;36m0\u001b[0m\u001b[0;34m]\u001b[0m\u001b[0;34m]\u001b[0m\u001b[0;34m\u001b[0m\u001b[0;34m\u001b[0m\u001b[0m\n",
      "\u001b[0;32m/Windows/Users/isaia/Documents/GitHub/Kaggle/Santa_2020/vectorized_env.py\u001b[0m in \u001b[0;36mstep\u001b[0;34m(self, actions)\u001b[0m\n\u001b[1;32m    261\u001b[0m                 \u001b[0mopp_obs\u001b[0m \u001b[0;34m=\u001b[0m \u001b[0;34m[\u001b[0m\u001b[0mself\u001b[0m\u001b[0;34m.\u001b[0m\u001b[0m_get_obs\u001b[0m\u001b[0;34m(\u001b[0m\u001b[0mot\u001b[0m\u001b[0;34m)\u001b[0m \u001b[0;32mfor\u001b[0m \u001b[0mot\u001b[0m \u001b[0;32min\u001b[0m \u001b[0mself\u001b[0m\u001b[0;34m.\u001b[0m\u001b[0mopp_obs_type\u001b[0m\u001b[0;34m]\u001b[0m\u001b[0;34m\u001b[0m\u001b[0;34m\u001b[0m\u001b[0m\n\u001b[1;32m    262\u001b[0m             \u001b[0;32melse\u001b[0m\u001b[0;34m:\u001b[0m\u001b[0;34m\u001b[0m\u001b[0;34m\u001b[0m\u001b[0m\n\u001b[0;32m--> 263\u001b[0;31m                 \u001b[0mopp_obs\u001b[0m \u001b[0;34m=\u001b[0m \u001b[0mself\u001b[0m\u001b[0;34m.\u001b[0m\u001b[0m_get_obs\u001b[0m\u001b[0;34m(\u001b[0m\u001b[0mself\u001b[0m\u001b[0;34m.\u001b[0m\u001b[0mopp_obs_type\u001b[0m\u001b[0;34m)\u001b[0m\u001b[0;34m\u001b[0m\u001b[0;34m\u001b[0m\u001b[0m\n\u001b[0m\u001b[1;32m    264\u001b[0m             \u001b[0mopp_actions\u001b[0m \u001b[0;34m=\u001b[0m \u001b[0mself\u001b[0m\u001b[0;34m.\u001b[0m\u001b[0mopponent\u001b[0m\u001b[0;34m(\u001b[0m\u001b[0mopp_obs\u001b[0m\u001b[0;34m[\u001b[0m\u001b[0;34m:\u001b[0m\u001b[0;34m,\u001b[0m \u001b[0;36m1\u001b[0m\u001b[0;34m]\u001b[0m\u001b[0;34m.\u001b[0m\u001b[0munsqueeze\u001b[0m\u001b[0;34m(\u001b[0m\u001b[0;36m1\u001b[0m\u001b[0;34m)\u001b[0m\u001b[0;34m)\u001b[0m\u001b[0;34m\u001b[0m\u001b[0;34m\u001b[0m\u001b[0m\n\u001b[1;32m    265\u001b[0m             \u001b[0mactions\u001b[0m \u001b[0;34m=\u001b[0m \u001b[0mtorch\u001b[0m\u001b[0;34m.\u001b[0m\u001b[0mcat\u001b[0m\u001b[0;34m(\u001b[0m\u001b[0;34m[\u001b[0m\u001b[0mactions\u001b[0m\u001b[0;34m,\u001b[0m \u001b[0mopp_actions\u001b[0m\u001b[0;34m]\u001b[0m\u001b[0;34m,\u001b[0m \u001b[0mdim\u001b[0m\u001b[0;34m=\u001b[0m\u001b[0;36m1\u001b[0m\u001b[0;34m)\u001b[0m\u001b[0;34m\u001b[0m\u001b[0;34m\u001b[0m\u001b[0m\n",
      "\u001b[0;32m/Windows/Users/isaia/Documents/GitHub/Kaggle/Santa_2020/vectorized_env.py\u001b[0m in \u001b[0;36m_get_obs\u001b[0;34m(self, obs_type)\u001b[0m\n\u001b[1;32m    408\u001b[0m     \u001b[0;32mdef\u001b[0m \u001b[0m_get_obs\u001b[0m\u001b[0;34m(\u001b[0m\u001b[0mself\u001b[0m\u001b[0;34m,\u001b[0m \u001b[0mobs_type\u001b[0m\u001b[0;34m)\u001b[0m\u001b[0;34m:\u001b[0m\u001b[0;34m\u001b[0m\u001b[0;34m\u001b[0m\u001b[0m\n\u001b[1;32m    409\u001b[0m         \u001b[0;32mif\u001b[0m \u001b[0mobs_type\u001b[0m \u001b[0;34m==\u001b[0m \u001b[0mSUMMED_OBS\u001b[0m\u001b[0;34m:\u001b[0m\u001b[0;34m\u001b[0m\u001b[0;34m\u001b[0m\u001b[0m\n\u001b[0;32m--> 410\u001b[0;31m             \u001b[0mobs\u001b[0m \u001b[0;34m=\u001b[0m \u001b[0mself\u001b[0m\u001b[0;34m.\u001b[0m\u001b[0m_get_summed_obs\u001b[0m\u001b[0;34m(\u001b[0m\u001b[0;34m)\u001b[0m\u001b[0;34m\u001b[0m\u001b[0;34m\u001b[0m\u001b[0m\n\u001b[0m\u001b[1;32m    411\u001b[0m         \u001b[0;32melif\u001b[0m \u001b[0mobs_type\u001b[0m \u001b[0;34m==\u001b[0m \u001b[0mSUMMED_OBS_WITH_TIMESTEP\u001b[0m\u001b[0;34m:\u001b[0m\u001b[0;34m\u001b[0m\u001b[0;34m\u001b[0m\u001b[0m\n\u001b[1;32m    412\u001b[0m             \u001b[0mobs\u001b[0m \u001b[0;34m=\u001b[0m \u001b[0mself\u001b[0m\u001b[0;34m.\u001b[0m\u001b[0m_get_summed_obs_with_timestep\u001b[0m\u001b[0;34m(\u001b[0m\u001b[0;34m)\u001b[0m\u001b[0;34m\u001b[0m\u001b[0;34m\u001b[0m\u001b[0m\n",
      "\u001b[0;32m/Windows/Users/isaia/Documents/GitHub/Kaggle/Santa_2020/vectorized_env.py\u001b[0m in \u001b[0;36m_get_summed_obs\u001b[0;34m(self)\u001b[0m\n\u001b[1;32m    449\u001b[0m             player_n_pulls_player_relative = torch.stack([\n\u001b[1;32m    450\u001b[0m                 \u001b[0mself\u001b[0m\u001b[0;34m.\u001b[0m\u001b[0mplayer_n_pulls\u001b[0m\u001b[0;34m,\u001b[0m\u001b[0;34m\u001b[0m\u001b[0;34m\u001b[0m\u001b[0m\n\u001b[0;32m--> 451\u001b[0;31m                 \u001b[0mself\u001b[0m\u001b[0;34m.\u001b[0m\u001b[0mplayer_n_pulls\u001b[0m\u001b[0;34m[\u001b[0m\u001b[0;34m:\u001b[0m\u001b[0;34m,\u001b[0m \u001b[0;34m[\u001b[0m\u001b[0;36m1\u001b[0m\u001b[0;34m,\u001b[0m \u001b[0;36m0\u001b[0m\u001b[0;34m]\u001b[0m\u001b[0;34m,\u001b[0m \u001b[0;34m:\u001b[0m\u001b[0;34m]\u001b[0m\u001b[0;34m\u001b[0m\u001b[0;34m\u001b[0m\u001b[0m\n\u001b[0m\u001b[1;32m    452\u001b[0m             ], dim=-1)\n\u001b[1;32m    453\u001b[0m             obs = torch.cat([\n",
      "\u001b[0;31mKeyboardInterrupt\u001b[0m: "
     ]
    }
   ],
   "source": [
    "for player in players:\n",
    "    print(f'Evaluating \"{player.name}\"')\n",
    "    time.sleep(0.5)\n",
    "    for opp in opponents:\n",
    "        va.run_vectorized_vs(player, opp, **env_kwargs)\n",
    "    print()"
   ]
  }
 ],
 "metadata": {
  "kernelspec": {
   "display_name": "Python 3",
   "language": "python",
   "name": "python3"
  },
  "language_info": {
   "codemirror_mode": {
    "name": "ipython",
    "version": 3
   },
   "file_extension": ".py",
   "mimetype": "text/x-python",
   "name": "python",
   "nbconvert_exporter": "python",
   "pygments_lexer": "ipython3",
   "version": "3.7.7"
  }
 },
 "nbformat": 4,
 "nbformat_minor": 4
}
