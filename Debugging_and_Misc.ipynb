{
 "cells": [
  {
   "cell_type": "markdown",
   "metadata": {},
   "source": [
    "## Save an ensemble model to a single serialized string"
   ]
  },
  {
   "cell_type": "code",
   "execution_count": 5,
   "metadata": {},
   "outputs": [],
   "source": [
    "import base64\n",
    "import pickle\n",
    "import torch\n",
    "\n",
    "import vectorized_agents as va\n",
    "\n",
    "DEVICE = torch.device('cuda')"
   ]
  },
  {
   "cell_type": "code",
   "execution_count": 6,
   "metadata": {},
   "outputs": [],
   "source": [
    "ensemble = va.SavedRLAgentMultiObsEnsemble(['a3c_agent_small_8_32', 'awac_agent_small_8_64_32_1_norm', 'a3c_agent_small_8_64_32_2'],\n",
    "                                           weight_logits=True,\n",
    "                                           device=DEVICE,\n",
    "                                           deterministic_policy=True)\n",
    "model = ensemble.ensemble_model\n",
    "model.cpu()\n",
    "model.eval();"
   ]
  },
  {
   "cell_type": "code",
   "execution_count": 7,
   "metadata": {},
   "outputs": [],
   "source": [
    "state_dict_bytes = pickle.dumps({\n",
    "    'model_state_dict': model.state_dict(),\n",
    "})\n",
    "serialized_string = base64.b64encode(state_dict_bytes)\n",
    "with open(f\"saved_rl_ensembles/{'_'.join(ensemble.name.split('_')[:-1])}_cp.txt\", 'w') as f:\n",
    "    f.write(str(serialized_string))"
   ]
  },
  {
   "cell_type": "code",
   "execution_count": 1,
   "metadata": {},
   "outputs": [],
   "source": [
    "import numpy as np\n",
    "import matplotlib.pyplot as plt\n",
    "from pathlib import Path\n",
    "import torch\n",
    "import tqdm\n",
    "\n",
    "\n",
    "from replays_to_database import *\n",
    "from awac import AWACVectorized, BasicReplayBuffer\n",
    "import vectorized_env as ve\n",
    "\n",
    "OBS_NORM = 100. / 1999."
   ]
  },
  {
   "cell_type": "code",
   "execution_count": 5,
   "metadata": {},
   "outputs": [],
   "source": [
    "replay_paths = list(Path('/home/isaiah/GitHub/Kaggle/Santa_2020/episode_scraping/episodes/').glob('*.json'))\n",
    "n_events_list = []"
   ]
  },
  {
   "cell_type": "code",
   "execution_count": 6,
   "metadata": {
    "collapsed": true
   },
   "outputs": [
    {
     "name": "stderr",
     "output_type": "stream",
     "text": [
      " 98%|█████████▊| 1417/1453 [23:29<00:35,  1.01it/s]\n"
     ]
    },
    {
     "ename": "InvalidArgument",
     "evalue": "Default state generation failed for #1: -0.1098730000000403 is less than the minimum of 0\n\nFailed validating 'minimum' in schema['properties']['observation']['properties']['remainingOverageTime']:\n    {'default': 60,\n     'description': 'Total remaining banked time (seconds) that can be '\n                    'used in excess of per-step actTimeouts -- agent is '\n                    'disqualified with TIMEOUT status when this drops '\n                    'below 0.',\n     'minimum': 0,\n     'shared': False,\n     'type': 'number'}\n\nOn instance['observation']['remainingOverageTime']:\n    -0.1098730000000403",
     "output_type": "error",
     "traceback": [
      "\u001b[0;31m---------------------------------------------------------------------------\u001b[0m",
      "\u001b[0;31mInvalidArgument\u001b[0m                           Traceback (most recent call last)",
      "\u001b[0;32m<ipython-input-6-f02fde5bd649>\u001b[0m in \u001b[0;36m<module>\u001b[0;34m\u001b[0m\n\u001b[1;32m      1\u001b[0m \u001b[0;32mfor\u001b[0m \u001b[0mrp\u001b[0m \u001b[0;32min\u001b[0m \u001b[0mtqdm\u001b[0m\u001b[0;34m.\u001b[0m\u001b[0mtqdm\u001b[0m\u001b[0;34m(\u001b[0m\u001b[0mreplay_paths\u001b[0m\u001b[0;34m[\u001b[0m\u001b[0;34m:\u001b[0m\u001b[0;34m]\u001b[0m\u001b[0;34m)\u001b[0m\u001b[0;34m:\u001b[0m\u001b[0;34m\u001b[0m\u001b[0;34m\u001b[0m\u001b[0m\n\u001b[0;32m----> 2\u001b[0;31m     \u001b[0ms\u001b[0m\u001b[0;34m,\u001b[0m \u001b[0ma\u001b[0m\u001b[0;34m,\u001b[0m \u001b[0mr\u001b[0m\u001b[0;34m,\u001b[0m \u001b[0md\u001b[0m\u001b[0;34m,\u001b[0m \u001b[0mnext_s\u001b[0m \u001b[0;34m=\u001b[0m \u001b[0mconvert_replays_to_s_a_r_d_s\u001b[0m\u001b[0;34m(\u001b[0m\u001b[0;34m[\u001b[0m\u001b[0mread_json\u001b[0m\u001b[0;34m(\u001b[0m\u001b[0mrp\u001b[0m\u001b[0;34m)\u001b[0m\u001b[0;34m]\u001b[0m\u001b[0;34m,\u001b[0m \u001b[0mve\u001b[0m\u001b[0;34m.\u001b[0m\u001b[0mEVERY_STEP_EV_ZEROSUM\u001b[0m\u001b[0;34m,\u001b[0m \u001b[0mve\u001b[0m\u001b[0;34m.\u001b[0m\u001b[0mLAST_STEP_OBS\u001b[0m\u001b[0;34m,\u001b[0m \u001b[0;32mFalse\u001b[0m\u001b[0;34m)\u001b[0m\u001b[0;34m\u001b[0m\u001b[0;34m\u001b[0m\u001b[0m\n\u001b[0m\u001b[1;32m      3\u001b[0m     \u001b[0mn_events\u001b[0m \u001b[0;34m=\u001b[0m \u001b[0;34m(\u001b[0m\u001b[0ms\u001b[0m\u001b[0;34m.\u001b[0m\u001b[0mview\u001b[0m\u001b[0;34m(\u001b[0m\u001b[0;34m-\u001b[0m\u001b[0;36m1\u001b[0m\u001b[0;34m,\u001b[0m \u001b[0;36m1999\u001b[0m\u001b[0;34m,\u001b[0m \u001b[0;36m2\u001b[0m\u001b[0;34m,\u001b[0m \u001b[0;36m100\u001b[0m\u001b[0;34m,\u001b[0m \u001b[0;36m3\u001b[0m\u001b[0;34m)\u001b[0m\u001b[0;34m[\u001b[0m\u001b[0;34m:\u001b[0m\u001b[0;34m,\u001b[0m \u001b[0;34m:\u001b[0m\u001b[0;34m-\u001b[0m\u001b[0;36m1\u001b[0m\u001b[0;34m,\u001b[0m \u001b[0;36m0\u001b[0m\u001b[0;34m,\u001b[0m \u001b[0;34m:\u001b[0m\u001b[0;34m,\u001b[0m \u001b[0;34m:\u001b[0m\u001b[0;36m2\u001b[0m\u001b[0;34m]\u001b[0m\u001b[0;34m.\u001b[0m\u001b[0msum\u001b[0m\u001b[0;34m(\u001b[0m\u001b[0mdim\u001b[0m\u001b[0;34m=\u001b[0m\u001b[0;34m-\u001b[0m\u001b[0;36m1\u001b[0m\u001b[0;34m)\u001b[0m \u001b[0;34m>\u001b[0m \u001b[0;36m0\u001b[0m\u001b[0;34m)\u001b[0m\u001b[0;34m.\u001b[0m\u001b[0msum\u001b[0m\u001b[0;34m(\u001b[0m\u001b[0mdim\u001b[0m\u001b[0;34m=\u001b[0m\u001b[0;34m-\u001b[0m\u001b[0;36m2\u001b[0m\u001b[0;34m)\u001b[0m\u001b[0;34m.\u001b[0m\u001b[0mnumpy\u001b[0m\u001b[0;34m(\u001b[0m\u001b[0;34m)\u001b[0m\u001b[0;34m.\u001b[0m\u001b[0mravel\u001b[0m\u001b[0;34m(\u001b[0m\u001b[0;34m)\u001b[0m\u001b[0;34m\u001b[0m\u001b[0;34m\u001b[0m\u001b[0m\n\u001b[1;32m      4\u001b[0m     \u001b[0mn_events_list\u001b[0m\u001b[0;34m.\u001b[0m\u001b[0mappend\u001b[0m\u001b[0;34m(\u001b[0m\u001b[0mn_events\u001b[0m\u001b[0;34m)\u001b[0m\u001b[0;34m\u001b[0m\u001b[0;34m\u001b[0m\u001b[0m\n",
      "\u001b[0;32m/Windows/Users/isaia/Documents/GitHub/Kaggle/Santa_2020/replays_to_database.py\u001b[0m in \u001b[0;36mconvert_replays_to_s_a_r_d_s\u001b[0;34m(replays, reward_type, obs_type, normalize_reward)\u001b[0m\n\u001b[1;32m     24\u001b[0m         \u001b[0msteps\u001b[0m\u001b[0;34m=\u001b[0m\u001b[0mreplay\u001b[0m\u001b[0;34m[\u001b[0m\u001b[0;34m'steps'\u001b[0m\u001b[0;34m]\u001b[0m\u001b[0;34m,\u001b[0m\u001b[0;34m\u001b[0m\u001b[0;34m\u001b[0m\u001b[0m\n\u001b[1;32m     25\u001b[0m         \u001b[0minfo\u001b[0m\u001b[0;34m=\u001b[0m\u001b[0mreplay\u001b[0m\u001b[0;34m[\u001b[0m\u001b[0;34m'info'\u001b[0m\u001b[0;34m]\u001b[0m\u001b[0;34m\u001b[0m\u001b[0;34m\u001b[0m\u001b[0m\n\u001b[0;32m---> 26\u001b[0;31m     ) for replay in replays]\n\u001b[0m\u001b[1;32m     27\u001b[0m     sim_env = ve.KaggleMABEnvTorchVectorized(\n\u001b[1;32m     28\u001b[0m         \u001b[0mn_envs\u001b[0m\u001b[0;34m=\u001b[0m\u001b[0mlen\u001b[0m\u001b[0;34m(\u001b[0m\u001b[0mreplays\u001b[0m\u001b[0;34m)\u001b[0m\u001b[0;34m,\u001b[0m\u001b[0;34m\u001b[0m\u001b[0;34m\u001b[0m\u001b[0m\n",
      "\u001b[0;32m/Windows/Users/isaia/Documents/GitHub/Kaggle/Santa_2020/replays_to_database.py\u001b[0m in \u001b[0;36m<listcomp>\u001b[0;34m(.0)\u001b[0m\n\u001b[1;32m     24\u001b[0m         \u001b[0msteps\u001b[0m\u001b[0;34m=\u001b[0m\u001b[0mreplay\u001b[0m\u001b[0;34m[\u001b[0m\u001b[0;34m'steps'\u001b[0m\u001b[0;34m]\u001b[0m\u001b[0;34m,\u001b[0m\u001b[0;34m\u001b[0m\u001b[0;34m\u001b[0m\u001b[0m\n\u001b[1;32m     25\u001b[0m         \u001b[0minfo\u001b[0m\u001b[0;34m=\u001b[0m\u001b[0mreplay\u001b[0m\u001b[0;34m[\u001b[0m\u001b[0;34m'info'\u001b[0m\u001b[0;34m]\u001b[0m\u001b[0;34m\u001b[0m\u001b[0;34m\u001b[0m\u001b[0m\n\u001b[0;32m---> 26\u001b[0;31m     ) for replay in replays]\n\u001b[0m\u001b[1;32m     27\u001b[0m     sim_env = ve.KaggleMABEnvTorchVectorized(\n\u001b[1;32m     28\u001b[0m         \u001b[0mn_envs\u001b[0m\u001b[0;34m=\u001b[0m\u001b[0mlen\u001b[0m\u001b[0;34m(\u001b[0m\u001b[0mreplays\u001b[0m\u001b[0;34m)\u001b[0m\u001b[0;34m,\u001b[0m\u001b[0;34m\u001b[0m\u001b[0;34m\u001b[0m\u001b[0m\n",
      "\u001b[0;32m~/miniconda3/envs/pt14/lib/python3.7/site-packages/kaggle_environments/core.py\u001b[0m in \u001b[0;36mmake\u001b[0;34m(environment, configuration, info, steps, logs, debug, state)\u001b[0m\n\u001b[1;32m     81\u001b[0m     \"\"\"\n\u001b[1;32m     82\u001b[0m     \u001b[0;32mif\u001b[0m \u001b[0mhas\u001b[0m\u001b[0;34m(\u001b[0m\u001b[0menvironment\u001b[0m\u001b[0;34m,\u001b[0m \u001b[0mstr\u001b[0m\u001b[0;34m)\u001b[0m \u001b[0;32mand\u001b[0m \u001b[0mhas\u001b[0m\u001b[0;34m(\u001b[0m\u001b[0menvironments\u001b[0m\u001b[0;34m,\u001b[0m \u001b[0mdict\u001b[0m\u001b[0;34m,\u001b[0m \u001b[0mpath\u001b[0m\u001b[0;34m=\u001b[0m\u001b[0;34m[\u001b[0m\u001b[0menvironment\u001b[0m\u001b[0;34m]\u001b[0m\u001b[0;34m)\u001b[0m\u001b[0;34m:\u001b[0m\u001b[0;34m\u001b[0m\u001b[0;34m\u001b[0m\u001b[0m\n\u001b[0;32m---> 83\u001b[0;31m         \u001b[0;32mreturn\u001b[0m \u001b[0mEnvironment\u001b[0m\u001b[0;34m(\u001b[0m\u001b[0;34m**\u001b[0m\u001b[0menvironments\u001b[0m\u001b[0;34m[\u001b[0m\u001b[0menvironment\u001b[0m\u001b[0;34m]\u001b[0m\u001b[0;34m,\u001b[0m \u001b[0mconfiguration\u001b[0m\u001b[0;34m=\u001b[0m\u001b[0mconfiguration\u001b[0m\u001b[0;34m,\u001b[0m \u001b[0minfo\u001b[0m\u001b[0;34m=\u001b[0m\u001b[0minfo\u001b[0m\u001b[0;34m,\u001b[0m \u001b[0msteps\u001b[0m\u001b[0;34m=\u001b[0m\u001b[0msteps\u001b[0m\u001b[0;34m,\u001b[0m \u001b[0mlogs\u001b[0m\u001b[0;34m=\u001b[0m\u001b[0mlogs\u001b[0m\u001b[0;34m,\u001b[0m \u001b[0mdebug\u001b[0m\u001b[0;34m=\u001b[0m\u001b[0mdebug\u001b[0m\u001b[0;34m,\u001b[0m \u001b[0mstate\u001b[0m\u001b[0;34m=\u001b[0m\u001b[0mstate\u001b[0m\u001b[0;34m)\u001b[0m\u001b[0;34m\u001b[0m\u001b[0;34m\u001b[0m\u001b[0m\n\u001b[0m\u001b[1;32m     84\u001b[0m     \u001b[0;32melif\u001b[0m \u001b[0mcallable\u001b[0m\u001b[0;34m(\u001b[0m\u001b[0menvironment\u001b[0m\u001b[0;34m)\u001b[0m\u001b[0;34m:\u001b[0m\u001b[0;34m\u001b[0m\u001b[0;34m\u001b[0m\u001b[0m\n\u001b[1;32m     85\u001b[0m         \u001b[0;32mreturn\u001b[0m \u001b[0mEnvironment\u001b[0m\u001b[0;34m(\u001b[0m\u001b[0minterpreter\u001b[0m\u001b[0;34m=\u001b[0m\u001b[0menvironment\u001b[0m\u001b[0;34m,\u001b[0m \u001b[0mconfiguration\u001b[0m\u001b[0;34m=\u001b[0m\u001b[0mconfiguration\u001b[0m\u001b[0;34m,\u001b[0m \u001b[0minfo\u001b[0m\u001b[0;34m=\u001b[0m\u001b[0minfo\u001b[0m\u001b[0;34m,\u001b[0m \u001b[0msteps\u001b[0m\u001b[0;34m=\u001b[0m\u001b[0msteps\u001b[0m\u001b[0;34m,\u001b[0m \u001b[0mlogs\u001b[0m\u001b[0;34m=\u001b[0m\u001b[0mlogs\u001b[0m\u001b[0;34m,\u001b[0m \u001b[0mdebug\u001b[0m\u001b[0;34m=\u001b[0m\u001b[0mdebug\u001b[0m\u001b[0;34m,\u001b[0m \u001b[0mstate\u001b[0m\u001b[0;34m=\u001b[0m\u001b[0mstate\u001b[0m\u001b[0;34m)\u001b[0m\u001b[0;34m\u001b[0m\u001b[0;34m\u001b[0m\u001b[0m\n",
      "\u001b[0;32m~/miniconda3/envs/pt14/lib/python3.7/site-packages/kaggle_environments/core.py\u001b[0m in \u001b[0;36m__init__\u001b[0;34m(self, specification, configuration, info, steps, logs, agents, interpreter, renderer, html_renderer, debug, state)\u001b[0m\n\u001b[1;32m    150\u001b[0m \u001b[0;34m\u001b[0m\u001b[0m\n\u001b[1;32m    151\u001b[0m         \u001b[0;32mif\u001b[0m \u001b[0msteps\u001b[0m \u001b[0;32mis\u001b[0m \u001b[0;32mnot\u001b[0m \u001b[0;32mNone\u001b[0m \u001b[0;32mand\u001b[0m \u001b[0mlen\u001b[0m\u001b[0;34m(\u001b[0m\u001b[0msteps\u001b[0m\u001b[0;34m)\u001b[0m \u001b[0;34m>\u001b[0m \u001b[0;36m0\u001b[0m\u001b[0;34m:\u001b[0m\u001b[0;34m\u001b[0m\u001b[0;34m\u001b[0m\u001b[0m\n\u001b[0;32m--> 152\u001b[0;31m             \u001b[0mself\u001b[0m\u001b[0;34m.\u001b[0m\u001b[0m__set_state\u001b[0m\u001b[0;34m(\u001b[0m\u001b[0msteps\u001b[0m\u001b[0;34m[\u001b[0m\u001b[0;34m-\u001b[0m\u001b[0;36m1\u001b[0m\u001b[0;34m]\u001b[0m\u001b[0;34m)\u001b[0m\u001b[0;34m\u001b[0m\u001b[0;34m\u001b[0m\u001b[0m\n\u001b[0m\u001b[1;32m    153\u001b[0m             \u001b[0mself\u001b[0m\u001b[0;34m.\u001b[0m\u001b[0msteps\u001b[0m \u001b[0;34m=\u001b[0m \u001b[0msteps\u001b[0m\u001b[0;34m[\u001b[0m\u001b[0;36m0\u001b[0m\u001b[0;34m:\u001b[0m\u001b[0;34m-\u001b[0m\u001b[0;36m1\u001b[0m\u001b[0;34m]\u001b[0m \u001b[0;34m+\u001b[0m \u001b[0mself\u001b[0m\u001b[0;34m.\u001b[0m\u001b[0msteps\u001b[0m\u001b[0;34m\u001b[0m\u001b[0;34m\u001b[0m\u001b[0m\n\u001b[1;32m    154\u001b[0m         \u001b[0;32melif\u001b[0m \u001b[0mstate\u001b[0m \u001b[0;32mis\u001b[0m \u001b[0;32mnot\u001b[0m \u001b[0;32mNone\u001b[0m\u001b[0;34m:\u001b[0m\u001b[0;34m\u001b[0m\u001b[0;34m\u001b[0m\u001b[0m\n",
      "\u001b[0;32m~/miniconda3/envs/pt14/lib/python3.7/site-packages/kaggle_environments/core.py\u001b[0m in \u001b[0;36m__set_state\u001b[0;34m(self, state)\u001b[0m\n\u001b[1;32m    489\u001b[0m \u001b[0;34m\u001b[0m\u001b[0m\n\u001b[1;32m    490\u001b[0m         self.state = structify([self.__get_state(index, s)\n\u001b[0;32m--> 491\u001b[0;31m                                 for index, s in enumerate(state)])\n\u001b[0m\u001b[1;32m    492\u001b[0m         \u001b[0mself\u001b[0m\u001b[0;34m.\u001b[0m\u001b[0msteps\u001b[0m \u001b[0;34m=\u001b[0m \u001b[0;34m[\u001b[0m\u001b[0mself\u001b[0m\u001b[0;34m.\u001b[0m\u001b[0mstate\u001b[0m\u001b[0;34m]\u001b[0m\u001b[0;34m\u001b[0m\u001b[0;34m\u001b[0m\u001b[0m\n\u001b[1;32m    493\u001b[0m         \u001b[0;32mreturn\u001b[0m \u001b[0mself\u001b[0m\u001b[0;34m.\u001b[0m\u001b[0mstate\u001b[0m\u001b[0;34m\u001b[0m\u001b[0;34m\u001b[0m\u001b[0m\n",
      "\u001b[0;32m~/miniconda3/envs/pt14/lib/python3.7/site-packages/kaggle_environments/core.py\u001b[0m in \u001b[0;36m<listcomp>\u001b[0;34m(.0)\u001b[0m\n\u001b[1;32m    489\u001b[0m \u001b[0;34m\u001b[0m\u001b[0m\n\u001b[1;32m    490\u001b[0m         self.state = structify([self.__get_state(index, s)\n\u001b[0;32m--> 491\u001b[0;31m                                 for index, s in enumerate(state)])\n\u001b[0m\u001b[1;32m    492\u001b[0m         \u001b[0mself\u001b[0m\u001b[0;34m.\u001b[0m\u001b[0msteps\u001b[0m \u001b[0;34m=\u001b[0m \u001b[0;34m[\u001b[0m\u001b[0mself\u001b[0m\u001b[0;34m.\u001b[0m\u001b[0mstate\u001b[0m\u001b[0;34m]\u001b[0m\u001b[0;34m\u001b[0m\u001b[0;34m\u001b[0m\u001b[0m\n\u001b[1;32m    493\u001b[0m         \u001b[0;32mreturn\u001b[0m \u001b[0mself\u001b[0m\u001b[0;34m.\u001b[0m\u001b[0mstate\u001b[0m\u001b[0;34m\u001b[0m\u001b[0;34m\u001b[0m\u001b[0m\n",
      "\u001b[0;32m~/miniconda3/envs/pt14/lib/python3.7/site-packages/kaggle_environments/core.py\u001b[0m in \u001b[0;36m__get_state\u001b[0;34m(self, position, state)\u001b[0m\n\u001b[1;32m    519\u001b[0m         \u001b[0;32mif\u001b[0m \u001b[0merr\u001b[0m\u001b[0;34m:\u001b[0m\u001b[0;34m\u001b[0m\u001b[0;34m\u001b[0m\u001b[0m\n\u001b[1;32m    520\u001b[0m             raise InvalidArgument(\n\u001b[0;32m--> 521\u001b[0;31m                 \u001b[0;34mf\"Default state generation failed for #{position}: \"\u001b[0m \u001b[0;34m+\u001b[0m \u001b[0merr\u001b[0m\u001b[0;34m\u001b[0m\u001b[0;34m\u001b[0m\u001b[0m\n\u001b[0m\u001b[1;32m    522\u001b[0m             )\n\u001b[1;32m    523\u001b[0m         \u001b[0;32mreturn\u001b[0m \u001b[0mdata\u001b[0m\u001b[0;34m\u001b[0m\u001b[0;34m\u001b[0m\u001b[0m\n",
      "\u001b[0;31mInvalidArgument\u001b[0m: Default state generation failed for #1: -0.1098730000000403 is less than the minimum of 0\n\nFailed validating 'minimum' in schema['properties']['observation']['properties']['remainingOverageTime']:\n    {'default': 60,\n     'description': 'Total remaining banked time (seconds) that can be '\n                    'used in excess of per-step actTimeouts -- agent is '\n                    'disqualified with TIMEOUT status when this drops '\n                    'below 0.',\n     'minimum': 0,\n     'shared': False,\n     'type': 'number'}\n\nOn instance['observation']['remainingOverageTime']:\n    -0.1098730000000403"
     ]
    }
   ],
   "source": [
    "for rp in tqdm.tqdm(replay_paths[:]):\n",
    "    s, a, r, d, next_s = convert_replays_to_s_a_r_d_s([read_json(rp)], ve.EVERY_STEP_EV_ZEROSUM, ve.LAST_STEP_OBS, False)\n",
    "    n_events = (s.view(-1, 1999, 2, 100, 3)[:, :-1, 0, :, :2].sum(dim=-1) > 0).sum(dim=-2).numpy().ravel()\n",
    "    n_events_list.append(n_events)"
   ]
  },
  {
   "cell_type": "code",
   "execution_count": 2,
   "metadata": {},
   "outputs": [],
   "source": [
    "replay_s_a_r_d_s = load_s_a_r_d_s(\n",
    "    '/home/isaiah/GitHub/Kaggle/Santa_2020/episode_scraping/latest_250_replays_database_SUMMED_OBS_WITH_TIMESTEP/'\n",
    ")\n",
    "replay_buffer = BasicReplayBuffer(\n",
    "    s_shape=(100, 4),\n",
    "    max_len=1e6,\n",
    "    #starting_s_a_r_d_s=None,\n",
    "    starting_s_a_r_d_s=replay_s_a_r_d_s\n",
    ")"
   ]
  },
  {
   "cell_type": "code",
   "execution_count": 3,
   "metadata": {},
   "outputs": [],
   "source": [
    "#n_events_list = np.concatenate(n_events_list)\n",
    "with open('TEMP.npy', 'rb') as f:\n",
    "    n_events_list = np.load(f)"
   ]
  },
  {
   "cell_type": "code",
   "execution_count": 6,
   "metadata": {},
   "outputs": [
    {
     "name": "stdout",
     "output_type": "stream",
     "text": [
      "0.00% of values are <= 1.00\n",
      "5.00% of values are <= 6.00\n",
      "10.00% of values are <= 7.00\n",
      "15.00% of values are <= 10.00\n",
      "20.00% of values are <= 15.00\n",
      "25.00% of values are <= 20.00\n",
      "30.00% of values are <= 25.00\n",
      "35.00% of values are <= 30.00\n",
      "40.00% of values are <= 34.00\n",
      "45.00% of values are <= 37.00\n",
      "50.00% of values are <= 40.00\n",
      "55.00% of values are <= 43.00\n",
      "60.00% of values are <= 45.00\n",
      "65.00% of values are <= 47.00\n",
      "70.00% of values are <= 50.00\n",
      "75.00% of values are <= 51.00\n",
      "80.00% of values are <= 53.00\n",
      "85.00% of values are <= 55.00\n",
      "90.00% of values are <= 56.00\n",
      "95.00% of values are <= 59.00\n",
      "100.00% of values are <= 122.00\n"
     ]
    }
   ],
   "source": [
    "q = np.linspace(0., 1., 21)\n",
    "for quantile, val in zip(q, np.quantile(n_events_list, q, interpolation='midpoint')):\n",
    "    print(f'{quantile*100:.2f}% of values are <= {val:.2f}')"
   ]
  },
  {
   "cell_type": "code",
   "execution_count": 16,
   "metadata": {},
   "outputs": [
    {
     "data": {
      "text/plain": [
       "<matplotlib.lines.Line2D at 0x7f0f730bc390>"
      ]
     },
     "execution_count": 16,
     "metadata": {},
     "output_type": "execute_result"
    },
    {
     "data": {
      "image/png": "[encoded data removed]",
      "text/plain": [
       "<Figure size 432x288 with 1 Axes>"
      ]
     },
     "metadata": {
      "needs_background": "light"
     },
     "output_type": "display_data"
    }
   ],
   "source": [
    "plt.plot(np.quantile(n_events_list, q, interpolation='midpoint'), q)\n",
    "plt.axhline(q[-2], color='r')"
   ]
  },
  {
   "cell_type": "code",
   "execution_count": 18,
   "metadata": {},
   "outputs": [
    {
     "data": {
      "image/png": "[encoded data removed]",
      "text/plain": [
       "<Figure size 432x288 with 1 Axes>"
      ]
     },
     "metadata": {
      "needs_background": "light"
     },
     "output_type": "display_data"
    }
   ],
   "source": [
    "plt.hist(n_events_list, bins=50)\n",
    "plt.axvline(62., color='r');"
   ]
  },
  {
   "cell_type": "code",
   "execution_count": 1,
   "metadata": {},
   "outputs": [],
   "source": [
    "import torch\n",
    "import vectorized_agents as va\n",
    "import vectorized_env as ve\n",
    "import os\n",
    "os.environ['CUDA_VISIBLE_DEVICES'] = \"\"\n",
    "DEVICE = torch.device('cpu')\n",
    "\n",
    "#va.run_vectorized_vs(va.RandomAgent(), va.RandomAgent(), n_envs=1000, env_device=DEVICE, out_device=DEVICE)"
   ]
  },
  {
   "cell_type": "code",
   "execution_count": 4,
   "metadata": {},
   "outputs": [],
   "source": [
    "test_env = ve.KaggleMABEnvTorchVectorized(\n",
    "    n_envs=1,\n",
    "    n_players=2,\n",
    "    n_bandits=5,\n",
    "    obs_type=ve.LAST_60_EVENTS_OBS,\n",
    "    env_device=DEVICE,\n",
    "    out_device=DEVICE\n",
    ")\n",
    "\n",
    "for step in range(1000):\n",
    "    actions = torch.randint(test_env.n_bandits-2, size=(test_env.n_envs, test_env.n_players))\n",
    "    test_env.step(actions)"
   ]
  },
  {
   "cell_type": "code",
   "execution_count": 6,
   "metadata": {},
   "outputs": [
    {
     "data": {
      "text/plain": [
       "tensor([[59, 59, 59,  0,  0]])"
      ]
     },
     "execution_count": 6,
     "metadata": {},
     "output_type": "execute_result"
    }
   ],
   "source": [
    "test_env.last_60_event_indices\n",
    "#test_env.last_60_reward_events\n",
    "#test_env.obs[:,:,:,:20].view(test_env.n_envs, test_env.n_players, test_env.n_bandits, -1, 4)"
   ]
  },
  {
   "cell_type": "code",
   "execution_count": 38,
   "metadata": {},
   "outputs": [
    {
     "name": "stdout",
     "output_type": "stream",
     "text": [
      "16.7 ms ± 529 µs per loop (mean ± std. dev. of 7 runs, 100 loops each)\n"
     ]
    }
   ],
   "source": [
    "%%timeit\n",
    "pulls_one_hot = torch.sparse.FloatTensor(all_pull_indices, torch.ones(all_pull_indices.shape[1], dtype=torch.float, device=torch.device('cuda')), torch.Size([n_envs, n_players, n_bandits, n_steps]))\n",
    "pulls_one_hot.to_dense()"
   ]
  },
  {
   "cell_type": "code",
   "execution_count": 11,
   "metadata": {},
   "outputs": [
    {
     "name": "stdout",
     "output_type": "stream",
     "text": [
      "131 µs ± 119 ns per loop (mean ± std. dev. of 7 runs, 10000 loops each)\n"
     ]
    }
   ],
   "source": [
    "%%timeit\n",
    "\n",
    "#envs_idxs = torch.arange(n_envs).repeat_interleave(n_players)\n",
    "#players_idxs = torch.arange(n_players).repeat(n_envs)\n",
    "player_n_pulls.view(-1, n_bandits).scatter_(-1, actions, player_n_pulls.view(-1, n_bandits).gather(-1, actions) + 1)\n",
    "player_rewards_sums.view(-1, n_bandits).scatter_(-1, actions, player_rewards_sums.view(-1, n_bandits).gather(-1, actions) + pull_rewards.view(-1, 1))\n",
    "\n",
    "player_n_pulls, player_rewards_sums"
   ]
  },
  {
   "cell_type": "code",
   "execution_count": 65,
   "metadata": {
    "scrolled": true
   },
   "outputs": [
    {
     "name": "stderr",
     "output_type": "stream",
     "text": [
      "100%|██████████| 1999/1999 [00:19<00:00, 103.94it/s]\n"
     ]
    },
    {
     "name": "stdout",
     "output_type": "stream",
     "text": [
      "RandomAgent -vs- RandomAgent\n",
      "Mean scores: 591.85 - 591.93\n",
      "Match score: 291 - 7 - 302 (48.5% - 1.2% - 50.3%)\n"
     ]
    }
   ],
   "source": [
    "from importlib import reload\n",
    "import vectorized_agents as va\n",
    "OBS_NORM = 100. / 1999.\n",
    "\n",
    "reload(va)\n",
    "va.run_vectorized_vs(\n",
    "    va.RandomAgent(),\n",
    "    va.RandomAgent(),\n",
    "    #va.PullVegasSlotMachines(OBS_NORM),\n",
    "    #va.PullVegasSlotMachines(OBS_NORM),\n",
    "    #va.AlwaysFirstAgent(),\n",
    "    #va.AlwaysFirstAgent(),\n",
    "    #va.PullVegasSlotMachinesImproved(OBS_NORM),\n",
    "    #va.BasicThompsonSampling(OBS_NORM),\n",
    "    #va.BasicThompsonSampling(OBS_NORM),\n",
    "    n_envs=600)"
   ]
  },
  {
   "cell_type": "markdown",
   "metadata": {},
   "source": [
    "## Seeing output from replays_to_database"
   ]
  },
  {
   "cell_type": "code",
   "execution_count": null,
   "metadata": {},
   "outputs": [],
   "source": [
    "from replays_to_database import load_s_a_r_d_s\n",
    "import torch\n",
    "\n",
    "s_batch, a_batch, r_batch, d_batch, next_s_batch = load_s_a_r_d_s(\n",
    "    '/home/isaiah/GitHub/Kaggle/Santa_2020/episode_scraping/replays_database_TEMP/'\n",
    ")"
   ]
  },
  {
   "cell_type": "code",
   "execution_count": null,
   "metadata": {
    "scrolled": true
   },
   "outputs": [],
   "source": [
    "idx = 200\n",
    "torch.cat([s_batch[idx], next_s_batch[idx]], dim=-1)"
   ]
  }
 ],
 "metadata": {
  "kernelspec": {
   "display_name": "Python 3",
   "language": "python",
   "name": "python3"
  },
  "language_info": {
   "codemirror_mode": {
    "name": "ipython",
    "version": 3
   },
   "file_extension": ".py",
   "mimetype": "text/x-python",
   "name": "python",
   "nbconvert_exporter": "python",
   "pygments_lexer": "ipython3",
   "version": "3.7.7"
  }
 },
 "nbformat": 4,
 "nbformat_minor": 4
}
