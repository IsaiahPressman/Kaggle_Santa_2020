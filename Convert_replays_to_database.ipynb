{
 "cells": [
  {
   "cell_type": "code",
   "execution_count": 1,
   "metadata": {},
   "outputs": [
    {
     "name": "stdout",
     "output_type": "stream",
     "text": [
      "Loading environment football failed: No module named 'gfootball'\n"
     ]
    }
   ],
   "source": [
    "import json\n",
    "import kaggle_environments\n",
    "import numpy as np\n",
    "from pathlib import Path\n",
    "import requests\n",
    "import torch\n",
    "\n",
    "# Local imports\n",
    "import vectorized_env as ve"
   ]
  },
  {
   "cell_type": "code",
   "execution_count": 5,
   "metadata": {},
   "outputs": [],
   "source": [
    "def batch_convert_replays_to_s_a_r_d_s(replays, reward_type, obs_type, normalize_reward):\n",
    "    kaggle_envs = [kaggle_environments.make(\n",
    "        'mab',\n",
    "        configuration=replay['configuration'],\n",
    "        steps=replay['steps'],\n",
    "        info=replay['info']\n",
    "    ) for replay in replays]\n",
    "    sim_env = ve.KaggleMABEnvTorchVectorized(\n",
    "        n_envs=len(replays),\n",
    "        reward_type=reward_type,\n",
    "        obs_type=obs_type,\n",
    "        normalize_reward=normalize_reward,\n",
    "        env_device=torch.device('cpu'),\n",
    "        out_device=torch.device('cpu')\n",
    "    )\n",
    "    kaggle_n_steps = len(kaggle_envs[0].steps)\n",
    "    assert np.all(np.array([len(ke.steps) for ke in kaggle_envs]) == kaggle_n_steps)\n",
    "    \n",
    "    actions = []\n",
    "    thresholds = []\n",
    "    for step in range(kaggle_n_steps):\n",
    "        actions.append(torch.stack([\n",
    "            torch.tensor([s['action'] for s in ke.steps[step]]) for ke in kaggle_envs\n",
    "        ]))\n",
    "        thresholds.append(torch.stack([\n",
    "            torch.tensor(ke.steps[step][0]['observation']['thresholds']) for ke in kaggle_envs\n",
    "        ]).float())\n",
    "\n",
    "    s_batch = []\n",
    "    a_batch = []\n",
    "    r_batch = []\n",
    "    d_batch = []\n",
    "    next_s_batch = []\n",
    "    sim_env.reset()\n",
    "    sim_env.orig_thresholds = thresholds[0].clone()\n",
    "    actions.pop(0)\n",
    "    thresholds.pop(0)\n",
    "    s = sim_env.obs\n",
    "    for i, a in enumerate(actions):\n",
    "        a = a\n",
    "        next_s, r, done, _ = sim_env.step(a)\n",
    "        s_batch.append(s.clone())\n",
    "        a_batch.append(a.clone())\n",
    "        r_batch.append(r.clone())\n",
    "        d_batch.append(torch.zeros(r.shape) if not done else torch.ones(r.shape))\n",
    "        next_s_batch.append(next_s.clone())\n",
    "        s = next_s\n",
    "        assert torch.allclose(sim_env.thresholds.view(-1), thresholds[i].view(-1)), f'ERROR: {i}'\n",
    "    \n",
    "    return (torch.cat(s_batch).view(-1, *s.shape[-2:]),\n",
    "            torch.cat(a_batch).view(-1),\n",
    "            torch.cat(r_batch).view(-1),\n",
    "            torch.cat(d_batch).view(-1),\n",
    "            torch.cat(next_s_batch).view(-1, *s.shape[-2:]))"
   ]
  },
  {
   "cell_type": "code",
   "execution_count": 9,
   "metadata": {},
   "outputs": [
    {
     "data": {
      "text/plain": [
       "(torch.Size([399800, 100, 3]),\n",
       " torch.Size([399800]),\n",
       " torch.Size([399800]),\n",
       " torch.Size([399800]),\n",
       " torch.Size([399800, 100, 3]))"
      ]
     },
     "execution_count": 9,
     "metadata": {},
     "output_type": "execute_result"
    }
   ],
   "source": [
    "replays = []\n",
    "for replay_filename in Path('/home/isaiah/Downloads/episodes/').glob('*.json'):\n",
    "    with open(replay_filename, 'r') as f:\n",
    "        replays.append(json.load(f))\n",
    "    if len(replays) >= 100:\n",
    "        break\n",
    "\n",
    "s_batch, a_batch, r_batch, d_batch, next_s_batch = batch_convert_replays_to_s_a_r_d_s(replays, ve.EVERY_STEP_EV_ZEROSUM, ve.SUMMED_OBS, False)\n",
    "s_batch.shape, a_batch.shape, r_batch.shape, d_batch.shape, next_s_batch.shape"
   ]
  },
  {
   "cell_type": "markdown",
   "metadata": {},
   "source": [
    "## Convert one replay at a time"
   ]
  },
  {
   "cell_type": "code",
   "execution_count": 31,
   "metadata": {},
   "outputs": [],
   "source": [
    "def convert_replay_to_s_a_r_d_s(replay, reward_type, obs_type, normalize_reward):\n",
    "    kaggle_env = kaggle_environments.make(\n",
    "        'mab',\n",
    "        configuration=replay['configuration'],\n",
    "        steps=replay['steps'],\n",
    "        info=replay['info']\n",
    "    )\n",
    "    sim_env = ve.KaggleMABEnvTorchVectorized(\n",
    "        reward_type=reward_type,\n",
    "        obs_type=obs_type,\n",
    "        normalize_reward=normalize_reward,\n",
    "        env_device=torch.device('cpu'),\n",
    "        out_device=torch.device('cpu')\n",
    "    )\n",
    "\n",
    "    actions = []\n",
    "    thresholds = []\n",
    "    for step_info in kaggle_env.steps[1:]:\n",
    "        actions.append(torch.tensor([s['action'] for s in step_info]))\n",
    "        thresholds.append(torch.tensor(step_info[0]['observation']['thresholds']).float())\n",
    "\n",
    "    s_batch = []\n",
    "    a_batch = []\n",
    "    r_batch = []\n",
    "    d_batch = []\n",
    "    next_s_batch = []\n",
    "    sim_env.reset()\n",
    "    sim_env.orig_thresholds = torch.tensor(kaggle_env.steps[0][0]['observation']['thresholds'], dtype=sim_env.orig_thresholds.dtype).view(sim_env.orig_thresholds.shape)\n",
    "    s = sim_env.obs\n",
    "    for i, a in enumerate(actions):\n",
    "        a = a.unsqueeze(0)\n",
    "        next_s, r, done, _ = sim_env.step(a)\n",
    "        s_batch.append(s.clone())\n",
    "        a_batch.append(a.clone())\n",
    "        r_batch.append(r.clone())\n",
    "        d_batch.append(torch.ones(r.shape) if done else torch.zeros(r.shape))\n",
    "        next_s_batch.append(next_s.clone())\n",
    "        s = next_s\n",
    "        assert torch.allclose(sim_env.thresholds.view(-1), thresholds[i].view(-1)), f'ERROR: {i}'\n",
    "    \n",
    "    return (torch.cat(s_batch).view(-1, *s.shape[-2:]),\n",
    "            torch.cat(a_batch).view(-1),\n",
    "            torch.cat(r_batch).view(-1),\n",
    "            torch.cat(d_batch).view(-1),\n",
    "            torch.cat(next_s_batch).view(-1, *s.shape[-2:]))"
   ]
  }
 ],
 "metadata": {
  "kernelspec": {
   "display_name": "Python 3",
   "language": "python",
   "name": "python3"
  },
  "language_info": {
   "codemirror_mode": {
    "name": "ipython",
    "version": 3
   },
   "file_extension": ".py",
   "mimetype": "text/x-python",
   "name": "python",
   "nbconvert_exporter": "python",
   "pygments_lexer": "ipython3",
   "version": "3.7.7"
  }
 },
 "nbformat": 4,
 "nbformat_minor": 4
}
