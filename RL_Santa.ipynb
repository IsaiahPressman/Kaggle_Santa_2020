{
 "cells": [
  {
   "cell_type": "code",
   "execution_count": 1,
   "metadata": {},
   "outputs": [],
   "source": [
    "import base64\n",
    "from jupyterthemes import jtplot\n",
    "import matplotlib.pyplot as plt\n",
    "import numpy as np\n",
    "import pandas as pd\n",
    "from pathlib import Path\n",
    "import pickle\n",
    "import seaborn as sns\n",
    "import shutil\n",
    "import torch\n",
    "from torch import distributions, nn\n",
    "import torch.nn.functional as F\n",
    "import time\n",
    "import tqdm\n",
    "\n",
    "# Custom imports\n",
    "from graph_nns import GraphNNA3C, SmallFullyConnectedGNNLayer, FullyConnectedGNNLayer\n",
    "import vectorized_env\n",
    "from vectorized_env import KaggleMABEnvTorchVectorized\n",
    "import vectorized_agents as va\n",
    "\n",
    "%matplotlib inline\n",
    "jtplot.style()\n",
    "\n",
    "DEVICE = torch.device('cuda')\n",
    "OBS_NORM = 100. / 1999."
   ]
  },
  {
   "cell_type": "markdown",
   "metadata": {},
   "source": [
    "## A3C RL algorithm"
   ]
  },
  {
   "cell_type": "code",
   "execution_count": 2,
   "metadata": {},
   "outputs": [],
   "source": [
    "def wrap_model(model):\n",
    "    def model_wrapped(states):\n",
    "        return model.sample_action(states.unsqueeze(0)).squeeze(0)\n",
    "    return model_wrapped\n",
    "\n",
    "\n",
    "class A3CVectorized():\n",
    "    def __init__(self, model_constructor, optimizer, model=None, device=torch.device('cuda'), exp_folder=Path('/home/isaiah/GitHub/Kaggle/Santa_2020/runs/TEMP'),\n",
    "                 play_against_past_selves=True, n_past_selves=8, checkpoint_freq=10, initial_opponent_pool=[], opp_posterior_decay=0.95):\n",
    "        self.model_constructor = model_constructor\n",
    "        self.optimizer = optimizer\n",
    "        if model is None:\n",
    "            self.model = self.model_constructor()\n",
    "        else:\n",
    "            self.model = model\n",
    "        self.device = device\n",
    "        self.exp_folder = exp_folder\n",
    "        if str(self.exp_folder) == '/home/isaiah/GitHub/Kaggle/Santa_2020/runs/TEMP':\n",
    "            print('WARNING: Using TEMP exp_folder')\n",
    "            shutil.rmtree(self.exp_folder)\n",
    "        elif self.exp_folder.exists():\n",
    "            raise RuntimeError(f'Experiment folder {self.exp_folder} already exists')\n",
    "        else:\n",
    "            print(f'Saving results to {self.exp_folder}')\n",
    "        self.exp_folder.mkdir(exist_ok=True)\n",
    "        self.play_against_past_selves = play_against_past_selves\n",
    "        self.n_past_selves = n_past_selves\n",
    "        self.checkpoint_freq = checkpoint_freq\n",
    "        self.initial_opponent_pool = initial_opponent_pool\n",
    "        self.opp_posterior_decay = opp_posterior_decay\n",
    "        \n",
    "        self.env = None\n",
    "        self.opp_a = np.ones(len(self.initial_opponent_pool))\n",
    "        self.opp_b = np.ones(len(self.initial_opponent_pool))\n",
    "        self.checkpoints = []\n",
    "        self.true_ep_num = 0\n",
    "        \n",
    "    def train(self, n_episodes, batch_size=30, gamma=0.9, **env_kwargs):\n",
    "        if self.play_against_past_selves and 'opponent' in env_kwargs.keys():\n",
    "            raise RuntimeError('Cannot play against past selves when opponent is defined')\n",
    "        self.env = None\n",
    "        self.model.train()\n",
    "        episode_reward_sums = []\n",
    "        \n",
    "        for ep_num in tqdm.trange(n_episodes):\n",
    "            if self.play_against_past_selves:\n",
    "                opponents, opponent_idxs = self.sample_opponents()\n",
    "                self.env = KaggleMABEnvTorchVectorized(opponent=opponents, **env_kwargs)\n",
    "            else:\n",
    "                self.env = KaggleMABEnvTorchVectorized(**env_kwargs)\n",
    "            buffer_s, buffer_a, buffer_r = [], [], []\n",
    "            s, r, _, _ = self.env.reset()\n",
    "            episode_reward_sums.append(r)\n",
    "            step_count = 1\n",
    "            while not self.env.done:\n",
    "                # Batch size of 1 for inference\n",
    "                a = self.model.sample_action(s.to(device=self.device).unsqueeze(0)).squeeze(0)\n",
    "                next_s, r, done, _ = self.env.step(a)\n",
    "\n",
    "                buffer_s.append(s)\n",
    "                buffer_a.append(a)\n",
    "                buffer_r.append(r)\n",
    "\n",
    "                if step_count % batch_size == 0 or done:\n",
    "                    if done:\n",
    "                        v_next_s = torch.zeros_like(buffer_r[-1])\n",
    "                    else:\n",
    "                        _, v_next_s = self.model(next_s.to(device=self.device).unsqueeze(0))\n",
    "                        v_next_s = v_next_s.detach().squeeze(0)\n",
    "                    v_next_s.to(device=self.device)\n",
    "\n",
    "                    buffer_v_target = []\n",
    "                    for r in buffer_r[::-1]:\n",
    "                        v_next_s = r + gamma * v_next_s\n",
    "                        buffer_v_target.append(v_next_s)\n",
    "                    buffer_v_target.reverse()\n",
    "\n",
    "                    loss = self.model.loss_func(\n",
    "                        torch.stack(buffer_s).to(device=self.device),\n",
    "                        torch.stack(buffer_a).to(device=self.device),\n",
    "                        torch.stack(buffer_v_target).to(device=self.device)\n",
    "                    )\n",
    "                    self.optimizer.zero_grad()\n",
    "                    loss.backward()\n",
    "                    self.optimizer.step()\n",
    "                    buffer_s, buffer_a, buffer_r = [], [], []\n",
    "                s = next_s\n",
    "                episode_reward_sums[-1] += r\n",
    "                step_count += 1\n",
    "            if self.play_against_past_selves:\n",
    "                if opponent_idxs is not None:\n",
    "                    self.update_opponent_scores(opponent_idxs, self.env.player_rewards_sums.cpu())\n",
    "                if ep_num % self.checkpoint_freq == 0:\n",
    "                    self.checkpoint()\n",
    "            if ep_num % self.checkpoint_freq == 0:\n",
    "                self.save()\n",
    "            episode_reward_sums[-1] = episode_reward_sums[-1].mean() / self.env.r_norm\n",
    "            self.true_ep_num += 1\n",
    "        self.save(finished=True)\n",
    "        return episode_reward_sums\n",
    "    \n",
    "    def sample_opponents(self):\n",
    "        if len(self.initial_opponent_pool) + len(self.checkpoints) == 0:\n",
    "            print('No opponents sampled')\n",
    "            return None, None\n",
    "        else:\n",
    "            opponents = []\n",
    "            opponent_idxs = []\n",
    "            for i in range(self.n_past_selves):\n",
    "                # Sample opponents randomly if the agent is losing > some fraction of it's games, otherwise use thompson sampling\n",
    "                if np.sum(self.opp_b - 1) <= np.sum(self.opp_a - 1) / 5.:\n",
    "                    if i == 0:\n",
    "                        print('Sampling opponents randomly')\n",
    "                    selected_opp_idx = np.random.randint(len(self.opp_a))\n",
    "                else:\n",
    "                    if i == 0:\n",
    "                        print('Sampling opponents using Thompson sampling')\n",
    "                    selected_opp_idx = np.random.beta(self.opp_a, self.opp_b).argmax()\n",
    "                opponent_idxs.append(selected_opp_idx)\n",
    "                opponents.append(self.get_opponent(selected_opp_idx))\n",
    "                if selected_opp_idx < len(self.initial_opponent_pool):\n",
    "                    try:\n",
    "                        print(f'Opponent {i}: {opponents[-1].name} with alpha {self.opp_a[selected_opp_idx]:.2f} and beta {self.opp_b[selected_opp_idx]:.2f}')\n",
    "                    except AttributeError:\n",
    "                        print(f'Opponent {i}: {opponents[-1]} with alpha {self.opp_a[selected_opp_idx]:.2f} and beta {self.opp_b[selected_opp_idx]:.2f}')\n",
    "                else:\n",
    "                    print(f'Opponent {i}: Checkpoint #{selected_opp_idx - len(self.initial_opponent_pool)} with alpha {self.opp_a[selected_opp_idx]:.2f} and beta {self.opp_b[selected_opp_idx]:.2f}')\n",
    "            print()\n",
    "            return va.MultiAgent(opponents), opponent_idxs\n",
    "\n",
    "    def update_opponent_scores(self, curr_opp_idxs, player_rewards_sums):\n",
    "        # player_rewards_sums.shape is (n_envs, n_players, n_bandits)\n",
    "        # Decay posteriors\n",
    "        self.opp_a = np.maximum(self.opp_a * self.opp_posterior_decay, 1.)\n",
    "        self.opp_b = np.maximum(self.opp_b * self.opp_posterior_decay, 1.)\n",
    "        \n",
    "        # Update posteriors with new w/l stats\n",
    "        global game_scores, rewards_sums\n",
    "        rewards_sums = player_rewards_sums.sum(dim=2)\n",
    "        game_scores = torch.zeros(rewards_sums.shape)\n",
    "        winners_idxs = rewards_sums.argmax(dim=1)\n",
    "        draws_mask = rewards_sums[:,0] == rewards_sums[:,1]\n",
    "        game_scores[torch.arange(game_scores.shape[0]), winners_idxs] = 1.\n",
    "        game_scores[draws_mask] = 0.5\n",
    "        game_scores = [gs.numpy() for gs in game_scores.chunk(self.n_past_selves)]\n",
    "        for match_idx, opp_idx in enumerate(curr_opp_idxs):\n",
    "            self.opp_a[opp_idx] += game_scores[match_idx][:,1].sum()\n",
    "            self.opp_b[opp_idx] += game_scores[match_idx][:,0].sum()\n",
    "            \n",
    "    def checkpoint(self):\n",
    "        self.model.cpu()\n",
    "        self.checkpoints.append(self.model.state_dict())\n",
    "        self.opp_a = np.append(self.opp_a, 1.)\n",
    "        self.opp_b = np.append(self.opp_b, 1.)\n",
    "        self.model.to(device=self.device)\n",
    "    \n",
    "    def save(self, finished=False):\n",
    "        if finished:\n",
    "            file_path_base = self.exp_folder / 'final'\n",
    "        else:\n",
    "            file_path_base = self.exp_folder / str(self.true_ep_num)\n",
    "        # Save model params\n",
    "        self.model.cpu()\n",
    "        state_dict_bytes = pickle.dumps({\n",
    "            'model_state_dict': self.model.state_dict(),\n",
    "        })\n",
    "        serialized_string = base64.b64encode(state_dict_bytes)\n",
    "        with open(f'{file_path_base}_cp.txt', 'w') as f:\n",
    "            f.write(str(serialized_string))\n",
    "        self.model.to(device=self.device)\n",
    "        # Save skill estimates\n",
    "        if self.play_against_past_selves:\n",
    "            checkpoint_idxs = np.arange(len(a3c_alg.opp_a)) - len(a3c_alg.initial_opponent_pool)\n",
    "            checkpoint_idxs = np.where(\n",
    "                checkpoint_idxs < 0,\n",
    "                np.nan,\n",
    "                checkpoint_idxs\n",
    "            )\n",
    "            df = pd.DataFrame({\n",
    "                'opp_a': a3c_alg.opp_a,\n",
    "                'opp_b': a3c_alg.opp_b,\n",
    "                'est_opp_skill': a3c_alg.opp_a / (a3c_alg.opp_a + a3c_alg.opp_b),\n",
    "                'checkpoint_idxs': checkpoint_idxs\n",
    "            })\n",
    "            df.to_csv(f'{file_path_base}_skill_estimates.csv')\n",
    "    \n",
    "    def get_opponent(self, idx):\n",
    "        if idx < 0:\n",
    "            raise IndexError(f'Negative indexing is not supported')\n",
    "        elif idx < len(self.initial_opponent_pool):\n",
    "            return self.initial_opponent_pool[idx]\n",
    "        elif idx < len(self.initial_opponent_pool) + len(self.checkpoints):\n",
    "            checkpoint_idx = idx - len(self.initial_opponent_pool)\n",
    "            checkpoint_opp = self.model_constructor()\n",
    "            checkpoint_opp.load_state_dict(self.checkpoints[checkpoint_idx])\n",
    "            checkpoint_opp.to(device=self.device)\n",
    "            checkpoint_opp.eval()\n",
    "            return wrap_model(checkpoint_opp)\n",
    "        else:\n",
    "            raise IndexError(f'Index {idx} is out of bounds')"
   ]
  },
  {
   "cell_type": "markdown",
   "metadata": {},
   "source": [
    "## Optional: load a saved model state_dict from a serialized string file"
   ]
  },
  {
   "cell_type": "code",
   "execution_count": 3,
   "metadata": {},
   "outputs": [],
   "source": [
    "#with open('rl_agents/ss_temp.txt', 'r') as f:\n",
    "with open('runs/Small_GNN_v3/final_cp.txt', 'r') as f:\n",
    "    serialized_string = f.readline()[2:-1].encode()\n",
    "state_dict_bytes = base64.b64decode(serialized_string)\n",
    "loaded_state_dicts = pickle.loads(state_dict_bytes)"
   ]
  },
  {
   "cell_type": "markdown",
   "metadata": {},
   "source": [
    "## RL training\n",
    "#### TODO:\n",
    "Change GNN layer option to \"efficient_GNN\"\n",
    "\n",
    "Implement \"fictitious self-play\" to improve trained model robustness. On a related note, maybe compare trained agents against many/all agents from this notebook: https://www.kaggle.com/jamesmcguigan/santa-2020-agents-comparison\n",
    "\n",
    "Implement new RL algorithm - AWAC, and use top team's logs as training data. See: https://www.kaggle.com/masatomatsui/santa-episode-scraper\n",
    "\n",
    "Eventually, experiment with reward_type = END_OF_GAME"
   ]
  },
  {
   "cell_type": "code",
   "execution_count": 4,
   "metadata": {},
   "outputs": [
    {
     "name": "stdout",
     "output_type": "stream",
     "text": [
      "Successfully loaded saved model\n",
      "Saving results to /home/isaiah/GitHub/Kaggle/Santa_2020/runs/Small_GNN_v3_contd\n"
     ]
    }
   ],
   "source": [
    "graph_nn_kwargs = dict(\n",
    "    in_features=3,\n",
    "    n_nodes=100,\n",
    "    n_hidden_layers=10,\n",
    "    layer_sizes=24,\n",
    "    #layer_class=FullyConnectedGNNLayer,\n",
    "    layer_class=SmallFullyConnectedGNNLayer,\n",
    "    skip_connection_n=1\n",
    ")\n",
    "model = GraphNNA3C(**graph_nn_kwargs)\n",
    "try:\n",
    "    sd = loaded_state_dicts['model_state_dict']\n",
    "    model.load_state_dict(sd)\n",
    "    print('Successfully loaded saved model')\n",
    "    del loaded_state_dicts\n",
    "except NameError:\n",
    "    pass\n",
    "model.to(device=DEVICE)\n",
    "optimizer = torch.optim.Adam(model.parameters())\n",
    "\n",
    "env_kwargs = dict(\n",
    "    n_envs=512,\n",
    "    out_device=DEVICE,\n",
    "    reward_type=vectorized_env.EVERY_STEP_EV\n",
    ")\n",
    "rl_alg_kwargs = dict(\n",
    "    batch_size=30,\n",
    "    gamma=0.99\n",
    ")\n",
    "\n",
    "# Used for va.run_vectorized_vs\n",
    "def model_wrapped(states):\n",
    "    return model.sample_action(states.unsqueeze(0)).squeeze(0)\n",
    "\n",
    "def model_constructor():\n",
    "    return GraphNNA3C(**graph_nn_kwargs)\n",
    "\n",
    "# initial_opponent_pool = []\n",
    "initial_opponent_pool = [\n",
    "    #va.BasicThompsonSampling(OBS_NORM),\n",
    "    va.PullVegasSlotMachines(OBS_NORM),\n",
    "    #va.SavedRLAgent('a3c_agent_v0'),\n",
    "    va.SavedRLAgent('a3c_agent_v1'),\n",
    "    #va.SavedRLAgent('a3c_agent_v2'),\n",
    "    va.SavedRLAgent('a3c_agent_v3'),\n",
    "]\n",
    "\n",
    "a3c_alg = A3CVectorized(model_constructor, optimizer, model=model, device=DEVICE,\n",
    "                        exp_folder=Path('/home/isaiah/GitHub/Kaggle/Santa_2020/runs/Small_GNN_v3_contd'),\n",
    "                        play_against_past_selves=True,\n",
    "                        n_past_selves=4,\n",
    "                        checkpoint_freq=10,\n",
    "                        initial_opponent_pool=initial_opponent_pool,\n",
    "                        opp_posterior_decay=0.95)"
   ]
  },
  {
   "cell_type": "code",
   "execution_count": 5,
   "metadata": {
    "scrolled": true
   },
   "outputs": [
    {
     "name": "stderr",
     "output_type": "stream",
     "text": [
      "\r",
      "  0%|          | 0/5 [00:00<?, ?it/s]"
     ]
    },
    {
     "name": "stdout",
     "output_type": "stream",
     "text": [
      "Sampling opponents randomly\n",
      "Opponent 0: SavedRLAgent: a3c_agent_v3 with alpha 1.00 and beta 1.00\n",
      "Opponent 1: PullVegasSlotMachines with alpha 1.00 and beta 1.00\n",
      "Opponent 2: SavedRLAgent: a3c_agent_v3 with alpha 1.00 and beta 1.00\n",
      "Opponent 3: PullVegasSlotMachines with alpha 1.00 and beta 1.00\n",
      "\n"
     ]
    },
    {
     "name": "stderr",
     "output_type": "stream",
     "text": [
      "\r",
      " 20%|██        | 1/5 [00:19<01:16, 19.19s/it]"
     ]
    },
    {
     "name": "stdout",
     "output_type": "stream",
     "text": [
      "Sampling opponents using Thompson sampling\n",
      "Opponent 0: SavedRLAgent: a3c_agent_v3 with alpha 84.00 and beta 46.00\n",
      "Opponent 1: Checkpoint #0 with alpha 1.00 and beta 1.00\n",
      "Opponent 2: SavedRLAgent: a3c_agent_v1 with alpha 1.00 and beta 1.00\n",
      "Opponent 3: Checkpoint #0 with alpha 1.00 and beta 1.00\n",
      "\n"
     ]
    },
    {
     "name": "stderr",
     "output_type": "stream",
     "text": [
      "\r",
      " 40%|████      | 2/5 [00:43<01:02, 20.81s/it]"
     ]
    },
    {
     "name": "stdout",
     "output_type": "stream",
     "text": [
      "Sampling opponents using Thompson sampling\n",
      "Opponent 0: SavedRLAgent: a3c_agent_v3 with alpha 123.30 and beta 64.20\n",
      "Opponent 1: SavedRLAgent: a3c_agent_v3 with alpha 123.30 and beta 64.20\n",
      "Opponent 2: SavedRLAgent: a3c_agent_v3 with alpha 123.30 and beta 64.20\n",
      "Opponent 3: SavedRLAgent: a3c_agent_v3 with alpha 123.30 and beta 64.20\n",
      "\n"
     ]
    },
    {
     "name": "stderr",
     "output_type": "stream",
     "text": [
      "\r",
      " 60%|██████    | 3/5 [01:06<00:43, 21.50s/it]"
     ]
    },
    {
     "name": "stdout",
     "output_type": "stream",
     "text": [
      "Sampling opponents using Thompson sampling\n",
      "Opponent 0: SavedRLAgent: a3c_agent_v3 with alpha 280.13 and beta 153.99\n",
      "Opponent 1: SavedRLAgent: a3c_agent_v3 with alpha 280.13 and beta 153.99\n",
      "Opponent 2: SavedRLAgent: a3c_agent_v3 with alpha 280.13 and beta 153.99\n",
      "Opponent 3: SavedRLAgent: a3c_agent_v3 with alpha 280.13 and beta 153.99\n",
      "\n"
     ]
    },
    {
     "name": "stderr",
     "output_type": "stream",
     "text": [
      "\r",
      " 80%|████████  | 4/5 [01:29<00:21, 21.89s/it]"
     ]
    },
    {
     "name": "stdout",
     "output_type": "stream",
     "text": [
      "Sampling opponents using Thompson sampling\n",
      "Opponent 0: SavedRLAgent: a3c_agent_v3 with alpha 443.63 and beta 224.79\n",
      "Opponent 1: SavedRLAgent: a3c_agent_v3 with alpha 443.63 and beta 224.79\n",
      "Opponent 2: SavedRLAgent: a3c_agent_v3 with alpha 443.63 and beta 224.79\n",
      "Opponent 3: SavedRLAgent: a3c_agent_v3 with alpha 443.63 and beta 224.79\n",
      "\n"
     ]
    },
    {
     "name": "stderr",
     "output_type": "stream",
     "text": [
      "100%|██████████| 5/5 [01:53<00:00, 22.64s/it]\n"
     ]
    },
    {
     "data": {
      "image/png": "[encoded data removed]",
      "text/plain": [
       "<Figure size 460.8x403.2 with 1 Axes>"
      ]
     },
     "metadata": {},
     "output_type": "display_data"
    }
   ],
   "source": [
    "env_kwargs['n_envs'] = 256\n",
    "episode_reward_sums = a3c_alg.train(n_episodes=5, **rl_alg_kwargs, **env_kwargs)\n",
    "\n",
    "#episode_reward_sums = a3c_vectorized_env(env, model, optimizer, n_episodes=50, **rl_alg_kwargs)\n",
    "plt.plot(episode_reward_sums)\n",
    "plt.show();\n",
    "#plt.plot(episode_reward_sums);"
   ]
  },
  {
   "cell_type": "code",
   "execution_count": 11,
   "metadata": {
    "scrolled": true
   },
   "outputs": [
    {
     "name": "stderr",
     "output_type": "stream",
     "text": [
      "\r",
      "  0%|          | 0/70 [00:00<?, ?it/s]"
     ]
    },
    {
     "name": "stdout",
     "output_type": "stream",
     "text": [
      "Sampling opponents using Thompson sampling\n",
      "Opponent 0: Checkpoint #2 with alpha 2052.01 and beta 345.97\n",
      "Opponent 1: Checkpoint #2 with alpha 2052.01 and beta 345.97\n",
      "Opponent 2: Checkpoint #2 with alpha 2052.01 and beta 345.97\n",
      "Opponent 3: Checkpoint #2 with alpha 2052.01 and beta 345.97\n",
      "\n"
     ]
    },
    {
     "name": "stderr",
     "output_type": "stream",
     "text": [
      "\r",
      "  1%|▏         | 1/70 [00:27<31:43, 27.58s/it]"
     ]
    },
    {
     "name": "stdout",
     "output_type": "stream",
     "text": [
      "Sampling opponents using Thompson sampling\n",
      "Opponent 0: Checkpoint #2 with alpha 2140.41 and beta 393.67\n",
      "Opponent 1: Checkpoint #2 with alpha 2140.41 and beta 393.67\n",
      "Opponent 2: Checkpoint #2 with alpha 2140.41 and beta 393.67\n",
      "Opponent 3: Checkpoint #2 with alpha 2140.41 and beta 393.67\n",
      "\n"
     ]
    },
    {
     "name": "stderr",
     "output_type": "stream",
     "text": [
      "\r",
      "  3%|▎         | 2/70 [00:54<31:05, 27.43s/it]"
     ]
    },
    {
     "name": "stdout",
     "output_type": "stream",
     "text": [
      "Sampling opponents using Thompson sampling\n",
      "Opponent 0: Checkpoint #2 with alpha 2265.89 and beta 397.49\n",
      "Opponent 1: Checkpoint #2 with alpha 2265.89 and beta 397.49\n",
      "Opponent 2: Checkpoint #4 with alpha 1.00 and beta 1.00\n",
      "Opponent 3: Checkpoint #2 with alpha 2265.89 and beta 397.49\n",
      "\n"
     ]
    },
    {
     "name": "stderr",
     "output_type": "stream",
     "text": [
      "\r",
      "  4%|▍         | 3/70 [01:21<30:21, 27.18s/it]"
     ]
    },
    {
     "name": "stdout",
     "output_type": "stream",
     "text": [
      "Sampling opponents using Thompson sampling\n",
      "Opponent 0: Checkpoint #2 with alpha 2304.60 and beta 417.61\n",
      "Opponent 1: Checkpoint #2 with alpha 2304.60 and beta 417.61\n",
      "Opponent 2: Checkpoint #2 with alpha 2304.60 and beta 417.61\n",
      "Opponent 3: Checkpoint #2 with alpha 2304.60 and beta 417.61\n",
      "\n"
     ]
    },
    {
     "name": "stderr",
     "output_type": "stream",
     "text": [
      "\r",
      "  6%|▌         | 4/70 [01:48<29:49, 27.11s/it]"
     ]
    },
    {
     "name": "stdout",
     "output_type": "stream",
     "text": [
      "Sampling opponents using Thompson sampling\n",
      "Opponent 0: Checkpoint #2 with alpha 2367.87 and beta 474.23\n",
      "Opponent 1: Checkpoint #2 with alpha 2367.87 and beta 474.23\n",
      "Opponent 2: Checkpoint #2 with alpha 2367.87 and beta 474.23\n",
      "Opponent 3: Checkpoint #2 with alpha 2367.87 and beta 474.23\n",
      "\n"
     ]
    },
    {
     "name": "stderr",
     "output_type": "stream",
     "text": [
      "\r",
      "  7%|▋         | 5/70 [02:14<29:14, 27.00s/it]"
     ]
    },
    {
     "name": "stdout",
     "output_type": "stream",
     "text": [
      "Sampling opponents using Thompson sampling\n",
      "Opponent 0: Checkpoint #2 with alpha 2428.97 and beta 527.02\n",
      "Opponent 1: Checkpoint #2 with alpha 2428.97 and beta 527.02\n",
      "Opponent 2: Checkpoint #2 with alpha 2428.97 and beta 527.02\n",
      "Opponent 3: Checkpoint #2 with alpha 2428.97 and beta 527.02\n",
      "\n"
     ]
    },
    {
     "name": "stderr",
     "output_type": "stream",
     "text": [
      "\r",
      "  9%|▊         | 6/70 [02:41<28:40, 26.88s/it]"
     ]
    },
    {
     "name": "stdout",
     "output_type": "stream",
     "text": [
      "Sampling opponents using Thompson sampling\n",
      "Opponent 0: Checkpoint #2 with alpha 2457.52 and beta 606.67\n",
      "Opponent 1: Checkpoint #2 with alpha 2457.52 and beta 606.67\n",
      "Opponent 2: Checkpoint #2 with alpha 2457.52 and beta 606.67\n",
      "Opponent 3: Checkpoint #2 with alpha 2457.52 and beta 606.67\n",
      "\n"
     ]
    },
    {
     "name": "stderr",
     "output_type": "stream",
     "text": [
      "\r",
      " 10%|█         | 7/70 [03:08<28:09, 26.82s/it]"
     ]
    },
    {
     "name": "stdout",
     "output_type": "stream",
     "text": [
      "Sampling opponents using Thompson sampling\n",
      "Opponent 0: Checkpoint #2 with alpha 2551.15 and beta 615.84\n",
      "Opponent 1: Checkpoint #2 with alpha 2551.15 and beta 615.84\n",
      "Opponent 2: Checkpoint #2 with alpha 2551.15 and beta 615.84\n",
      "Opponent 3: Checkpoint #2 with alpha 2551.15 and beta 615.84\n",
      "\n"
     ]
    },
    {
     "name": "stderr",
     "output_type": "stream",
     "text": [
      "\r",
      " 11%|█▏        | 8/70 [03:35<27:43, 26.83s/it]"
     ]
    },
    {
     "name": "stdout",
     "output_type": "stream",
     "text": [
      "Sampling opponents using Thompson sampling\n",
      "Opponent 0: Checkpoint #2 with alpha 2607.59 and beta 657.04\n",
      "Opponent 1: Checkpoint #2 with alpha 2607.59 and beta 657.04\n",
      "Opponent 2: Checkpoint #2 with alpha 2607.59 and beta 657.04\n",
      "Opponent 3: Checkpoint #2 with alpha 2607.59 and beta 657.04\n",
      "\n"
     ]
    },
    {
     "name": "stderr",
     "output_type": "stream",
     "text": [
      "\r",
      " 13%|█▎        | 9/70 [04:02<27:22, 26.93s/it]"
     ]
    },
    {
     "name": "stdout",
     "output_type": "stream",
     "text": [
      "Sampling opponents using Thompson sampling\n",
      "Opponent 0: Checkpoint #2 with alpha 2662.71 and beta 694.69\n",
      "Opponent 1: Checkpoint #2 with alpha 2662.71 and beta 694.69\n",
      "Opponent 2: Checkpoint #2 with alpha 2662.71 and beta 694.69\n",
      "Opponent 3: Checkpoint #2 with alpha 2662.71 and beta 694.69\n",
      "\n"
     ]
    },
    {
     "name": "stderr",
     "output_type": "stream",
     "text": [
      "\r",
      " 14%|█▍        | 10/70 [04:29<26:53, 26.89s/it]"
     ]
    },
    {
     "name": "stdout",
     "output_type": "stream",
     "text": [
      "Sampling opponents using Thompson sampling\n",
      "Opponent 0: Checkpoint #2 with alpha 2721.58 and beta 723.96\n",
      "Opponent 1: Checkpoint #2 with alpha 2721.58 and beta 723.96\n",
      "Opponent 2: Checkpoint #2 with alpha 2721.58 and beta 723.96\n",
      "Opponent 3: Checkpoint #2 with alpha 2721.58 and beta 723.96\n",
      "\n"
     ]
    },
    {
     "name": "stderr",
     "output_type": "stream",
     "text": [
      "\r",
      " 16%|█▌        | 11/70 [04:55<26:24, 26.86s/it]"
     ]
    },
    {
     "name": "stdout",
     "output_type": "stream",
     "text": [
      "Sampling opponents using Thompson sampling\n",
      "Opponent 0: Checkpoint #2 with alpha 2771.00 and beta 758.26\n",
      "Opponent 1: Checkpoint #5 with alpha 1.00 and beta 1.00\n",
      "Opponent 2: Checkpoint #5 with alpha 1.00 and beta 1.00\n",
      "Opponent 3: Checkpoint #2 with alpha 2771.00 and beta 758.26\n",
      "\n"
     ]
    },
    {
     "name": "stderr",
     "output_type": "stream",
     "text": [
      "\r",
      " 17%|█▋        | 12/70 [05:22<25:56, 26.84s/it]"
     ]
    },
    {
     "name": "stdout",
     "output_type": "stream",
     "text": [
      "Sampling opponents using Thompson sampling\n",
      "Opponent 0: Checkpoint #2 with alpha 2726.95 and beta 753.85\n",
      "Opponent 1: Checkpoint #2 with alpha 2726.95 and beta 753.85\n",
      "Opponent 2: Checkpoint #2 with alpha 2726.95 and beta 753.85\n",
      "Opponent 3: Checkpoint #2 with alpha 2726.95 and beta 753.85\n",
      "\n"
     ]
    },
    {
     "name": "stderr",
     "output_type": "stream",
     "text": [
      "\r",
      " 19%|█▊        | 13/70 [05:49<25:24, 26.75s/it]"
     ]
    },
    {
     "name": "stdout",
     "output_type": "stream",
     "text": [
      "Sampling opponents using Thompson sampling\n",
      "Opponent 0: Checkpoint #2 with alpha 2770.60 and beta 792.15\n",
      "Opponent 1: Checkpoint #2 with alpha 2770.60 and beta 792.15\n",
      "Opponent 2: Checkpoint #2 with alpha 2770.60 and beta 792.15\n",
      "Opponent 3: Checkpoint #2 with alpha 2770.60 and beta 792.15\n",
      "\n"
     ]
    },
    {
     "name": "stderr",
     "output_type": "stream",
     "text": [
      "\r",
      " 20%|██        | 14/70 [06:16<25:00, 26.79s/it]"
     ]
    },
    {
     "name": "stdout",
     "output_type": "stream",
     "text": [
      "Sampling opponents using Thompson sampling\n",
      "Opponent 0: Checkpoint #2 with alpha 2802.07 and beta 838.55\n",
      "Opponent 1: Checkpoint #2 with alpha 2802.07 and beta 838.55\n",
      "Opponent 2: Checkpoint #2 with alpha 2802.07 and beta 838.55\n",
      "Opponent 3: Checkpoint #2 with alpha 2802.07 and beta 838.55\n",
      "\n"
     ]
    },
    {
     "name": "stderr",
     "output_type": "stream",
     "text": [
      "\r",
      " 21%|██▏       | 15/70 [06:42<24:36, 26.84s/it]"
     ]
    },
    {
     "name": "stdout",
     "output_type": "stream",
     "text": [
      "Sampling opponents using Thompson sampling\n",
      "Opponent 0: Checkpoint #2 with alpha 2831.47 and beta 883.12\n",
      "Opponent 1: Checkpoint #2 with alpha 2831.47 and beta 883.12\n",
      "Opponent 2: Checkpoint #2 with alpha 2831.47 and beta 883.12\n",
      "Opponent 3: Checkpoint #0 with alpha 6.50 and beta 7.82\n",
      "\n"
     ]
    },
    {
     "name": "stderr",
     "output_type": "stream",
     "text": [
      "\r",
      " 23%|██▎       | 16/70 [07:09<24:11, 26.88s/it]"
     ]
    },
    {
     "name": "stdout",
     "output_type": "stream",
     "text": [
      "Sampling opponents using Thompson sampling\n",
      "Opponent 0: Checkpoint #2 with alpha 2810.39 and beta 910.46\n",
      "Opponent 1: Checkpoint #2 with alpha 2810.39 and beta 910.46\n",
      "Opponent 2: Checkpoint #2 with alpha 2810.39 and beta 910.46\n",
      "Opponent 3: Checkpoint #2 with alpha 2810.39 and beta 910.46\n",
      "\n"
     ]
    },
    {
     "name": "stderr",
     "output_type": "stream",
     "text": [
      "\r",
      " 24%|██▍       | 17/70 [07:36<23:46, 26.92s/it]"
     ]
    },
    {
     "name": "stdout",
     "output_type": "stream",
     "text": [
      "Sampling opponents using Thompson sampling\n",
      "Opponent 0: Checkpoint #2 with alpha 2808.87 and beta 981.94\n",
      "Opponent 1: Checkpoint #2 with alpha 2808.87 and beta 981.94\n",
      "Opponent 2: Checkpoint #2 with alpha 2808.87 and beta 981.94\n",
      "Opponent 3: Checkpoint #2 with alpha 2808.87 and beta 981.94\n",
      "\n"
     ]
    },
    {
     "name": "stderr",
     "output_type": "stream",
     "text": [
      "\r",
      " 26%|██▌       | 18/70 [08:04<23:24, 27.00s/it]"
     ]
    },
    {
     "name": "stdout",
     "output_type": "stream",
     "text": [
      "Sampling opponents using Thompson sampling\n",
      "Opponent 0: SavedRLAgent: a3c_agent_v1 with alpha 36.87 and beta 21.74\n",
      "Opponent 1: Checkpoint #2 with alpha 2802.93 and beta 1054.34\n",
      "Opponent 2: Checkpoint #2 with alpha 2802.93 and beta 1054.34\n",
      "Opponent 3: Checkpoint #2 with alpha 2802.93 and beta 1054.34\n",
      "\n"
     ]
    },
    {
     "name": "stderr",
     "output_type": "stream",
     "text": [
      "\r",
      " 27%|██▋       | 19/70 [08:29<22:31, 26.51s/it]"
     ]
    },
    {
     "name": "stdout",
     "output_type": "stream",
     "text": [
      "Sampling opponents using Thompson sampling\n",
      "Opponent 0: Checkpoint #2 with alpha 2745.28 and beta 1111.13\n",
      "Opponent 1: Checkpoint #2 with alpha 2745.28 and beta 1111.13\n",
      "Opponent 2: Checkpoint #2 with alpha 2745.28 and beta 1111.13\n",
      "Opponent 3: Checkpoint #2 with alpha 2745.28 and beta 1111.13\n",
      "\n"
     ]
    },
    {
     "name": "stderr",
     "output_type": "stream",
     "text": [
      "\r",
      " 29%|██▊       | 20/70 [08:56<22:09, 26.60s/it]"
     ]
    },
    {
     "name": "stdout",
     "output_type": "stream",
     "text": [
      "Sampling opponents using Thompson sampling\n",
      "Opponent 0: Checkpoint #2 with alpha 2726.02 and beta 1193.57\n",
      "Opponent 1: Checkpoint #2 with alpha 2726.02 and beta 1193.57\n",
      "Opponent 2: Checkpoint #3 with alpha 9.84 and beta 10.45\n",
      "Opponent 3: Checkpoint #2 with alpha 2726.02 and beta 1193.57\n",
      "\n"
     ]
    },
    {
     "name": "stderr",
     "output_type": "stream",
     "text": [
      "\r",
      " 30%|███       | 21/70 [09:23<21:51, 26.77s/it]"
     ]
    },
    {
     "name": "stdout",
     "output_type": "stream",
     "text": [
      "Sampling opponents using Thompson sampling\n",
      "Opponent 0: Checkpoint #6 with alpha 1.00 and beta 1.00\n",
      "Opponent 1: Checkpoint #6 with alpha 1.00 and beta 1.00\n",
      "Opponent 2: Checkpoint #6 with alpha 1.00 and beta 1.00\n",
      "Opponent 3: Checkpoint #2 with alpha 2678.22 and beta 1237.39\n",
      "\n"
     ]
    },
    {
     "name": "stderr",
     "output_type": "stream",
     "text": [
      "\r",
      " 31%|███▏      | 22/70 [09:50<21:25, 26.78s/it]"
     ]
    },
    {
     "name": "stdout",
     "output_type": "stream",
     "text": [
      "Sampling opponents using Thompson sampling\n",
      "Opponent 0: Checkpoint #2 with alpha 2585.81 and beta 1198.02\n",
      "Opponent 1: Checkpoint #2 with alpha 2585.81 and beta 1198.02\n",
      "Opponent 2: Checkpoint #2 with alpha 2585.81 and beta 1198.02\n",
      "Opponent 3: Checkpoint #2 with alpha 2585.81 and beta 1198.02\n",
      "\n"
     ]
    },
    {
     "name": "stderr",
     "output_type": "stream",
     "text": [
      "\r",
      " 33%|███▎      | 23/70 [10:17<20:59, 26.79s/it]"
     ]
    },
    {
     "name": "stdout",
     "output_type": "stream",
     "text": [
      "Sampling opponents using Thompson sampling\n",
      "Opponent 0: Checkpoint #2 with alpha 2593.52 and beta 1257.12\n",
      "Opponent 1: Checkpoint #2 with alpha 2593.52 and beta 1257.12\n",
      "Opponent 2: Checkpoint #2 with alpha 2593.52 and beta 1257.12\n",
      "Opponent 3: Checkpoint #0 with alpha 32.25 and beta 21.95\n",
      "\n"
     ]
    },
    {
     "name": "stderr",
     "output_type": "stream",
     "text": [
      "\r",
      " 34%|███▍      | 24/70 [10:43<20:28, 26.71s/it]"
     ]
    },
    {
     "name": "stdout",
     "output_type": "stream",
     "text": [
      "Sampling opponents using Thompson sampling\n",
      "Opponent 0: Checkpoint #2 with alpha 2568.34 and beta 1281.76\n",
      "Opponent 1: Checkpoint #2 with alpha 2568.34 and beta 1281.76\n",
      "Opponent 2: Checkpoint #2 with alpha 2568.34 and beta 1281.76\n",
      "Opponent 3: Checkpoint #2 with alpha 2568.34 and beta 1281.76\n",
      "\n"
     ]
    },
    {
     "name": "stderr",
     "output_type": "stream",
     "text": [
      "\r",
      " 36%|███▌      | 25/70 [11:08<19:42, 26.27s/it]"
     ]
    },
    {
     "name": "stdout",
     "output_type": "stream",
     "text": [
      "Sampling opponents using Thompson sampling\n",
      "Opponent 0: Checkpoint #2 with alpha 2575.92 and beta 1337.68\n",
      "Opponent 1: SavedRLAgent: a3c_agent_v1 with alpha 51.84 and beta 36.13\n",
      "Opponent 2: Checkpoint #2 with alpha 2575.92 and beta 1337.68\n",
      "Opponent 3: SavedRLAgent: a3c_agent_v1 with alpha 51.84 and beta 36.13\n",
      "\n"
     ]
    },
    {
     "name": "stderr",
     "output_type": "stream",
     "text": [
      "\r",
      " 37%|███▋      | 26/70 [11:31<18:26, 25.14s/it]"
     ]
    },
    {
     "name": "stdout",
     "output_type": "stream",
     "text": [
      "Sampling opponents using Thompson sampling\n",
      "Opponent 0: Checkpoint #2 with alpha 2526.63 and beta 1319.29\n",
      "Opponent 1: Checkpoint #2 with alpha 2526.63 and beta 1319.29\n",
      "Opponent 2: Checkpoint #2 with alpha 2526.63 and beta 1319.29\n",
      "Opponent 3: Checkpoint #2 with alpha 2526.63 and beta 1319.29\n",
      "\n"
     ]
    },
    {
     "name": "stderr",
     "output_type": "stream",
     "text": [
      "\r",
      " 39%|███▊      | 27/70 [11:56<17:58, 25.09s/it]"
     ]
    },
    {
     "name": "stdout",
     "output_type": "stream",
     "text": [
      "Sampling opponents using Thompson sampling\n",
      "Opponent 0: Checkpoint #2 with alpha 2557.30 and beta 1352.33\n",
      "Opponent 1: PullVegasSlotMachines with alpha 2.88 and beta 4.47\n",
      "Opponent 2: Checkpoint #2 with alpha 2557.30 and beta 1352.33\n",
      "Opponent 3: SavedRLAgent: a3c_agent_v3 with alpha 198.38 and beta 128.12\n",
      "\n"
     ]
    },
    {
     "name": "stderr",
     "output_type": "stream",
     "text": [
      "\r",
      " 40%|████      | 28/70 [12:17<16:46, 23.96s/it]"
     ]
    },
    {
     "name": "stdout",
     "output_type": "stream",
     "text": [
      "Sampling opponents using Thompson sampling\n",
      "Opponent 0: Checkpoint #2 with alpha 2502.93 and beta 1339.21\n",
      "Opponent 1: SavedRLAgent: a3c_agent_v3 with alpha 233.47 and beta 140.72\n",
      "Opponent 2: Checkpoint #2 with alpha 2502.93 and beta 1339.21\n",
      "Opponent 3: Checkpoint #2 with alpha 2502.93 and beta 1339.21\n",
      "\n"
     ]
    },
    {
     "name": "stderr",
     "output_type": "stream",
     "text": [
      "\r",
      " 41%|████▏     | 29/70 [12:41<16:23, 23.99s/it]"
     ]
    },
    {
     "name": "stdout",
     "output_type": "stream",
     "text": [
      "Sampling opponents using Thompson sampling\n",
      "Opponent 0: Checkpoint #4 with alpha 5.01 and beta 12.39\n",
      "Opponent 1: Checkpoint #2 with alpha 2478.28 and beta 1363.75\n",
      "Opponent 2: Checkpoint #2 with alpha 2478.28 and beta 1363.75\n",
      "Opponent 3: Checkpoint #2 with alpha 2478.28 and beta 1363.75\n",
      "\n"
     ]
    },
    {
     "name": "stderr",
     "output_type": "stream",
     "text": [
      "\r",
      " 43%|████▎     | 30/70 [13:06<16:10, 24.27s/it]"
     ]
    },
    {
     "name": "stdout",
     "output_type": "stream",
     "text": [
      "Sampling opponents using Thompson sampling\n",
      "Opponent 0: Checkpoint #2 with alpha 2486.37 and beta 1355.56\n",
      "Opponent 1: Checkpoint #2 with alpha 2486.37 and beta 1355.56\n",
      "Opponent 2: SavedRLAgent: a3c_agent_v3 with alpha 244.90 and beta 153.60\n",
      "Opponent 3: Checkpoint #2 with alpha 2486.37 and beta 1355.56\n",
      "\n"
     ]
    },
    {
     "name": "stderr",
     "output_type": "stream",
     "text": [
      "\r",
      " 44%|████▍     | 31/70 [13:30<15:43, 24.19s/it]"
     ]
    },
    {
     "name": "stdout",
     "output_type": "stream",
     "text": [
      "Sampling opponents using Thompson sampling\n",
      "Opponent 0: Checkpoint #2 with alpha 2518.05 and beta 1323.79\n",
      "Opponent 1: Checkpoint #2 with alpha 2518.05 and beta 1323.79\n",
      "Opponent 2: Checkpoint #1 with alpha 4.79 and beta 7.36\n",
      "Opponent 3: Checkpoint #7 with alpha 1.00 and beta 1.00\n",
      "\n"
     ]
    },
    {
     "name": "stderr",
     "output_type": "stream",
     "text": [
      "\r",
      " 46%|████▌     | 32/70 [13:55<15:28, 24.42s/it]"
     ]
    },
    {
     "name": "stdout",
     "output_type": "stream",
     "text": [
      "Sampling opponents using Thompson sampling\n",
      "Opponent 0: Checkpoint #1 with alpha 57.55 and beta 18.00\n",
      "Opponent 1: Checkpoint #1 with alpha 57.55 and beta 18.00\n",
      "Opponent 2: Checkpoint #1 with alpha 57.55 and beta 18.00\n",
      "Opponent 3: Checkpoint #1 with alpha 57.55 and beta 18.00\n",
      "\n"
     ]
    },
    {
     "name": "stderr",
     "output_type": "stream",
     "text": [
      "\r",
      " 47%|████▋     | 33/70 [14:20<15:10, 24.60s/it]"
     ]
    },
    {
     "name": "stdout",
     "output_type": "stream",
     "text": [
      "Sampling opponents using Thompson sampling\n",
      "Opponent 0: Checkpoint #1 with alpha 243.68 and beta 84.10\n",
      "Opponent 1: Checkpoint #1 with alpha 243.68 and beta 84.10\n",
      "Opponent 2: Checkpoint #1 with alpha 243.68 and beta 84.10\n",
      "Opponent 3: Checkpoint #1 with alpha 243.68 and beta 84.10\n",
      "\n"
     ]
    },
    {
     "name": "stderr",
     "output_type": "stream",
     "text": [
      "\r",
      " 49%|████▊     | 34/70 [14:45<14:49, 24.72s/it]"
     ]
    },
    {
     "name": "stdout",
     "output_type": "stream",
     "text": [
      "Sampling opponents using Thompson sampling\n",
      "Opponent 0: Checkpoint #1 with alpha 381.49 and beta 185.89\n",
      "Opponent 1: Checkpoint #1 with alpha 381.49 and beta 185.89\n",
      "Opponent 2: SavedRLAgent: a3c_agent_v3 with alpha 242.77 and beta 136.68\n",
      "Opponent 3: Checkpoint #1 with alpha 381.49 and beta 185.89\n",
      "\n"
     ]
    },
    {
     "name": "stderr",
     "output_type": "stream",
     "text": [
      "\r",
      " 50%|█████     | 35/70 [15:09<14:18, 24.52s/it]"
     ]
    },
    {
     "name": "stdout",
     "output_type": "stream",
     "text": [
      "Sampling opponents using Thompson sampling\n",
      "Opponent 0: Checkpoint #2 with alpha 2136.28 and beta 1102.67\n",
      "Opponent 1: Checkpoint #7 with alpha 35.58 and beta 21.01\n",
      "Opponent 2: Checkpoint #7 with alpha 35.58 and beta 21.01\n",
      "Opponent 3: Checkpoint #7 with alpha 35.58 and beta 21.01\n",
      "\n"
     ]
    },
    {
     "name": "stderr",
     "output_type": "stream",
     "text": [
      "\r",
      " 51%|█████▏    | 36/70 [15:34<13:59, 24.69s/it]"
     ]
    },
    {
     "name": "stdout",
     "output_type": "stream",
     "text": [
      "Sampling opponents using Thompson sampling\n",
      "Opponent 0: Checkpoint #2 with alpha 2065.96 and beta 1075.03\n",
      "Opponent 1: Checkpoint #1 with alpha 446.42 and beta 248.04\n",
      "Opponent 2: Checkpoint #2 with alpha 2065.96 and beta 1075.03\n",
      "Opponent 3: Checkpoint #2 with alpha 2065.96 and beta 1075.03\n",
      "\n"
     ]
    },
    {
     "name": "stderr",
     "output_type": "stream",
     "text": [
      "\r",
      " 53%|█████▎    | 37/70 [15:59<13:37, 24.79s/it]"
     ]
    },
    {
     "name": "stdout",
     "output_type": "stream",
     "text": [
      "Sampling opponents using Thompson sampling\n",
      "Opponent 0: SavedRLAgent: a3c_agent_v3 with alpha 244.70 and beta 138.39\n",
      "Opponent 1: Checkpoint #2 with alpha 2060.67 and beta 1115.28\n",
      "Opponent 2: SavedRLAgent: a3c_agent_v3 with alpha 244.70 and beta 138.39\n",
      "Opponent 3: Checkpoint #2 with alpha 2060.67 and beta 1115.28\n",
      "\n"
     ]
    },
    {
     "name": "stderr",
     "output_type": "stream",
     "text": [
      "\r",
      " 54%|█████▍    | 38/70 [16:22<12:57, 24.30s/it]"
     ]
    },
    {
     "name": "stdout",
     "output_type": "stream",
     "text": [
      "Sampling opponents using Thompson sampling\n",
      "Opponent 0: Checkpoint #2 with alpha 2032.13 and beta 1113.02\n",
      "Opponent 1: Checkpoint #2 with alpha 2032.13 and beta 1113.02\n",
      "Opponent 2: SavedRLAgent: a3c_agent_v3 with alpha 313.96 and beta 177.97\n",
      "Opponent 3: Checkpoint #0 with alpha 29.33 and beta 26.99\n",
      "\n"
     ]
    },
    {
     "name": "stderr",
     "output_type": "stream",
     "text": [
      "\r",
      " 56%|█████▌    | 39/70 [16:47<12:30, 24.22s/it]"
     ]
    },
    {
     "name": "stdout",
     "output_type": "stream",
     "text": [
      "Sampling opponents using Thompson sampling\n",
      "Opponent 0: Checkpoint #2 with alpha 2007.03 and beta 1108.87\n",
      "Opponent 1: SavedRLAgent: a3c_agent_v3 with alpha 339.76 and beta 191.58\n",
      "Opponent 2: Checkpoint #2 with alpha 2007.03 and beta 1108.87\n",
      "Opponent 3: SavedRLAgent: a3c_agent_v3 with alpha 339.76 and beta 191.58\n",
      "\n"
     ]
    },
    {
     "name": "stderr",
     "output_type": "stream",
     "text": [
      "\r",
      " 57%|█████▋    | 40/70 [17:10<11:57, 23.92s/it]"
     ]
    },
    {
     "name": "stdout",
     "output_type": "stream",
     "text": [
      "Sampling opponents using Thompson sampling\n",
      "Opponent 0: Checkpoint #1 with alpha 389.76 and beta 230.75\n",
      "Opponent 1: Checkpoint #2 with alpha 1986.17 and beta 1101.92\n",
      "Opponent 2: SavedRLAgent: a3c_agent_v1 with alpha 60.59 and beta 42.59\n",
      "Opponent 3: Checkpoint #2 with alpha 1986.17 and beta 1101.92\n",
      "\n"
     ]
    },
    {
     "name": "stderr",
     "output_type": "stream",
     "text": [
      "\r",
      " 59%|█████▊    | 41/70 [17:34<11:33, 23.90s/it]"
     ]
    },
    {
     "name": "stdout",
     "output_type": "stream",
     "text": [
      "Sampling opponents using Thompson sampling\n",
      "Opponent 0: Checkpoint #2 with alpha 1960.37 and beta 1101.33\n",
      "Opponent 1: Checkpoint #2 with alpha 1960.37 and beta 1101.33\n",
      "Opponent 2: Checkpoint #2 with alpha 1960.37 and beta 1101.33\n",
      "Opponent 3: Checkpoint #2 with alpha 1960.37 and beta 1101.33\n",
      "\n"
     ]
    },
    {
     "name": "stderr",
     "output_type": "stream",
     "text": [
      "\r",
      " 60%|██████    | 42/70 [17:59<11:20, 24.31s/it]"
     ]
    },
    {
     "name": "stdout",
     "output_type": "stream",
     "text": [
      "Sampling opponents using Thompson sampling\n",
      "Opponent 0: Checkpoint #8 with alpha 1.00 and beta 1.00\n",
      "Opponent 1: Checkpoint #8 with alpha 1.00 and beta 1.00\n",
      "Opponent 2: SavedRLAgent: a3c_agent_v3 with alpha 362.15 and beta 208.93\n",
      "Opponent 3: SavedRLAgent: a3c_agent_v3 with alpha 362.15 and beta 208.93\n",
      "\n"
     ]
    },
    {
     "name": "stderr",
     "output_type": "stream",
     "text": [
      "\r",
      " 61%|██████▏   | 43/70 [18:22<10:50, 24.08s/it]"
     ]
    },
    {
     "name": "stdout",
     "output_type": "stream",
     "text": [
      "Sampling opponents using Thompson sampling\n",
      "Opponent 0: Checkpoint #2 with alpha 1914.58 and beta 1091.80\n",
      "Opponent 1: Checkpoint #2 with alpha 1914.58 and beta 1091.80\n",
      "Opponent 2: Checkpoint #2 with alpha 1914.58 and beta 1091.80\n",
      "Opponent 3: SavedRLAgent: a3c_agent_v3 with alpha 423.54 and beta 246.98\n",
      "\n"
     ]
    },
    {
     "name": "stderr",
     "output_type": "stream",
     "text": [
      "\r",
      " 63%|██████▎   | 44/70 [18:47<10:28, 24.19s/it]"
     ]
    },
    {
     "name": "stdout",
     "output_type": "stream",
     "text": [
      "Sampling opponents using Thompson sampling\n",
      "Opponent 0: Checkpoint #2 with alpha 1923.85 and beta 1124.21\n",
      "Opponent 1: Checkpoint #6 with alpha 32.84 and beta 29.93\n",
      "Opponent 2: SavedRLAgent: a3c_agent_v3 with alpha 442.87 and beta 258.13\n",
      "Opponent 3: SavedRLAgent: a3c_agent_v3 with alpha 442.87 and beta 258.13\n",
      "\n"
     ]
    },
    {
     "name": "stderr",
     "output_type": "stream",
     "text": [
      "\r",
      " 64%|██████▍   | 45/70 [19:10<09:57, 23.91s/it]"
     ]
    },
    {
     "name": "stdout",
     "output_type": "stream",
     "text": [
      "Sampling opponents using Thompson sampling\n",
      "Opponent 0: Checkpoint #2 with alpha 1856.66 and beta 1103.00\n",
      "Opponent 1: Checkpoint #1 with alpha 326.84 and beta 205.43\n",
      "Opponent 2: Checkpoint #2 with alpha 1856.66 and beta 1103.00\n",
      "Opponent 3: SavedRLAgent: a3c_agent_v3 with alpha 499.72 and beta 294.22\n",
      "\n"
     ]
    },
    {
     "name": "stderr",
     "output_type": "stream",
     "text": [
      "\r",
      " 66%|██████▌   | 46/70 [19:34<09:34, 23.94s/it]"
     ]
    },
    {
     "name": "stdout",
     "output_type": "stream",
     "text": [
      "Sampling opponents using Thompson sampling\n",
      "Opponent 0: Checkpoint #8 with alpha 64.73 and beta 46.73\n",
      "Opponent 1: Checkpoint #8 with alpha 64.73 and beta 46.73\n",
      "Opponent 2: Checkpoint #5 with alpha 10.49 and beta 12.24\n",
      "Opponent 3: Checkpoint #2 with alpha 1827.83 and beta 1111.85\n",
      "\n"
     ]
    },
    {
     "name": "stderr",
     "output_type": "stream",
     "text": [
      "\r",
      " 67%|██████▋   | 47/70 [19:59<09:17, 24.25s/it]"
     ]
    },
    {
     "name": "stdout",
     "output_type": "stream",
     "text": [
      "Sampling opponents using Thompson sampling\n",
      "Opponent 0: SavedRLAgent: a3c_agent_v3 with alpha 486.15 and beta 291.19\n",
      "Opponent 1: SavedRLAgent: a3c_agent_v3 with alpha 486.15 and beta 291.19\n",
      "Opponent 2: SavedRLAgent: a3c_agent_v3 with alpha 486.15 and beta 291.19\n",
      "Opponent 3: Checkpoint #2 with alpha 1779.43 and beta 1077.26\n",
      "\n"
     ]
    },
    {
     "name": "stderr",
     "output_type": "stream",
     "text": [
      "\r",
      " 69%|██████▊   | 48/70 [20:21<08:40, 23.64s/it]"
     ]
    },
    {
     "name": "stdout",
     "output_type": "stream",
     "text": [
      "Sampling opponents using Thompson sampling\n",
      "Opponent 0: Checkpoint #0 with alpha 39.30 and beta 34.75\n",
      "Opponent 1: SavedRLAgent: a3c_agent_v3 with alpha 579.84 and beta 350.63\n",
      "Opponent 2: SavedRLAgent: a3c_agent_v3 with alpha 579.84 and beta 350.63\n",
      "Opponent 3: SavedRLAgent: a3c_agent_v1 with alpha 64.29 and beta 48.85\n",
      "\n"
     ]
    },
    {
     "name": "stderr",
     "output_type": "stream",
     "text": [
      "\r",
      " 70%|███████   | 49/70 [20:43<08:05, 23.10s/it]"
     ]
    },
    {
     "name": "stdout",
     "output_type": "stream",
     "text": [
      "Sampling opponents using Thompson sampling\n",
      "Opponent 0: Checkpoint #2 with alpha 1640.61 and beta 998.35\n",
      "Opponent 1: Checkpoint #2 with alpha 1640.61 and beta 998.35\n",
      "Opponent 2: Checkpoint #2 with alpha 1640.61 and beta 998.35\n",
      "Opponent 3: Checkpoint #2 with alpha 1640.61 and beta 998.35\n",
      "\n"
     ]
    },
    {
     "name": "stderr",
     "output_type": "stream",
     "text": [
      "\r",
      " 71%|███████▏  | 50/70 [21:08<07:53, 23.67s/it]"
     ]
    },
    {
     "name": "stdout",
     "output_type": "stream",
     "text": [
      "Sampling opponents using Thompson sampling\n",
      "Opponent 0: SavedRLAgent: a3c_agent_v3 with alpha 583.16 and beta 378.19\n",
      "Opponent 1: Checkpoint #2 with alpha 1689.58 and beta 1073.43\n",
      "Opponent 2: Checkpoint #2 with alpha 1689.58 and beta 1073.43\n",
      "Opponent 3: Checkpoint #6 with alpha 50.06 and beta 45.60\n",
      "\n"
     ]
    },
    {
     "name": "stderr",
     "output_type": "stream",
     "text": [
      "\r",
      " 73%|███████▎  | 51/70 [21:32<07:32, 23.84s/it]"
     ]
    },
    {
     "name": "stdout",
     "output_type": "stream",
     "text": [
      "Sampling opponents using Thompson sampling\n",
      "Opponent 0: Checkpoint #1 with alpha 258.06 and beta 182.74\n",
      "Opponent 1: SavedRLAgent: a3c_agent_v3 with alpha 596.00 and beta 381.28\n",
      "Opponent 2: Checkpoint #9 with alpha 1.00 and beta 1.00\n",
      "Opponent 3: SavedRLAgent: a3c_agent_v3 with alpha 596.00 and beta 381.28\n",
      "\n"
     ]
    },
    {
     "name": "stderr",
     "output_type": "stream",
     "text": [
      "\r",
      " 74%|███████▍  | 52/70 [21:56<07:06, 23.71s/it]"
     ]
    },
    {
     "name": "stdout",
     "output_type": "stream",
     "text": [
      "Sampling opponents using Thompson sampling\n",
      "Opponent 0: Checkpoint #2 with alpha 1582.80 and beta 1032.42\n",
      "Opponent 1: SavedRLAgent: a3c_agent_v3 with alpha 639.20 and beta 417.22\n",
      "Opponent 2: Checkpoint #9 with alpha 34.00 and beta 32.00\n",
      "Opponent 3: Checkpoint #9 with alpha 34.00 and beta 32.00\n",
      "\n"
     ]
    },
    {
     "name": "stderr",
     "output_type": "stream",
     "text": [
      "\r",
      " 76%|███████▌  | 53/70 [22:20<06:46, 23.90s/it]"
     ]
    },
    {
     "name": "stdout",
     "output_type": "stream",
     "text": [
      "Sampling opponents using Thompson sampling\n",
      "Opponent 0: SavedRLAgent: a3c_agent_v3 with alpha 641.74 and beta 425.86\n",
      "Opponent 1: Checkpoint #2 with alpha 1535.66 and beta 1012.80\n",
      "Opponent 2: SavedRLAgent: a3c_agent_v3 with alpha 641.74 and beta 425.86\n",
      "Opponent 3: Checkpoint #2 with alpha 1535.66 and beta 1012.80\n",
      "\n"
     ]
    },
    {
     "name": "stderr",
     "output_type": "stream",
     "text": [
      "\r",
      " 77%|███████▋  | 54/70 [22:44<06:20, 23.79s/it]"
     ]
    },
    {
     "name": "stdout",
     "output_type": "stream",
     "text": [
      "Sampling opponents using Thompson sampling\n",
      "Opponent 0: SavedRLAgent: a3c_agent_v3 with alpha 687.65 and beta 454.56\n",
      "Opponent 1: Checkpoint #2 with alpha 1525.88 and beta 1023.16\n",
      "Opponent 2: SavedRLAgent: a3c_agent_v3 with alpha 687.65 and beta 454.56\n",
      "Opponent 3: SavedRLAgent: a3c_agent_v3 with alpha 687.65 and beta 454.56\n",
      "\n"
     ]
    },
    {
     "name": "stderr",
     "output_type": "stream",
     "text": [
      "\r",
      " 79%|███████▊  | 55/70 [23:06<05:50, 23.34s/it]"
     ]
    },
    {
     "name": "stdout",
     "output_type": "stream",
     "text": [
      "Sampling opponents using Thompson sampling\n",
      "Opponent 0: SavedRLAgent: a3c_agent_v3 with alpha 770.27 and beta 506.84\n",
      "Opponent 1: SavedRLAgent: a3c_agent_v3 with alpha 770.27 and beta 506.84\n",
      "Opponent 2: Checkpoint #2 with alpha 1483.58 and beta 1002.00\n",
      "Opponent 3: SavedRLAgent: a3c_agent_v3 with alpha 770.27 and beta 506.84\n",
      "\n"
     ]
    },
    {
     "name": "stderr",
     "output_type": "stream",
     "text": [
      "\r",
      " 80%|████████  | 56/70 [23:30<05:31, 23.66s/it]"
     ]
    },
    {
     "name": "stdout",
     "output_type": "stream",
     "text": [
      "Sampling opponents using Thompson sampling\n",
      "Opponent 0: Checkpoint #2 with alpha 1438.40 and beta 986.90\n",
      "Opponent 1: SavedRLAgent: a3c_agent_v3 with alpha 849.76 and beta 555.49\n",
      "Opponent 2: Checkpoint #9 with alpha 90.28 and beta 73.22\n",
      "Opponent 3: Checkpoint #8 with alpha 81.30 and beta 66.11\n",
      "\n"
     ]
    },
    {
     "name": "stderr",
     "output_type": "stream",
     "text": [
      "\r",
      " 81%|████████▏ | 57/70 [23:57<05:17, 24.45s/it]"
     ]
    },
    {
     "name": "stdout",
     "output_type": "stream",
     "text": [
      "Sampling opponents using Thompson sampling\n",
      "Opponent 0: Checkpoint #2 with alpha 1395.48 and beta 972.56\n",
      "Opponent 1: PullVegasSlotMachines with alpha 7.17 and beta 8.87\n",
      "Opponent 2: SavedRLAgent: a3c_agent_v3 with alpha 850.77 and beta 548.22\n",
      "Opponent 3: SavedRLAgent: a3c_agent_v3 with alpha 850.77 and beta 548.22\n",
      "\n"
     ]
    },
    {
     "name": "stderr",
     "output_type": "stream",
     "text": [
      "\r",
      " 83%|████████▎ | 58/70 [24:19<04:46, 23.91s/it]"
     ]
    },
    {
     "name": "stdout",
     "output_type": "stream",
     "text": [
      "Sampling opponents using Thompson sampling\n",
      "Opponent 0: SavedRLAgent: a3c_agent_v3 with alpha 897.23 and beta 559.81\n",
      "Opponent 1: SavedRLAgent: a3c_agent_v3 with alpha 897.23 and beta 559.81\n",
      "Opponent 2: SavedRLAgent: a3c_agent_v3 with alpha 897.23 and beta 559.81\n",
      "Opponent 3: SavedRLAgent: a3c_agent_v3 with alpha 897.23 and beta 559.81\n",
      "\n"
     ]
    },
    {
     "name": "stderr",
     "output_type": "stream",
     "text": [
      "\r",
      " 84%|████████▍ | 59/70 [24:43<04:21, 23.78s/it]"
     ]
    },
    {
     "name": "stdout",
     "output_type": "stream",
     "text": [
      "Sampling opponents using Thompson sampling\n",
      "Opponent 0: SavedRLAgent: a3c_agent_v3 with alpha 1027.37 and beta 612.82\n",
      "Opponent 1: SavedRLAgent: a3c_agent_v3 with alpha 1027.37 and beta 612.82\n",
      "Opponent 2: SavedRLAgent: a3c_agent_v3 with alpha 1027.37 and beta 612.82\n",
      "Opponent 3: SavedRLAgent: a3c_agent_v3 with alpha 1027.37 and beta 612.82\n",
      "\n"
     ]
    },
    {
     "name": "stderr",
     "output_type": "stream",
     "text": [
      "\r",
      " 86%|████████▌ | 60/70 [25:07<03:57, 23.77s/it]"
     ]
    },
    {
     "name": "stdout",
     "output_type": "stream",
     "text": [
      "Sampling opponents using Thompson sampling\n",
      "Opponent 0: SavedRLAgent: a3c_agent_v3 with alpha 1142.00 and beta 672.18\n",
      "Opponent 1: SavedRLAgent: a3c_agent_v3 with alpha 1142.00 and beta 672.18\n",
      "Opponent 2: SavedRLAgent: a3c_agent_v3 with alpha 1142.00 and beta 672.18\n",
      "Opponent 3: SavedRLAgent: a3c_agent_v3 with alpha 1142.00 and beta 672.18\n",
      "\n"
     ]
    },
    {
     "name": "stderr",
     "output_type": "stream",
     "text": [
      "\r",
      " 87%|████████▋ | 61/70 [25:30<03:32, 23.58s/it]"
     ]
    },
    {
     "name": "stdout",
     "output_type": "stream",
     "text": [
      "Sampling opponents using Thompson sampling\n",
      "Opponent 0: SavedRLAgent: a3c_agent_v3 with alpha 1264.90 and beta 714.57\n",
      "Opponent 1: SavedRLAgent: a3c_agent_v3 with alpha 1264.90 and beta 714.57\n",
      "Opponent 2: SavedRLAgent: a3c_agent_v3 with alpha 1264.90 and beta 714.57\n",
      "Opponent 3: SavedRLAgent: a3c_agent_v3 with alpha 1264.90 and beta 714.57\n",
      "\n"
     ]
    },
    {
     "name": "stderr",
     "output_type": "stream",
     "text": [
      "\r",
      " 89%|████████▊ | 62/70 [25:53<03:07, 23.46s/it]"
     ]
    },
    {
     "name": "stdout",
     "output_type": "stream",
     "text": [
      "Sampling opponents using Thompson sampling\n",
      "Opponent 0: Checkpoint #10 with alpha 1.00 and beta 1.00\n",
      "Opponent 1: Checkpoint #10 with alpha 1.00 and beta 1.00\n",
      "Opponent 2: SavedRLAgent: a3c_agent_v3 with alpha 1360.66 and beta 775.84\n",
      "Opponent 3: SavedRLAgent: a3c_agent_v3 with alpha 1360.66 and beta 775.84\n",
      "\n"
     ]
    },
    {
     "name": "stderr",
     "output_type": "stream",
     "text": [
      "\r",
      " 90%|█████████ | 63/70 [26:18<02:46, 23.83s/it]"
     ]
    },
    {
     "name": "stdout",
     "output_type": "stream",
     "text": [
      "Sampling opponents using Thompson sampling\n",
      "Opponent 0: SavedRLAgent: a3c_agent_v3 with alpha 1369.62 and beta 788.05\n",
      "Opponent 1: SavedRLAgent: a3c_agent_v3 with alpha 1369.62 and beta 788.05\n",
      "Opponent 2: SavedRLAgent: a3c_agent_v3 with alpha 1369.62 and beta 788.05\n",
      "Opponent 3: SavedRLAgent: a3c_agent_v3 with alpha 1369.62 and beta 788.05\n",
      "\n"
     ]
    },
    {
     "name": "stderr",
     "output_type": "stream",
     "text": [
      "\r",
      " 91%|█████████▏| 64/70 [26:41<02:21, 23.62s/it]"
     ]
    },
    {
     "name": "stdout",
     "output_type": "stream",
     "text": [
      "Sampling opponents using Thompson sampling\n",
      "Opponent 0: SavedRLAgent: a3c_agent_v3 with alpha 1459.64 and beta 846.15\n",
      "Opponent 1: SavedRLAgent: a3c_agent_v3 with alpha 1459.64 and beta 846.15\n",
      "Opponent 2: SavedRLAgent: a3c_agent_v3 with alpha 1459.64 and beta 846.15\n",
      "Opponent 3: SavedRLAgent: a3c_agent_v3 with alpha 1459.64 and beta 846.15\n",
      "\n"
     ]
    },
    {
     "name": "stderr",
     "output_type": "stream",
     "text": [
      "\r",
      " 93%|█████████▎| 65/70 [27:04<01:56, 23.39s/it]"
     ]
    },
    {
     "name": "stdout",
     "output_type": "stream",
     "text": [
      "Sampling opponents using Thompson sampling\n",
      "Opponent 0: SavedRLAgent: a3c_agent_v3 with alpha 1530.16 and beta 916.34\n",
      "Opponent 1: Checkpoint #6 with alpha 36.60 and beta 38.93\n",
      "Opponent 2: SavedRLAgent: a3c_agent_v3 with alpha 1530.16 and beta 916.34\n",
      "Opponent 3: SavedRLAgent: a3c_agent_v3 with alpha 1530.16 and beta 916.34\n",
      "\n"
     ]
    },
    {
     "name": "stderr",
     "output_type": "stream",
     "text": [
      "\r",
      " 94%|█████████▍| 66/70 [27:28<01:34, 23.62s/it]"
     ]
    },
    {
     "name": "stdout",
     "output_type": "stream",
     "text": [
      "Sampling opponents using Thompson sampling\n",
      "Opponent 0: Checkpoint #2 with alpha 906.04 and beta 628.88\n",
      "Opponent 1: Checkpoint #6 with alpha 80.27 and beta 55.48\n",
      "Opponent 2: SavedRLAgent: a3c_agent_v3 with alpha 1570.15 and beta 946.02\n",
      "Opponent 3: SavedRLAgent: a3c_agent_v3 with alpha 1570.15 and beta 946.02\n",
      "\n"
     ]
    },
    {
     "name": "stderr",
     "output_type": "stream",
     "text": [
      "\r",
      " 96%|█████████▌| 67/70 [27:52<01:11, 23.87s/it]"
     ]
    },
    {
     "name": "stdout",
     "output_type": "stream",
     "text": [
      "Sampling opponents using Thompson sampling\n",
      "Opponent 0: SavedRLAgent: a3c_agent_v3 with alpha 1574.14 and beta 944.22\n",
      "Opponent 1: PullVegasSlotMachines with alpha 25.09 and beta 24.85\n",
      "Opponent 2: Checkpoint #6 with alpha 117.26 and beta 75.71\n",
      "Opponent 3: Checkpoint #6 with alpha 117.26 and beta 75.71\n",
      "\n"
     ]
    },
    {
     "name": "stderr",
     "output_type": "stream",
     "text": [
      "\r",
      " 97%|█████████▋| 68/70 [28:15<00:47, 23.68s/it]"
     ]
    },
    {
     "name": "stdout",
     "output_type": "stream",
     "text": [
      "Sampling opponents using Thompson sampling\n",
      "Opponent 0: Checkpoint #6 with alpha 225.40 and beta 85.92\n",
      "Opponent 1: PullVegasSlotMachines with alpha 70.84 and beta 40.60\n",
      "Opponent 2: Checkpoint #6 with alpha 225.40 and beta 85.92\n",
      "Opponent 3: Checkpoint #6 with alpha 225.40 and beta 85.92\n",
      "\n"
     ]
    },
    {
     "name": "stderr",
     "output_type": "stream",
     "text": [
      "\r",
      " 99%|█████████▊| 69/70 [28:39<00:23, 23.82s/it]"
     ]
    },
    {
     "name": "stdout",
     "output_type": "stream",
     "text": [
      "Sampling opponents using Thompson sampling\n",
      "Opponent 0: Checkpoint #6 with alpha 357.13 and beta 130.62\n",
      "Opponent 1: Checkpoint #6 with alpha 357.13 and beta 130.62\n",
      "Opponent 2: Checkpoint #6 with alpha 357.13 and beta 130.62\n",
      "Opponent 3: Checkpoint #6 with alpha 357.13 and beta 130.62\n",
      "\n"
     ]
    },
    {
     "name": "stderr",
     "output_type": "stream",
     "text": [
      "100%|██████████| 70/70 [29:06<00:00, 24.95s/it]\n"
     ]
    },
    {
     "data": {
      "image/png": "[encoded data removed]",
      "text/plain": [
       "<Figure size 460.8x403.2 with 1 Axes>"
      ]
     },
     "metadata": {},
     "output_type": "display_data"
    }
   ],
   "source": [
    "env_kwargs['n_envs'] = 256\n",
    "episode_reward_sums += a3c_alg.train(n_episodes=70, **rl_alg_kwargs, **env_kwargs)\n",
    "plt.plot(episode_reward_sums)\n",
    "plt.show();"
   ]
  },
  {
   "cell_type": "code",
   "execution_count": 15,
   "metadata": {},
   "outputs": [],
   "source": [
    "temp_model = a3c_alg.model_constructor()\n",
    "temp_model.load_state_dict(a3c_alg.checkpoints[6])\n",
    "temp_model.to(device=DEVICE)\n",
    "temp_model.eval();\n",
    "\n",
    "def model_wrapped(states):\n",
    "    return temp_model.sample_action(states.unsqueeze(0)).squeeze(0)\n",
    "    #return a3c_alg.model.sample_action(states.unsqueeze(0)).squeeze(0)"
   ]
  },
  {
   "cell_type": "code",
   "execution_count": 17,
   "metadata": {},
   "outputs": [
    {
     "name": "stdout",
     "output_type": "stream",
     "text": [
      "Opponent 9, ranked 1, has an estimated win % of 0.74.\n",
      "Checkpoint #6\n"
     ]
    },
    {
     "data": {
      "text/plain": [
       "array([0.67284261, 0.53693121, 0.63117072, 0.48258331, 0.56685992,\n",
       "       0.5884612 , 0.17225206, 0.19567818, 0.44356386, 0.73713847,\n",
       "       0.45085928, 0.52311438, 0.5255525 , 0.5       ])"
      ]
     },
     "execution_count": 17,
     "metadata": {},
     "output_type": "execute_result"
    }
   ],
   "source": [
    "#(a3c_alg.opp_a / (a3c_alg.opp_a + a3c_alg.opp_b)).argmax() - len(initial_opponent_pool)\n",
    "est_opp_skill = a3c_alg.opp_a / (a3c_alg.opp_a + a3c_alg.opp_b)\n",
    "ranking = np.argsort(-est_opp_skill)\n",
    "idx = 0\n",
    "print(f'Opponent {ranking[idx]}, ranked {idx+1}, has an estimated win % of {est_opp_skill[ranking[idx]]:.2f}.')\n",
    "print(f'Checkpoint #{ranking[idx] - len(a3c_alg.initial_opponent_pool)}')\n",
    "#np.argsort(-est_opp_skill)\n",
    "est_opp_skill"
   ]
  },
  {
   "cell_type": "markdown",
   "metadata": {},
   "source": [
    "## Benchmark the model against a previous RL agent, and various hand-crafted algorithms"
   ]
  },
  {
   "cell_type": "code",
   "execution_count": 142,
   "metadata": {},
   "outputs": [
    {
     "name": "stderr",
     "output_type": "stream",
     "text": [
      "100%|██████████| 1999/1999 [00:50<00:00, 39.85it/s]\n"
     ]
    },
    {
     "name": "stdout",
     "output_type": "stream",
     "text": [
      "new_model -vs- a3c_agent_v3\n",
      "Mean scores: 640.83 - 641.77\n",
      "Match score: 1930 - 55 - 2015\n"
     ]
    }
   ],
   "source": [
    "va.run_vectorized_vs(model_wrapped, va.SavedRLAgent('a3c_agent_v3'), 'new_model', 'a3c_agent_v3', n_envs=4000, out_device=DEVICE)"
   ]
  },
  {
   "cell_type": "code",
   "execution_count": 18,
   "metadata": {},
   "outputs": [
    {
     "name": "stderr",
     "output_type": "stream",
     "text": [
      "100%|██████████| 1999/1999 [00:33<00:00, 60.19it/s]\n"
     ]
    },
    {
     "name": "stdout",
     "output_type": "stream",
     "text": [
      "new_model -vs- new_model\n",
      "Mean scores: 639.05 - 640.11\n",
      "Match score: 481 - 10 - 509\n"
     ]
    },
    {
     "name": "stderr",
     "output_type": "stream",
     "text": [
      "100%|██████████| 1999/1999 [00:19<00:00, 100.29it/s]\n"
     ]
    },
    {
     "name": "stdout",
     "output_type": "stream",
     "text": [
      "new_model -vs- a3c_agent_v0\n",
      "Mean scores: 645.01 - 635.11\n",
      "Match score: 626 - 10 - 364\n"
     ]
    },
    {
     "name": "stderr",
     "output_type": "stream",
     "text": [
      "100%|██████████| 1999/1999 [00:21<00:00, 91.54it/s]\n"
     ]
    },
    {
     "name": "stdout",
     "output_type": "stream",
     "text": [
      "new_model -vs- a3c_agent_v1\n",
      "Mean scores: 635.92 - 640.96\n",
      "Match score: 407 - 8 - 585\n"
     ]
    },
    {
     "name": "stderr",
     "output_type": "stream",
     "text": [
      "100%|██████████| 1999/1999 [00:23<00:00, 85.91it/s]\n"
     ]
    },
    {
     "name": "stdout",
     "output_type": "stream",
     "text": [
      "new_model -vs- a3c_agent_v2\n",
      "Mean scores: 644.86 - 636.34\n",
      "Match score: 630 - 10 - 360\n"
     ]
    },
    {
     "name": "stderr",
     "output_type": "stream",
     "text": [
      "100%|██████████| 1999/1999 [00:23<00:00, 86.18it/s]\n"
     ]
    },
    {
     "name": "stdout",
     "output_type": "stream",
     "text": [
      "new_model -vs- a3c_agent_v3\n",
      "Mean scores: 631.40 - 646.90\n",
      "Match score: 273 - 15 - 712\n"
     ]
    },
    {
     "name": "stderr",
     "output_type": "stream",
     "text": [
      "100%|██████████| 1999/1999 [00:17<00:00, 113.85it/s]\n"
     ]
    },
    {
     "name": "stdout",
     "output_type": "stream",
     "text": [
      "new_model -vs- basic_thompson_sampling\n",
      "Mean scores: 640.49 - 623.76\n",
      "Match score: 707 - 18 - 275\n"
     ]
    },
    {
     "name": "stderr",
     "output_type": "stream",
     "text": [
      "100%|██████████| 1999/1999 [00:17<00:00, 113.74it/s]\n"
     ]
    },
    {
     "name": "stdout",
     "output_type": "stream",
     "text": [
      "new_model -vs- pull_vegas_slot_machines\n",
      "Mean scores: 634.81 - 637.97\n",
      "Match score: 453 - 18 - 529\n"
     ]
    }
   ],
   "source": [
    "model.eval()\n",
    "benchmark_env_kwargs = dict(\n",
    "    n_envs=1000,\n",
    "    out_device=DEVICE\n",
    ")\n",
    "\n",
    "## Against itself\n",
    "va.run_vectorized_vs(model_wrapped, model_wrapped, 'new_model', 'new_model', **benchmark_env_kwargs)\n",
    "\n",
    "## Previous best models\n",
    "va.run_vectorized_vs(model_wrapped, va.SavedRLAgent('a3c_agent_v0'), 'new_model', 'a3c_agent_v0', **benchmark_env_kwargs)\n",
    "va.run_vectorized_vs(model_wrapped, va.SavedRLAgent('a3c_agent_v1'), 'new_model', 'a3c_agent_v1', **benchmark_env_kwargs)\n",
    "va.run_vectorized_vs(model_wrapped, va.SavedRLAgent('a3c_agent_v2'), 'new_model', 'a3c_agent_v2', **benchmark_env_kwargs)\n",
    "va.run_vectorized_vs(model_wrapped, va.SavedRLAgent('a3c_agent_v3'), 'new_model', 'a3c_agent_v3', **benchmark_env_kwargs)\n",
    "# TODO: Add v4-162 as opponent\n",
    "\n",
    "## Always 0 agent\n",
    "#va.run_vectorized_vs(model_wrapped, va.AlwaysFirstAgent(), 'new_model', 'always_first', **benchmark_env_kwargs)\n",
    "\n",
    "## Random agent\n",
    "#va.run_vectorized_vs(model_wrapped, va.RandomAgent(), 'new_model', 'random_agent', **benchmark_env_kwargs)\n",
    "\n",
    "## Basic thompson sampling\n",
    "va.run_vectorized_vs(model_wrapped, va.BasicThompsonSampling(OBS_NORM), 'new_model', 'basic_thompson_sampling', **benchmark_env_kwargs)\n",
    "\n",
    "## Pull vegas slot machines\n",
    "va.run_vectorized_vs(model_wrapped, va.PullVegasSlotMachines(OBS_NORM), 'new_model', 'pull_vegas_slot_machines', **benchmark_env_kwargs)"
   ]
  },
  {
   "cell_type": "markdown",
   "metadata": {},
   "source": [
    "## Benchmark the model against the checkpointed version"
   ]
  },
  {
   "cell_type": "code",
   "execution_count": null,
   "metadata": {},
   "outputs": [],
   "source": [
    "model.eval()\n",
    "benchmark_env_kwargs = dict(\n",
    "    n_envs=1000,\n",
    "    out_device=DEVICE\n",
    ")\n",
    "\n",
    "checkpointed_model = GraphNNA3C(**graph_nn_kwargs)\n",
    "checkpointed_model.to(torch.device('cuda'))\n",
    "checkpointed_model.load_state_dict(model_sd_checkpoint)\n",
    "checkpointed_model.eval()\n",
    "\n",
    "def checkpointed_model_wrapped(states):\n",
    "    return checkpointed_model.sample_action(states.unsqueeze(0)).squeeze(0)\n",
    "\n",
    "va.run_vectorized_vs(model_wrapped, checkpointed_model_wrapped, 'new_model', 'checkpointed_model', **benchmark_env_kwargs)"
   ]
  },
  {
   "cell_type": "code",
   "execution_count": null,
   "metadata": {},
   "outputs": [],
   "source": [
    "temp_sd_checkpoint = model.state_dict()"
   ]
  },
  {
   "cell_type": "markdown",
   "metadata": {},
   "source": [
    "## Visualize model parameter distributions"
   ]
  },
  {
   "cell_type": "code",
   "execution_count": 17,
   "metadata": {
    "scrolled": true
   },
   "outputs": [
    {
     "data": {
      "image/png": "[encoded data removed]",
      "text/plain": [
       "<Figure size 720x2520 with 14 Axes>"
      ]
     },
     "metadata": {},
     "output_type": "display_data"
    }
   ],
   "source": [
    "full_layer_name = []\n",
    "layer_name = []\n",
    "component_name = []\n",
    "weight_or_bias = []\n",
    "param_val = []\n",
    "for key, val in model.state_dict().items():\n",
    "    if 'message_passing_mat' in key:\n",
    "        pass\n",
    "    else:\n",
    "        for v in val.cpu().numpy().ravel():\n",
    "            param_val.append(v)\n",
    "            full_layer_name.append(key)\n",
    "            key_split = key.split('.')\n",
    "            if len(key_split) == 3:\n",
    "                ln, pn, wob = key_split\n",
    "            elif len(key_split) >= 4:\n",
    "                ln = '.'.join(key_split[0:-2])\n",
    "                pn, wob = key_split[-2:]\n",
    "            else:\n",
    "                raise RuntimeError(f'Unrecognized layer key: {key}')\n",
    "            layer_name.append(ln)\n",
    "            component_name.append(pn)\n",
    "            weight_or_bias.append(wob)\n",
    "params_df = pd.DataFrame(dict(\n",
    "    full_layer_name = full_layer_name,\n",
    "    layer_name = layer_name,\n",
    "    component_name = component_name,\n",
    "    weight_or_bias = weight_or_bias,\n",
    "    param_val = param_val\n",
    "))\n",
    "\n",
    "sns.displot(\n",
    "    params_df, x='param_val', col='component_name', row='layer_name',\n",
    "    binwidth=0.1,\n",
    "    #height=3,\n",
    "    facet_kws=dict(margin_titles=True, sharex=False, sharey=False)\n",
    ");"
   ]
  },
  {
   "cell_type": "code",
   "execution_count": null,
   "metadata": {
    "scrolled": true
   },
   "outputs": [],
   "source": [
    "full_layer_name = []\n",
    "layer_name = []\n",
    "component_name = []\n",
    "weight_or_bias = []\n",
    "param_val = []\n",
    "for key, val in GraphNNA3C(**graph_nn_kwargs).state_dict().items():\n",
    "    if 'message_passing_mat' in key:\n",
    "        pass\n",
    "    else:\n",
    "        for v in val.cpu().numpy().ravel():\n",
    "            param_val.append(v)\n",
    "            full_layer_name.append(key)\n",
    "            key_split = key.split('.')\n",
    "            if len(key_split) == 3:\n",
    "                ln, pn, wob = key_split\n",
    "            elif len(key_split) >= 4:\n",
    "                ln = '.'.join(key_split[0:-2])\n",
    "                pn, wob = key_split[-2:]\n",
    "            else:\n",
    "                raise RuntimeError(f'Unrecognized layer key: {key}')\n",
    "            layer_name.append(ln)\n",
    "            component_name.append(pn)\n",
    "            weight_or_bias.append(wob)\n",
    "params_df = pd.DataFrame(dict(\n",
    "    full_layer_name = full_layer_name,\n",
    "    layer_name = layer_name,\n",
    "    component_name = component_name,\n",
    "    weight_or_bias = weight_or_bias,\n",
    "    param_val = param_val\n",
    "))\n",
    "\n",
    "sns.displot(\n",
    "    params_df, x='param_val', col='component_name', row='layer_name',\n",
    "    binwidth=0.1,\n",
    "    #height=3,\n",
    "    facet_kws=dict(margin_titles=True, sharex=False, sharey=False)\n",
    ");"
   ]
  },
  {
   "cell_type": "markdown",
   "metadata": {},
   "source": [
    "## Save the model state_dict as a serialized string"
   ]
  },
  {
   "cell_type": "code",
   "execution_count": 27,
   "metadata": {},
   "outputs": [],
   "source": [
    "model.to('cpu')\n",
    "state_dict_bytes = pickle.dumps({\n",
    "    'model_state_dict': model.state_dict(),\n",
    "    #'optimizer_state_dict': optimizer.state_dict()\n",
    "})\n",
    "serialized_string = base64.b64encode(state_dict_bytes)\n",
    "with open('rl_agents/ss_temp.txt', 'w') as f:\n",
    "    f.write(str(serialized_string))\n",
    "model.to(device=DEVICE);"
   ]
  },
  {
   "cell_type": "markdown",
   "metadata": {},
   "source": [
    "## Testing and debugging"
   ]
  },
  {
   "cell_type": "code",
   "execution_count": 19,
   "metadata": {},
   "outputs": [
    {
     "data": {
      "text/plain": [
       "torch.Size([1, 2, 100, 3])"
      ]
     },
     "execution_count": 19,
     "metadata": {},
     "output_type": "execute_result"
    }
   ],
   "source": [
    "s.shape"
   ]
  },
  {
   "cell_type": "code",
   "execution_count": 18,
   "metadata": {
    "scrolled": false
   },
   "outputs": [
    {
     "name": "stdout",
     "output_type": "stream",
     "text": [
      "\n",
      "[ -50.70728   343.18048  -360.98813  -184.58109   343.18048   343.18048\n",
      " -179.55315  -371.94223   343.18048  -101.76725  -289.71634   343.18048\n",
      "  343.18033  -101.76725  -101.7673    343.1806    343.18048   -55.70023\n",
      " -423.23956   343.18048   343.18048  -144.07784  -483.9645   -132.49835\n",
      "  343.18048  -284.71515  -214.44508   -36.317387  343.18033   343.1806\n",
      " -144.07787  -181.13568  -172.01115   330.54306  -392.00793   -42.726707\n",
      " -100.718575  343.18048  -232.7463   -184.58109  -182.04886   343.18048\n",
      " -209.41711  -139.44606  -169.4972    343.1806    343.18033  -309.7208\n",
      "  343.18048   330.54306  -137.13019  -130.38986   343.18048   343.18048\n",
      "  343.18048  -206.90314   343.18048   132.18704  -179.55313  -289.71637\n",
      " -141.76196   343.1806    343.18033  -222.74408   343.18048   343.18048\n",
      " -360.98813   343.18048   343.18048   343.18048  -174.52518  -166.98323\n",
      "  343.18048   -50.707306 -164.46925   -50.707294 -130.38986  -416.65625\n",
      " -164.46925   343.1806   -209.41711  -100.9217    343.18048  -182.04887\n",
      "  343.18048   343.18048   -50.707294  132.18704   343.18048  -141.76198\n",
      " -261.74228  -184.58109  -217.7429    330.54337  -222.74408  -127.94915\n",
      "  -36.317387  105.332886 -182.04887  -211.93109 ]\n",
      "0.06400467\n",
      "tensor([[0.3002, 0.0000, 0.7004, 0.3002, 0.0000, 0.0000, 0.4002, 0.6003, 0.0000,\n",
      "         0.3002, 0.6503, 0.0000, 0.0000, 0.3002, 0.3002, 0.0000, 0.0000, 0.4002,\n",
      "         0.7004, 0.0000, 0.0000, 0.2501, 0.2501, 0.5003, 0.0000, 0.7004, 0.6003,\n",
      "         0.1501, 0.0000, 0.0000, 0.2501, 0.1501, 0.5503, 0.0500, 0.1001, 0.2001,\n",
      "         0.2001, 0.0000, 0.4002, 0.3002, 0.0500, 0.0000, 0.7004, 0.3502, 0.6003,\n",
      "         0.0000, 0.0000, 0.4502, 0.0000, 0.0500, 0.4002, 0.5503, 0.0000, 0.0000,\n",
      "         0.0000, 0.7504, 0.0000, 0.1001, 0.4002, 0.6503, 0.3002, 0.0000, 0.0000,\n",
      "         0.5003, 0.0000, 0.0000, 0.7004, 0.0000, 0.0000, 0.0000, 0.5003, 0.6503,\n",
      "         0.0000, 0.3002, 0.7004, 0.3002, 0.5503, 0.3002, 0.7004, 0.0000, 0.7004,\n",
      "         0.5503, 0.0000, 0.0500, 0.0000, 0.0000, 0.3002, 0.1001, 0.0000, 0.3002,\n",
      "         0.2001, 0.3002, 0.5503, 0.0500, 0.5003, 0.1001, 0.1501, 0.3002, 0.0500,\n",
      "         0.6503],\n",
      "        [0.3002, 0.0000, 0.7004, 0.3002, 0.0000, 0.0000, 0.4002, 0.6003, 0.0000,\n",
      "         0.3002, 0.6503, 0.0000, 0.0000, 0.3002, 0.3002, 0.0000, 0.0000, 0.4002,\n",
      "         0.7004, 0.0000, 0.0000, 0.2501, 0.2501, 0.5003, 0.0000, 0.7004, 0.6003,\n",
      "         0.1501, 0.0000, 0.0000, 0.2501, 0.1501, 0.5503, 0.0500, 0.1001, 0.2001,\n",
      "         0.2001, 0.0000, 0.4002, 0.3002, 0.0500, 0.0000, 0.7004, 0.3502, 0.6003,\n",
      "         0.0000, 0.0000, 0.4502, 0.0000, 0.0500, 0.4002, 0.5503, 0.0000, 0.0000,\n",
      "         0.0000, 0.7504, 0.0000, 0.1001, 0.4002, 0.6503, 0.3002, 0.0000, 0.0000,\n",
      "         0.5003, 0.0000, 0.0000, 0.7004, 0.0000, 0.0000, 0.0000, 0.5003, 0.6503,\n",
      "         0.0000, 0.3002, 0.7004, 0.3002, 0.5503, 0.3002, 0.7004, 0.0000, 0.7004,\n",
      "         0.5503, 0.0000, 0.0500, 0.0000, 0.0000, 0.3002, 0.1001, 0.0000, 0.3002,\n",
      "         0.2001, 0.3002, 0.5503, 0.0500, 0.5003, 0.1001, 0.1501, 0.3002, 0.0500,\n",
      "         0.6503],\n",
      "        [0.2501, 0.0000, 0.3502, 0.1001, 0.0000, 0.0000, 0.2001, 0.2501, 0.0000,\n",
      "         0.2001, 0.3502, 0.0000, 0.0000, 0.2001, 0.2001, 0.0000, 0.0000, 0.3502,\n",
      "         0.3002, 0.0000, 0.0000, 0.1001, 0.0000, 0.3502, 0.0000, 0.4002, 0.3502,\n",
      "         0.1001, 0.0000, 0.0000, 0.1001, 0.0500, 0.3502, 0.0500, 0.0000, 0.1501,\n",
      "         0.1001, 0.0000, 0.1501, 0.1001, 0.0000, 0.0000, 0.4502, 0.2001, 0.4002,\n",
      "         0.0000, 0.0000, 0.1501, 0.0000, 0.0500, 0.2501, 0.4002, 0.0000, 0.0000,\n",
      "         0.0000, 0.5003, 0.0000, 0.1001, 0.2001, 0.3502, 0.1501, 0.0000, 0.0000,\n",
      "         0.2501, 0.0000, 0.0000, 0.3502, 0.0000, 0.0000, 0.0000, 0.3002, 0.4502,\n",
      "         0.0000, 0.2501, 0.5003, 0.2501, 0.4002, 0.0500, 0.5003, 0.0000, 0.4502,\n",
      "         0.4502, 0.0000, 0.0000, 0.0000, 0.0000, 0.2501, 0.1001, 0.0000, 0.1501,\n",
      "         0.0500, 0.1001, 0.3002, 0.0500, 0.2501, 0.0500, 0.1001, 0.3002, 0.0000,\n",
      "         0.4002]], device='cuda:0')\n",
      "-0.5939897048553506 -0.7199463838814203\n"
     ]
    }
   ],
   "source": [
    "from scipy.stats import spearmanr, pearsonr\n",
    "\n",
    "test_env = KaggleMABEnvTorchVectorized(n_players=2, decay_rate=0.97)\n",
    "with torch.no_grad():\n",
    "    test_env.reset()\n",
    "    # Take n good actions\n",
    "    for i in range(500):\n",
    "        actions = test_env.thresholds.argmax(axis=-1)[:, None]\n",
    "        s, _, _, _ = test_env.step(actions.repeat(1, test_env.n_players))\n",
    "    logits, values = model(s[0,0].to(device=DEVICE)[None, None, :])\n",
    "    logits = logits.cpu().numpy().squeeze()\n",
    "    values = values.cpu().numpy().squeeze()\n",
    "print()\n",
    "print(logits)\n",
    "print(values)\n",
    "print(s[:,0].squeeze().t())\n",
    "print(spearmanr(logits, test_env.thresholds.squeeze().cpu().numpy())[0],\n",
    "      pearsonr(logits, test_env.thresholds.squeeze().cpu().numpy())[0])"
   ]
  },
  {
   "cell_type": "code",
   "execution_count": null,
   "metadata": {},
   "outputs": [],
   "source": [
    "child_layer_idx = -1\n",
    "child_layer = list(model.children())[child_layer_idx]\n",
    "print(child_layer.transform_features.weight.data, child_layer.transform_features.bias.data)\n",
    "print(child_layer.recombine_features.weight.data, child_layer.recombine_features.bias.data)\n",
    "print(model)\n",
    "print(child_layer)"
   ]
  },
  {
   "cell_type": "code",
   "execution_count": null,
   "metadata": {
    "scrolled": false
   },
   "outputs": [],
   "source": [
    "test_env = KaggleMABEnvTorchVectorized(n_envs=3, n_players=2, decay_rate=0.97, env_device=torch.device('cpu'), out_device=DEVICE)\n",
    "test_env.reset()\n",
    "actions = torch.arange(6).view(3,2)\n",
    "test_env.step(actions)\n",
    "test_env.step(actions)\n",
    "actions = torch.arange(1,7).view(3,2)\n",
    "test_env.step(actions)\n",
    "test_env.step(actions)\n",
    "test_env.step(actions)\n",
    "\n",
    "test = test_env.player_n_pulls.unsqueeze(3).expand(-1,-1,-1,2).transpose(1,3)\n",
    "test = torch.cat([\n",
    "    test[:,0,:,:].unsqueeze(1),\n",
    "    test[:,0,:,[1,0]].unsqueeze(1)\n",
    "], dim=1)\n",
    "test[0,0]\n",
    "test_env.player_rewards_sums"
   ]
  },
  {
   "cell_type": "code",
   "execution_count": null,
   "metadata": {},
   "outputs": [],
   "source": [
    "# Simulated env rollouts with random policy\n",
    "test_env = KaggleMABEnvTorchVectorized(n_envs=1000, n_players=2, decay_rate=0.97, env_device=torch.device('cuda'), out_device=torch.device('cuda'))\n",
    "\n",
    "for i in tqdm.trange(test_env.n_steps):\n",
    "    actions = torch.randint(test_env.n_bandits, size=(test_env.n_envs, test_env.n_players))\n",
    "    test_env.step(actions)\n",
    "print(f'Mean of player rewards: {test_env.player_rewards_sums.sum(axis=-1).mean():.2f}, Standard deviation of player rewards: {test_env.player_rewards_sums.sum(axis=-1).std():.2f}')"
   ]
  },
  {
   "cell_type": "code",
   "execution_count": null,
   "metadata": {},
   "outputs": [],
   "source": [
    "# Simulated env rollouts with omniscient optimal policy\n",
    "test_env = KaggleMABEnvTorchVectorized(n_envs=1000, n_players=2, decay_rate=0.97, env_device=torch.device('cuda'), out_device=torch.device('cpu'))\n",
    "\n",
    "for i in tqdm.trange(test_env.n_steps):\n",
    "    actions = test_env.thresholds.argmax(axis=-1)[:, None]\n",
    "    test_env.step(actions.repeat(1, test_env.n_players))\n",
    "print(f'Mean of player rewards: {test_env.player_rewards_sums.sum(axis=-1).mean():.2f}, Standard deviation of player rewards: {test_env.player_rewards_sums.sum(axis=-1).std():.2f}')"
   ]
  },
  {
   "cell_type": "code",
   "execution_count": null,
   "metadata": {},
   "outputs": [],
   "source": []
  },
  {
   "cell_type": "code",
   "execution_count": null,
   "metadata": {},
   "outputs": [],
   "source": [
    "n_nodes = 10\n",
    "activation_func = nn.ReLU()\n",
    "layer_size = 64\n",
    "layers = (\n",
    "    [FullyConnectedGNNLayer(n_nodes, 1, layer_size, activation_func=activation_func)] +\n",
    "    [FullyConnectedGNNLayer(n_nodes, layer_size, layer_size, activation_func=activation_func)] * 0 +\n",
    "    [FullyConnectedGNNLayer(n_nodes, layer_size, 1, activation_func=activation_func)]\n",
    ")\n",
    "model = nn.Sequential(\n",
    "    *layers\n",
    ")\n",
    "#model = FullyConnectedGNNLayer(n_nodes, 1, 1, activation_func=nn.Identity())\n",
    "model.train()\n",
    "model.to('cuda')\n",
    "loss_func = nn.CrossEntropyLoss()\n",
    "optimizer = torch.optim.SGD(model.parameters(), lr=0.0002)\n",
    "#optimizer = torch.optim.Adam(model.parameters(), lr=0.0001)\n",
    "\n",
    "for i in tqdm.trange(10):\n",
    "    train_batch_in = torch.rand((250, n_nodes, 1), dtype=torch.float).to('cuda')\n",
    "    k = 2\n",
    "    labels = torch.topk(train_batch_in, k=k, dim=1).indices[:,k-1]\n",
    "    \n",
    "    optimizer.zero_grad()\n",
    "    outputs = model(train_batch_in)\n",
    "    loss = loss_func(outputs, labels)\n",
    "    loss.backward()\n",
    "    optimizer.step()\n",
    "    \n",
    "    accuracy = (F.softmax(outputs, dim=1).argmax(dim=1) == labels).float().mean()\n",
    "print(f'Loss: {loss:.2f}, Accuracy: {accuracy:.3f}')\n",
    "\n",
    "test_batch_in = torch.rand((1, n_nodes, 1), dtype=torch.float).to('cuda')\n",
    "print(test_batch_in)\n",
    "print(F.softmax(model(test_batch_in), dim=1))\n",
    "print(torch.topk(test_batch_in, k=k, dim=1).indices[:,k-1])\n",
    "print(F.softmax(model(test_batch_in), dim=1).argmax(dim=1))"
   ]
  },
  {
   "cell_type": "code",
   "execution_count": null,
   "metadata": {},
   "outputs": [],
   "source": [
    "for i in tqdm.trange(1000):\n",
    "    train_batch_in = torch.rand((250, n_nodes, 1), dtype=torch.float).to('cuda')\n",
    "    k = 2\n",
    "    labels = torch.topk(train_batch_in, k=k, dim=1).indices[:,k-1]\n",
    "    \n",
    "    optimizer.zero_grad()\n",
    "    outputs = model(train_batch_in)\n",
    "    loss = loss_func(outputs, labels)\n",
    "    loss.backward()\n",
    "    optimizer.step()\n",
    "    \n",
    "    accuracy = (F.softmax(outputs, dim=1).argmax(dim=1) == labels).float().mean()\n",
    "print(f'Loss: {loss:.2f}, Accuracy: {accuracy:.3f}')"
   ]
  },
  {
   "cell_type": "code",
   "execution_count": null,
   "metadata": {},
   "outputs": [],
   "source": [
    "model = FullyConnectedGNNLayer(5, 1, 1, activation_func=nn.Identity())\n",
    "model.train()\n",
    "model.to('cuda')\n",
    "loss_func = nn.MSELoss()\n",
    "optimizer = torch.optim.SGD(model.parameters(), lr=0.01, momentum=0.)\n",
    "\n",
    "for i in tqdm.trange(10000):\n",
    "    train_batch_in = torch.rand((1024, 5, 1), dtype=torch.float).to('cuda')\n",
    "    train_batch_out = train_batch_in + train_batch_in.sum(dim=1, keepdims=True)\n",
    "    \n",
    "    optimizer.zero_grad()\n",
    "    outputs = model(train_batch_in)\n",
    "    loss = loss_func(outputs, train_batch_out)\n",
    "    loss.backward()\n",
    "    optimizer.step()\n",
    "loss"
   ]
  },
  {
   "cell_type": "code",
   "execution_count": null,
   "metadata": {},
   "outputs": [],
   "source": [
    "train_batch_in = torch.rand((2, 5, 1), dtype=torch.float).to('cuda')\n",
    "print(train_batch_in)\n",
    "print(train_batch_in + train_batch_in.sum(dim=1, keepdims=True))\n",
    "print(model(train_batch_in))"
   ]
  },
  {
   "cell_type": "markdown",
   "metadata": {},
   "source": [
    "## Deprecated"
   ]
  },
  {
   "cell_type": "code",
   "execution_count": null,
   "metadata": {},
   "outputs": [],
   "source": [
    "# Loosely based on: https://github.com/MorvanZhou/pytorch-A3C\n",
    "def a3c_vectorized_env(env, model, optimizer, n_episodes, batch_size,\n",
    "                       gamma=0.9):\n",
    "    model.to(device=DEVICE)\n",
    "    model.train()\n",
    "    episode_reward_sums = []\n",
    "    \n",
    "    for episode in tqdm.trange(n_episodes):\n",
    "        buffer_s, buffer_a, buffer_r = [], [], []\n",
    "        s, r, _, _ = env.reset()\n",
    "        episode_reward_sums.append(r)\n",
    "        step_count = 1\n",
    "        while not env.done:\n",
    "            # Batch size of 1 for inference\n",
    "            a = model.sample_action(s.to(device=DEVICE).unsqueeze(0)).squeeze(0)\n",
    "            next_s, r, done, _ = env.step(a)\n",
    "            \n",
    "            #print(s.shape, a.shape, r.shape)\n",
    "            buffer_s.append(s)\n",
    "            buffer_a.append(a)\n",
    "            buffer_r.append(r)\n",
    "            \n",
    "            if step_count % batch_size == 0 or done:\n",
    "                if done:\n",
    "                    v_next_s = torch.zeros_like(buffer_r[-1])\n",
    "                else:\n",
    "                    _, v_next_s = model(next_s.to(device=DEVICE).unsqueeze(0))\n",
    "                    v_next_s = v_next_s.detach().squeeze(0)\n",
    "                v_next_s.to(device=DEVICE)\n",
    "                \n",
    "                buffer_v_target = []\n",
    "                for r in buffer_r[::-1]:\n",
    "                    v_next_s = r + gamma * v_next_s\n",
    "                    buffer_v_target.append(v_next_s)\n",
    "                buffer_v_target.reverse()\n",
    "                \n",
    "                loss = model.loss_func(\n",
    "                    torch.stack(buffer_s).to(device=DEVICE),\n",
    "                    torch.stack(buffer_a).to(device=DEVICE),\n",
    "                    torch.stack(buffer_v_target).to(device=DEVICE)\n",
    "                )\n",
    "                optimizer.zero_grad()\n",
    "                loss.backward()\n",
    "                optimizer.step()\n",
    "                buffer_s, buffer_a, buffer_r = [], [], []\n",
    "            s = next_s\n",
    "            episode_reward_sums[-1] += r\n",
    "            step_count += 1\n",
    "        episode_reward_sums[-1] = episode_reward_sums[-1].mean()\n",
    "    return episode_reward_sums"
   ]
  },
  {
   "cell_type": "code",
   "execution_count": null,
   "metadata": {},
   "outputs": [],
   "source": [
    "class Kaggle_MAB_Env_Numpy_Vectorized():\n",
    "    def __init__(self,\n",
    "                 # Kaggle MAB env params\n",
    "                 n_bandits=100, n_steps=1999, decay_rate=0.97, sample_resolution=100,\n",
    "                 # Custom params\n",
    "                 n_envs=1, n_players=2, reward_type=EVERY_STEP, remove_extra_dims=False):\n",
    "        # Assert parameter conditions\n",
    "        assert 0 <= decay_rate <= 1.\n",
    "        assert reward_type in (END_OF_GAME, EVERY_STEP)\n",
    "        if reward_type == END_OF_GAME:\n",
    "            assert n_players >= 2\n",
    "        else:\n",
    "            assert n_players >= 1\n",
    "        self.n_bandits = n_bandits\n",
    "        self.n_steps = n_steps\n",
    "        self.decay_rate = decay_rate\n",
    "        self.sample_resolution = sample_resolution\n",
    "        \n",
    "        self.n_envs = n_envs\n",
    "        self.n_players = n_players\n",
    "        self.reward_type = reward_type\n",
    "        self.remove_extra_dims = remove_extra_dims\n",
    "        \n",
    "        self.timestep = None\n",
    "        self.orig_thresholds = None\n",
    "        self.player_n_pulls = None\n",
    "        self.player_rewards_sums = None\n",
    "        self.reset()\n",
    "    \n",
    "    @property\n",
    "    def thresholds(self):\n",
    "        return self.orig_thresholds * (self.decay_rate ** self.player_n_pulls[:,0,:])\n",
    "    \n",
    "    def reset(self):\n",
    "        self.timestep = 0\n",
    "        self.orig_thresholds = np.random.randint(self.sample_resolution + 1, size=(self.n_envs, self.n_bandits)).astype(np.float32)\n",
    "        self.player_n_pulls = np.zeros((self.n_envs, self.n_players, self.n_bandits))\n",
    "        self.player_rewards_sums = np.zeros_like(self.player_n_pulls)\n",
    "        \n",
    "        rewards = np.zeros((self.n_envs, self.n_players))\n",
    "        if self.remove_extra_dims:\n",
    "            return self.get_obs().squeeze(), rewards.squeeze(), self.done, dict(thresholds=self.thresholds.squeeze())\n",
    "        else:\n",
    "            return self.get_obs(), rewards, self.done, dict(thresholds=self.thresholds)\n",
    "        \n",
    "    def step(self, actions):\n",
    "        if self.remove_extra_dims:\n",
    "            if type(actions) == int:\n",
    "                actions = np.array([[actions]])\n",
    "            else:\n",
    "                actions = actions.reshape((self.n_envs, self.n_players))\n",
    "        assert actions.shape == (self.n_envs, self.n_players), f'actions.shape was: {actions.shape}'\n",
    "        assert not self.done\n",
    "        self.timestep += 1\n",
    "        \n",
    "        # Compute agent rewards\n",
    "        selected_thresholds = np.take_along_axis(self.thresholds, actions, axis=1)\n",
    "        pull_rewards = np.random.randint(self.sample_resolution, size=selected_thresholds.shape) < selected_thresholds\n",
    "        #pull_rewards = selected_thresholds / float(self.sample_resolution)\n",
    "        \n",
    "        # Update player_n_pulls and player_rewards_sums\n",
    "        for env_idx, env_actions in enumerate(actions):\n",
    "            for player_idx, pull_idx in enumerate(env_actions):\n",
    "                self.player_n_pulls[env_idx, :, pull_idx] += 1\n",
    "                self.player_rewards_sums[env_idx, player_idx, pull_idx] += pull_rewards[env_idx, player_idx]\n",
    "        \n",
    "        # Return (obs, reward, done) tuple\n",
    "        if self.reward_type == END_OF_GAME:\n",
    "            rewards = np.zeros_like(actions)\n",
    "            if self.timestep == self.n_steps:\n",
    "                rewards_sums = self.player_rewards_sums.sum(axis=2)\n",
    "                winners = rewards_sums.argmax(axis=1)\n",
    "                rewards[winners] = 1\n",
    "        elif self.reward_type == EVERY_STEP:\n",
    "            rewards = pull_rewards\n",
    "        \n",
    "        # State, reward, done, info_dict\n",
    "        if self.remove_extra_dims:\n",
    "            return self.get_obs().squeeze(), rewards.squeeze(), self.done, dict(thresholds=self.thresholds.squeeze())\n",
    "        else:\n",
    "            return self.get_obs(), rewards, self.done, dict(thresholds=self.thresholds)\n",
    "    \n",
    "    def get_obs(self):\n",
    "        # TODO: Clearly do not return thresholds or orig_thresholds\n",
    "        return np.stack([\n",
    "            #np.broadcast_to(self.orig_thresholds[:, None, :] / self.sample_resolution, self.player_n_pulls.shape),\n",
    "            self.player_n_pulls,\n",
    "            self.player_rewards_sums\n",
    "        ], axis=-1).astype(np.float32)\n",
    "    \n",
    "    @property\n",
    "    def done(self):\n",
    "        return self.timestep >= self.n_steps"
   ]
  },
  {
   "cell_type": "code",
   "execution_count": null,
   "metadata": {},
   "outputs": [],
   "source": [
    "class FeedForwardNN_A3C(nn.Module):\n",
    "    def __init__(self, in_features, n_bandits, activation_func=nn.ReLU()):\n",
    "        super().__init__()\n",
    "        self.in_features = in_features\n",
    "        self.activation_func = activation_func\n",
    "        layer_size = 128\n",
    "        self.base = nn.Sequential(\n",
    "            nn.Linear(self.in_features, layer_size),\n",
    "            activation_func,\n",
    "            nn.Linear(layer_size, layer_size),\n",
    "            activation_func,\n",
    "        )\n",
    "        self.actor = nn.Linear(layer_size, n_bandits)\n",
    "        self.critic = nn.Linear(layer_size, 1)\n",
    "        \n",
    "    def forward(self, states):\n",
    "        in_shape = states.shape\n",
    "        base_out = self.base(states.view(-1, self.in_features))\n",
    "        return self.activation_func(self.actor(base_out)).view(in_shape[:-1]), self.critic(base_out).view(in_shape[:-2])\n",
    "    \n",
    "    def sample_action(self, states):\n",
    "        with torch.no_grad():\n",
    "            logits, _ = self.forward(states)\n",
    "            probs = F.softmax(logits, dim=-1)\n",
    "            batch_size, n_envs, n_players, n_bandits = probs.shape\n",
    "            m = distributions.Categorical(probs.view(batch_size * n_envs * n_players, n_bandits))\n",
    "            return m.sample().view(batch_size, n_envs, n_players)\n",
    "    \n",
    "    def choose_best_action(self, states):\n",
    "        with torch.no_grad():\n",
    "            logits, _ = self.forward(states)\n",
    "            return logits.argmax(dim=-1)\n",
    "        \n",
    "    def loss_func(self, states, actions, v_t):\n",
    "        #print(f'states.shape: {states.shape}, actions.shape: {actions.shape}, v_t.shape: {v_t.shape}')\n",
    "        logits, values = self.forward(states)\n",
    "        \n",
    "        #print(f'logits.shape: {logits.shape}, values.shape: {values.shape}')\n",
    "        td = v_t - values\n",
    "        critic_loss = td.pow(2).view(-1)\n",
    "        \n",
    "        probs = F.softmax(logits, dim=-1)\n",
    "        batch_size, n_envs, n_players, n_bandits = probs.shape\n",
    "        m = distributions.Categorical(probs.view(batch_size * n_envs * n_players, n_bandits))\n",
    "        #print(f'm.log_prob(actions.view(batch_size * n_envs * n_players)).shape: {m.log_prob(actions.view(batch_size * n_envs * n_players)).shape}, td.shape: {td.shape}')\n",
    "        actor_loss = -(m.log_prob(actions.view(-1)) * td.detach().view(-1))\n",
    "        total_loss = (critic_loss + actor_loss).mean()\n",
    "        return total_loss"
   ]
  }
 ],
 "metadata": {
  "kernelspec": {
   "display_name": "Python 3",
   "language": "python",
   "name": "python3"
  },
  "language_info": {
   "codemirror_mode": {
    "name": "ipython",
    "version": 3
   },
   "file_extension": ".py",
   "mimetype": "text/x-python",
   "name": "python",
   "nbconvert_exporter": "python",
   "pygments_lexer": "ipython3",
   "version": "3.7.7"
  }
 },
 "nbformat": 4,
 "nbformat_minor": 4
}
