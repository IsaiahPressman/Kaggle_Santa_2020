{
 "cells": [
  {
   "cell_type": "code",
   "execution_count": 5,
   "metadata": {},
   "outputs": [],
   "source": [
    "import base64\n",
    "from jupyterthemes import jtplot\n",
    "import matplotlib.pyplot as plt\n",
    "import numpy as np\n",
    "import pandas as pd\n",
    "from pathlib import Path\n",
    "import pickle\n",
    "import seaborn as sns\n",
    "import shutil\n",
    "import torch\n",
    "from torch import distributions, nn\n",
    "import torch.nn.functional as F\n",
    "import time\n",
    "import tqdm\n",
    "\n",
    "# Custom imports\n",
    "from graph_nns import GraphNNA3C, SmallFullyConnectedGNNLayer, FullyConnectedGNNLayer\n",
    "import vectorized_env\n",
    "from vectorized_env import KaggleMABEnvTorchVectorized\n",
    "import vectorized_agents as va\n",
    "\n",
    "%matplotlib inline\n",
    "jtplot.style()\n",
    "\n",
    "DEVICE = torch.device('cuda')\n",
    "OBS_NORM = 100. / 1999."
   ]
  },
  {
   "cell_type": "markdown",
   "metadata": {},
   "source": [
    "## A3C RL algorithm"
   ]
  },
  {
   "cell_type": "code",
   "execution_count": 6,
   "metadata": {},
   "outputs": [],
   "source": [
    "def wrap_model(model):\n",
    "    def model_wrapped(states):\n",
    "        return model.sample_action(states.unsqueeze(0)).squeeze(0)\n",
    "    return model_wrapped\n",
    "\n",
    "\n",
    "class A3CVectorized():\n",
    "    def __init__(self, model_constructor, optimizer, model=None, device=torch.device('cuda'), exp_folder=Path('/home/isaiah/GitHub/Kaggle/Santa_2020/runs/TEMP'),\n",
    "                 play_against_past_selves=True, n_past_selves=4, checkpoint_freq=10, initial_opponent_pool=[], opp_posterior_decay=0.95):\n",
    "        self.model_constructor = model_constructor\n",
    "        self.optimizer = optimizer\n",
    "        if model is None:\n",
    "            self.model = self.model_constructor()\n",
    "        else:\n",
    "            self.model = model\n",
    "        self.device = device\n",
    "        self.exp_folder = exp_folder\n",
    "        if str(self.exp_folder) == '/home/isaiah/GitHub/Kaggle/Santa_2020/runs/TEMP':\n",
    "            print('WARNING: Using TEMP exp_folder')\n",
    "            shutil.rmtree(self.exp_folder)\n",
    "        elif self.exp_folder.exists() and any(Path(self.exp_folder).iterdir()):\n",
    "            raise RuntimeError(f'Experiment folder {self.exp_folder} already exists and is not empty')\n",
    "        else:\n",
    "            print(f'Saving results to {self.exp_folder}')\n",
    "        self.exp_folder.mkdir(exist_ok=True)\n",
    "        self.play_against_past_selves = play_against_past_selves\n",
    "        self.n_past_selves = n_past_selves\n",
    "        self.checkpoint_freq = checkpoint_freq\n",
    "        self.initial_opponent_pool = initial_opponent_pool\n",
    "        self.opp_posterior_decay = opp_posterior_decay\n",
    "        \n",
    "        self.env = None\n",
    "        self.opp_a = np.ones(len(self.initial_opponent_pool))\n",
    "        self.opp_b = np.ones(len(self.initial_opponent_pool))\n",
    "        self.checkpoints = []\n",
    "        self.true_ep_num = 0\n",
    "        \n",
    "    def train(self, n_episodes, batch_size=30, gamma=0.9, **env_kwargs):\n",
    "        if self.play_against_past_selves and 'opponent' in env_kwargs.keys():\n",
    "            raise RuntimeError('Cannot play against past selves when opponent is defined')\n",
    "        self.env = None\n",
    "        self.model.train()\n",
    "        episode_reward_sums = []\n",
    "        \n",
    "        for ep_num in tqdm.trange(n_episodes):\n",
    "            if self.play_against_past_selves:\n",
    "                opponents, opponent_idxs = self.sample_opponents()\n",
    "                self.env = KaggleMABEnvTorchVectorized(opponent=opponents, **env_kwargs)\n",
    "            else:\n",
    "                self.env = KaggleMABEnvTorchVectorized(**env_kwargs)\n",
    "            buffer_s, buffer_a, buffer_r = [], [], []\n",
    "            s, r, _, _ = self.env.reset()\n",
    "            episode_reward_sums.append(r)\n",
    "            step_count = 1\n",
    "            while not self.env.done:\n",
    "                # Batch size of 1 for inference\n",
    "                a = self.model.sample_action(s.to(device=self.device).unsqueeze(0)).squeeze(0)\n",
    "                next_s, r, done, _ = self.env.step(a)\n",
    "\n",
    "                buffer_s.append(s)\n",
    "                buffer_a.append(a)\n",
    "                buffer_r.append(r)\n",
    "\n",
    "                if step_count % batch_size == 0 or done:\n",
    "                    if done:\n",
    "                        v_next_s = torch.zeros_like(buffer_r[-1])\n",
    "                    else:\n",
    "                        _, v_next_s = self.model(next_s.to(device=self.device).unsqueeze(0))\n",
    "                        v_next_s = v_next_s.detach().squeeze(0)\n",
    "                    v_next_s.to(device=self.device)\n",
    "\n",
    "                    buffer_v_target = []\n",
    "                    for r in buffer_r[::-1]:\n",
    "                        v_next_s = r + gamma * v_next_s\n",
    "                        buffer_v_target.append(v_next_s)\n",
    "                    buffer_v_target.reverse()\n",
    "\n",
    "                    loss = self.model.loss_func(\n",
    "                        torch.stack(buffer_s).to(device=self.device),\n",
    "                        torch.stack(buffer_a).to(device=self.device),\n",
    "                        torch.stack(buffer_v_target).to(device=self.device)\n",
    "                    )\n",
    "                    self.optimizer.zero_grad()\n",
    "                    loss.backward()\n",
    "                    self.optimizer.step()\n",
    "                    buffer_s, buffer_a, buffer_r = [], [], []\n",
    "                s = next_s\n",
    "                episode_reward_sums[-1] += r\n",
    "                step_count += 1\n",
    "            if self.play_against_past_selves:\n",
    "                if opponent_idxs is not None:\n",
    "                    self.update_opponent_scores(opponent_idxs, self.env.player_rewards_sums.cpu())\n",
    "                if ep_num % self.checkpoint_freq == 0:\n",
    "                    self.checkpoint()\n",
    "            if ep_num % self.checkpoint_freq == 0:\n",
    "                self.save()\n",
    "            episode_reward_sums[-1] = episode_reward_sums[-1].mean() / self.env.r_norm\n",
    "            self.true_ep_num += 1\n",
    "        self.save(finished=True)\n",
    "        return episode_reward_sums\n",
    "    \n",
    "    def sample_opponents(self):\n",
    "        if len(self.initial_opponent_pool) + len(self.checkpoints) == 0:\n",
    "            print('No opponents sampled')\n",
    "            return None, None\n",
    "        else:\n",
    "            opponents = []\n",
    "            opponent_idxs = []\n",
    "            for i in range(self.n_past_selves):\n",
    "                # Sample opponents randomly if the agent is losing > some fraction of it's games, otherwise use thompson sampling\n",
    "                if np.sum(self.opp_b - 1) <= np.sum(self.opp_a - 1) / 5.:\n",
    "                    if i == 0:\n",
    "                        print('Sampling opponents randomly')\n",
    "                    selected_opp_idx = np.random.randint(len(self.opp_a))\n",
    "                else:\n",
    "                    if i == 0:\n",
    "                        print('Sampling opponents using Thompson sampling')\n",
    "                    selected_opp_idx = np.random.beta(self.opp_a, self.opp_b).argmax()\n",
    "                opponent_idxs.append(selected_opp_idx)\n",
    "                opponents.append(self.get_opponent(selected_opp_idx))\n",
    "                if selected_opp_idx < len(self.initial_opponent_pool):\n",
    "                    try:\n",
    "                        print(f'Opponent {i}: {opponents[-1].name} with alpha {self.opp_a[selected_opp_idx]:.2f} and beta {self.opp_b[selected_opp_idx]:.2f}')\n",
    "                    except AttributeError:\n",
    "                        print(f'Opponent {i}: {opponents[-1]} with alpha {self.opp_a[selected_opp_idx]:.2f} and beta {self.opp_b[selected_opp_idx]:.2f}')\n",
    "                else:\n",
    "                    print(f'Opponent {i}: Checkpoint #{selected_opp_idx - len(self.initial_opponent_pool)} with alpha {self.opp_a[selected_opp_idx]:.2f} and beta {self.opp_b[selected_opp_idx]:.2f}')\n",
    "            print()\n",
    "            return va.MultiAgent(opponents), opponent_idxs\n",
    "\n",
    "    def update_opponent_scores(self, curr_opp_idxs, player_rewards_sums):\n",
    "        # player_rewards_sums.shape is (n_envs, n_players, n_bandits)\n",
    "        # Decay posteriors\n",
    "        self.opp_a = np.maximum(self.opp_a * self.opp_posterior_decay, 1.)\n",
    "        self.opp_b = np.maximum(self.opp_b * self.opp_posterior_decay, 1.)\n",
    "        \n",
    "        # Update posteriors with new w/l stats\n",
    "        rewards_sums = player_rewards_sums.sum(dim=2)\n",
    "        game_scores = torch.zeros(rewards_sums.shape)\n",
    "        winners_idxs = rewards_sums.argmax(dim=1)\n",
    "        draws_mask = rewards_sums[:,0] == rewards_sums[:,1]\n",
    "        game_scores[torch.arange(game_scores.shape[0]), winners_idxs] = 1.\n",
    "        game_scores[draws_mask] = 0.5\n",
    "        game_scores = [gs.numpy() for gs in game_scores.chunk(self.n_past_selves)]\n",
    "        for match_idx, opp_idx in enumerate(curr_opp_idxs):\n",
    "            self.opp_a[opp_idx] += game_scores[match_idx][:,1].sum()\n",
    "            self.opp_b[opp_idx] += game_scores[match_idx][:,0].sum()\n",
    "            \n",
    "    def checkpoint(self):\n",
    "        self.model.cpu()\n",
    "        self.checkpoints.append(self.model.state_dict())\n",
    "        self.opp_a = np.append(self.opp_a, 1.)\n",
    "        self.opp_b = np.append(self.opp_b, 1.)\n",
    "        self.model.to(device=self.device)\n",
    "    \n",
    "    def save(self, finished=False):\n",
    "        if finished:\n",
    "            file_path_base = self.exp_folder / f'final_{self.true_ep_num}'\n",
    "        else:\n",
    "            file_path_base = self.exp_folder / str(self.true_ep_num)\n",
    "        # Save model params\n",
    "        self.model.cpu()\n",
    "        state_dict_bytes = pickle.dumps({\n",
    "            'model_state_dict': self.model.state_dict(),\n",
    "        })\n",
    "        serialized_string = base64.b64encode(state_dict_bytes)\n",
    "        with open(f'{file_path_base}_cp.txt', 'w') as f:\n",
    "            f.write(str(serialized_string))\n",
    "        self.model.to(device=self.device)\n",
    "        # Save skill estimates\n",
    "        if self.play_against_past_selves:\n",
    "            checkpoint_idxs = np.arange(len(a3c_alg.opp_a)) - len(a3c_alg.initial_opponent_pool)\n",
    "            checkpoint_idxs = np.where(\n",
    "                checkpoint_idxs < 0,\n",
    "                np.nan,\n",
    "                checkpoint_idxs\n",
    "            )\n",
    "            df = pd.DataFrame({\n",
    "                'opp_a': a3c_alg.opp_a,\n",
    "                'opp_b': a3c_alg.opp_b,\n",
    "                'est_opp_skill': a3c_alg.opp_a / (a3c_alg.opp_a + a3c_alg.opp_b),\n",
    "                'checkpoint_idxs': checkpoint_idxs\n",
    "            })\n",
    "            df.to_csv(f'{file_path_base}_skill_estimates.csv')\n",
    "    \n",
    "    def get_opponent(self, idx):\n",
    "        if idx < 0:\n",
    "            raise IndexError(f'Negative indexing is not supported')\n",
    "        elif idx < len(self.initial_opponent_pool):\n",
    "            return self.initial_opponent_pool[idx]\n",
    "        elif idx < len(self.initial_opponent_pool) + len(self.checkpoints):\n",
    "            checkpoint_idx = idx - len(self.initial_opponent_pool)\n",
    "            checkpoint_opp = self.model_constructor()\n",
    "            checkpoint_opp.load_state_dict(self.checkpoints[checkpoint_idx])\n",
    "            checkpoint_opp.to(device=self.device)\n",
    "            checkpoint_opp.eval()\n",
    "            return wrap_model(checkpoint_opp)\n",
    "        else:\n",
    "            raise IndexError(f'Index {idx} is out of bounds')"
   ]
  },
  {
   "cell_type": "markdown",
   "metadata": {},
   "source": [
    "## Optional: load a saved model state_dict from a serialized string file"
   ]
  },
  {
   "cell_type": "code",
   "execution_count": 7,
   "metadata": {},
   "outputs": [],
   "source": [
    "#with open('rl_agents/ss_temp.txt', 'r') as f:\n",
    "with open('runs/v4/cp_162.txt', 'r') as f:\n",
    "    serialized_string = f.readline()[2:-1].encode()\n",
    "state_dict_bytes = base64.b64decode(serialized_string)\n",
    "loaded_state_dicts = pickle.loads(state_dict_bytes)"
   ]
  },
  {
   "cell_type": "markdown",
   "metadata": {},
   "source": [
    "## RL training\n",
    "#### TODO:\n",
    "Change GNN layer option to \"efficient_GNN\"\n",
    "\n",
    "Implement \"fictitious self-play\" to improve trained model robustness. On a related note, maybe compare trained agents against many/all agents from this notebook: https://www.kaggle.com/jamesmcguigan/santa-2020-agents-comparison\n",
    "\n",
    "Implement new RL algorithm - AWAC, and use top team's logs as training data. See: https://www.kaggle.com/masatomatsui/santa-episode-scraper\n",
    "\n",
    "Eventually, experiment with reward_type = END_OF_GAME"
   ]
  },
  {
   "cell_type": "code",
   "execution_count": 8,
   "metadata": {},
   "outputs": [
    {
     "name": "stdout",
     "output_type": "stream",
     "text": [
      "Successfully loaded saved model\n",
      "Saving results to /home/isaiah/GitHub/Kaggle/Santa_2020/runs/v4_contd\n"
     ]
    }
   ],
   "source": [
    "graph_nn_kwargs = dict(\n",
    "    in_features=3,\n",
    "    n_nodes=100,\n",
    "    n_hidden_layers=4,\n",
    "    layer_sizes=16,\n",
    "    layer_class=FullyConnectedGNNLayer,\n",
    "    #layer_class=SmallFullyConnectedGNNLayer,\n",
    "    skip_connection_n=1\n",
    ")\n",
    "model = GraphNNA3C(**graph_nn_kwargs)\n",
    "try:\n",
    "    sd = loaded_state_dicts['model_state_dict']\n",
    "    model.load_state_dict(sd)\n",
    "    print('Successfully loaded saved model')\n",
    "    del loaded_state_dicts\n",
    "except NameError:\n",
    "    pass\n",
    "model.to(device=DEVICE)\n",
    "optimizer = torch.optim.Adam(model.parameters())\n",
    "\n",
    "env_kwargs = dict(\n",
    "    n_envs=512,\n",
    "    out_device=DEVICE,\n",
    "    reward_type=vectorized_env.EVERY_STEP_EV\n",
    ")\n",
    "rl_alg_kwargs = dict(\n",
    "    batch_size=30,\n",
    "    gamma=0.99\n",
    ")\n",
    "\n",
    "# Used for va.run_vectorized_vs\n",
    "def model_wrapped(states):\n",
    "    return model.sample_action(states.unsqueeze(0)).squeeze(0)\n",
    "\n",
    "def model_constructor():\n",
    "    return GraphNNA3C(**graph_nn_kwargs)\n",
    "\n",
    "# initial_opponent_pool = []\n",
    "initial_opponent_pool = [\n",
    "    #va.BasicThompsonSampling(OBS_NORM),\n",
    "    #va.PullVegasSlotMachines(OBS_NORM),\n",
    "    #va.SavedRLAgent('a3c_agent_v0'),\n",
    "    #va.SavedRLAgent('a3c_agent_v1'),\n",
    "    #va.SavedRLAgent('a3c_agent_v2'),\n",
    "    va.SavedRLAgent('a3c_agent_v3'),\n",
    "]\n",
    "\n",
    "a3c_alg = A3CVectorized(model_constructor, optimizer, model=model, device=DEVICE,\n",
    "                        exp_folder=Path('/home/isaiah/GitHub/Kaggle/Santa_2020/runs/v4_contd'),\n",
    "                        play_against_past_selves=True,\n",
    "                        n_past_selves=4,\n",
    "                        checkpoint_freq=10,\n",
    "                        initial_opponent_pool=initial_opponent_pool,\n",
    "                        opp_posterior_decay=0.95)"
   ]
  },
  {
   "cell_type": "code",
   "execution_count": 9,
   "metadata": {
    "scrolled": true
   },
   "outputs": [
    {
     "name": "stderr",
     "output_type": "stream",
     "text": [
      "\r",
      "  0%|          | 0/100 [00:00<?, ?it/s]"
     ]
    },
    {
     "name": "stdout",
     "output_type": "stream",
     "text": [
      "Sampling opponents randomly\n",
      "Opponent 0: SavedRLAgent: a3c_agent_v3 with alpha 1.00 and beta 1.00\n",
      "Opponent 1: SavedRLAgent: a3c_agent_v3 with alpha 1.00 and beta 1.00\n",
      "Opponent 2: SavedRLAgent: a3c_agent_v3 with alpha 1.00 and beta 1.00\n",
      "Opponent 3: SavedRLAgent: a3c_agent_v3 with alpha 1.00 and beta 1.00\n",
      "\n"
     ]
    },
    {
     "name": "stderr",
     "output_type": "stream",
     "text": [
      "\r",
      "  1%|          | 1/100 [00:25<42:35, 25.81s/it]"
     ]
    },
    {
     "name": "stdout",
     "output_type": "stream",
     "text": [
      "Sampling opponents using Thompson sampling\n",
      "Opponent 0: Checkpoint #0 with alpha 1.00 and beta 1.00\n",
      "Opponent 1: Checkpoint #0 with alpha 1.00 and beta 1.00\n",
      "Opponent 2: Checkpoint #0 with alpha 1.00 and beta 1.00\n",
      "Opponent 3: Checkpoint #0 with alpha 1.00 and beta 1.00\n",
      "\n"
     ]
    },
    {
     "name": "stderr",
     "output_type": "stream",
     "text": [
      "\r",
      "  2%|▏         | 2/100 [00:51<41:56, 25.67s/it]"
     ]
    },
    {
     "name": "stdout",
     "output_type": "stream",
     "text": [
      "Sampling opponents using Thompson sampling\n",
      "Opponent 0: Checkpoint #0 with alpha 394.50 and beta 407.50\n",
      "Opponent 1: Checkpoint #0 with alpha 394.50 and beta 407.50\n",
      "Opponent 2: Checkpoint #0 with alpha 394.50 and beta 407.50\n",
      "Opponent 3: Checkpoint #0 with alpha 394.50 and beta 407.50\n",
      "\n"
     ]
    },
    {
     "name": "stderr",
     "output_type": "stream",
     "text": [
      "\r",
      "  3%|▎         | 3/100 [01:16<41:34, 25.71s/it]"
     ]
    },
    {
     "name": "stdout",
     "output_type": "stream",
     "text": [
      "Sampling opponents using Thompson sampling\n",
      "Opponent 0: Checkpoint #0 with alpha 781.27 and beta 780.62\n",
      "Opponent 1: SavedRLAgent: a3c_agent_v3 with alpha 343.85 and beta 379.95\n",
      "Opponent 2: Checkpoint #0 with alpha 781.27 and beta 780.62\n",
      "Opponent 3: Checkpoint #0 with alpha 781.27 and beta 780.62\n",
      "\n"
     ]
    },
    {
     "name": "stderr",
     "output_type": "stream",
     "text": [
      "\r",
      "  4%|▍         | 4/100 [01:42<41:07, 25.70s/it]"
     ]
    },
    {
     "name": "stdout",
     "output_type": "stream",
     "text": [
      "Sampling opponents using Thompson sampling\n",
      "Opponent 0: Checkpoint #0 with alpha 1058.71 and beta 1025.09\n",
      "Opponent 1: Checkpoint #0 with alpha 1058.71 and beta 1025.09\n",
      "Opponent 2: Checkpoint #0 with alpha 1058.71 and beta 1025.09\n",
      "Opponent 3: Checkpoint #0 with alpha 1058.71 and beta 1025.09\n",
      "\n"
     ]
    },
    {
     "name": "stderr",
     "output_type": "stream",
     "text": [
      "\r",
      "  5%|▌         | 5/100 [02:08<40:36, 25.65s/it]"
     ]
    },
    {
     "name": "stdout",
     "output_type": "stream",
     "text": [
      "Sampling opponents using Thompson sampling\n",
      "Opponent 0: Checkpoint #0 with alpha 1432.28 and beta 1347.34\n",
      "Opponent 1: Checkpoint #0 with alpha 1432.28 and beta 1347.34\n",
      "Opponent 2: Checkpoint #0 with alpha 1432.28 and beta 1347.34\n",
      "Opponent 3: Checkpoint #0 with alpha 1432.28 and beta 1347.34\n",
      "\n"
     ]
    },
    {
     "name": "stderr",
     "output_type": "stream",
     "text": [
      "\r",
      "  6%|▌         | 6/100 [02:33<40:12, 25.67s/it]"
     ]
    },
    {
     "name": "stdout",
     "output_type": "stream",
     "text": [
      "Sampling opponents using Thompson sampling\n",
      "Opponent 0: Checkpoint #0 with alpha 1744.16 and beta 1696.47\n",
      "Opponent 1: Checkpoint #0 with alpha 1744.16 and beta 1696.47\n",
      "Opponent 2: SavedRLAgent: a3c_agent_v3 with alpha 385.06 and beta 416.01\n",
      "Opponent 3: Checkpoint #0 with alpha 1744.16 and beta 1696.47\n",
      "\n"
     ]
    },
    {
     "name": "stderr",
     "output_type": "stream",
     "text": [
      "\r",
      "  7%|▋         | 7/100 [02:59<39:48, 25.68s/it]"
     ]
    },
    {
     "name": "stdout",
     "output_type": "stream",
     "text": [
      "Sampling opponents using Thompson sampling\n",
      "Opponent 0: Checkpoint #0 with alpha 1971.45 and beta 1897.15\n",
      "Opponent 1: Checkpoint #0 with alpha 1971.45 and beta 1897.15\n",
      "Opponent 2: Checkpoint #0 with alpha 1971.45 and beta 1897.15\n",
      "Opponent 3: Checkpoint #0 with alpha 1971.45 and beta 1897.15\n",
      "\n"
     ]
    },
    {
     "name": "stderr",
     "output_type": "stream",
     "text": [
      "\r",
      "  8%|▊         | 8/100 [03:25<39:25, 25.71s/it]"
     ]
    },
    {
     "name": "stdout",
     "output_type": "stream",
     "text": [
      "Sampling opponents using Thompson sampling\n",
      "Opponent 0: Checkpoint #0 with alpha 2303.38 and beta 2171.79\n",
      "Opponent 1: SavedRLAgent: a3c_agent_v3 with alpha 443.94 and beta 469.03\n",
      "Opponent 2: Checkpoint #0 with alpha 2303.38 and beta 2171.79\n",
      "Opponent 3: Checkpoint #0 with alpha 2303.38 and beta 2171.79\n",
      "\n"
     ]
    },
    {
     "name": "stderr",
     "output_type": "stream",
     "text": [
      "\r",
      "  9%|▉         | 9/100 [03:51<39:02, 25.74s/it]"
     ]
    },
    {
     "name": "stdout",
     "output_type": "stream",
     "text": [
      "Sampling opponents using Thompson sampling\n",
      "Opponent 0: Checkpoint #0 with alpha 2479.71 and beta 2371.70\n",
      "Opponent 1: Checkpoint #0 with alpha 2479.71 and beta 2371.70\n",
      "Opponent 2: Checkpoint #0 with alpha 2479.71 and beta 2371.70\n",
      "Opponent 3: Checkpoint #0 with alpha 2479.71 and beta 2371.70\n",
      "\n"
     ]
    },
    {
     "name": "stderr",
     "output_type": "stream",
     "text": [
      "\r",
      " 10%|█         | 10/100 [04:16<38:36, 25.74s/it]"
     ]
    },
    {
     "name": "stdout",
     "output_type": "stream",
     "text": [
      "Sampling opponents using Thompson sampling\n",
      "Opponent 0: Checkpoint #0 with alpha 2812.73 and beta 2596.12\n",
      "Opponent 1: Checkpoint #0 with alpha 2812.73 and beta 2596.12\n",
      "Opponent 2: Checkpoint #0 with alpha 2812.73 and beta 2596.12\n",
      "Opponent 3: Checkpoint #0 with alpha 2812.73 and beta 2596.12\n",
      "\n"
     ]
    },
    {
     "name": "stderr",
     "output_type": "stream",
     "text": [
      "\r",
      " 11%|█         | 11/100 [04:42<38:11, 25.75s/it]"
     ]
    },
    {
     "name": "stdout",
     "output_type": "stream",
     "text": [
      "Sampling opponents using Thompson sampling\n",
      "Opponent 0: Checkpoint #1 with alpha 1.00 and beta 1.00\n",
      "Opponent 1: Checkpoint #1 with alpha 1.00 and beta 1.00\n",
      "Opponent 2: Checkpoint #0 with alpha 3073.09 and beta 2865.31\n",
      "Opponent 3: Checkpoint #1 with alpha 1.00 and beta 1.00\n",
      "\n"
     ]
    },
    {
     "name": "stderr",
     "output_type": "stream",
     "text": [
      "\r",
      " 12%|█▏        | 12/100 [05:08<37:41, 25.70s/it]"
     ]
    },
    {
     "name": "stdout",
     "output_type": "stream",
     "text": [
      "Sampling opponents using Thompson sampling\n",
      "Opponent 0: Checkpoint #0 with alpha 3011.44 and beta 2830.05\n",
      "Opponent 1: Checkpoint #0 with alpha 3011.44 and beta 2830.05\n",
      "Opponent 2: Checkpoint #0 with alpha 3011.44 and beta 2830.05\n",
      "Opponent 3: SavedRLAgent: a3c_agent_v3 with alpha 448.19 and beta 466.90\n",
      "\n"
     ]
    },
    {
     "name": "stderr",
     "output_type": "stream",
     "text": [
      "\r",
      " 13%|█▎        | 13/100 [05:34<37:17, 25.71s/it]"
     ]
    },
    {
     "name": "stdout",
     "output_type": "stream",
     "text": [
      "Sampling opponents using Thompson sampling\n",
      "Opponent 0: SavedRLAgent: a3c_agent_v3 with alpha 523.28 and beta 546.06\n",
      "Opponent 1: Checkpoint #0 with alpha 3171.86 and beta 2977.54\n",
      "Opponent 2: Checkpoint #0 with alpha 3171.86 and beta 2977.54\n",
      "Opponent 3: Checkpoint #0 with alpha 3171.86 and beta 2977.54\n",
      "\n"
     ]
    },
    {
     "name": "stderr",
     "output_type": "stream",
     "text": [
      "\r",
      " 14%|█▍        | 14/100 [05:59<36:51, 25.72s/it]"
     ]
    },
    {
     "name": "stdout",
     "output_type": "stream",
     "text": [
      "Sampling opponents using Thompson sampling\n",
      "Opponent 0: Checkpoint #0 with alpha 3322.77 and beta 3119.17\n",
      "Opponent 1: Checkpoint #0 with alpha 3322.77 and beta 3119.17\n",
      "Opponent 2: Checkpoint #0 with alpha 3322.77 and beta 3119.17\n",
      "Opponent 3: Checkpoint #0 with alpha 3322.77 and beta 3119.17\n",
      "\n"
     ]
    },
    {
     "name": "stderr",
     "output_type": "stream",
     "text": [
      "\r",
      " 15%|█▌        | 15/100 [06:25<36:25, 25.71s/it]"
     ]
    },
    {
     "name": "stdout",
     "output_type": "stream",
     "text": [
      "Sampling opponents using Thompson sampling\n",
      "Opponent 0: Checkpoint #0 with alpha 3561.13 and beta 3358.71\n",
      "Opponent 1: Checkpoint #0 with alpha 3561.13 and beta 3358.71\n",
      "Opponent 2: Checkpoint #0 with alpha 3561.13 and beta 3358.71\n",
      "Opponent 3: Checkpoint #0 with alpha 3561.13 and beta 3358.71\n",
      "\n"
     ]
    },
    {
     "name": "stderr",
     "output_type": "stream",
     "text": [
      "\r",
      " 16%|█▌        | 16/100 [06:51<35:58, 25.70s/it]"
     ]
    },
    {
     "name": "stdout",
     "output_type": "stream",
     "text": [
      "Sampling opponents using Thompson sampling\n",
      "Opponent 0: Checkpoint #1 with alpha 238.65 and beta 251.68\n",
      "Opponent 1: Checkpoint #0 with alpha 3800.08 and beta 3573.77\n",
      "Opponent 2: Checkpoint #1 with alpha 238.65 and beta 251.68\n",
      "Opponent 3: SavedRLAgent: a3c_agent_v3 with alpha 533.03 and beta 564.29\n",
      "\n"
     ]
    },
    {
     "name": "stderr",
     "output_type": "stream",
     "text": [
      "\r",
      " 17%|█▋        | 17/100 [07:16<35:35, 25.72s/it]"
     ]
    },
    {
     "name": "stdout",
     "output_type": "stream",
     "text": [
      "Sampling opponents using Thompson sampling\n",
      "Opponent 0: Checkpoint #0 with alpha 3714.07 and beta 3491.08\n",
      "Opponent 1: Checkpoint #0 with alpha 3714.07 and beta 3491.08\n",
      "Opponent 2: Checkpoint #0 with alpha 3714.07 and beta 3491.08\n",
      "Opponent 3: Checkpoint #0 with alpha 3714.07 and beta 3491.08\n",
      "\n"
     ]
    },
    {
     "name": "stderr",
     "output_type": "stream",
     "text": [
      "\r",
      " 18%|█▊        | 18/100 [07:42<35:08, 25.71s/it]"
     ]
    },
    {
     "name": "stdout",
     "output_type": "stream",
     "text": [
      "Sampling opponents using Thompson sampling\n",
      "Opponent 0: Checkpoint #0 with alpha 3915.37 and beta 3729.53\n",
      "Opponent 1: Checkpoint #1 with alpha 419.16 and beta 403.37\n",
      "Opponent 2: Checkpoint #0 with alpha 3915.37 and beta 3729.53\n",
      "Opponent 3: Checkpoint #1 with alpha 419.16 and beta 403.37\n",
      "\n"
     ]
    },
    {
     "name": "stderr",
     "output_type": "stream",
     "text": [
      "\r",
      " 19%|█▉        | 19/100 [08:08<34:45, 25.74s/it]"
     ]
    },
    {
     "name": "stdout",
     "output_type": "stream",
     "text": [
      "Sampling opponents using Thompson sampling\n",
      "Opponent 0: Checkpoint #0 with alpha 3916.60 and beta 3746.05\n",
      "Opponent 1: SavedRLAgent: a3c_agent_v3 with alpha 547.71 and beta 573.61\n",
      "Opponent 2: Checkpoint #1 with alpha 579.20 and beta 602.20\n",
      "Opponent 3: Checkpoint #0 with alpha 3916.60 and beta 3746.05\n",
      "\n"
     ]
    },
    {
     "name": "stderr",
     "output_type": "stream",
     "text": [
      "\r",
      " 20%|██        | 20/100 [08:34<34:17, 25.72s/it]"
     ]
    },
    {
     "name": "stdout",
     "output_type": "stream",
     "text": [
      "Sampling opponents using Thompson sampling\n",
      "Opponent 0: Checkpoint #0 with alpha 3926.27 and beta 3753.25\n",
      "Opponent 1: Checkpoint #0 with alpha 3926.27 and beta 3753.25\n",
      "Opponent 2: Checkpoint #0 with alpha 3926.27 and beta 3753.25\n",
      "Opponent 3: SavedRLAgent: a3c_agent_v3 with alpha 617.82 and beta 647.43\n",
      "\n"
     ]
    },
    {
     "name": "stderr",
     "output_type": "stream",
     "text": [
      "\r",
      " 21%|██        | 21/100 [08:59<33:52, 25.72s/it]"
     ]
    },
    {
     "name": "stdout",
     "output_type": "stream",
     "text": [
      "Sampling opponents using Thompson sampling\n",
      "Opponent 0: Checkpoint #2 with alpha 1.00 and beta 1.00\n",
      "Opponent 1: Checkpoint #0 with alpha 4034.96 and beta 3860.59\n",
      "Opponent 2: Checkpoint #2 with alpha 1.00 and beta 1.00\n",
      "Opponent 3: Checkpoint #2 with alpha 1.00 and beta 1.00\n",
      "\n"
     ]
    },
    {
     "name": "stderr",
     "output_type": "stream",
     "text": [
      "\r",
      " 22%|██▏       | 22/100 [09:25<33:27, 25.73s/it]"
     ]
    },
    {
     "name": "stdout",
     "output_type": "stream",
     "text": [
      "Sampling opponents using Thompson sampling\n",
      "Opponent 0: Checkpoint #2 with alpha 315.50 and beta 286.50\n",
      "Opponent 1: Checkpoint #0 with alpha 3941.71 and beta 3759.06\n",
      "Opponent 2: Checkpoint #2 with alpha 315.50 and beta 286.50\n",
      "Opponent 3: Checkpoint #2 with alpha 315.50 and beta 286.50\n",
      "\n"
     ]
    },
    {
     "name": "stderr",
     "output_type": "stream",
     "text": [
      "\r",
      " 23%|██▎       | 23/100 [09:51<32:59, 25.71s/it]"
     ]
    },
    {
     "name": "stdout",
     "output_type": "stream",
     "text": [
      "Sampling opponents using Thompson sampling\n",
      "Opponent 0: Checkpoint #2 with alpha 620.72 and beta 551.17\n",
      "Opponent 1: Checkpoint #2 with alpha 620.72 and beta 551.17\n",
      "Opponent 2: Checkpoint #2 with alpha 620.72 and beta 551.17\n",
      "Opponent 3: Checkpoint #2 with alpha 620.72 and beta 551.17\n",
      "\n"
     ]
    },
    {
     "name": "stderr",
     "output_type": "stream",
     "text": [
      "\r",
      " 24%|██▍       | 24/100 [10:16<32:34, 25.71s/it]"
     ]
    },
    {
     "name": "stdout",
     "output_type": "stream",
     "text": [
      "Sampling opponents using Thompson sampling\n",
      "Opponent 0: Checkpoint #0 with alpha 3662.84 and beta 3477.10\n",
      "Opponent 1: Checkpoint #2 with alpha 1002.69 and beta 910.62\n",
      "Opponent 2: Checkpoint #0 with alpha 3662.84 and beta 3477.10\n",
      "Opponent 3: Checkpoint #2 with alpha 1002.69 and beta 910.62\n",
      "\n"
     ]
    },
    {
     "name": "stderr",
     "output_type": "stream",
     "text": [
      "\r",
      " 25%|██▌       | 25/100 [10:42<32:08, 25.71s/it]"
     ]
    },
    {
     "name": "stdout",
     "output_type": "stream",
     "text": [
      "Sampling opponents using Thompson sampling\n",
      "Opponent 0: Checkpoint #2 with alpha 1148.55 and beta 1069.09\n",
      "Opponent 1: Checkpoint #2 with alpha 1148.55 and beta 1069.09\n",
      "Opponent 2: Checkpoint #2 with alpha 1148.55 and beta 1069.09\n",
      "Opponent 3: Checkpoint #0 with alpha 3685.70 and beta 3497.25\n",
      "\n"
     ]
    },
    {
     "name": "stderr",
     "output_type": "stream",
     "text": [
      "\r",
      " 26%|██▌       | 26/100 [11:06<31:09, 25.26s/it]"
     ]
    },
    {
     "name": "stdout",
     "output_type": "stream",
     "text": [
      "Sampling opponents using Thompson sampling\n",
      "Opponent 0: Checkpoint #2 with alpha 1406.63 and beta 1300.13\n",
      "Opponent 1: SavedRLAgent: a3c_agent_v3 with alpha 529.21 and beta 555.62\n",
      "Opponent 2: Checkpoint #2 with alpha 1406.63 and beta 1300.13\n",
      "Opponent 3: Checkpoint #2 with alpha 1406.63 and beta 1300.13\n",
      "\n"
     ]
    },
    {
     "name": "stderr",
     "output_type": "stream",
     "text": [
      "\r",
      " 27%|██▋       | 27/100 [11:30<30:00, 24.66s/it]"
     ]
    },
    {
     "name": "stdout",
     "output_type": "stream",
     "text": [
      "Sampling opponents using Thompson sampling\n",
      "Opponent 0: Checkpoint #2 with alpha 1679.80 and beta 1491.62\n",
      "Opponent 1: Checkpoint #2 with alpha 1679.80 and beta 1491.62\n",
      "Opponent 2: Checkpoint #2 with alpha 1679.80 and beta 1491.62\n",
      "Opponent 3: Checkpoint #2 with alpha 1679.80 and beta 1491.62\n",
      "\n"
     ]
    },
    {
     "name": "stderr",
     "output_type": "stream",
     "text": [
      "\r",
      " 28%|██▊       | 28/100 [11:53<29:06, 24.26s/it]"
     ]
    },
    {
     "name": "stdout",
     "output_type": "stream",
     "text": [
      "Sampling opponents using Thompson sampling\n",
      "Opponent 0: Checkpoint #2 with alpha 2046.31 and beta 1766.54\n",
      "Opponent 1: Checkpoint #2 with alpha 2046.31 and beta 1766.54\n",
      "Opponent 2: Checkpoint #2 with alpha 2046.31 and beta 1766.54\n",
      "Opponent 3: Checkpoint #2 with alpha 2046.31 and beta 1766.54\n",
      "\n"
     ]
    },
    {
     "name": "stderr",
     "output_type": "stream",
     "text": [
      "\r",
      " 29%|██▉       | 29/100 [12:16<28:23, 23.99s/it]"
     ]
    },
    {
     "name": "stdout",
     "output_type": "stream",
     "text": [
      "Sampling opponents using Thompson sampling\n",
      "Opponent 0: Checkpoint #2 with alpha 2428.49 and beta 1993.72\n",
      "Opponent 1: Checkpoint #2 with alpha 2428.49 and beta 1993.72\n",
      "Opponent 2: Checkpoint #2 with alpha 2428.49 and beta 1993.72\n",
      "Opponent 3: Checkpoint #2 with alpha 2428.49 and beta 1993.72\n",
      "\n"
     ]
    },
    {
     "name": "stderr",
     "output_type": "stream",
     "text": [
      "\r",
      " 30%|███       | 30/100 [12:40<27:46, 23.81s/it]"
     ]
    },
    {
     "name": "stdout",
     "output_type": "stream",
     "text": [
      "Sampling opponents using Thompson sampling\n",
      "Opponent 0: Checkpoint #2 with alpha 2755.57 and beta 2245.53\n",
      "Opponent 1: Checkpoint #2 with alpha 2755.57 and beta 2245.53\n",
      "Opponent 2: Checkpoint #2 with alpha 2755.57 and beta 2245.53\n",
      "Opponent 3: Checkpoint #2 with alpha 2755.57 and beta 2245.53\n",
      "\n"
     ]
    },
    {
     "name": "stderr",
     "output_type": "stream",
     "text": [
      "\r",
      " 31%|███       | 31/100 [13:03<27:13, 23.67s/it]"
     ]
    },
    {
     "name": "stdout",
     "output_type": "stream",
     "text": [
      "Sampling opponents using Thompson sampling\n",
      "Opponent 0: Checkpoint #2 with alpha 3059.29 and beta 2491.75\n",
      "Opponent 1: Checkpoint #3 with alpha 1.00 and beta 1.00\n",
      "Opponent 2: Checkpoint #3 with alpha 1.00 and beta 1.00\n",
      "Opponent 3: Checkpoint #2 with alpha 3059.29 and beta 2491.75\n",
      "\n"
     ]
    },
    {
     "name": "stderr",
     "output_type": "stream",
     "text": [
      "\r",
      " 32%|███▏      | 32/100 [13:26<26:42, 23.57s/it]"
     ]
    },
    {
     "name": "stdout",
     "output_type": "stream",
     "text": [
      "Sampling opponents using Thompson sampling\n",
      "Opponent 0: Checkpoint #3 with alpha 220.00 and beta 182.00\n",
      "Opponent 1: Checkpoint #2 with alpha 3163.82 and beta 2509.67\n",
      "Opponent 2: Checkpoint #3 with alpha 220.00 and beta 182.00\n",
      "Opponent 3: Checkpoint #2 with alpha 3163.82 and beta 2509.67\n",
      "\n"
     ]
    },
    {
     "name": "stderr",
     "output_type": "stream",
     "text": [
      "\r",
      " 33%|███▎      | 33/100 [13:50<26:14, 23.51s/it]"
     ]
    },
    {
     "name": "stdout",
     "output_type": "stream",
     "text": [
      "Sampling opponents using Thompson sampling\n",
      "Opponent 0: Checkpoint #2 with alpha 3248.63 and beta 2541.18\n",
      "Opponent 1: Checkpoint #2 with alpha 3248.63 and beta 2541.18\n",
      "Opponent 2: Checkpoint #2 with alpha 3248.63 and beta 2541.18\n",
      "Opponent 3: Checkpoint #2 with alpha 3248.63 and beta 2541.18\n",
      "\n"
     ]
    },
    {
     "name": "stderr",
     "output_type": "stream",
     "text": [
      "\r",
      " 34%|███▍      | 34/100 [14:13<25:46, 23.44s/it]"
     ]
    },
    {
     "name": "stdout",
     "output_type": "stream",
     "text": [
      "Sampling opponents using Thompson sampling\n",
      "Opponent 0: Checkpoint #2 with alpha 3569.70 and beta 2730.62\n",
      "Opponent 1: Checkpoint #2 with alpha 3569.70 and beta 2730.62\n",
      "Opponent 2: Checkpoint #2 with alpha 3569.70 and beta 2730.62\n",
      "Opponent 3: Checkpoint #2 with alpha 3569.70 and beta 2730.62\n",
      "\n"
     ]
    },
    {
     "name": "stderr",
     "output_type": "stream",
     "text": [
      "\r",
      " 35%|███▌      | 35/100 [14:36<25:19, 23.38s/it]"
     ]
    },
    {
     "name": "stdout",
     "output_type": "stream",
     "text": [
      "Sampling opponents using Thompson sampling\n",
      "Opponent 0: Checkpoint #2 with alpha 3820.72 and beta 2964.59\n",
      "Opponent 1: Checkpoint #2 with alpha 3820.72 and beta 2964.59\n",
      "Opponent 2: Checkpoint #2 with alpha 3820.72 and beta 2964.59\n",
      "Opponent 3: Checkpoint #2 with alpha 3820.72 and beta 2964.59\n",
      "\n"
     ]
    },
    {
     "name": "stderr",
     "output_type": "stream",
     "text": [
      "\r",
      " 36%|███▌      | 36/100 [15:00<24:53, 23.34s/it]"
     ]
    },
    {
     "name": "stdout",
     "output_type": "stream",
     "text": [
      "Sampling opponents using Thompson sampling\n",
      "Opponent 0: Checkpoint #2 with alpha 4085.68 and beta 3160.36\n",
      "Opponent 1: Checkpoint #2 with alpha 4085.68 and beta 3160.36\n",
      "Opponent 2: Checkpoint #2 with alpha 4085.68 and beta 3160.36\n",
      "Opponent 3: Checkpoint #2 with alpha 4085.68 and beta 3160.36\n",
      "\n"
     ]
    },
    {
     "name": "stderr",
     "output_type": "stream",
     "text": [
      "\r",
      " 37%|███▋      | 37/100 [15:23<24:29, 23.32s/it]"
     ]
    },
    {
     "name": "stdout",
     "output_type": "stream",
     "text": [
      "Sampling opponents using Thompson sampling\n",
      "Opponent 0: Checkpoint #2 with alpha 4307.90 and beta 3375.84\n",
      "Opponent 1: Checkpoint #2 with alpha 4307.90 and beta 3375.84\n",
      "Opponent 2: Checkpoint #2 with alpha 4307.90 and beta 3375.84\n",
      "Opponent 3: Checkpoint #2 with alpha 4307.90 and beta 3375.84\n",
      "\n"
     ]
    },
    {
     "name": "stderr",
     "output_type": "stream",
     "text": [
      "\r",
      " 38%|███▊      | 38/100 [15:46<24:05, 23.32s/it]"
     ]
    },
    {
     "name": "stdout",
     "output_type": "stream",
     "text": [
      "Sampling opponents using Thompson sampling\n",
      "Opponent 0: Checkpoint #2 with alpha 4509.00 and beta 3590.55\n",
      "Opponent 1: Checkpoint #2 with alpha 4509.00 and beta 3590.55\n",
      "Opponent 2: Checkpoint #2 with alpha 4509.00 and beta 3590.55\n",
      "Opponent 3: Checkpoint #2 with alpha 4509.00 and beta 3590.55\n",
      "\n"
     ]
    },
    {
     "name": "stderr",
     "output_type": "stream",
     "text": [
      "\r",
      " 39%|███▉      | 39/100 [16:09<23:43, 23.33s/it]"
     ]
    },
    {
     "name": "stdout",
     "output_type": "stream",
     "text": [
      "Sampling opponents using Thompson sampling\n",
      "Opponent 0: Checkpoint #2 with alpha 4720.05 and beta 3774.52\n",
      "Opponent 1: Checkpoint #2 with alpha 4720.05 and beta 3774.52\n",
      "Opponent 2: Checkpoint #2 with alpha 4720.05 and beta 3774.52\n",
      "Opponent 3: Checkpoint #2 with alpha 4720.05 and beta 3774.52\n",
      "\n"
     ]
    },
    {
     "name": "stderr",
     "output_type": "stream",
     "text": [
      "\r",
      " 40%|████      | 40/100 [16:33<23:17, 23.29s/it]"
     ]
    },
    {
     "name": "stdout",
     "output_type": "stream",
     "text": [
      "Sampling opponents using Thompson sampling\n",
      "Opponent 0: Checkpoint #2 with alpha 4892.05 and beta 3977.80\n",
      "Opponent 1: Checkpoint #2 with alpha 4892.05 and beta 3977.80\n",
      "Opponent 2: Checkpoint #2 with alpha 4892.05 and beta 3977.80\n",
      "Opponent 3: Checkpoint #2 with alpha 4892.05 and beta 3977.80\n",
      "\n"
     ]
    },
    {
     "name": "stderr",
     "output_type": "stream",
     "text": [
      "\r",
      " 41%|████      | 41/100 [16:56<22:53, 23.28s/it]"
     ]
    },
    {
     "name": "stdout",
     "output_type": "stream",
     "text": [
      "Sampling opponents using Thompson sampling\n",
      "Opponent 0: Checkpoint #2 with alpha 5052.45 and beta 4173.91\n",
      "Opponent 1: Checkpoint #4 with alpha 1.00 and beta 1.00\n",
      "Opponent 2: Checkpoint #4 with alpha 1.00 and beta 1.00\n",
      "Opponent 3: Checkpoint #4 with alpha 1.00 and beta 1.00\n",
      "\n"
     ]
    },
    {
     "name": "stderr",
     "output_type": "stream",
     "text": [
      "\r",
      " 42%|████▏     | 42/100 [17:19<22:28, 23.25s/it]"
     ]
    },
    {
     "name": "stdout",
     "output_type": "stream",
     "text": [
      "Sampling opponents using Thompson sampling\n",
      "Opponent 0: Checkpoint #2 with alpha 4913.32 and beta 4051.71\n",
      "Opponent 1: Checkpoint #2 with alpha 4913.32 and beta 4051.71\n",
      "Opponent 2: Checkpoint #2 with alpha 4913.32 and beta 4051.71\n",
      "Opponent 3: Checkpoint #2 with alpha 4913.32 and beta 4051.71\n",
      "\n"
     ]
    },
    {
     "name": "stderr",
     "output_type": "stream",
     "text": [
      "\r",
      " 43%|████▎     | 43/100 [17:42<22:04, 23.24s/it]"
     ]
    },
    {
     "name": "stdout",
     "output_type": "stream",
     "text": [
      "Sampling opponents using Thompson sampling\n",
      "Opponent 0: Checkpoint #2 with alpha 5144.66 and beta 4172.13\n",
      "Opponent 1: Checkpoint #2 with alpha 5144.66 and beta 4172.13\n",
      "Opponent 2: Checkpoint #2 with alpha 5144.66 and beta 4172.13\n",
      "Opponent 3: Checkpoint #2 with alpha 5144.66 and beta 4172.13\n",
      "\n"
     ]
    },
    {
     "name": "stderr",
     "output_type": "stream",
     "text": [
      "\r",
      " 44%|████▍     | 44/100 [18:06<21:43, 23.27s/it]"
     ]
    },
    {
     "name": "stdout",
     "output_type": "stream",
     "text": [
      "Sampling opponents using Thompson sampling\n",
      "Opponent 0: Checkpoint #2 with alpha 5318.42 and beta 4332.52\n",
      "Opponent 1: Checkpoint #2 with alpha 5318.42 and beta 4332.52\n",
      "Opponent 2: Checkpoint #2 with alpha 5318.42 and beta 4332.52\n",
      "Opponent 3: Checkpoint #2 with alpha 5318.42 and beta 4332.52\n",
      "\n"
     ]
    },
    {
     "name": "stderr",
     "output_type": "stream",
     "text": [
      "\r",
      " 45%|████▌     | 45/100 [18:29<21:24, 23.35s/it]"
     ]
    },
    {
     "name": "stdout",
     "output_type": "stream",
     "text": [
      "Sampling opponents using Thompson sampling\n",
      "Opponent 0: Checkpoint #2 with alpha 5466.00 and beta 4502.40\n",
      "Opponent 1: Checkpoint #2 with alpha 5466.00 and beta 4502.40\n",
      "Opponent 2: Checkpoint #4 with alpha 264.50 and beta 251.64\n",
      "Opponent 3: Checkpoint #2 with alpha 5466.00 and beta 4502.40\n",
      "\n"
     ]
    },
    {
     "name": "stderr",
     "output_type": "stream",
     "text": [
      "\r",
      " 46%|████▌     | 46/100 [18:52<20:58, 23.30s/it]"
     ]
    },
    {
     "name": "stdout",
     "output_type": "stream",
     "text": [
      "Sampling opponents using Thompson sampling\n",
      "Opponent 0: Checkpoint #2 with alpha 5504.20 and beta 4565.78\n",
      "Opponent 1: Checkpoint #2 with alpha 5504.20 and beta 4565.78\n",
      "Opponent 2: Checkpoint #2 with alpha 5504.20 and beta 4565.78\n",
      "Opponent 3: Checkpoint #3 with alpha 202.77 and beta 198.61\n",
      "\n"
     ]
    },
    {
     "name": "stderr",
     "output_type": "stream",
     "text": [
      "\r",
      " 47%|████▋     | 47/100 [19:16<20:34, 23.29s/it]"
     ]
    },
    {
     "name": "stdout",
     "output_type": "stream",
     "text": [
      "Sampling opponents using Thompson sampling\n",
      "Opponent 0: SavedRLAgent: a3c_agent_v3 with alpha 214.64 and beta 226.51\n",
      "Opponent 1: Checkpoint #2 with alpha 5551.49 and beta 4614.99\n",
      "Opponent 2: Checkpoint #2 with alpha 5551.49 and beta 4614.99\n",
      "Opponent 3: Checkpoint #2 with alpha 5551.49 and beta 4614.99\n",
      "\n"
     ]
    },
    {
     "name": "stderr",
     "output_type": "stream",
     "text": [
      "\r",
      " 48%|████▊     | 48/100 [19:39<20:12, 23.31s/it]"
     ]
    },
    {
     "name": "stdout",
     "output_type": "stream",
     "text": [
      "Sampling opponents using Thompson sampling\n",
      "Opponent 0: Checkpoint #2 with alpha 5568.92 and beta 4689.24\n",
      "Opponent 1: Checkpoint #2 with alpha 5568.92 and beta 4689.24\n",
      "Opponent 2: Checkpoint #2 with alpha 5568.92 and beta 4689.24\n",
      "Opponent 3: Checkpoint #2 with alpha 5568.92 and beta 4689.24\n",
      "\n"
     ]
    },
    {
     "name": "stderr",
     "output_type": "stream",
     "text": [
      "\r",
      " 49%|████▉     | 49/100 [20:02<19:49, 23.33s/it]"
     ]
    },
    {
     "name": "stdout",
     "output_type": "stream",
     "text": [
      "Sampling opponents using Thompson sampling\n",
      "Opponent 0: Checkpoint #2 with alpha 5698.97 and beta 4846.28\n",
      "Opponent 1: Checkpoint #2 with alpha 5698.97 and beta 4846.28\n",
      "Opponent 2: Checkpoint #0 with alpha 1109.84 and beta 1048.97\n",
      "Opponent 3: Checkpoint #2 with alpha 5698.97 and beta 4846.28\n",
      "\n"
     ]
    },
    {
     "name": "stderr",
     "output_type": "stream",
     "text": [
      "\r",
      " 50%|█████     | 50/100 [20:26<19:25, 23.31s/it]"
     ]
    },
    {
     "name": "stdout",
     "output_type": "stream",
     "text": [
      "Sampling opponents using Thompson sampling\n",
      "Opponent 0: Checkpoint #2 with alpha 5721.52 and beta 4896.46\n",
      "Opponent 1: Checkpoint #2 with alpha 5721.52 and beta 4896.46\n",
      "Opponent 2: Checkpoint #2 with alpha 5721.52 and beta 4896.46\n",
      "Opponent 3: Checkpoint #2 with alpha 5721.52 and beta 4896.46\n",
      "\n"
     ]
    },
    {
     "name": "stderr",
     "output_type": "stream",
     "text": [
      "\r",
      " 51%|█████     | 51/100 [20:49<19:02, 23.31s/it]"
     ]
    },
    {
     "name": "stdout",
     "output_type": "stream",
     "text": [
      "Sampling opponents using Thompson sampling\n",
      "Opponent 0: Checkpoint #5 with alpha 1.00 and beta 1.00\n",
      "Opponent 1: Checkpoint #5 with alpha 1.00 and beta 1.00\n",
      "Opponent 2: Checkpoint #2 with alpha 5882.95 and beta 5004.14\n",
      "Opponent 3: Checkpoint #2 with alpha 5882.95 and beta 5004.14\n",
      "\n"
     ]
    },
    {
     "name": "stderr",
     "output_type": "stream",
     "text": [
      "\r",
      " 52%|█████▏    | 52/100 [21:12<18:40, 23.34s/it]"
     ]
    },
    {
     "name": "stdout",
     "output_type": "stream",
     "text": [
      "Sampling opponents using Thompson sampling\n",
      "Opponent 0: Checkpoint #2 with alpha 5805.80 and beta 4936.93\n",
      "Opponent 1: Checkpoint #3 with alpha 222.95 and beta 226.86\n",
      "Opponent 2: Checkpoint #2 with alpha 5805.80 and beta 4936.93\n",
      "Opponent 3: Checkpoint #2 with alpha 5805.80 and beta 4936.93\n",
      "\n"
     ]
    },
    {
     "name": "stderr",
     "output_type": "stream",
     "text": [
      "\r",
      " 53%|█████▎    | 53/100 [21:36<18:18, 23.37s/it]"
     ]
    },
    {
     "name": "stdout",
     "output_type": "stream",
     "text": [
      "Sampling opponents using Thompson sampling\n",
      "Opponent 0: Checkpoint #2 with alpha 5826.51 and beta 4979.09\n",
      "Opponent 1: Checkpoint #1 with alpha 119.02 and beta 124.33\n",
      "Opponent 2: Checkpoint #2 with alpha 5826.51 and beta 4979.09\n",
      "Opponent 3: Checkpoint #2 with alpha 5826.51 and beta 4979.09\n",
      "\n"
     ]
    },
    {
     "name": "stderr",
     "output_type": "stream",
     "text": [
      "\r",
      " 54%|█████▍    | 54/100 [21:59<17:53, 23.35s/it]"
     ]
    },
    {
     "name": "stdout",
     "output_type": "stream",
     "text": [
      "Sampling opponents using Thompson sampling\n",
      "Opponent 0: Checkpoint #2 with alpha 5832.18 and beta 5033.13\n",
      "Opponent 1: Checkpoint #1 with alpha 211.07 and beta 220.11\n",
      "Opponent 2: Checkpoint #3 with alpha 304.29 and beta 291.66\n",
      "Opponent 3: Checkpoint #2 with alpha 5832.18 and beta 5033.13\n",
      "\n"
     ]
    },
    {
     "name": "stderr",
     "output_type": "stream",
     "text": [
      "\r",
      " 55%|█████▌    | 55/100 [22:22<17:29, 23.32s/it]"
     ]
    },
    {
     "name": "stdout",
     "output_type": "stream",
     "text": [
      "Sampling opponents using Thompson sampling\n",
      "Opponent 0: Checkpoint #2 with alpha 5743.58 and beta 4978.47\n",
      "Opponent 1: Checkpoint #2 with alpha 5743.58 and beta 4978.47\n",
      "Opponent 2: Checkpoint #2 with alpha 5743.58 and beta 4978.47\n",
      "Opponent 3: Checkpoint #2 with alpha 5743.58 and beta 4978.47\n",
      "\n"
     ]
    },
    {
     "name": "stderr",
     "output_type": "stream",
     "text": [
      "\r",
      " 56%|█████▌    | 56/100 [22:46<17:06, 23.34s/it]"
     ]
    },
    {
     "name": "stdout",
     "output_type": "stream",
     "text": [
      "Sampling opponents using Thompson sampling\n",
      "Opponent 0: Checkpoint #2 with alpha 5844.40 and beta 5141.55\n",
      "Opponent 1: Checkpoint #2 with alpha 5844.40 and beta 5141.55\n",
      "Opponent 2: Checkpoint #2 with alpha 5844.40 and beta 5141.55\n",
      "Opponent 3: Checkpoint #2 with alpha 5844.40 and beta 5141.55\n",
      "\n"
     ]
    },
    {
     "name": "stderr",
     "output_type": "stream",
     "text": [
      "\r",
      " 57%|█████▋    | 57/100 [23:09<16:43, 23.33s/it]"
     ]
    },
    {
     "name": "stdout",
     "output_type": "stream",
     "text": [
      "Sampling opponents using Thompson sampling\n",
      "Opponent 0: Checkpoint #0 with alpha 803.68 and beta 768.19\n",
      "Opponent 1: Checkpoint #2 with alpha 5955.18 and beta 5281.47\n",
      "Opponent 2: Checkpoint #2 with alpha 5955.18 and beta 5281.47\n",
      "Opponent 3: Checkpoint #2 with alpha 5955.18 and beta 5281.47\n",
      "\n"
     ]
    },
    {
     "name": "stderr",
     "output_type": "stream",
     "text": [
      "\r",
      " 58%|█████▊    | 58/100 [23:33<16:21, 23.38s/it]"
     ]
    },
    {
     "name": "stdout",
     "output_type": "stream",
     "text": [
      "Sampling opponents using Thompson sampling\n",
      "Opponent 0: Checkpoint #2 with alpha 5950.92 and beta 5323.90\n",
      "Opponent 1: Checkpoint #2 with alpha 5950.92 and beta 5323.90\n",
      "Opponent 2: Checkpoint #2 with alpha 5950.92 and beta 5323.90\n",
      "Opponent 3: Checkpoint #1 with alpha 261.51 and beta 261.16\n",
      "\n"
     ]
    },
    {
     "name": "stderr",
     "output_type": "stream",
     "text": [
      "\r",
      " 59%|█████▉    | 59/100 [23:56<15:57, 23.35s/it]"
     ]
    },
    {
     "name": "stdout",
     "output_type": "stream",
     "text": [
      "Sampling opponents using Thompson sampling\n",
      "Opponent 0: Checkpoint #2 with alpha 5991.87 and beta 5319.20\n",
      "Opponent 1: Checkpoint #4 with alpha 174.68 and beta 179.70\n",
      "Opponent 2: Checkpoint #1 with alpha 349.43 and beta 347.10\n",
      "Opponent 3: Checkpoint #2 with alpha 5991.87 and beta 5319.20\n",
      "\n"
     ]
    },
    {
     "name": "stderr",
     "output_type": "stream",
     "text": [
      "\r",
      " 60%|██████    | 60/100 [24:19<15:32, 23.32s/it]"
     ]
    },
    {
     "name": "stdout",
     "output_type": "stream",
     "text": [
      "Sampling opponents using Thompson sampling\n",
      "Opponent 0: Checkpoint #3 with alpha 289.45 and beta 303.39\n",
      "Opponent 1: Checkpoint #2 with alpha 5894.78 and beta 5250.74\n",
      "Opponent 2: Checkpoint #2 with alpha 5894.78 and beta 5250.74\n",
      "Opponent 3: Checkpoint #2 with alpha 5894.78 and beta 5250.74\n",
      "\n"
     ]
    },
    {
     "name": "stderr",
     "output_type": "stream",
     "text": [
      "\r",
      " 61%|██████    | 61/100 [24:42<15:08, 23.30s/it]"
     ]
    },
    {
     "name": "stdout",
     "output_type": "stream",
     "text": [
      "Sampling opponents using Thompson sampling\n",
      "Opponent 0: Checkpoint #6 with alpha 1.00 and beta 1.00\n",
      "Opponent 1: Checkpoint #6 with alpha 1.00 and beta 1.00\n",
      "Opponent 2: Checkpoint #6 with alpha 1.00 and beta 1.00\n",
      "Opponent 3: Checkpoint #1 with alpha 421.76 and beta 396.86\n",
      "\n"
     ]
    },
    {
     "name": "stderr",
     "output_type": "stream",
     "text": [
      "\r",
      " 62%|██████▏   | 62/100 [25:06<14:47, 23.35s/it]"
     ]
    },
    {
     "name": "stdout",
     "output_type": "stream",
     "text": [
      "Sampling opponents using Thompson sampling\n",
      "Opponent 0: Checkpoint #2 with alpha 5615.01 and beta 5013.82\n",
      "Opponent 1: Checkpoint #2 with alpha 5615.01 and beta 5013.82\n",
      "Opponent 2: Checkpoint #2 with alpha 5615.01 and beta 5013.82\n",
      "Opponent 3: Checkpoint #2 with alpha 5615.01 and beta 5013.82\n",
      "\n"
     ]
    },
    {
     "name": "stderr",
     "output_type": "stream",
     "text": [
      "\r",
      " 63%|██████▎   | 63/100 [25:29<14:23, 23.33s/it]"
     ]
    },
    {
     "name": "stdout",
     "output_type": "stream",
     "text": [
      "Sampling opponents using Thompson sampling\n",
      "Opponent 0: Checkpoint #1 with alpha 478.02 and beta 450.79\n",
      "Opponent 1: Checkpoint #2 with alpha 5743.76 and beta 5153.63\n",
      "Opponent 2: Checkpoint #1 with alpha 478.02 and beta 450.79\n",
      "Opponent 3: Checkpoint #2 with alpha 5743.76 and beta 5153.63\n",
      "\n"
     ]
    },
    {
     "name": "stderr",
     "output_type": "stream",
     "text": [
      "\r",
      " 64%|██████▍   | 64/100 [25:52<14:00, 23.34s/it]"
     ]
    },
    {
     "name": "stdout",
     "output_type": "stream",
     "text": [
      "Sampling opponents using Thompson sampling\n",
      "Opponent 0: Checkpoint #1 with alpha 661.12 and beta 621.25\n",
      "Opponent 1: Checkpoint #2 with alpha 5680.57 and beta 5071.95\n",
      "Opponent 2: Checkpoint #2 with alpha 5680.57 and beta 5071.95\n",
      "Opponent 3: Checkpoint #2 with alpha 5680.57 and beta 5071.95\n",
      "\n"
     ]
    },
    {
     "name": "stderr",
     "output_type": "stream",
     "text": [
      "\r",
      " 65%|██████▌   | 65/100 [26:16<13:36, 23.33s/it]"
     ]
    },
    {
     "name": "stdout",
     "output_type": "stream",
     "text": [
      "Sampling opponents using Thompson sampling\n",
      "Opponent 0: Checkpoint #0 with alpha 594.63 and beta 587.85\n",
      "Opponent 1: Checkpoint #2 with alpha 5709.55 and beta 5105.35\n",
      "Opponent 2: Checkpoint #6 with alpha 261.50 and beta 254.64\n",
      "Opponent 3: Checkpoint #2 with alpha 5709.55 and beta 5105.35\n",
      "\n"
     ]
    },
    {
     "name": "stderr",
     "output_type": "stream",
     "text": [
      "\r",
      " 66%|██████▌   | 66/100 [26:39<13:13, 23.35s/it]"
     ]
    },
    {
     "name": "stdout",
     "output_type": "stream",
     "text": [
      "Sampling opponents using Thompson sampling\n",
      "Opponent 0: Checkpoint #6 with alpha 346.92 and beta 343.41\n",
      "Opponent 1: Checkpoint #2 with alpha 5640.57 and beta 5033.58\n",
      "Opponent 2: Checkpoint #2 with alpha 5640.57 and beta 5033.58\n",
      "Opponent 3: Checkpoint #2 with alpha 5640.57 and beta 5033.58\n",
      "\n"
     ]
    },
    {
     "name": "stderr",
     "output_type": "stream",
     "text": [
      "\r",
      " 67%|██████▋   | 67/100 [27:02<12:49, 23.32s/it]"
     ]
    },
    {
     "name": "stdout",
     "output_type": "stream",
     "text": [
      "Sampling opponents using Thompson sampling\n",
      "Opponent 0: Checkpoint #2 with alpha 5655.54 and beta 5084.90\n",
      "Opponent 1: Checkpoint #2 with alpha 5655.54 and beta 5084.90\n",
      "Opponent 2: Checkpoint #0 with alpha 644.95 and beta 612.23\n",
      "Opponent 3: Checkpoint #6 with alpha 443.58 and beta 412.24\n",
      "\n"
     ]
    },
    {
     "name": "stderr",
     "output_type": "stream",
     "text": [
      "\r",
      " 68%|██████▊   | 68/100 [27:26<12:25, 23.30s/it]"
     ]
    },
    {
     "name": "stdout",
     "output_type": "stream",
     "text": [
      "Sampling opponents using Thompson sampling\n",
      "Opponent 0: SavedRLAgent: a3c_agent_v3 with alpha 102.67 and beta 119.26\n",
      "Opponent 1: Checkpoint #2 with alpha 5599.26 and beta 5004.16\n",
      "Opponent 2: Checkpoint #2 with alpha 5599.26 and beta 5004.16\n",
      "Opponent 3: Checkpoint #2 with alpha 5599.26 and beta 5004.16\n",
      "\n"
     ]
    },
    {
     "name": "stderr",
     "output_type": "stream",
     "text": [
      "\r",
      " 69%|██████▉   | 69/100 [27:49<12:02, 23.30s/it]"
     ]
    },
    {
     "name": "stdout",
     "output_type": "stream",
     "text": [
      "Sampling opponents using Thompson sampling\n",
      "Opponent 0: Checkpoint #2 with alpha 5653.30 and beta 5019.95\n",
      "Opponent 1: Checkpoint #6 with alpha 499.60 and beta 462.77\n",
      "Opponent 2: Checkpoint #4 with alpha 163.51 and beta 174.71\n",
      "Opponent 3: Checkpoint #2 with alpha 5653.30 and beta 5019.95\n",
      "\n"
     ]
    },
    {
     "name": "stderr",
     "output_type": "stream",
     "text": [
      "\r",
      " 70%|███████   | 70/100 [28:12<11:38, 23.28s/it]"
     ]
    },
    {
     "name": "stdout",
     "output_type": "stream",
     "text": [
      "Sampling opponents using Thompson sampling\n",
      "Opponent 0: Checkpoint #2 with alpha 5569.13 and beta 4970.45\n",
      "Opponent 1: Checkpoint #2 with alpha 5569.13 and beta 4970.45\n",
      "Opponent 2: Checkpoint #6 with alpha 579.62 and beta 534.63\n",
      "Opponent 3: Checkpoint #2 with alpha 5569.13 and beta 4970.45\n",
      "\n"
     ]
    },
    {
     "name": "stderr",
     "output_type": "stream",
     "text": [
      "\r",
      " 71%|███████   | 71/100 [28:35<11:14, 23.27s/it]"
     ]
    },
    {
     "name": "stdout",
     "output_type": "stream",
     "text": [
      "Sampling opponents using Thompson sampling\n",
      "Opponent 0: Checkpoint #6 with alpha 660.14 and beta 598.40\n",
      "Opponent 1: Checkpoint #7 with alpha 1.00 and beta 1.00\n",
      "Opponent 2: Checkpoint #2 with alpha 5648.68 and beta 4963.93\n",
      "Opponent 3: Checkpoint #7 with alpha 1.00 and beta 1.00\n",
      "\n"
     ]
    },
    {
     "name": "stderr",
     "output_type": "stream",
     "text": [
      "\r",
      " 72%|███████▏  | 72/100 [28:59<10:51, 23.26s/it]"
     ]
    },
    {
     "name": "stdout",
     "output_type": "stream",
     "text": [
      "Sampling opponents using Thompson sampling\n",
      "Opponent 0: Checkpoint #2 with alpha 5471.24 and beta 4810.73\n",
      "Opponent 1: Checkpoint #3 with alpha 215.85 and beta 218.26\n",
      "Opponent 2: Checkpoint #6 with alpha 733.64 and beta 661.98\n",
      "Opponent 3: Checkpoint #3 with alpha 215.85 and beta 218.26\n",
      "\n"
     ]
    },
    {
     "name": "stderr",
     "output_type": "stream",
     "text": [
      "\r",
      " 73%|███████▎  | 73/100 [29:22<10:28, 23.27s/it]"
     ]
    },
    {
     "name": "stdout",
     "output_type": "stream",
     "text": [
      "Sampling opponents using Thompson sampling\n",
      "Opponent 0: Checkpoint #2 with alpha 5301.68 and beta 4666.20\n",
      "Opponent 1: Checkpoint #2 with alpha 5301.68 and beta 4666.20\n",
      "Opponent 2: Checkpoint #2 with alpha 5301.68 and beta 4666.20\n",
      "Opponent 3: Checkpoint #2 with alpha 5301.68 and beta 4666.20\n",
      "\n"
     ]
    },
    {
     "name": "stderr",
     "output_type": "stream",
     "text": [
      "\r",
      " 74%|███████▍  | 74/100 [29:45<10:05, 23.29s/it]"
     ]
    },
    {
     "name": "stdout",
     "output_type": "stream",
     "text": [
      "Sampling opponents using Thompson sampling\n",
      "Opponent 0: Checkpoint #2 with alpha 5446.10 and beta 4823.39\n",
      "Opponent 1: Checkpoint #7 with alpha 175.54 and beta 187.27\n",
      "Opponent 2: Checkpoint #2 with alpha 5446.10 and beta 4823.39\n",
      "Opponent 3: Checkpoint #2 with alpha 5446.10 and beta 4823.39\n",
      "\n"
     ]
    },
    {
     "name": "stderr",
     "output_type": "stream",
     "text": [
      "\r",
      " 75%|███████▌  | 75/100 [30:09<09:42, 23.30s/it]"
     ]
    },
    {
     "name": "stdout",
     "output_type": "stream",
     "text": [
      "Sampling opponents using Thompson sampling\n",
      "Opponent 0: Checkpoint #4 with alpha 202.61 and beta 200.78\n",
      "Opponent 1: Checkpoint #6 with alpha 713.84 and beta 663.23\n",
      "Opponent 2: Checkpoint #2 with alpha 5479.79 and beta 4876.22\n",
      "Opponent 3: Checkpoint #1 with alpha 428.73 and beta 420.43\n",
      "\n"
     ]
    },
    {
     "name": "stderr",
     "output_type": "stream",
     "text": [
      "\r",
      " 76%|███████▌  | 76/100 [30:32<09:19, 23.29s/it]"
     ]
    },
    {
     "name": "stdout",
     "output_type": "stream",
     "text": [
      "Sampling opponents using Thompson sampling\n",
      "Opponent 0: Checkpoint #0 with alpha 467.52 and beta 457.51\n",
      "Opponent 1: Checkpoint #2 with alpha 5299.80 and beta 4738.41\n",
      "Opponent 2: Checkpoint #7 with alpha 261.97 and beta 255.46\n",
      "Opponent 3: Checkpoint #6 with alpha 773.14 and beta 735.07\n",
      "\n"
     ]
    },
    {
     "name": "stderr",
     "output_type": "stream",
     "text": [
      "\r",
      " 77%|███████▋  | 77/100 [30:55<08:55, 23.27s/it]"
     ]
    },
    {
     "name": "stdout",
     "output_type": "stream",
     "text": [
      "Sampling opponents using Thompson sampling\n",
      "Opponent 0: SavedRLAgent: a3c_agent_v3 with alpha 133.04 and beta 139.52\n",
      "Opponent 1: Checkpoint #2 with alpha 5132.31 and beta 4603.99\n",
      "Opponent 2: Checkpoint #6 with alpha 848.99 and beta 783.81\n",
      "Opponent 3: Checkpoint #2 with alpha 5132.31 and beta 4603.99\n",
      "\n"
     ]
    },
    {
     "name": "stderr",
     "output_type": "stream",
     "text": [
      "\r",
      " 78%|███████▊  | 78/100 [31:18<08:31, 23.26s/it]"
     ]
    },
    {
     "name": "stdout",
     "output_type": "stream",
     "text": [
      "Sampling opponents using Thompson sampling\n",
      "Opponent 0: Checkpoint #6 with alpha 920.04 and beta 831.12\n",
      "Opponent 1: Checkpoint #5 with alpha 44.67 and beta 61.27\n",
      "Opponent 2: Checkpoint #2 with alpha 5083.20 and beta 4566.29\n",
      "Opponent 3: Checkpoint #2 with alpha 5083.20 and beta 4566.29\n",
      "\n"
     ]
    },
    {
     "name": "stderr",
     "output_type": "stream",
     "text": [
      "\r",
      " 79%|███████▉  | 79/100 [31:42<08:08, 23.25s/it]"
     ]
    },
    {
     "name": "stdout",
     "output_type": "stream",
     "text": [
      "Sampling opponents using Thompson sampling\n",
      "Opponent 0: Checkpoint #2 with alpha 5025.54 and beta 4541.47\n",
      "Opponent 1: Checkpoint #6 with alpha 976.04 and beta 887.57\n",
      "Opponent 2: Checkpoint #2 with alpha 5025.54 and beta 4541.47\n",
      "Opponent 3: Checkpoint #6 with alpha 976.04 and beta 887.57\n",
      "\n"
     ]
    },
    {
     "name": "stderr",
     "output_type": "stream",
     "text": [
      "\r",
      " 80%|████████  | 80/100 [32:05<07:45, 23.26s/it]"
     ]
    },
    {
     "name": "stdout",
     "output_type": "stream",
     "text": [
      "Sampling opponents using Thompson sampling\n",
      "Opponent 0: Checkpoint #7 with alpha 299.11 and beta 293.81\n",
      "Opponent 1: Checkpoint #2 with alpha 4979.26 and beta 4509.40\n",
      "Opponent 2: Checkpoint #6 with alpha 1131.73 and beta 1038.69\n",
      "Opponent 3: Checkpoint #2 with alpha 4979.26 and beta 4509.40\n",
      "\n"
     ]
    },
    {
     "name": "stderr",
     "output_type": "stream",
     "text": [
      "\r",
      " 81%|████████  | 81/100 [32:28<07:21, 23.25s/it]"
     ]
    },
    {
     "name": "stdout",
     "output_type": "stream",
     "text": [
      "Sampling opponents using Thompson sampling\n",
      "Opponent 0: Checkpoint #2 with alpha 4940.80 and beta 4473.43\n",
      "Opponent 1: Checkpoint #8 with alpha 1.00 and beta 1.00\n",
      "Opponent 2: Checkpoint #4 with alpha 215.48 and beta 235.80\n",
      "Opponent 3: Checkpoint #6 with alpha 1169.15 and beta 1092.76\n",
      "\n"
     ]
    },
    {
     "name": "stderr",
     "output_type": "stream",
     "text": [
      "\r",
      " 82%|████████▏ | 82/100 [32:51<06:59, 23.29s/it]"
     ]
    },
    {
     "name": "stdout",
     "output_type": "stream",
     "text": [
      "Sampling opponents using Thompson sampling\n",
      "Opponent 0: Checkpoint #6 with alpha 1211.19 and beta 1137.62\n",
      "Opponent 1: Checkpoint #2 with alpha 4797.26 and beta 4346.26\n",
      "Opponent 2: Checkpoint #2 with alpha 4797.26 and beta 4346.26\n",
      "Opponent 3: Checkpoint #6 with alpha 1211.19 and beta 1137.62\n",
      "\n"
     ]
    },
    {
     "name": "stderr",
     "output_type": "stream",
     "text": [
      "\r",
      " 83%|████████▎ | 83/100 [33:15<06:36, 23.33s/it]"
     ]
    },
    {
     "name": "stdout",
     "output_type": "stream",
     "text": [
      "Sampling opponents using Thompson sampling\n",
      "Opponent 0: Checkpoint #3 with alpha 237.13 and beta 249.28\n",
      "Opponent 1: Checkpoint #2 with alpha 4752.39 and beta 4333.95\n",
      "Opponent 2: Checkpoint #3 with alpha 237.13 and beta 249.28\n",
      "Opponent 3: Checkpoint #2 with alpha 4752.39 and beta 4333.95\n",
      "\n"
     ]
    },
    {
     "name": "stderr",
     "output_type": "stream",
     "text": [
      "\r",
      " 84%|████████▍ | 84/100 [33:38<06:13, 23.32s/it]"
     ]
    },
    {
     "name": "stdout",
     "output_type": "stream",
     "text": [
      "Sampling opponents using Thompson sampling\n",
      "Opponent 0: Checkpoint #2 with alpha 4722.77 and beta 4309.25\n",
      "Opponent 1: Checkpoint #0 with alpha 377.90 and beta 375.45\n",
      "Opponent 2: Checkpoint #6 with alpha 1285.47 and beta 1214.32\n",
      "Opponent 3: Checkpoint #6 with alpha 1285.47 and beta 1214.32\n",
      "\n"
     ]
    },
    {
     "name": "stderr",
     "output_type": "stream",
     "text": [
      "\r",
      " 85%|████████▌ | 85/100 [34:02<05:49, 23.33s/it]"
     ]
    },
    {
     "name": "stdout",
     "output_type": "stream",
     "text": [
      "Sampling opponents using Thompson sampling\n",
      "Opponent 0: Checkpoint #2 with alpha 4575.64 and beta 4204.79\n",
      "Opponent 1: Checkpoint #6 with alpha 1430.70 and beta 1344.11\n",
      "Opponent 2: Checkpoint #6 with alpha 1430.70 and beta 1344.11\n",
      "Opponent 3: Checkpoint #7 with alpha 309.64 and beta 312.05\n",
      "\n"
     ]
    },
    {
     "name": "stderr",
     "output_type": "stream",
     "text": [
      "\r",
      " 86%|████████▌ | 86/100 [34:25<05:26, 23.34s/it]"
     ]
    },
    {
     "name": "stdout",
     "output_type": "stream",
     "text": [
      "Sampling opponents using Thompson sampling\n",
      "Opponent 0: Checkpoint #1 with alpha 298.95 and beta 303.80\n",
      "Opponent 1: Checkpoint #3 with alpha 384.71 and beta 393.32\n",
      "Opponent 2: Checkpoint #2 with alpha 4455.35 and beta 4086.05\n",
      "Opponent 3: Checkpoint #2 with alpha 4455.35 and beta 4086.05\n",
      "\n"
     ]
    },
    {
     "name": "stderr",
     "output_type": "stream",
     "text": [
      "\r",
      " 87%|████████▋ | 87/100 [34:48<05:02, 23.30s/it]"
     ]
    },
    {
     "name": "stdout",
     "output_type": "stream",
     "text": [
      "Sampling opponents using Thompson sampling\n",
      "Opponent 0: Checkpoint #6 with alpha 1472.66 and beta 1411.61\n",
      "Opponent 1: Checkpoint #2 with alpha 4446.09 and beta 4068.24\n",
      "Opponent 2: Checkpoint #6 with alpha 1472.66 and beta 1411.61\n",
      "Opponent 3: Checkpoint #7 with alpha 370.18 and beta 380.90\n",
      "\n"
     ]
    },
    {
     "name": "stderr",
     "output_type": "stream",
     "text": [
      "\r",
      " 88%|████████▊ | 88/100 [35:11<04:39, 23.29s/it]"
     ]
    },
    {
     "name": "stdout",
     "output_type": "stream",
     "text": [
      "Sampling opponents using Thompson sampling\n",
      "Opponent 0: Checkpoint #0 with alpha 388.82 and beta 396.26\n",
      "Opponent 1: Checkpoint #2 with alpha 4324.28 and beta 3964.33\n",
      "Opponent 2: Checkpoint #0 with alpha 388.82 and beta 396.26\n",
      "Opponent 3: Checkpoint #2 with alpha 4324.28 and beta 3964.33\n",
      "\n"
     ]
    },
    {
     "name": "stderr",
     "output_type": "stream",
     "text": [
      "\r",
      " 89%|████████▉ | 89/100 [35:35<04:15, 23.26s/it]"
     ]
    },
    {
     "name": "stdout",
     "output_type": "stream",
     "text": [
      "Sampling opponents using Thompson sampling\n",
      "Opponent 0: Checkpoint #2 with alpha 4322.57 and beta 3951.62\n",
      "Opponent 1: Checkpoint #0 with alpha 588.38 and beta 557.45\n",
      "Opponent 2: Checkpoint #7 with alpha 439.06 and beta 428.79\n",
      "Opponent 3: Checkpoint #7 with alpha 439.06 and beta 428.79\n",
      "\n"
     ]
    },
    {
     "name": "stderr",
     "output_type": "stream",
     "text": [
      "\r",
      " 90%|█████████ | 90/100 [35:58<03:52, 23.25s/it]"
     ]
    },
    {
     "name": "stdout",
     "output_type": "stream",
     "text": [
      "Sampling opponents using Thompson sampling\n",
      "Opponent 0: Checkpoint #6 with alpha 1445.38 and beta 1388.52\n",
      "Opponent 1: Checkpoint #0 with alpha 664.96 and beta 623.57\n",
      "Opponent 2: Checkpoint #2 with alpha 4216.94 and beta 3843.53\n",
      "Opponent 3: Checkpoint #0 with alpha 664.96 and beta 623.57\n",
      "\n"
     ]
    },
    {
     "name": "stderr",
     "output_type": "stream",
     "text": [
      "\r",
      " 91%|█████████ | 91/100 [36:21<03:29, 23.24s/it]"
     ]
    },
    {
     "name": "stdout",
     "output_type": "stream",
     "text": [
      "Sampling opponents using Thompson sampling\n",
      "Opponent 0: Checkpoint #7 with alpha 600.03 and beta 563.21\n",
      "Opponent 1: Checkpoint #0 with alpha 850.71 and beta 773.39\n",
      "Opponent 2: Checkpoint #9 with alpha 1.00 and beta 1.00\n",
      "Opponent 3: Checkpoint #7 with alpha 600.03 and beta 563.21\n",
      "\n"
     ]
    },
    {
     "name": "stderr",
     "output_type": "stream",
     "text": [
      "\r",
      " 92%|█████████▏| 92/100 [36:44<03:06, 23.25s/it]"
     ]
    },
    {
     "name": "stdout",
     "output_type": "stream",
     "text": [
      "Sampling opponents using Thompson sampling\n",
      "Opponent 0: Checkpoint #9 with alpha 106.00 and beta 96.00\n",
      "Opponent 1: Checkpoint #3 with alpha 359.40 and beta 367.28\n",
      "Opponent 2: Checkpoint #7 with alpha 776.03 and beta 729.05\n",
      "Opponent 3: Checkpoint #2 with alpha 3912.19 and beta 3552.39\n",
      "\n"
     ]
    },
    {
     "name": "stderr",
     "output_type": "stream",
     "text": [
      "\r",
      " 93%|█████████▎| 93/100 [37:08<02:42, 23.27s/it]"
     ]
    },
    {
     "name": "stdout",
     "output_type": "stream",
     "text": [
      "Sampling opponents using Thompson sampling\n",
      "Opponent 0: SavedRLAgent: a3c_agent_v3 with alpha 100.02 and beta 112.60\n",
      "Opponent 1: Checkpoint #6 with alpha 1350.24 and beta 1259.98\n",
      "Opponent 2: Checkpoint #2 with alpha 3812.08 and beta 3479.27\n",
      "Opponent 3: Checkpoint #5 with alpha 66.54 and beta 80.08\n",
      "\n"
     ]
    },
    {
     "name": "stderr",
     "output_type": "stream",
     "text": [
      "\r",
      " 94%|█████████▍| 94/100 [37:31<02:19, 23.27s/it]"
     ]
    },
    {
     "name": "stdout",
     "output_type": "stream",
     "text": [
      "Sampling opponents using Thompson sampling\n",
      "Opponent 0: Checkpoint #0 with alpha 824.14 and beta 748.83\n",
      "Opponent 1: Checkpoint #0 with alpha 824.14 and beta 748.83\n",
      "Opponent 2: Checkpoint #6 with alpha 1376.22 and beta 1303.48\n",
      "Opponent 3: Checkpoint #0 with alpha 824.14 and beta 748.83\n",
      "\n"
     ]
    },
    {
     "name": "stderr",
     "output_type": "stream",
     "text": [
      "\r",
      " 95%|█████████▌| 95/100 [37:54<01:56, 23.27s/it]"
     ]
    },
    {
     "name": "stdout",
     "output_type": "stream",
     "text": [
      "Sampling opponents using Thompson sampling\n",
      "Opponent 0: Checkpoint #9 with alpha 175.72 and beta 177.97\n",
      "Opponent 1: Checkpoint #2 with alpha 3520.20 and beta 3250.24\n",
      "Opponent 2: Checkpoint #0 with alpha 1100.44 and beta 993.89\n",
      "Opponent 3: Checkpoint #0 with alpha 1100.44 and beta 993.89\n",
      "\n"
     ]
    },
    {
     "name": "stderr",
     "output_type": "stream",
     "text": [
      "\r",
      " 96%|█████████▌| 96/100 [38:17<01:33, 23.27s/it]"
     ]
    },
    {
     "name": "stdout",
     "output_type": "stream",
     "text": [
      "Sampling opponents using Thompson sampling\n",
      "Opponent 0: Checkpoint #0 with alpha 1269.41 and beta 1120.19\n",
      "Opponent 1: Checkpoint #9 with alpha 269.43 and beta 266.57\n",
      "Opponent 2: Checkpoint #0 with alpha 1269.41 and beta 1120.19\n",
      "Opponent 3: Checkpoint #0 with alpha 1269.41 and beta 1120.19\n",
      "\n"
     ]
    },
    {
     "name": "stderr",
     "output_type": "stream",
     "text": [
      "\r",
      " 97%|█████████▋| 97/100 [38:41<01:09, 23.28s/it]"
     ]
    },
    {
     "name": "stdout",
     "output_type": "stream",
     "text": [
      "Sampling opponents using Thompson sampling\n",
      "Opponent 0: Checkpoint #1 with alpha 227.82 and beta 234.77\n",
      "Opponent 1: Checkpoint #0 with alpha 1510.44 and beta 1359.68\n",
      "Opponent 2: Checkpoint #0 with alpha 1510.44 and beta 1359.68\n",
      "Opponent 3: Checkpoint #8 with alpha 42.39 and beta 51.19\n",
      "\n"
     ]
    },
    {
     "name": "stderr",
     "output_type": "stream",
     "text": [
      "\r",
      " 98%|█████████▊| 98/100 [39:04<00:46, 23.29s/it]"
     ]
    },
    {
     "name": "stdout",
     "output_type": "stream",
     "text": [
      "Sampling opponents using Thompson sampling\n",
      "Opponent 0: Checkpoint #1 with alpha 329.93 and beta 309.53\n",
      "Opponent 1: Checkpoint #6 with alpha 1196.82 and beta 1157.29\n",
      "Opponent 2: Checkpoint #8 with alpha 149.27 and beta 139.63\n",
      "Opponent 3: Checkpoint #0 with alpha 1645.92 and beta 1480.70\n",
      "\n"
     ]
    },
    {
     "name": "stderr",
     "output_type": "stream",
     "text": [
      "\r",
      " 99%|█████████▉| 99/100 [39:27<00:23, 23.29s/it]"
     ]
    },
    {
     "name": "stdout",
     "output_type": "stream",
     "text": [
      "Sampling opponents using Thompson sampling\n",
      "Opponent 0: Checkpoint #7 with alpha 614.70 and beta 583.37\n",
      "Opponent 1: Checkpoint #8 with alpha 258.81 and beta 215.65\n",
      "Opponent 2: Checkpoint #8 with alpha 258.81 and beta 215.65\n",
      "Opponent 3: Checkpoint #0 with alpha 1677.63 and beta 1492.66\n",
      "\n"
     ]
    },
    {
     "name": "stderr",
     "output_type": "stream",
     "text": [
      "100%|██████████| 100/100 [39:51<00:00, 23.91s/it]\n"
     ]
    },
    {
     "data": {
      "image/png": "[encoded data removed]",
      "text/plain": [
       "<Figure size 460.8x403.2 with 1 Axes>"
      ]
     },
     "metadata": {},
     "output_type": "display_data"
    }
   ],
   "source": [
    "env_kwargs['n_envs'] = 800\n",
    "episode_reward_sums = a3c_alg.train(n_episodes=100, **rl_alg_kwargs, **env_kwargs)\n",
    "\n",
    "#episode_reward_sums = a3c_vectorized_env(env, model, optimizer, n_episodes=50, **rl_alg_kwargs)\n",
    "plt.plot(episode_reward_sums)\n",
    "plt.show();\n",
    "#plt.plot(episode_reward_sums);"
   ]
  },
  {
   "cell_type": "code",
   "execution_count": 99,
   "metadata": {
    "scrolled": true
   },
   "outputs": [
    {
     "name": "stderr",
     "output_type": "stream",
     "text": [
      "\r",
      "  0%|          | 0/200 [00:00<?, ?it/s]"
     ]
    },
    {
     "name": "stdout",
     "output_type": "stream",
     "text": [
      "Sampling opponents using Thompson sampling\n",
      "Opponent 0: Checkpoint #31 with alpha 28.68 and beta 29.21\n",
      "Opponent 1: Checkpoint #11 with alpha 44.88 and beta 40.54\n",
      "Opponent 2: Checkpoint #88 with alpha 12.84 and beta 17.62\n",
      "Opponent 3: Checkpoint #86 with alpha 125.97 and beta 94.11\n",
      "\n"
     ]
    },
    {
     "name": "stderr",
     "output_type": "stream",
     "text": [
      "\r",
      "  0%|          | 1/200 [00:27<1:30:46, 27.37s/it]"
     ]
    },
    {
     "name": "stdout",
     "output_type": "stream",
     "text": [
      "Sampling opponents using Thompson sampling\n",
      "Opponent 0: Checkpoint #54 with alpha 36.48 and beta 33.33\n",
      "Opponent 1: Checkpoint #55 with alpha 9.73 and beta 13.26\n",
      "Opponent 2: Checkpoint #100 with alpha 1.00 and beta 1.00\n",
      "Opponent 3: Checkpoint #53 with alpha 78.79 and beta 66.68\n",
      "\n"
     ]
    },
    {
     "name": "stderr",
     "output_type": "stream",
     "text": [
      "\r",
      "  1%|          | 2/200 [00:55<1:30:42, 27.49s/it]"
     ]
    },
    {
     "name": "stdout",
     "output_type": "stream",
     "text": [
      "Sampling opponents using Thompson sampling\n",
      "Opponent 0: Checkpoint #17 with alpha 16.45 and beta 18.43\n",
      "Opponent 1: Checkpoint #8 with alpha 19.11 and beta 21.18\n",
      "Opponent 2: Checkpoint #95 with alpha 21.42 and beta 21.99\n",
      "Opponent 3: Checkpoint #91 with alpha 30.19 and beta 29.87\n",
      "\n"
     ]
    },
    {
     "name": "stderr",
     "output_type": "stream",
     "text": [
      "\r",
      "  2%|▏         | 3/200 [01:21<1:28:55, 27.09s/it]"
     ]
    },
    {
     "name": "stdout",
     "output_type": "stream",
     "text": [
      "Sampling opponents using Thompson sampling\n",
      "Opponent 0: Checkpoint #59 with alpha 18.78 and beta 19.62\n",
      "Opponent 1: Checkpoint #83 with alpha 28.22 and beta 24.50\n",
      "Opponent 2: Checkpoint #45 with alpha 71.62 and beta 61.14\n",
      "Opponent 3: Checkpoint #77 with alpha 65.96 and beta 59.35\n",
      "\n"
     ]
    },
    {
     "name": "stderr",
     "output_type": "stream",
     "text": [
      "\r",
      "  2%|▏         | 4/200 [01:49<1:29:16, 27.33s/it]"
     ]
    },
    {
     "name": "stdout",
     "output_type": "stream",
     "text": [
      "Sampling opponents using Thompson sampling\n",
      "Opponent 0: Checkpoint #30 with alpha 91.90 and beta 78.95\n",
      "Opponent 1: Checkpoint #48 with alpha 15.69 and beta 17.33\n",
      "Opponent 2: Checkpoint #36 with alpha 46.89 and beta 51.33\n",
      "Opponent 3: Checkpoint #63 with alpha 9.07 and beta 11.09\n",
      "\n"
     ]
    },
    {
     "name": "stderr",
     "output_type": "stream",
     "text": [
      "\r",
      "  2%|▎         | 5/200 [02:17<1:29:47, 27.63s/it]"
     ]
    },
    {
     "name": "stdout",
     "output_type": "stream",
     "text": [
      "Sampling opponents using Thompson sampling\n",
      "Opponent 0: Checkpoint #19 with alpha 39.16 and beta 39.83\n",
      "Opponent 1: Checkpoint #1 with alpha 59.41 and beta 55.24\n",
      "Opponent 2: Checkpoint #92 with alpha 48.09 and beta 41.85\n",
      "Opponent 3: Checkpoint #40 with alpha 86.77 and beta 85.67\n",
      "\n"
     ]
    },
    {
     "name": "stderr",
     "output_type": "stream",
     "text": [
      "\r",
      "  3%|▎         | 6/200 [02:45<1:29:34, 27.70s/it]"
     ]
    },
    {
     "name": "stdout",
     "output_type": "stream",
     "text": [
      "Sampling opponents using Thompson sampling\n",
      "Opponent 0: Checkpoint #13 with alpha 59.74 and beta 54.90\n",
      "Opponent 1: Checkpoint #60 with alpha 29.77 and beta 26.90\n",
      "Opponent 2: Checkpoint #9 with alpha 10.00 and beta 13.40\n",
      "Opponent 3: Checkpoint #54 with alpha 123.12 and beta 93.80\n",
      "\n"
     ]
    },
    {
     "name": "stderr",
     "output_type": "stream",
     "text": [
      "\r",
      "  4%|▎         | 7/200 [03:12<1:28:59, 27.67s/it]"
     ]
    },
    {
     "name": "stdout",
     "output_type": "stream",
     "text": [
      "Sampling opponents using Thompson sampling\n",
      "Opponent 0: Checkpoint #78 with alpha 103.60 and beta 79.20\n",
      "Opponent 1: Checkpoint #75 with alpha 64.51 and beta 58.41\n",
      "Opponent 2: Checkpoint #4 with alpha 11.50 and beta 14.58\n",
      "Opponent 3: Checkpoint #18 with alpha 30.79 and beta 28.59\n",
      "\n"
     ]
    },
    {
     "name": "stderr",
     "output_type": "stream",
     "text": [
      "\r",
      "  4%|▍         | 8/200 [03:38<1:26:57, 27.17s/it]"
     ]
    },
    {
     "name": "stdout",
     "output_type": "stream",
     "text": [
      "Sampling opponents using Thompson sampling\n",
      "Opponent 0: Checkpoint #49 with alpha 5.29 and beta 7.05\n",
      "Opponent 1: Checkpoint #0 with alpha 12.19 and beta 12.90\n",
      "Opponent 2: Checkpoint #22 with alpha 81.56 and beta 70.35\n",
      "Opponent 3: Checkpoint #65 with alpha 33.31 and beta 31.79\n",
      "\n"
     ]
    },
    {
     "name": "stderr",
     "output_type": "stream",
     "text": [
      "\r",
      "  4%|▍         | 9/200 [04:04<1:25:06, 26.73s/it]"
     ]
    },
    {
     "name": "stdout",
     "output_type": "stream",
     "text": [
      "Sampling opponents using Thompson sampling\n",
      "Opponent 0: Checkpoint #32 with alpha 12.42 and beta 13.16\n",
      "Opponent 1: Checkpoint #67 with alpha 12.59 and beta 14.32\n",
      "Opponent 2: Checkpoint #100 with alpha 77.17 and beta 63.90\n",
      "Opponent 3: Checkpoint #68 with alpha 19.46 and beta 19.62\n",
      "\n"
     ]
    },
    {
     "name": "stderr",
     "output_type": "stream",
     "text": [
      "\r",
      "  5%|▌         | 10/200 [04:30<1:23:46, 26.45s/it]"
     ]
    },
    {
     "name": "stdout",
     "output_type": "stream",
     "text": [
      "Sampling opponents using Thompson sampling\n",
      "Opponent 0: Checkpoint #47 with alpha 48.14 and beta 39.84\n",
      "Opponent 1: Checkpoint #47 with alpha 48.14 and beta 39.84\n",
      "Opponent 2: Checkpoint #44 with alpha 65.66 and beta 53.99\n",
      "Opponent 3: SavedRLAgent: a3c_agent_v3 with alpha 28.37 and beta 28.27\n",
      "\n"
     ]
    },
    {
     "name": "stderr",
     "output_type": "stream",
     "text": [
      "\r",
      "  6%|▌         | 11/200 [04:56<1:22:41, 26.25s/it]"
     ]
    },
    {
     "name": "stdout",
     "output_type": "stream",
     "text": [
      "Sampling opponents using Thompson sampling\n",
      "Opponent 0: Checkpoint #101 with alpha 1.00 and beta 1.00\n",
      "Opponent 1: Checkpoint #101 with alpha 1.00 and beta 1.00\n",
      "Opponent 2: Checkpoint #87 with alpha 115.05 and beta 90.83\n",
      "Opponent 3: Checkpoint #59 with alpha 88.93 and beta 76.22\n",
      "\n"
     ]
    },
    {
     "name": "stderr",
     "output_type": "stream",
     "text": [
      "\r",
      "  6%|▌         | 12/200 [05:22<1:21:46, 26.10s/it]"
     ]
    },
    {
     "name": "stdout",
     "output_type": "stream",
     "text": [
      "Sampling opponents using Thompson sampling\n",
      "Opponent 0: Checkpoint #52 with alpha 85.52 and beta 69.19\n",
      "Opponent 1: Checkpoint #69 with alpha 12.55 and beta 13.45\n",
      "Opponent 2: Checkpoint #79 with alpha 60.78 and beta 52.71\n",
      "Opponent 3: Checkpoint #37 with alpha 25.04 and beta 32.65\n",
      "\n"
     ]
    },
    {
     "name": "stderr",
     "output_type": "stream",
     "text": [
      "\r",
      "  6%|▋         | 13/200 [05:47<1:21:09, 26.04s/it]"
     ]
    },
    {
     "name": "stdout",
     "output_type": "stream",
     "text": [
      "Sampling opponents using Thompson sampling\n",
      "Opponent 0: Checkpoint #16 with alpha 56.81 and beta 62.53\n",
      "Opponent 1: Checkpoint #42 with alpha 40.73 and beta 40.86\n",
      "Opponent 2: Checkpoint #46 with alpha 61.06 and beta 47.81\n",
      "Opponent 3: Checkpoint #71 with alpha 108.70 and beta 81.71\n",
      "\n"
     ]
    },
    {
     "name": "stderr",
     "output_type": "stream",
     "text": [
      "\r",
      "  7%|▋         | 14/200 [06:13<1:20:28, 25.96s/it]"
     ]
    },
    {
     "name": "stdout",
     "output_type": "stream",
     "text": [
      "Sampling opponents using Thompson sampling\n",
      "Opponent 0: Checkpoint #55 with alpha 66.87 and beta 53.01\n",
      "Opponent 1: Checkpoint #6 with alpha 24.37 and beta 22.74\n",
      "Opponent 2: Checkpoint #27 with alpha 30.84 and beta 36.64\n",
      "Opponent 3: Checkpoint #61 with alpha 11.46 and beta 14.46\n",
      "\n"
     ]
    },
    {
     "name": "stderr",
     "output_type": "stream",
     "text": [
      "\r",
      "  8%|▊         | 15/200 [06:39<1:19:50, 25.90s/it]"
     ]
    },
    {
     "name": "stdout",
     "output_type": "stream",
     "text": [
      "Sampling opponents using Thompson sampling\n",
      "Opponent 0: Checkpoint #78 with alpha 147.99 and beta 112.95\n",
      "Opponent 1: Checkpoint #12 with alpha 35.65 and beta 37.26\n",
      "Opponent 2: Checkpoint #25 with alpha 27.01 and beta 31.71\n",
      "Opponent 3: Checkpoint #64 with alpha 28.19 and beta 32.50\n",
      "\n"
     ]
    },
    {
     "name": "stderr",
     "output_type": "stream",
     "text": [
      "\r",
      "  8%|▊         | 16/200 [07:05<1:19:22, 25.88s/it]"
     ]
    },
    {
     "name": "stdout",
     "output_type": "stream",
     "text": [
      "Sampling opponents using Thompson sampling\n",
      "Opponent 0: Checkpoint #34 with alpha 39.58 and beta 40.53\n",
      "Opponent 1: Checkpoint #98 with alpha 80.26 and beta 75.28\n",
      "Opponent 2: Checkpoint #5 with alpha 30.83 and beta 29.13\n",
      "Opponent 3: Checkpoint #94 with alpha 21.40 and beta 23.62\n",
      "\n"
     ]
    },
    {
     "name": "stderr",
     "output_type": "stream",
     "text": [
      "\r",
      "  8%|▊         | 17/200 [07:31<1:18:48, 25.84s/it]"
     ]
    },
    {
     "name": "stdout",
     "output_type": "stream",
     "text": [
      "Sampling opponents using Thompson sampling\n",
      "Opponent 0: Checkpoint #83 with alpha 70.74 and beta 57.64\n",
      "Opponent 1: Checkpoint #85 with alpha 28.30 and beta 26.70\n",
      "Opponent 2: Checkpoint #21 with alpha 42.68 and beta 36.56\n",
      "Opponent 3: Checkpoint #83 with alpha 70.74 and beta 57.64\n",
      "\n"
     ]
    },
    {
     "name": "stderr",
     "output_type": "stream",
     "text": [
      "\r",
      "  9%|▉         | 18/200 [07:56<1:18:18, 25.81s/it]"
     ]
    },
    {
     "name": "stdout",
     "output_type": "stream",
     "text": [
      "Sampling opponents using Thompson sampling\n",
      "Opponent 0: Checkpoint #97 with alpha 28.20 and beta 28.67\n",
      "Opponent 1: Checkpoint #73 with alpha 32.42 and beta 29.76\n",
      "Opponent 2: Checkpoint #86 with alpha 91.64 and beta 79.40\n",
      "Opponent 3: Checkpoint #73 with alpha 32.42 and beta 29.76\n",
      "\n"
     ]
    },
    {
     "name": "stderr",
     "output_type": "stream",
     "text": [
      "\r",
      " 10%|▉         | 19/200 [08:22<1:17:50, 25.80s/it]"
     ]
    },
    {
     "name": "stdout",
     "output_type": "stream",
     "text": [
      "Sampling opponents using Thompson sampling\n",
      "Opponent 0: Checkpoint #90 with alpha 21.48 and beta 22.76\n",
      "Opponent 1: Checkpoint #35 with alpha 43.40 and beta 44.07\n",
      "Opponent 2: Checkpoint #89 with alpha 20.01 and beta 24.58\n",
      "Opponent 3: Checkpoint #81 with alpha 14.44 and beta 16.84\n",
      "\n"
     ]
    },
    {
     "name": "stderr",
     "output_type": "stream",
     "text": [
      "\r",
      " 10%|█         | 20/200 [08:48<1:17:21, 25.78s/it]"
     ]
    },
    {
     "name": "stdout",
     "output_type": "stream",
     "text": [
      "Sampling opponents using Thompson sampling\n",
      "Opponent 0: Checkpoint #50 with alpha 62.80 and beta 52.27\n",
      "Opponent 1: Checkpoint #62 with alpha 21.26 and beta 23.30\n",
      "Opponent 2: Checkpoint #50 with alpha 62.80 and beta 52.27\n",
      "Opponent 3: Checkpoint #53 with alpha 69.85 and beta 64.48\n",
      "\n"
     ]
    },
    {
     "name": "stderr",
     "output_type": "stream",
     "text": [
      "\r",
      " 10%|█         | 21/200 [09:14<1:16:54, 25.78s/it]"
     ]
    },
    {
     "name": "stdout",
     "output_type": "stream",
     "text": [
      "Sampling opponents using Thompson sampling\n",
      "Opponent 0: Checkpoint #102 with alpha 1.00 and beta 1.00\n",
      "Opponent 1: Checkpoint #102 with alpha 1.00 and beta 1.00\n",
      "Opponent 2: Checkpoint #10 with alpha 10.56 and beta 11.66\n",
      "Opponent 3: Checkpoint #102 with alpha 1.00 and beta 1.00\n",
      "\n"
     ]
    },
    {
     "name": "stderr",
     "output_type": "stream",
     "text": [
      "\r",
      " 11%|█         | 22/200 [09:39<1:16:27, 25.77s/it]"
     ]
    },
    {
     "name": "stdout",
     "output_type": "stream",
     "text": [
      "Sampling opponents using Thompson sampling\n",
      "Opponent 0: Checkpoint #38 with alpha 59.30 and beta 50.18\n",
      "Opponent 1: Checkpoint #60 with alpha 62.44 and beta 55.16\n",
      "Opponent 2: Checkpoint #58 with alpha 32.46 and beta 31.53\n",
      "Opponent 3: Checkpoint #66 with alpha 5.44 and beta 7.18\n",
      "\n"
     ]
    },
    {
     "name": "stderr",
     "output_type": "stream",
     "text": [
      "\r",
      " 12%|█▏        | 23/200 [10:05<1:16:01, 25.77s/it]"
     ]
    },
    {
     "name": "stdout",
     "output_type": "stream",
     "text": [
      "Sampling opponents using Thompson sampling\n",
      "Opponent 0: Checkpoint #52 with alpha 109.42 and beta 98.33\n",
      "Opponent 1: Checkpoint #29 with alpha 26.15 and beta 29.74\n",
      "Opponent 2: Checkpoint #70 with alpha 37.21 and beta 33.04\n",
      "Opponent 3: Checkpoint #26 with alpha 14.59 and beta 16.90\n",
      "\n"
     ]
    },
    {
     "name": "stderr",
     "output_type": "stream",
     "text": [
      "\r",
      " 12%|█▏        | 24/200 [10:31<1:15:39, 25.79s/it]"
     ]
    },
    {
     "name": "stdout",
     "output_type": "stream",
     "text": [
      "Sampling opponents using Thompson sampling\n",
      "Opponent 0: Checkpoint #23 with alpha 81.09 and beta 72.69\n",
      "Opponent 1: Checkpoint #43 with alpha 50.07 and beta 44.59\n",
      "Opponent 2: Checkpoint #51 with alpha 47.69 and beta 45.93\n",
      "Opponent 3: Checkpoint #20 with alpha 22.59 and beta 20.96\n",
      "\n"
     ]
    },
    {
     "name": "stderr",
     "output_type": "stream",
     "text": [
      "\r",
      " 12%|█▎        | 25/200 [10:57<1:15:13, 25.79s/it]"
     ]
    },
    {
     "name": "stdout",
     "output_type": "stream",
     "text": [
      "Sampling opponents using Thompson sampling\n",
      "Opponent 0: Checkpoint #0 with alpha 52.63 and beta 45.88\n",
      "Opponent 1: Checkpoint #71 with alpha 117.89 and beta 98.76\n",
      "Opponent 2: Checkpoint #9 with alpha 41.71 and beta 46.57\n",
      "Opponent 3: Checkpoint #2 with alpha 54.61 and beta 47.40\n",
      "\n"
     ]
    },
    {
     "name": "stderr",
     "output_type": "stream",
     "text": [
      "\r",
      " 13%|█▎        | 26/200 [11:23<1:14:50, 25.81s/it]"
     ]
    },
    {
     "name": "stdout",
     "output_type": "stream",
     "text": [
      "Sampling opponents using Thompson sampling\n",
      "Opponent 0: Checkpoint #39 with alpha 17.66 and beta 21.64\n",
      "Opponent 1: Checkpoint #96 with alpha 19.49 and beta 20.04\n",
      "Opponent 2: Checkpoint #96 with alpha 19.49 and beta 20.04\n",
      "Opponent 3: Checkpoint #84 with alpha 18.07 and beta 17.28\n",
      "\n"
     ]
    },
    {
     "name": "stderr",
     "output_type": "stream",
     "text": [
      "\r",
      " 14%|█▎        | 27/200 [11:48<1:14:26, 25.82s/it]"
     ]
    },
    {
     "name": "stdout",
     "output_type": "stream",
     "text": [
      "Sampling opponents using Thompson sampling\n",
      "Opponent 0: Checkpoint #24 with alpha 15.22 and beta 17.41\n",
      "Opponent 1: Checkpoint #102 with alpha 252.25 and beta 213.56\n",
      "Opponent 2: Checkpoint #21 with alpha 88.26 and beta 85.23\n",
      "Opponent 3: Checkpoint #55 with alpha 93.50 and beta 76.11\n",
      "\n"
     ]
    },
    {
     "name": "stderr",
     "output_type": "stream",
     "text": [
      "\r",
      " 14%|█▍        | 28/200 [12:14<1:13:57, 25.80s/it]"
     ]
    },
    {
     "name": "stdout",
     "output_type": "stream",
     "text": [
      "Sampling opponents using Thompson sampling\n",
      "Opponent 0: Checkpoint #11 with alpha 34.46 and beta 35.93\n",
      "Opponent 1: Checkpoint #31 with alpha 30.23 and beta 33.61\n",
      "Opponent 2: Checkpoint #56 with alpha 20.78 and beta 23.33\n",
      "Opponent 3: Checkpoint #68 with alpha 47.26 and beta 46.93\n",
      "\n"
     ]
    },
    {
     "name": "stderr",
     "output_type": "stream",
     "text": [
      "\r",
      " 14%|█▍        | 29/200 [12:39<1:12:21, 25.39s/it]"
     ]
    },
    {
     "name": "stdout",
     "output_type": "stream",
     "text": [
      "Sampling opponents using Thompson sampling\n",
      "Opponent 0: Checkpoint #54 with alpha 66.80 and beta 64.58\n",
      "Opponent 1: Checkpoint #67 with alpha 43.38 and beta 41.74\n",
      "Opponent 2: Checkpoint #6 with alpha 61.76 and beta 57.60\n",
      "Opponent 3: Checkpoint #77 with alpha 44.29 and beta 44.21\n",
      "\n"
     ]
    },
    {
     "name": "stderr",
     "output_type": "stream",
     "text": [
      "\r",
      " 15%|█▌        | 30/200 [13:02<1:10:11, 24.77s/it]"
     ]
    },
    {
     "name": "stdout",
     "output_type": "stream",
     "text": [
      "Sampling opponents using Thompson sampling\n",
      "Opponent 0: Checkpoint #82 with alpha 19.49 and beta 22.41\n",
      "Opponent 1: Checkpoint #8 with alpha 27.95 and beta 31.70\n",
      "Opponent 2: Checkpoint #3 with alpha 19.30 and beta 22.59\n",
      "Opponent 3: SavedRLAgent: a3c_agent_v3 with alpha 48.28 and beta 47.49\n",
      "\n"
     ]
    },
    {
     "name": "stderr",
     "output_type": "stream",
     "text": [
      "\r",
      " 16%|█▌        | 31/200 [13:25<1:08:36, 24.36s/it]"
     ]
    },
    {
     "name": "stdout",
     "output_type": "stream",
     "text": [
      "Sampling opponents using Thompson sampling\n",
      "Opponent 0: Checkpoint #103 with alpha 1.00 and beta 1.00\n",
      "Opponent 1: Checkpoint #83 with alpha 145.12 and beta 122.82\n",
      "Opponent 2: Checkpoint #78 with alpha 107.06 and beta 100.44\n",
      "Opponent 3: Checkpoint #41 with alpha 23.44 and beta 25.13\n",
      "\n"
     ]
    },
    {
     "name": "stderr",
     "output_type": "stream",
     "text": [
      "\r",
      " 16%|█▌        | 32/200 [13:49<1:07:26, 24.09s/it]"
     ]
    },
    {
     "name": "stdout",
     "output_type": "stream",
     "text": [
      "Sampling opponents using Thompson sampling\n",
      "Opponent 0: Checkpoint #84 with alpha 90.28 and beta 90.47\n",
      "Opponent 1: Checkpoint #95 with alpha 25.38 and beta 29.12\n",
      "Opponent 2: Checkpoint #26 with alpha 79.19 and beta 73.35\n",
      "Opponent 3: Checkpoint #15 with alpha 17.76 and beta 21.70\n",
      "\n"
     ]
    },
    {
     "name": "stderr",
     "output_type": "stream",
     "text": [
      "\r",
      " 16%|█▋        | 33/200 [14:12<1:06:29, 23.89s/it]"
     ]
    },
    {
     "name": "stdout",
     "output_type": "stream",
     "text": [
      "Sampling opponents using Thompson sampling\n",
      "Opponent 0: Checkpoint #64 with alpha 56.15 and beta 51.59\n",
      "Opponent 1: Checkpoint #74 with alpha 12.00 and beta 14.26\n",
      "Opponent 2: Checkpoint #57 with alpha 6.66 and beta 9.71\n",
      "Opponent 3: Checkpoint #66 with alpha 65.36 and beta 61.56\n",
      "\n"
     ]
    },
    {
     "name": "stderr",
     "output_type": "stream",
     "text": [
      "\r",
      " 17%|█▋        | 34/200 [14:36<1:05:42, 23.75s/it]"
     ]
    },
    {
     "name": "stdout",
     "output_type": "stream",
     "text": [
      "Sampling opponents using Thompson sampling\n",
      "Opponent 0: Checkpoint #2 with alpha 109.38 and beta 87.59\n",
      "Opponent 1: Checkpoint #33 with alpha 11.70 and beta 15.57\n",
      "Opponent 2: Checkpoint #1 with alpha 36.61 and beta 36.86\n",
      "Opponent 3: Checkpoint #27 with alpha 48.98 and beta 50.68\n",
      "\n"
     ]
    },
    {
     "name": "stderr",
     "output_type": "stream",
     "text": [
      "\r",
      " 18%|█▊        | 35/200 [14:59<1:05:04, 23.66s/it]"
     ]
    },
    {
     "name": "stdout",
     "output_type": "stream",
     "text": [
      "Sampling opponents using Thompson sampling\n",
      "Opponent 0: Checkpoint #14 with alpha 17.22 and beta 18.89\n",
      "Opponent 1: Checkpoint #76 with alpha 20.39 and beta 20.87\n",
      "Opponent 2: Checkpoint #72 with alpha 24.25 and beta 24.07\n",
      "Opponent 3: Checkpoint #29 with alpha 70.44 and beta 73.52\n",
      "\n"
     ]
    },
    {
     "name": "stderr",
     "output_type": "stream",
     "text": [
      "\r",
      " 18%|█▊        | 36/200 [15:23<1:04:32, 23.62s/it]"
     ]
    },
    {
     "name": "stdout",
     "output_type": "stream",
     "text": [
      "Sampling opponents using Thompson sampling\n",
      "Opponent 0: Checkpoint #100 with alpha 45.27 and beta 42.74\n",
      "Opponent 1: Checkpoint #32 with alpha 26.30 and beta 32.81\n",
      "Opponent 2: Checkpoint #7 with alpha 25.51 and beta 22.82\n",
      "Opponent 3: Checkpoint #75 with alpha 36.69 and beta 38.64\n",
      "\n"
     ]
    },
    {
     "name": "stderr",
     "output_type": "stream",
     "text": [
      "\r",
      " 18%|█▊        | 37/200 [15:46<1:03:57, 23.54s/it]"
     ]
    },
    {
     "name": "stdout",
     "output_type": "stream",
     "text": [
      "Sampling opponents using Thompson sampling\n",
      "Opponent 0: Checkpoint #46 with alpha 48.72 and beta 44.54\n",
      "Opponent 1: Checkpoint #65 with alpha 29.64 and beta 32.63\n",
      "Opponent 2: Checkpoint #30 with alpha 35.70 and beta 34.48\n",
      "Opponent 3: Checkpoint #92 with alpha 28.99 and beta 29.21\n",
      "\n"
     ]
    },
    {
     "name": "stderr",
     "output_type": "stream",
     "text": [
      "\r",
      " 19%|█▉        | 38/200 [16:09<1:03:24, 23.48s/it]"
     ]
    },
    {
     "name": "stdout",
     "output_type": "stream",
     "text": [
      "Sampling opponents using Thompson sampling\n",
      "Opponent 0: Checkpoint #22 with alpha 40.55 and beta 37.24\n",
      "Opponent 1: Checkpoint #13 with alpha 33.59 and beta 29.39\n",
      "Opponent 2: Checkpoint #91 with alpha 21.21 and beta 21.49\n",
      "Opponent 3: Checkpoint #38 with alpha 71.50 and beta 69.34\n",
      "\n"
     ]
    },
    {
     "name": "stderr",
     "output_type": "stream",
     "text": [
      "\r",
      " 20%|█▉        | 39/200 [16:33<1:03:05, 23.51s/it]"
     ]
    },
    {
     "name": "stdout",
     "output_type": "stream",
     "text": [
      "Sampling opponents using Thompson sampling\n",
      "Opponent 0: Checkpoint #59 with alpha 45.18 and beta 44.16\n",
      "Opponent 1: Checkpoint #35 with alpha 48.58 and beta 58.25\n",
      "Opponent 2: Checkpoint #44 with alpha 39.33 and beta 35.27\n",
      "Opponent 3: Checkpoint #88 with alpha 14.70 and beta 17.90\n",
      "\n"
     ]
    },
    {
     "name": "stderr",
     "output_type": "stream",
     "text": [
      "\r",
      " 20%|██        | 40/200 [16:56<1:02:42, 23.51s/it]"
     ]
    },
    {
     "name": "stdout",
     "output_type": "stream",
     "text": [
      "Sampling opponents using Thompson sampling\n",
      "Opponent 0: Checkpoint #93 with alpha 13.41 and beta 16.07\n",
      "Opponent 1: Checkpoint #18 with alpha 23.78 and beta 25.89\n",
      "Opponent 2: Checkpoint #102 with alpha 182.99 and beta 164.21\n",
      "Opponent 3: Checkpoint #89 with alpha 45.89 and beta 40.99\n",
      "\n"
     ]
    },
    {
     "name": "stderr",
     "output_type": "stream",
     "text": [
      "\r",
      " 20%|██        | 41/200 [17:20<1:02:14, 23.49s/it]"
     ]
    },
    {
     "name": "stdout",
     "output_type": "stream",
     "text": [
      "Sampling opponents using Thompson sampling\n",
      "Opponent 0: Checkpoint #5 with alpha 35.56 and beta 39.47\n",
      "Opponent 1: Checkpoint #4 with alpha 19.12 and beta 22.24\n",
      "Opponent 2: Checkpoint #63 with alpha 15.64 and beta 18.94\n",
      "Opponent 3: Checkpoint #71 with alpha 97.29 and beta 90.72\n",
      "\n"
     ]
    },
    {
     "name": "stderr",
     "output_type": "stream",
     "text": [
      "\r",
      " 21%|██        | 42/200 [17:43<1:01:48, 23.47s/it]"
     ]
    },
    {
     "name": "stdout",
     "output_type": "stream",
     "text": [
      "Sampling opponents using Thompson sampling\n",
      "Opponent 0: Checkpoint #104 with alpha 1.00 and beta 1.00\n",
      "Opponent 1: Checkpoint #62 with alpha 39.57 and beta 42.96\n",
      "Opponent 2: Checkpoint #99 with alpha 21.31 and beta 25.01\n",
      "Opponent 3: Checkpoint #36 with alpha 21.59 and beta 22.37\n",
      "\n"
     ]
    },
    {
     "name": "stderr",
     "output_type": "stream",
     "text": [
      "\r",
      " 22%|██▏       | 43/200 [18:07<1:01:23, 23.46s/it]"
     ]
    },
    {
     "name": "stdout",
     "output_type": "stream",
     "text": [
      "Sampling opponents using Thompson sampling\n",
      "Opponent 0: Checkpoint #18 with alpha 117.86 and beta 105.23\n",
      "Opponent 1: Checkpoint #17 with alpha 13.19 and beta 16.77\n",
      "Opponent 2: Checkpoint #71 with alpha 196.10 and beta 163.58\n",
      "Opponent 3: Checkpoint #104 with alpha 113.00 and beta 89.00\n",
      "\n"
     ]
    },
    {
     "name": "stderr",
     "output_type": "stream",
     "text": [
      "\r",
      " 22%|██▏       | 44/200 [18:30<1:00:58, 23.45s/it]"
     ]
    },
    {
     "name": "stdout",
     "output_type": "stream",
     "text": [
      "Sampling opponents using Thompson sampling\n",
      "Opponent 0: Checkpoint #47 with alpha 45.50 and beta 43.49\n",
      "Opponent 1: Checkpoint #80 with alpha 7.71 and beta 11.69\n",
      "Opponent 2: Checkpoint #13 with alpha 108.65 and beta 92.41\n",
      "Opponent 3: Checkpoint #28 with alpha 10.00 and beta 11.39\n",
      "\n"
     ]
    },
    {
     "name": "stderr",
     "output_type": "stream",
     "text": [
      "\r",
      " 22%|██▎       | 45/200 [18:54<1:00:35, 23.45s/it]"
     ]
    },
    {
     "name": "stdout",
     "output_type": "stream",
     "text": [
      "Sampling opponents using Thompson sampling\n",
      "Opponent 0: Checkpoint #16 with alpha 30.27 and beta 33.62\n",
      "Opponent 1: Checkpoint #10 with alpha 31.51 and beta 36.45\n",
      "Opponent 2: Checkpoint #40 with alpha 24.48 and beta 24.74\n",
      "Opponent 3: Checkpoint #89 with alpha 128.36 and beta 101.77\n",
      "\n"
     ]
    },
    {
     "name": "stderr",
     "output_type": "stream",
     "text": [
      "\r",
      " 23%|██▎       | 46/200 [19:17<1:00:15, 23.48s/it]"
     ]
    },
    {
     "name": "stdout",
     "output_type": "stream",
     "text": [
      "Sampling opponents using Thompson sampling\n",
      "Opponent 0: Checkpoint #73 with alpha 60.41 and beta 54.52\n",
      "Opponent 1: Checkpoint #98 with alpha 40.16 and beta 38.41\n",
      "Opponent 2: Checkpoint #12 with alpha 29.59 and beta 28.20\n",
      "Opponent 3: Checkpoint #12 with alpha 29.59 and beta 28.20\n",
      "\n"
     ]
    },
    {
     "name": "stderr",
     "output_type": "stream",
     "text": [
      "\r",
      " 24%|██▎       | 47/200 [19:41<59:50, 23.47s/it]  "
     ]
    },
    {
     "name": "stdout",
     "output_type": "stream",
     "text": [
      "Sampling opponents using Thompson sampling\n",
      "Opponent 0: Checkpoint #61 with alpha 21.38 and beta 22.13\n",
      "Opponent 1: Checkpoint #61 with alpha 21.38 and beta 22.13\n",
      "Opponent 2: Checkpoint #25 with alpha 22.26 and beta 29.90\n",
      "Opponent 3: Checkpoint #50 with alpha 68.16 and beta 66.05\n",
      "\n"
     ]
    },
    {
     "name": "stderr",
     "output_type": "stream",
     "text": [
      "\r",
      " 24%|██▍       | 48/200 [20:04<59:24, 23.45s/it]"
     ]
    },
    {
     "name": "stdout",
     "output_type": "stream",
     "text": [
      "Sampling opponents using Thompson sampling\n",
      "Opponent 0: Checkpoint #103 with alpha 44.01 and beta 44.89\n",
      "Opponent 1: Checkpoint #87 with alpha 31.76 and beta 30.65\n",
      "Opponent 2: Checkpoint #90 with alpha 28.52 and beta 29.04\n",
      "Opponent 3: Checkpoint #49 with alpha 12.04 and beta 16.60\n",
      "\n"
     ]
    },
    {
     "name": "stderr",
     "output_type": "stream",
     "text": [
      "\r",
      " 24%|██▍       | 49/200 [20:27<58:55, 23.42s/it]"
     ]
    },
    {
     "name": "stdout",
     "output_type": "stream",
     "text": [
      "Sampling opponents using Thompson sampling\n",
      "Opponent 0: Checkpoint #19 with alpha 13.91 and beta 16.40\n",
      "Opponent 1: Checkpoint #53 with alpha 38.02 and beta 39.90\n",
      "Opponent 2: Checkpoint #23 with alpha 51.25 and beta 49.80\n",
      "Opponent 3: Checkpoint #42 with alpha 21.46 and beta 24.63\n",
      "\n"
     ]
    },
    {
     "name": "stderr",
     "output_type": "stream",
     "text": [
      "\r",
      " 25%|██▌       | 50/200 [20:51<58:29, 23.40s/it]"
     ]
    },
    {
     "name": "stdout",
     "output_type": "stream",
     "text": [
      "Sampling opponents using Thompson sampling\n",
      "Opponent 0: Checkpoint #21 with alpha 58.03 and beta 60.01\n",
      "Opponent 1: Checkpoint #58 with alpha 33.01 and beta 32.28\n",
      "Opponent 2: Checkpoint #39 with alpha 34.05 and beta 38.90\n",
      "Opponent 3: Checkpoint #81 with alpha 22.80 and beta 26.51\n",
      "\n"
     ]
    },
    {
     "name": "stderr",
     "output_type": "stream",
     "text": [
      "\r",
      " 26%|██▌       | 51/200 [21:14<58:03, 23.38s/it]"
     ]
    },
    {
     "name": "stdout",
     "output_type": "stream",
     "text": [
      "Sampling opponents using Thompson sampling\n",
      "Opponent 0: Checkpoint #105 with alpha 1.00 and beta 1.00\n",
      "Opponent 1: Checkpoint #10 with alpha 110.60 and beta 94.11\n",
      "Opponent 2: Checkpoint #105 with alpha 1.00 and beta 1.00\n",
      "Opponent 3: Checkpoint #105 with alpha 1.00 and beta 1.00\n",
      "\n"
     ]
    },
    {
     "name": "stderr",
     "output_type": "stream",
     "text": [
      "\r",
      " 26%|██▌       | 52/200 [21:37<57:41, 23.39s/it]"
     ]
    },
    {
     "name": "stdout",
     "output_type": "stream",
     "text": [
      "Sampling opponents using Thompson sampling\n",
      "Opponent 0: Checkpoint #94 with alpha 19.49 and beta 20.83\n",
      "Opponent 1: Checkpoint #41 with alpha 44.37 and beta 43.87\n",
      "Opponent 2: Checkpoint #100 with alpha 66.49 and beta 64.91\n",
      "Opponent 3: Checkpoint #38 with alpha 92.11 and beta 79.25\n",
      "\n"
     ]
    },
    {
     "name": "stderr",
     "output_type": "stream",
     "text": [
      "\r",
      " 26%|██▋       | 53/200 [22:01<57:21, 23.41s/it]"
     ]
    },
    {
     "name": "stdout",
     "output_type": "stream",
     "text": [
      "Sampling opponents using Thompson sampling\n",
      "Opponent 0: Checkpoint #34 with alpha 20.05 and beta 23.51\n",
      "Opponent 1: Checkpoint #86 with alpha 32.27 and beta 31.11\n",
      "Opponent 2: Checkpoint #43 with alpha 34.74 and beta 34.21\n",
      "Opponent 3: Checkpoint #32 with alpha 56.33 and beta 56.41\n",
      "\n"
     ]
    },
    {
     "name": "stderr",
     "output_type": "stream",
     "text": [
      "\r",
      " 27%|██▋       | 54/200 [22:24<56:57, 23.41s/it]"
     ]
    },
    {
     "name": "stdout",
     "output_type": "stream",
     "text": [
      "Sampling opponents using Thompson sampling\n",
      "Opponent 0: Checkpoint #0 with alpha 36.27 and beta 33.56\n",
      "Opponent 1: Checkpoint #30 with alpha 59.38 and beta 57.99\n",
      "Opponent 2: Checkpoint #0 with alpha 36.27 and beta 33.56\n",
      "Opponent 3: Checkpoint #24 with alpha 30.56 and beta 30.32\n",
      "\n"
     ]
    },
    {
     "name": "stderr",
     "output_type": "stream",
     "text": [
      "\r",
      " 28%|██▊       | 55/200 [22:48<56:31, 23.39s/it]"
     ]
    },
    {
     "name": "stdout",
     "output_type": "stream",
     "text": [
      "Sampling opponents using Thompson sampling\n",
      "Opponent 0: Checkpoint #101 with alpha 21.54 and beta 22.75\n",
      "Opponent 1: Checkpoint #31 with alpha 33.79 and beta 34.90\n",
      "Opponent 2: Checkpoint #63 with alpha 63.58 and beta 55.95\n",
      "Opponent 3: SavedRLAgent: a3c_agent_v3 with alpha 39.96 and beta 45.00\n",
      "\n"
     ]
    },
    {
     "name": "stderr",
     "output_type": "stream",
     "text": [
      "\r",
      " 28%|██▊       | 56/200 [23:11<56:05, 23.37s/it]"
     ]
    },
    {
     "name": "stdout",
     "output_type": "stream",
     "text": [
      "Sampling opponents using Thompson sampling\n",
      "Opponent 0: Checkpoint #45 with alpha 11.04 and beta 11.60\n",
      "Opponent 1: Checkpoint #52 with alpha 39.99 and beta 36.98\n",
      "Opponent 2: Checkpoint #90 with alpha 89.10 and beta 88.75\n",
      "Opponent 3: Checkpoint #22 with alpha 58.96 and beta 55.56\n",
      "\n"
     ]
    },
    {
     "name": "stderr",
     "output_type": "stream",
     "text": [
      "\r",
      " 28%|██▊       | 57/200 [23:34<55:40, 23.36s/it]"
     ]
    },
    {
     "name": "stdout",
     "output_type": "stream",
     "text": [
      "Sampling opponents using Thompson sampling\n",
      "Opponent 0: Checkpoint #60 with alpha 26.45 and beta 28.04\n",
      "Opponent 1: Checkpoint #99 with alpha 55.96 and beta 63.04\n",
      "Opponent 2: Checkpoint #89 with alpha 129.09 and beta 109.03\n",
      "Opponent 3: Checkpoint #97 with alpha 15.92 and beta 20.25\n",
      "\n"
     ]
    },
    {
     "name": "stderr",
     "output_type": "stream",
     "text": [
      "\r",
      " 29%|██▉       | 58/200 [23:58<55:20, 23.39s/it]"
     ]
    },
    {
     "name": "stdout",
     "output_type": "stream",
     "text": [
      "Sampling opponents using Thompson sampling\n",
      "Opponent 0: Checkpoint #37 with alpha 10.72 and beta 14.62\n",
      "Opponent 1: Checkpoint #67 with alpha 31.92 and beta 34.88\n",
      "Opponent 2: Checkpoint #35 with alpha 62.82 and beta 56.94\n",
      "Opponent 3: Checkpoint #48 with alpha 6.16 and beta 9.10\n",
      "\n"
     ]
    },
    {
     "name": "stderr",
     "output_type": "stream",
     "text": [
      "\r",
      " 30%|██▉       | 59/200 [24:21<54:56, 23.38s/it]"
     ]
    },
    {
     "name": "stdout",
     "output_type": "stream",
     "text": [
      "Sampling opponents using Thompson sampling\n",
      "Opponent 0: Checkpoint #31 with alpha 123.55 and beta 103.87\n",
      "Opponent 1: Checkpoint #36 with alpha 54.58 and beta 51.83\n",
      "Opponent 2: Checkpoint #10 with alpha 154.03 and beta 121.44\n",
      "Opponent 3: Checkpoint #68 with alpha 31.96 and beta 30.17\n",
      "\n"
     ]
    },
    {
     "name": "stderr",
     "output_type": "stream",
     "text": [
      "\r",
      " 30%|███       | 60/200 [24:45<54:34, 23.39s/it]"
     ]
    },
    {
     "name": "stdout",
     "output_type": "stream",
     "text": [
      "Sampling opponents using Thompson sampling\n",
      "Opponent 0: Checkpoint #1 with alpha 37.39 and beta 37.45\n",
      "Opponent 1: Checkpoint #66 with alpha 43.24 and beta 41.24\n",
      "Opponent 2: Checkpoint #84 with alpha 44.13 and beta 48.93\n",
      "Opponent 3: Checkpoint #15 with alpha 29.51 and beta 29.94\n",
      "\n"
     ]
    },
    {
     "name": "stderr",
     "output_type": "stream",
     "text": [
      "\r",
      " 30%|███       | 61/200 [25:08<54:12, 23.40s/it]"
     ]
    },
    {
     "name": "stdout",
     "output_type": "stream",
     "text": [
      "Sampling opponents using Thompson sampling\n",
      "Opponent 0: Checkpoint #16 with alpha 60.35 and beta 60.43\n",
      "Opponent 1: Checkpoint #70 with alpha 18.71 and beta 21.27\n",
      "Opponent 2: Checkpoint #85 with alpha 13.32 and beta 14.47\n",
      "Opponent 3: Checkpoint #3 with alpha 24.54 and beta 26.93\n",
      "\n"
     ]
    },
    {
     "name": "stderr",
     "output_type": "stream",
     "text": [
      "\r",
      " 31%|███       | 62/200 [25:31<53:49, 23.40s/it]"
     ]
    },
    {
     "name": "stdout",
     "output_type": "stream",
     "text": [
      "Sampling opponents using Thompson sampling\n",
      "Opponent 0: Checkpoint #106 with alpha 1.00 and beta 1.00\n",
      "Opponent 1: Checkpoint #106 with alpha 1.00 and beta 1.00\n",
      "Opponent 2: Checkpoint #106 with alpha 1.00 and beta 1.00\n",
      "Opponent 3: Checkpoint #104 with alpha 81.77 and beta 73.90\n",
      "\n"
     ]
    },
    {
     "name": "stderr",
     "output_type": "stream",
     "text": [
      "\r",
      " 32%|███▏      | 63/200 [25:55<53:25, 23.40s/it]"
     ]
    },
    {
     "name": "stdout",
     "output_type": "stream",
     "text": [
      "Sampling opponents using Thompson sampling\n",
      "Opponent 0: Checkpoint #79 with alpha 11.60 and beta 12.09\n",
      "Opponent 1: Checkpoint #83 with alpha 48.60 and beta 44.08\n",
      "Opponent 2: Checkpoint #72 with alpha 30.80 and beta 30.76\n",
      "Opponent 3: Checkpoint #79 with alpha 11.60 and beta 12.09\n",
      "\n"
     ]
    },
    {
     "name": "stderr",
     "output_type": "stream",
     "text": [
      "\r",
      " 32%|███▏      | 64/200 [26:18<52:59, 23.38s/it]"
     ]
    },
    {
     "name": "stdout",
     "output_type": "stream",
     "text": [
      "Sampling opponents using Thompson sampling\n",
      "Opponent 0: Checkpoint #101 with alpha 90.53 and beta 70.07\n",
      "Opponent 1: Checkpoint #18 with alpha 75.99 and beta 71.69\n",
      "Opponent 2: Checkpoint #8 with alpha 22.09 and beta 25.14\n",
      "Opponent 3: Checkpoint #10 with alpha 215.30 and beta 160.76\n",
      "\n"
     ]
    },
    {
     "name": "stderr",
     "output_type": "stream",
     "text": [
      "\r",
      " 32%|███▎      | 65/200 [26:42<52:38, 23.40s/it]"
     ]
    },
    {
     "name": "stdout",
     "output_type": "stream",
     "text": [
      "Sampling opponents using Thompson sampling\n",
      "Opponent 0: Checkpoint #17 with alpha 40.88 and beta 36.93\n",
      "Opponent 1: Checkpoint #71 with alpha 98.01 and beta 86.47\n",
      "Opponent 2: Checkpoint #91 with alpha 33.37 and beta 30.02\n",
      "Opponent 3: Checkpoint #20 with alpha 13.68 and beta 17.34\n",
      "\n"
     ]
    },
    {
     "name": "stderr",
     "output_type": "stream",
     "text": [
      "\r",
      " 33%|███▎      | 66/200 [27:05<52:18, 23.42s/it]"
     ]
    },
    {
     "name": "stdout",
     "output_type": "stream",
     "text": [
      "Sampling opponents using Thompson sampling\n",
      "Opponent 0: Checkpoint #69 with alpha 5.97 and beta 8.86\n",
      "Opponent 1: Checkpoint #33 with alpha 21.03 and beta 25.04\n",
      "Opponent 2: Checkpoint #96 with alpha 30.44 and beta 28.75\n",
      "Opponent 3: Checkpoint #78 with alpha 34.74 and beta 34.69\n",
      "\n"
     ]
    },
    {
     "name": "stderr",
     "output_type": "stream",
     "text": [
      "\r",
      " 34%|███▎      | 67/200 [27:29<51:58, 23.45s/it]"
     ]
    },
    {
     "name": "stdout",
     "output_type": "stream",
     "text": [
      "Sampling opponents using Thompson sampling\n",
      "Opponent 0: Checkpoint #56 with alpha 16.69 and beta 17.75\n",
      "Opponent 1: Checkpoint #2 with alpha 39.02 and beta 35.97\n",
      "Opponent 2: Checkpoint #77 with alpha 19.42 and beta 23.16\n",
      "Opponent 3: Checkpoint #17 with alpha 137.59 and beta 122.63\n",
      "\n"
     ]
    },
    {
     "name": "stderr",
     "output_type": "stream",
     "text": [
      "\r",
      " 34%|███▍      | 68/200 [27:52<51:35, 23.45s/it]"
     ]
    },
    {
     "name": "stdout",
     "output_type": "stream",
     "text": [
      "Sampling opponents using Thompson sampling\n",
      "Opponent 0: Checkpoint #74 with alpha 18.69 and beta 20.64\n",
      "Opponent 1: Checkpoint #31 with alpha 152.17 and beta 123.85\n",
      "Opponent 2: Checkpoint #41 with alpha 70.03 and beta 61.47\n",
      "Opponent 3: Checkpoint #19 with alpha 46.36 and beta 44.52\n",
      "\n"
     ]
    },
    {
     "name": "stderr",
     "output_type": "stream",
     "text": [
      "\r",
      " 34%|███▍      | 69/200 [28:15<51:13, 23.46s/it]"
     ]
    },
    {
     "name": "stdout",
     "output_type": "stream",
     "text": [
      "Sampling opponents using Thompson sampling\n",
      "Opponent 0: Checkpoint #52 with alpha 80.78 and beta 66.81\n",
      "Opponent 1: Checkpoint #65 with alpha 23.69 and beta 29.16\n",
      "Opponent 2: Checkpoint #73 with alpha 51.24 and beta 48.79\n",
      "Opponent 3: Checkpoint #43 with alpha 64.17 and beta 58.84\n",
      "\n"
     ]
    },
    {
     "name": "stderr",
     "output_type": "stream",
     "text": [
      "\r",
      " 35%|███▌      | 70/200 [28:39<50:53, 23.49s/it]"
     ]
    },
    {
     "name": "stdout",
     "output_type": "stream",
     "text": [
      "Sampling opponents using Thompson sampling\n",
      "Opponent 0: Checkpoint #51 with alpha 13.65 and beta 15.08\n",
      "Opponent 1: Checkpoint #27 with alpha 22.43 and beta 26.51\n",
      "Opponent 2: Checkpoint #10 with alpha 243.38 and beta 187.81\n",
      "Opponent 3: Checkpoint #7 with alpha 20.38 and beta 24.88\n",
      "\n"
     ]
    },
    {
     "name": "stderr",
     "output_type": "stream",
     "text": [
      "\r",
      " 36%|███▌      | 71/200 [29:02<50:25, 23.45s/it]"
     ]
    },
    {
     "name": "stdout",
     "output_type": "stream",
     "text": [
      "Sampling opponents using Thompson sampling\n",
      "Opponent 0: Checkpoint #82 with alpha 13.95 and beta 16.87\n",
      "Opponent 1: Checkpoint #107 with alpha 1.00 and beta 1.00\n",
      "Opponent 2: Checkpoint #9 with alpha 12.79 and beta 15.44\n",
      "Opponent 3: Checkpoint #92 with alpha 22.18 and beta 24.80\n",
      "\n"
     ]
    },
    {
     "name": "stderr",
     "output_type": "stream",
     "text": [
      "\r",
      " 36%|███▌      | 72/200 [29:26<50:00, 23.44s/it]"
     ]
    },
    {
     "name": "stdout",
     "output_type": "stream",
     "text": [
      "Sampling opponents using Thompson sampling\n",
      "Opponent 0: Checkpoint #63 with alpha 68.84 and beta 69.17\n",
      "Opponent 1: Checkpoint #47 with alpha 35.60 and beta 35.63\n",
      "Opponent 2: Checkpoint #81 with alpha 43.31 and beta 40.76\n",
      "Opponent 3: Checkpoint #75 with alpha 21.98 and beta 23.12\n",
      "\n"
     ]
    },
    {
     "name": "stderr",
     "output_type": "stream",
     "text": [
      "\r",
      " 36%|███▋      | 73/200 [29:49<49:32, 23.41s/it]"
     ]
    },
    {
     "name": "stdout",
     "output_type": "stream",
     "text": [
      "Sampling opponents using Thompson sampling\n",
      "Opponent 0: Checkpoint #88 with alpha 19.41 and beta 23.10\n",
      "Opponent 1: Checkpoint #80 with alpha 22.79 and beta 29.16\n",
      "Opponent 2: Checkpoint #28 with alpha 26.16 and beta 26.24\n",
      "Opponent 3: Checkpoint #37 with alpha 57.15 and beta 52.13\n",
      "\n"
     ]
    },
    {
     "name": "stderr",
     "output_type": "stream",
     "text": [
      "\r",
      " 37%|███▋      | 74/200 [30:12<49:07, 23.39s/it]"
     ]
    },
    {
     "name": "stdout",
     "output_type": "stream",
     "text": [
      "Sampling opponents using Thompson sampling\n",
      "Opponent 0: Checkpoint #10 with alpha 294.26 and beta 228.42\n",
      "Opponent 1: Checkpoint #36 with alpha 74.79 and beta 72.05\n",
      "Opponent 2: Checkpoint #55 with alpha 16.80 and beta 17.32\n",
      "Opponent 3: Checkpoint #65 with alpha 104.26 and beta 99.53\n",
      "\n"
     ]
    },
    {
     "name": "stderr",
     "output_type": "stream",
     "text": [
      "\r",
      " 38%|███▊      | 75/200 [30:36<48:46, 23.41s/it]"
     ]
    },
    {
     "name": "stdout",
     "output_type": "stream",
     "text": [
      "Sampling opponents using Thompson sampling\n",
      "Opponent 0: Checkpoint #93 with alpha 17.00 and beta 22.86\n",
      "Opponent 1: Checkpoint #64 with alpha 18.96 and beta 17.95\n",
      "Opponent 2: Checkpoint #76 with alpha 14.52 and beta 17.83\n",
      "Opponent 3: Checkpoint #102 with alpha 47.79 and beta 44.84\n",
      "\n"
     ]
    },
    {
     "name": "stderr",
     "output_type": "stream",
     "text": [
      "\r",
      " 38%|███▊      | 76/200 [30:59<48:22, 23.40s/it]"
     ]
    },
    {
     "name": "stdout",
     "output_type": "stream",
     "text": [
      "Sampling opponents using Thompson sampling\n",
      "Opponent 0: Checkpoint #10 with alpha 380.52 and beta 281.20\n",
      "Opponent 1: Checkpoint #59 with alpha 21.60 and beta 23.34\n",
      "Opponent 2: Checkpoint #14 with alpha 13.09 and beta 17.02\n",
      "Opponent 3: Checkpoint #89 with alpha 90.42 and beta 78.88\n",
      "\n"
     ]
    },
    {
     "name": "stderr",
     "output_type": "stream",
     "text": [
      "\r",
      " 38%|███▊      | 77/200 [31:23<47:57, 23.40s/it]"
     ]
    },
    {
     "name": "stdout",
     "output_type": "stream",
     "text": [
      "Sampling opponents using Thompson sampling\n",
      "Opponent 0: Checkpoint #13 with alpha 38.69 and beta 37.05\n",
      "Opponent 1: Checkpoint #13 with alpha 38.69 and beta 37.05\n",
      "Opponent 2: Checkpoint #54 with alpha 14.04 and beta 15.11\n",
      "Opponent 3: Checkpoint #61 with alpha 49.44 and beta 50.28\n",
      "\n"
     ]
    },
    {
     "name": "stderr",
     "output_type": "stream",
     "text": [
      "\r",
      " 39%|███▉      | 78/200 [31:46<47:35, 23.40s/it]"
     ]
    },
    {
     "name": "stdout",
     "output_type": "stream",
     "text": [
      "Sampling opponents using Thompson sampling\n",
      "Opponent 0: Checkpoint #72 with alpha 66.21 and beta 59.85\n",
      "Opponent 1: Checkpoint #48 with alpha 39.57 and beta 41.38\n",
      "Opponent 2: Checkpoint #4 with alpha 17.22 and beta 20.53\n",
      "Opponent 3: Checkpoint #91 with alpha 73.33 and beta 67.28\n",
      "\n"
     ]
    },
    {
     "name": "stderr",
     "output_type": "stream",
     "text": [
      "\r",
      " 40%|███▉      | 79/200 [32:09<47:10, 23.40s/it]"
     ]
    },
    {
     "name": "stdout",
     "output_type": "stream",
     "text": [
      "Sampling opponents using Thompson sampling\n",
      "Opponent 0: Checkpoint #26 with alpha 15.37 and beta 17.21\n",
      "Opponent 1: Checkpoint #54 with alpha 122.40 and beta 93.91\n",
      "Opponent 2: Checkpoint #24 with alpha 37.38 and beta 37.90\n",
      "Opponent 3: Checkpoint #51 with alpha 73.29 and beta 77.50\n",
      "\n"
     ]
    },
    {
     "name": "stderr",
     "output_type": "stream",
     "text": [
      "\r",
      " 40%|████      | 80/200 [32:33<46:43, 23.36s/it]"
     ]
    },
    {
     "name": "stdout",
     "output_type": "stream",
     "text": [
      "Sampling opponents using Thompson sampling\n",
      "Opponent 0: Checkpoint #35 with alpha 56.76 and beta 50.09\n",
      "Opponent 1: Checkpoint #49 with alpha 19.77 and beta 26.56\n",
      "Opponent 2: Checkpoint #71 with alpha 92.23 and beta 90.78\n",
      "Opponent 3: Checkpoint #44 with alpha 15.85 and beta 18.96\n",
      "\n"
     ]
    },
    {
     "name": "stderr",
     "output_type": "stream",
     "text": [
      "\r",
      " 40%|████      | 81/200 [32:56<46:20, 23.36s/it]"
     ]
    },
    {
     "name": "stdout",
     "output_type": "stream",
     "text": [
      "Sampling opponents using Thompson sampling\n",
      "Opponent 0: Checkpoint #108 with alpha 1.00 and beta 1.00\n",
      "Opponent 1: Checkpoint #108 with alpha 1.00 and beta 1.00\n",
      "Opponent 2: Checkpoint #21 with alpha 32.65 and beta 34.34\n",
      "Opponent 3: Checkpoint #36 with alpha 134.56 and beta 115.00\n",
      "\n"
     ]
    },
    {
     "name": "stderr",
     "output_type": "stream",
     "text": [
      "\r",
      " 41%|████      | 82/200 [33:19<45:55, 23.35s/it]"
     ]
    },
    {
     "name": "stdout",
     "output_type": "stream",
     "text": [
      "Sampling opponents using Thompson sampling\n",
      "Opponent 0: Checkpoint #33 with alpha 58.59 and beta 54.34\n",
      "Opponent 1: Checkpoint #55 with alpha 83.42 and beta 78.88\n",
      "Opponent 2: Checkpoint #95 with alpha 9.20 and beta 11.19\n",
      "Opponent 3: Checkpoint #5 with alpha 16.87 and beta 17.99\n",
      "\n"
     ]
    },
    {
     "name": "stderr",
     "output_type": "stream",
     "text": [
      "\r",
      " 42%|████▏     | 83/200 [33:43<45:31, 23.35s/it]"
     ]
    },
    {
     "name": "stdout",
     "output_type": "stream",
     "text": [
      "Sampling opponents using Thompson sampling\n",
      "Opponent 0: Checkpoint #63 with alpha 105.61 and beta 92.63\n",
      "Opponent 1: Checkpoint #12 with alpha 35.75 and beta 36.02\n",
      "Opponent 2: Checkpoint #103 with alpha 23.57 and beta 26.16\n",
      "Opponent 3: Checkpoint #45 with alpha 28.59 and beta 29.78\n",
      "\n"
     ]
    },
    {
     "name": "stderr",
     "output_type": "stream",
     "text": [
      "\r",
      " 42%|████▏     | 84/200 [34:06<45:08, 23.35s/it]"
     ]
    },
    {
     "name": "stdout",
     "output_type": "stream",
     "text": [
      "Sampling opponents using Thompson sampling\n",
      "Opponent 0: Checkpoint #107 with alpha 57.01 and beta 52.14\n",
      "Opponent 1: Checkpoint #50 with alpha 24.50 and beta 27.18\n",
      "Opponent 2: Checkpoint #47 with alpha 80.67 and beta 71.58\n",
      "Opponent 3: Checkpoint #35 with alpha 145.69 and beta 112.82\n",
      "\n"
     ]
    },
    {
     "name": "stderr",
     "output_type": "stream",
     "text": [
      "\r",
      " 42%|████▎     | 85/200 [34:29<44:43, 23.33s/it]"
     ]
    },
    {
     "name": "stdout",
     "output_type": "stream",
     "text": [
      "Sampling opponents using Thompson sampling\n",
      "Opponent 0: Checkpoint #6 with alpha 8.26 and beta 10.40\n",
      "Opponent 1: Checkpoint #30 with alpha 34.43 and beta 32.43\n",
      "Opponent 2: Checkpoint #23 with alpha 23.20 and beta 25.96\n",
      "Opponent 3: Checkpoint #47 with alpha 186.14 and beta 158.50\n",
      "\n"
     ]
    },
    {
     "name": "stderr",
     "output_type": "stream",
     "text": [
      "\r",
      " 43%|████▎     | 86/200 [34:53<44:20, 23.34s/it]"
     ]
    },
    {
     "name": "stdout",
     "output_type": "stream",
     "text": [
      "Sampling opponents using Thompson sampling\n",
      "Opponent 0: Checkpoint #101 with alpha 62.15 and beta 57.92\n",
      "Opponent 1: Checkpoint #7 with alpha 55.30 and beta 57.28\n",
      "Opponent 2: Checkpoint #54 with alpha 168.54 and beta 129.53\n",
      "Opponent 3: Checkpoint #2 with alpha 55.04 and beta 52.70\n",
      "\n"
     ]
    },
    {
     "name": "stderr",
     "output_type": "stream",
     "text": [
      "\r",
      " 44%|████▎     | 87/200 [35:16<43:57, 23.34s/it]"
     ]
    },
    {
     "name": "stdout",
     "output_type": "stream",
     "text": [
      "Sampling opponents using Thompson sampling\n",
      "Opponent 0: Checkpoint #15 with alpha 35.72 and beta 31.87\n",
      "Opponent 1: Checkpoint #40 with alpha 12.79 and beta 17.34\n",
      "Opponent 2: Checkpoint #103 with alpha 116.08 and beta 95.90\n",
      "Opponent 3: Checkpoint #42 with alpha 18.12 and beta 18.42\n",
      "\n"
     ]
    },
    {
     "name": "stderr",
     "output_type": "stream",
     "text": [
      "\r",
      " 44%|████▍     | 88/200 [35:40<43:34, 23.34s/it]"
     ]
    },
    {
     "name": "stdout",
     "output_type": "stream",
     "text": [
      "Sampling opponents using Thompson sampling\n",
      "Opponent 0: Checkpoint #81 with alpha 65.39 and beta 64.27\n",
      "Opponent 1: Checkpoint #48 with alpha 85.77 and beta 88.74\n",
      "Opponent 2: Checkpoint #62 with alpha 13.28 and beta 14.40\n",
      "Opponent 3: Checkpoint #41 with alpha 63.03 and beta 59.58\n",
      "\n"
     ]
    },
    {
     "name": "stderr",
     "output_type": "stream",
     "text": [
      "\r",
      " 44%|████▍     | 89/200 [36:03<43:14, 23.37s/it]"
     ]
    },
    {
     "name": "stdout",
     "output_type": "stream",
     "text": [
      "Sampling opponents using Thompson sampling\n",
      "Opponent 0: Checkpoint #57 with alpha 5.20 and beta 7.63\n",
      "Opponent 1: Checkpoint #29 with alpha 10.42 and beta 11.80\n",
      "Opponent 2: Checkpoint #80 with alpha 60.53 and beta 54.99\n",
      "Opponent 3: Checkpoint #102 with alpha 80.03 and beta 67.81\n",
      "\n"
     ]
    },
    {
     "name": "stderr",
     "output_type": "stream",
     "text": [
      "\r",
      " 45%|████▌     | 90/200 [36:26<42:55, 23.41s/it]"
     ]
    },
    {
     "name": "stdout",
     "output_type": "stream",
     "text": [
      "Sampling opponents using Thompson sampling\n",
      "Opponent 0: Checkpoint #87 with alpha 15.04 and beta 16.62\n",
      "Opponent 1: Checkpoint #46 with alpha 10.26 and beta 9.78\n",
      "Opponent 2: Checkpoint #87 with alpha 15.04 and beta 16.62\n",
      "Opponent 3: Checkpoint #58 with alpha 17.43 and beta 18.01\n",
      "\n"
     ]
    },
    {
     "name": "stderr",
     "output_type": "stream",
     "text": [
      "\r",
      " 46%|████▌     | 91/200 [36:50<42:33, 23.43s/it]"
     ]
    },
    {
     "name": "stdout",
     "output_type": "stream",
     "text": [
      "Sampling opponents using Thompson sampling\n",
      "Opponent 0: Checkpoint #39 with alpha 15.92 and beta 18.69\n",
      "Opponent 1: Checkpoint #32 with alpha 22.19 and beta 23.85\n",
      "Opponent 2: Checkpoint #109 with alpha 1.00 and beta 1.00\n",
      "Opponent 3: Checkpoint #56 with alpha 37.76 and beta 33.77\n",
      "\n"
     ]
    },
    {
     "name": "stderr",
     "output_type": "stream",
     "text": [
      "\r",
      " 46%|████▌     | 92/200 [37:13<42:09, 23.42s/it]"
     ]
    },
    {
     "name": "stdout",
     "output_type": "stream",
     "text": [
      "Sampling opponents using Thompson sampling\n",
      "Opponent 0: Checkpoint #93 with alpha 52.66 and beta 52.03\n",
      "Opponent 1: Checkpoint #79 with alpha 45.07 and beta 55.41\n",
      "Opponent 2: Checkpoint #64 with alpha 56.34 and beta 47.12\n",
      "Opponent 3: Checkpoint #84 with alpha 28.43 and beta 30.38\n",
      "\n"
     ]
    },
    {
     "name": "stderr",
     "output_type": "stream",
     "text": [
      "\r",
      " 46%|████▋     | 93/200 [37:37<41:47, 23.44s/it]"
     ]
    },
    {
     "name": "stdout",
     "output_type": "stream",
     "text": [
      "Sampling opponents using Thompson sampling\n",
      "Opponent 0: Checkpoint #86 with alpha 16.05 and beta 19.15\n",
      "Opponent 1: Checkpoint #96 with alpha 34.24 and beta 33.29\n",
      "Opponent 2: Checkpoint #53 with alpha 14.34 and beta 15.86\n",
      "Opponent 3: Checkpoint #74 with alpha 32.19 and beta 37.11\n",
      "\n"
     ]
    },
    {
     "name": "stderr",
     "output_type": "stream",
     "text": [
      "\r",
      " 47%|████▋     | 94/200 [38:00<41:20, 23.40s/it]"
     ]
    },
    {
     "name": "stdout",
     "output_type": "stream",
     "text": [
      "Sampling opponents using Thompson sampling\n",
      "Opponent 0: Checkpoint #77 with alpha 31.08 and beta 32.28\n",
      "Opponent 1: Checkpoint #75 with alpha 44.40 and beta 38.30\n",
      "Opponent 2: Checkpoint #11 with alpha 3.86 and beta 5.65\n",
      "Opponent 3: Checkpoint #48 with alpha 147.00 and beta 136.04\n",
      "\n"
     ]
    },
    {
     "name": "stderr",
     "output_type": "stream",
     "text": [
      "\r",
      " 48%|████▊     | 95/200 [38:24<40:57, 23.41s/it]"
     ]
    },
    {
     "name": "stdout",
     "output_type": "stream",
     "text": [
      "Sampling opponents using Thompson sampling\n",
      "Opponent 0: Checkpoint #18 with alpha 36.31 and beta 36.72\n",
      "Opponent 1: Checkpoint #45 with alpha 83.70 and beta 61.60\n",
      "Opponent 2: Checkpoint #38 with alpha 21.57 and beta 20.50\n",
      "Opponent 3: Checkpoint #1 with alpha 22.03 and beta 25.36\n",
      "\n"
     ]
    },
    {
     "name": "stderr",
     "output_type": "stream",
     "text": [
      "\r",
      " 48%|████▊     | 96/200 [38:47<40:34, 23.41s/it]"
     ]
    },
    {
     "name": "stdout",
     "output_type": "stream",
     "text": [
      "Sampling opponents using Thompson sampling\n",
      "Opponent 0: SavedRLAgent: a3c_agent_v3 with alpha 18.12 and beta 17.96\n",
      "Opponent 1: Checkpoint #76 with alpha 44.02 and beta 38.70\n",
      "Opponent 2: Checkpoint #76 with alpha 44.02 and beta 38.70\n",
      "Opponent 3: Checkpoint #7 with alpha 104.64 and beta 88.81\n",
      "\n"
     ]
    },
    {
     "name": "stderr",
     "output_type": "stream",
     "text": [
      "\r",
      " 48%|████▊     | 97/200 [39:10<40:09, 23.39s/it]"
     ]
    },
    {
     "name": "stdout",
     "output_type": "stream",
     "text": [
      "Sampling opponents using Thompson sampling\n",
      "Opponent 0: Checkpoint #54 with alpha 156.04 and beta 133.25\n",
      "Opponent 1: Checkpoint #0 with alpha 28.29 and beta 25.79\n",
      "Opponent 2: Checkpoint #20 with alpha 22.63 and beta 24.16\n",
      "Opponent 3: Checkpoint #45 with alpha 181.47 and beta 139.67\n",
      "\n"
     ]
    },
    {
     "name": "stderr",
     "output_type": "stream",
     "text": [
      "\r",
      " 49%|████▉     | 98/200 [39:34<39:44, 23.38s/it]"
     ]
    },
    {
     "name": "stdout",
     "output_type": "stream",
     "text": [
      "Sampling opponents using Thompson sampling\n",
      "Opponent 0: Checkpoint #71 with alpha 85.34 and beta 70.97\n",
      "Opponent 1: Checkpoint #43 with alpha 36.26 and beta 39.10\n",
      "Opponent 2: Checkpoint #83 with alpha 24.16 and beta 26.20\n",
      "Opponent 3: Checkpoint #78 with alpha 26.92 and beta 27.31\n",
      "\n"
     ]
    },
    {
     "name": "stderr",
     "output_type": "stream",
     "text": [
      "\r",
      " 50%|████▉     | 99/200 [39:57<39:17, 23.35s/it]"
     ]
    },
    {
     "name": "stdout",
     "output_type": "stream",
     "text": [
      "Sampling opponents using Thompson sampling\n",
      "Opponent 0: Checkpoint #31 with alpha 52.60 and beta 46.61\n",
      "Opponent 1: Checkpoint #100 with alpha 14.85 and beta 15.84\n",
      "Opponent 2: Checkpoint #31 with alpha 52.60 and beta 46.61\n",
      "Opponent 3: Checkpoint #69 with alpha 19.40 and beta 22.07\n",
      "\n"
     ]
    },
    {
     "name": "stderr",
     "output_type": "stream",
     "text": [
      "\r",
      " 50%|█████     | 100/200 [40:20<38:54, 23.34s/it]"
     ]
    },
    {
     "name": "stdout",
     "output_type": "stream",
     "text": [
      "Sampling opponents using Thompson sampling\n",
      "Opponent 0: Checkpoint #72 with alpha 59.73 and beta 49.16\n",
      "Opponent 1: Checkpoint #94 with alpha 8.89 and beta 12.50\n",
      "Opponent 2: Checkpoint #60 with alpha 13.30 and beta 15.91\n",
      "Opponent 3: Checkpoint #12 with alpha 61.16 and beta 56.87\n",
      "\n"
     ]
    },
    {
     "name": "stderr",
     "output_type": "stream",
     "text": [
      "\r",
      " 50%|█████     | 101/200 [40:44<38:33, 23.37s/it]"
     ]
    },
    {
     "name": "stdout",
     "output_type": "stream",
     "text": [
      "Sampling opponents using Thompson sampling\n",
      "Opponent 0: Checkpoint #110 with alpha 1.00 and beta 1.00\n",
      "Opponent 1: Checkpoint #110 with alpha 1.00 and beta 1.00\n",
      "Opponent 2: Checkpoint #88 with alpha 30.65 and beta 29.53\n",
      "Opponent 3: Checkpoint #110 with alpha 1.00 and beta 1.00\n",
      "\n"
     ]
    },
    {
     "name": "stderr",
     "output_type": "stream",
     "text": [
      "\r",
      " 51%|█████     | 102/200 [41:07<38:07, 23.34s/it]"
     ]
    },
    {
     "name": "stdout",
     "output_type": "stream",
     "text": [
      "Sampling opponents using Thompson sampling\n",
      "Opponent 0: Checkpoint #71 with alpha 165.97 and beta 132.83\n",
      "Opponent 1: Checkpoint #80 with alpha 89.70 and beta 77.67\n",
      "Opponent 2: Checkpoint #24 with alpha 47.56 and beta 40.28\n",
      "Opponent 3: Checkpoint #6 with alpha 51.65 and beta 44.18\n",
      "\n"
     ]
    },
    {
     "name": "stderr",
     "output_type": "stream",
     "text": [
      "\r",
      " 52%|█████▏    | 103/200 [41:30<37:44, 23.35s/it]"
     ]
    },
    {
     "name": "stdout",
     "output_type": "stream",
     "text": [
      "Sampling opponents using Thompson sampling\n",
      "Opponent 0: Checkpoint #35 with alpha 99.27 and beta 77.73\n",
      "Opponent 1: Checkpoint #70 with alpha 14.26 and beta 14.80\n",
      "Opponent 2: Checkpoint #98 with alpha 6.82 and beta 8.71\n",
      "Opponent 3: Checkpoint #70 with alpha 14.26 and beta 14.80\n",
      "\n"
     ]
    },
    {
     "name": "stderr",
     "output_type": "stream",
     "text": [
      "\r",
      " 52%|█████▏    | 104/200 [41:54<37:22, 23.36s/it]"
     ]
    },
    {
     "name": "stdout",
     "output_type": "stream",
     "text": [
      "Sampling opponents using Thompson sampling\n",
      "Opponent 0: Checkpoint #22 with alpha 12.84 and beta 14.88\n",
      "Opponent 1: Checkpoint #17 with alpha 37.35 and beta 33.21\n",
      "Opponent 2: Checkpoint #21 with alpha 42.23 and beta 43.07\n",
      "Opponent 3: Checkpoint #37 with alpha 32.15 and beta 33.06\n",
      "\n"
     ]
    },
    {
     "name": "stderr",
     "output_type": "stream",
     "text": [
      "\r",
      " 52%|█████▎    | 105/200 [42:17<36:58, 23.36s/it]"
     ]
    },
    {
     "name": "stdout",
     "output_type": "stream",
     "text": [
      "Sampling opponents using Thompson sampling\n",
      "Opponent 0: Checkpoint #36 with alpha 71.41 and beta 62.93\n",
      "Opponent 1: Checkpoint #4 with alpha 27.50 and beta 34.65\n",
      "Opponent 2: Checkpoint #64 with alpha 85.66 and beta 75.52\n",
      "Opponent 3: Checkpoint #73 with alpha 24.86 and beta 24.14\n",
      "\n"
     ]
    },
    {
     "name": "stderr",
     "output_type": "stream",
     "text": [
      "\r",
      " 53%|█████▎    | 106/200 [42:41<36:41, 23.42s/it]"
     ]
    },
    {
     "name": "stdout",
     "output_type": "stream",
     "text": [
      "Sampling opponents using Thompson sampling\n",
      "Opponent 0: Checkpoint #92 with alpha 20.90 and beta 21.86\n",
      "Opponent 1: Checkpoint #105 with alpha 17.83 and beta 19.90\n",
      "Opponent 2: Checkpoint #97 with alpha 8.75 and beta 11.23\n",
      "Opponent 3: Checkpoint #104 with alpha 18.31 and beta 20.02\n",
      "\n"
     ]
    },
    {
     "name": "stderr",
     "output_type": "stream",
     "text": [
      "\r",
      " 54%|█████▎    | 107/200 [43:04<36:17, 23.41s/it]"
     ]
    },
    {
     "name": "stdout",
     "output_type": "stream",
     "text": [
      "Sampling opponents using Thompson sampling\n",
      "Opponent 0: Checkpoint #29 with alpha 47.41 and beta 45.04\n",
      "Opponent 1: Checkpoint #3 with alpha 11.02 and beta 13.73\n",
      "Opponent 2: Checkpoint #46 with alpha 53.81 and beta 42.60\n",
      "Opponent 3: Checkpoint #25 with alpha 5.10 and beta 7.00\n",
      "\n"
     ]
    },
    {
     "name": "stderr",
     "output_type": "stream",
     "text": [
      "\r",
      " 54%|█████▍    | 108/200 [43:27<35:53, 23.41s/it]"
     ]
    },
    {
     "name": "stdout",
     "output_type": "stream",
     "text": [
      "Sampling opponents using Thompson sampling\n",
      "Opponent 0: Checkpoint #102 with alpha 69.52 and beta 65.71\n",
      "Opponent 1: Checkpoint #51 with alpha 41.77 and beta 39.87\n",
      "Opponent 2: Checkpoint #13 with alpha 51.89 and beta 49.41\n",
      "Opponent 3: Checkpoint #89 with alpha 36.89 and beta 36.69\n",
      "\n"
     ]
    },
    {
     "name": "stderr",
     "output_type": "stream",
     "text": [
      "\r",
      " 55%|█████▍    | 109/200 [43:51<35:32, 23.44s/it]"
     ]
    },
    {
     "name": "stdout",
     "output_type": "stream",
     "text": [
      "Sampling opponents using Thompson sampling\n",
      "Opponent 0: Checkpoint #38 with alpha 67.50 and beta 55.69\n",
      "Opponent 1: Checkpoint #22 with alpha 105.23 and beta 79.12\n",
      "Opponent 2: Checkpoint #63 with alpha 54.32 and beta 53.40\n",
      "Opponent 3: Checkpoint #85 with alpha 9.03 and beta 11.29\n",
      "\n"
     ]
    },
    {
     "name": "stderr",
     "output_type": "stream",
     "text": [
      "\r",
      " 55%|█████▌    | 110/200 [44:14<35:07, 23.42s/it]"
     ]
    },
    {
     "name": "stdout",
     "output_type": "stream",
     "text": [
      "Sampling opponents using Thompson sampling\n",
      "Opponent 0: Checkpoint #106 with alpha 26.56 and beta 27.46\n",
      "Opponent 1: Checkpoint #50 with alpha 35.58 and beta 33.51\n",
      "Opponent 2: Checkpoint #99 with alpha 9.77 and beta 11.97\n",
      "Opponent 3: Checkpoint #100 with alpha 74.31 and beta 62.90\n",
      "\n"
     ]
    },
    {
     "name": "stderr",
     "output_type": "stream",
     "text": [
      "\r",
      " 56%|█████▌    | 111/200 [44:38<34:41, 23.39s/it]"
     ]
    },
    {
     "name": "stdout",
     "output_type": "stream",
     "text": [
      "Sampling opponents using Thompson sampling\n",
      "Opponent 0: Checkpoint #96 with alpha 58.97 and beta 51.48\n",
      "Opponent 1: Checkpoint #91 with alpha 35.29 and beta 29.33\n",
      "Opponent 2: Checkpoint #111 with alpha 1.00 and beta 1.00\n",
      "Opponent 3: Checkpoint #111 with alpha 1.00 and beta 1.00\n",
      "\n"
     ]
    },
    {
     "name": "stderr",
     "output_type": "stream",
     "text": [
      "\r",
      " 56%|█████▌    | 112/200 [45:01<34:19, 23.40s/it]"
     ]
    },
    {
     "name": "stdout",
     "output_type": "stream",
     "text": [
      "Sampling opponents using Thompson sampling\n",
      "Opponent 0: Checkpoint #52 with alpha 20.50 and beta 18.96\n",
      "Opponent 1: Checkpoint #9 with alpha 13.58 and beta 15.57\n",
      "Opponent 2: Checkpoint #66 with alpha 9.51 and beta 10.98\n",
      "Opponent 3: Checkpoint #46 with alpha 137.34 and beta 100.16\n",
      "\n"
     ]
    },
    {
     "name": "stderr",
     "output_type": "stream",
     "text": [
      "\r",
      " 56%|█████▋    | 113/200 [45:24<33:53, 23.37s/it]"
     ]
    },
    {
     "name": "stdout",
     "output_type": "stream",
     "text": [
      "Sampling opponents using Thompson sampling\n",
      "Opponent 0: Checkpoint #32 with alpha 41.92 and beta 41.09\n",
      "Opponent 1: Checkpoint #24 with alpha 94.41 and beta 75.30\n",
      "Opponent 2: Checkpoint #26 with alpha 21.00 and beta 21.50\n",
      "Opponent 3: Checkpoint #61 with alpha 23.74 and beta 25.21\n",
      "\n"
     ]
    },
    {
     "name": "stderr",
     "output_type": "stream",
     "text": [
      "\r",
      " 57%|█████▋    | 114/200 [45:48<33:29, 23.36s/it]"
     ]
    },
    {
     "name": "stdout",
     "output_type": "stream",
     "text": [
      "Sampling opponents using Thompson sampling\n",
      "Opponent 0: Checkpoint #63 with alpha 144.25 and beta 102.00\n",
      "Opponent 1: Checkpoint #34 with alpha 5.05 and beta 6.07\n",
      "Opponent 2: Checkpoint #90 with alpha 9.33 and beta 10.49\n",
      "Opponent 3: Checkpoint #67 with alpha 6.51 and beta 9.18\n",
      "\n"
     ]
    },
    {
     "name": "stderr",
     "output_type": "stream",
     "text": [
      "\r",
      " 57%|█████▊    | 115/200 [46:11<33:05, 23.36s/it]"
     ]
    },
    {
     "name": "stdout",
     "output_type": "stream",
     "text": [
      "Sampling opponents using Thompson sampling\n",
      "Opponent 0: Checkpoint #30 with alpha 30.10 and beta 29.44\n",
      "Opponent 1: Checkpoint #27 with alpha 10.66 and beta 15.15\n",
      "Opponent 2: Checkpoint #33 with alpha 29.09 and beta 30.44\n",
      "Opponent 3: Checkpoint #30 with alpha 30.10 and beta 29.44\n",
      "\n"
     ]
    },
    {
     "name": "stderr",
     "output_type": "stream",
     "text": [
      "\r",
      " 58%|█████▊    | 116/200 [46:34<32:43, 23.38s/it]"
     ]
    },
    {
     "name": "stdout",
     "output_type": "stream",
     "text": [
      "Sampling opponents using Thompson sampling\n",
      "Opponent 0: Checkpoint #19 with alpha 12.25 and beta 13.44\n",
      "Opponent 1: Checkpoint #8 with alpha 8.66 and beta 9.24\n",
      "Opponent 2: Checkpoint #68 with alpha 6.72 and beta 7.93\n",
      "Opponent 3: Checkpoint #95 with alpha 17.62 and beta 22.75\n",
      "\n"
     ]
    },
    {
     "name": "stderr",
     "output_type": "stream",
     "text": [
      "\r",
      " 58%|█████▊    | 117/200 [46:58<32:19, 23.37s/it]"
     ]
    },
    {
     "name": "stdout",
     "output_type": "stream",
     "text": [
      "Sampling opponents using Thompson sampling\n",
      "Opponent 0: Checkpoint #103 with alpha 47.73 and beta 42.95\n",
      "Opponent 1: Checkpoint #44 with alpha 18.63 and beta 18.15\n",
      "Opponent 2: Checkpoint #28 with alpha 13.48 and beta 14.04\n",
      "Opponent 3: Checkpoint #83 with alpha 51.22 and beta 47.23\n",
      "\n"
     ]
    },
    {
     "name": "stderr",
     "output_type": "stream",
     "text": [
      "\r",
      " 59%|█████▉    | 118/200 [47:21<31:55, 23.36s/it]"
     ]
    },
    {
     "name": "stdout",
     "output_type": "stream",
     "text": [
      "Sampling opponents using Thompson sampling\n",
      "Opponent 0: SavedRLAgent: a3c_agent_v3 with alpha 38.21 and beta 41.57\n",
      "Opponent 1: Checkpoint #16 with alpha 8.67 and beta 9.13\n",
      "Opponent 2: Checkpoint #23 with alpha 23.93 and beta 23.86\n",
      "Opponent 3: Checkpoint #13 with alpha 97.56 and beta 89.14\n",
      "\n"
     ]
    },
    {
     "name": "stderr",
     "output_type": "stream",
     "text": [
      "\r",
      " 60%|█████▉    | 119/200 [47:45<31:33, 23.38s/it]"
     ]
    },
    {
     "name": "stdout",
     "output_type": "stream",
     "text": [
      "Sampling opponents using Thompson sampling\n",
      "Opponent 0: Checkpoint #42 with alpha 23.90 and beta 23.96\n",
      "Opponent 1: Checkpoint #18 with alpha 45.49 and beta 37.31\n",
      "Opponent 2: Checkpoint #53 with alpha 29.71 and beta 33.72\n",
      "Opponent 3: Checkpoint #10 with alpha 51.09 and beta 45.02\n",
      "\n"
     ]
    },
    {
     "name": "stderr",
     "output_type": "stream",
     "text": [
      "\r",
      " 60%|██████    | 120/200 [48:08<31:10, 23.38s/it]"
     ]
    },
    {
     "name": "stdout",
     "output_type": "stream",
     "text": [
      "Sampling opponents using Thompson sampling\n",
      "Opponent 0: Checkpoint #87 with alpha 48.19 and beta 48.98\n",
      "Opponent 1: Checkpoint #24 with alpha 147.53 and beta 118.01\n",
      "Opponent 2: Checkpoint #73 with alpha 60.53 and beta 59.71\n",
      "Opponent 3: Checkpoint #14 with alpha 11.67 and beta 13.52\n",
      "\n"
     ]
    },
    {
     "name": "stderr",
     "output_type": "stream",
     "text": [
      "\r",
      " 60%|██████    | 121/200 [48:31<30:46, 23.37s/it]"
     ]
    },
    {
     "name": "stdout",
     "output_type": "stream",
     "text": [
      "Sampling opponents using Thompson sampling\n",
      "Opponent 0: Checkpoint #112 with alpha 1.00 and beta 1.00\n",
      "Opponent 1: Checkpoint #48 with alpha 63.94 and beta 59.62\n",
      "Opponent 2: Checkpoint #112 with alpha 1.00 and beta 1.00\n",
      "Opponent 3: Checkpoint #88 with alpha 47.97 and beta 49.07\n",
      "\n"
     ]
    },
    {
     "name": "stderr",
     "output_type": "stream",
     "text": [
      "\r",
      " 61%|██████    | 122/200 [48:55<30:20, 23.33s/it]"
     ]
    },
    {
     "name": "stdout",
     "output_type": "stream",
     "text": [
      "Sampling opponents using Thompson sampling\n",
      "Opponent 0: Checkpoint #84 with alpha 28.24 and beta 29.57\n",
      "Opponent 1: Checkpoint #45 with alpha 82.02 and beta 65.46\n",
      "Opponent 2: Checkpoint #81 with alpha 26.15 and beta 33.32\n",
      "Opponent 3: Checkpoint #49 with alpha 14.87 and beta 14.92\n",
      "\n"
     ]
    },
    {
     "name": "stderr",
     "output_type": "stream",
     "text": [
      "\r",
      " 62%|██████▏   | 123/200 [49:18<29:59, 23.37s/it]"
     ]
    },
    {
     "name": "stdout",
     "output_type": "stream",
     "text": [
      "Sampling opponents using Thompson sampling\n",
      "Opponent 0: Checkpoint #59 with alpha 11.57 and beta 11.35\n",
      "Opponent 1: Checkpoint #69 with alpha 33.64 and beta 39.95\n",
      "Opponent 2: Checkpoint #59 with alpha 11.57 and beta 11.35\n",
      "Opponent 3: Checkpoint #51 with alpha 69.34 and beta 66.02\n",
      "\n"
     ]
    },
    {
     "name": "stderr",
     "output_type": "stream",
     "text": [
      "\r",
      " 62%|██████▏   | 124/200 [49:41<29:38, 23.40s/it]"
     ]
    },
    {
     "name": "stdout",
     "output_type": "stream",
     "text": [
      "Sampling opponents using Thompson sampling\n",
      "Opponent 0: Checkpoint #65 with alpha 16.16 and beta 15.72\n",
      "Opponent 1: Checkpoint #93 with alpha 28.86 and beta 32.20\n",
      "Opponent 2: Checkpoint #40 with alpha 16.43 and beta 19.64\n",
      "Opponent 3: Checkpoint #2 with alpha 20.80 and beta 24.52\n",
      "\n"
     ]
    },
    {
     "name": "stderr",
     "output_type": "stream",
     "text": [
      "\r",
      " 62%|██████▎   | 125/200 [50:05<29:15, 23.41s/it]"
     ]
    },
    {
     "name": "stdout",
     "output_type": "stream",
     "text": [
      "Sampling opponents using Thompson sampling\n",
      "Opponent 0: Checkpoint #64 with alpha 69.01 and beta 64.24\n",
      "Opponent 1: Checkpoint #101 with alpha 22.15 and beta 22.57\n",
      "Opponent 2: Checkpoint #38 with alpha 81.13 and beta 65.74\n",
      "Opponent 3: Checkpoint #55 with alpha 20.04 and beta 21.04\n",
      "\n"
     ]
    },
    {
     "name": "stderr",
     "output_type": "stream",
     "text": [
      "\r",
      " 63%|██████▎   | 126/200 [50:28<28:52, 23.42s/it]"
     ]
    },
    {
     "name": "stdout",
     "output_type": "stream",
     "text": [
      "Sampling opponents using Thompson sampling\n",
      "Opponent 0: Checkpoint #98 with alpha 36.72 and beta 32.77\n",
      "Opponent 1: Checkpoint #86 with alpha 21.36 and beta 23.86\n",
      "Opponent 2: Checkpoint #77 with alpha 24.17 and beta 28.89\n",
      "Opponent 3: Checkpoint #74 with alpha 24.33 and beta 27.17\n",
      "\n"
     ]
    },
    {
     "name": "stderr",
     "output_type": "stream",
     "text": [
      "\r",
      " 64%|██████▎   | 127/200 [50:52<28:28, 23.41s/it]"
     ]
    },
    {
     "name": "stdout",
     "output_type": "stream",
     "text": [
      "Sampling opponents using Thompson sampling\n",
      "Opponent 0: Checkpoint #111 with alpha 98.45 and beta 87.79\n",
      "Opponent 1: Checkpoint #72 with alpha 41.04 and beta 38.92\n",
      "Opponent 2: Checkpoint #52 with alpha 65.34 and beta 50.48\n",
      "Opponent 3: Checkpoint #40 with alpha 116.97 and beta 94.45\n",
      "\n"
     ]
    },
    {
     "name": "stderr",
     "output_type": "stream",
     "text": [
      "\r",
      " 64%|██████▍   | 128/200 [51:15<28:04, 23.40s/it]"
     ]
    },
    {
     "name": "stdout",
     "output_type": "stream",
     "text": [
      "Sampling opponents using Thompson sampling\n",
      "Opponent 0: Checkpoint #42 with alpha 87.04 and beta 75.80\n",
      "Opponent 1: Checkpoint #61 with alpha 64.89 and beta 55.32\n",
      "Opponent 2: Checkpoint #82 with alpha 5.87 and beta 7.10\n",
      "Opponent 3: Checkpoint #108 with alpha 17.10 and beta 20.88\n",
      "\n"
     ]
    },
    {
     "name": "stderr",
     "output_type": "stream",
     "text": [
      "\r",
      " 64%|██████▍   | 129/200 [51:38<27:39, 23.37s/it]"
     ]
    },
    {
     "name": "stdout",
     "output_type": "stream",
     "text": [
      "Sampling opponents using Thompson sampling\n",
      "Opponent 0: Checkpoint #94 with alpha 25.91 and beta 26.49\n",
      "Opponent 1: Checkpoint #28 with alpha 66.44 and beta 62.19\n",
      "Opponent 2: Checkpoint #0 with alpha 26.48 and beta 24.78\n",
      "Opponent 3: Checkpoint #15 with alpha 15.98 and beta 16.27\n",
      "\n"
     ]
    },
    {
     "name": "stderr",
     "output_type": "stream",
     "text": [
      "\r",
      " 65%|██████▌   | 130/200 [52:02<27:15, 23.37s/it]"
     ]
    },
    {
     "name": "stdout",
     "output_type": "stream",
     "text": [
      "Sampling opponents using Thompson sampling\n",
      "Opponent 0: Checkpoint #105 with alpha 36.25 and beta 36.24\n",
      "Opponent 1: Checkpoint #1 with alpha 21.67 and beta 21.17\n",
      "Opponent 2: Checkpoint #83 with alpha 80.06 and beta 78.55\n",
      "Opponent 3: Checkpoint #109 with alpha 12.89 and beta 15.88\n",
      "\n"
     ]
    },
    {
     "name": "stderr",
     "output_type": "stream",
     "text": [
      "\r",
      " 66%|██████▌   | 131/200 [52:25<26:51, 23.35s/it]"
     ]
    },
    {
     "name": "stdout",
     "output_type": "stream",
     "text": [
      "Sampling opponents using Thompson sampling\n",
      "Opponent 0: Checkpoint #19 with alpha 57.13 and beta 52.31\n",
      "Opponent 1: Checkpoint #107 with alpha 14.28 and beta 14.41\n",
      "Opponent 2: Checkpoint #34 with alpha 47.00 and beta 45.67\n",
      "Opponent 3: Checkpoint #96 with alpha 58.31 and beta 56.76\n",
      "\n"
     ]
    },
    {
     "name": "stderr",
     "output_type": "stream",
     "text": [
      "\r",
      " 66%|██████▌   | 132/200 [52:48<26:26, 23.33s/it]"
     ]
    },
    {
     "name": "stdout",
     "output_type": "stream",
     "text": [
      "Sampling opponents using Thompson sampling\n",
      "Opponent 0: Checkpoint #113 with alpha 1.00 and beta 1.00\n",
      "Opponent 1: Checkpoint #113 with alpha 1.00 and beta 1.00\n",
      "Opponent 2: Checkpoint #71 with alpha 59.35 and beta 49.97\n",
      "Opponent 3: Checkpoint #113 with alpha 1.00 and beta 1.00\n",
      "\n"
     ]
    },
    {
     "name": "stderr",
     "output_type": "stream",
     "text": [
      "\r",
      " 66%|██████▋   | 133/200 [53:12<26:07, 23.40s/it]"
     ]
    },
    {
     "name": "stdout",
     "output_type": "stream",
     "text": [
      "Sampling opponents using Thompson sampling\n",
      "Opponent 0: Checkpoint #22 with alpha 63.46 and beta 51.84\n",
      "Opponent 1: Checkpoint #35 with alpha 43.45 and beta 39.73\n",
      "Opponent 2: Checkpoint #17 with alpha 31.15 and beta 32.36\n",
      "Opponent 3: Checkpoint #46 with alpha 84.77 and beta 67.81\n",
      "\n"
     ]
    },
    {
     "name": "stderr",
     "output_type": "stream",
     "text": [
      "\r",
      " 67%|██████▋   | 134/200 [53:35<25:44, 23.40s/it]"
     ]
    },
    {
     "name": "stdout",
     "output_type": "stream",
     "text": [
      "Sampling opponents using Thompson sampling\n",
      "Opponent 0: Checkpoint #60 with alpha 19.44 and beta 22.47\n",
      "Opponent 1: Checkpoint #106 with alpha 41.26 and beta 35.99\n",
      "Opponent 2: Checkpoint #71 with alpha 152.84 and beta 135.83\n",
      "Opponent 3: Checkpoint #12 with alpha 29.28 and beta 28.16\n",
      "\n"
     ]
    },
    {
     "name": "stderr",
     "output_type": "stream",
     "text": [
      "\r",
      " 68%|██████▊   | 135/200 [53:59<25:18, 23.36s/it]"
     ]
    },
    {
     "name": "stdout",
     "output_type": "stream",
     "text": [
      "Sampling opponents using Thompson sampling\n",
      "Opponent 0: Checkpoint #53 with alpha 63.58 and beta 57.00\n",
      "Opponent 1: Checkpoint #54 with alpha 36.61 and beta 34.56\n",
      "Opponent 2: Checkpoint #78 with alpha 19.34 and beta 20.35\n",
      "Opponent 3: Checkpoint #80 with alpha 35.30 and beta 34.25\n",
      "\n"
     ]
    },
    {
     "name": "stderr",
     "output_type": "stream",
     "text": [
      "\r",
      " 68%|██████▊   | 136/200 [54:22<24:53, 23.33s/it]"
     ]
    },
    {
     "name": "stdout",
     "output_type": "stream",
     "text": [
      "Sampling opponents using Thompson sampling\n",
      "Opponent 0: Checkpoint #82 with alpha 80.71 and beta 67.56\n",
      "Opponent 1: Checkpoint #100 with alpha 48.43 and beta 43.20\n",
      "Opponent 2: Checkpoint #73 with alpha 76.68 and beta 68.90\n",
      "Opponent 3: Checkpoint #5 with alpha 6.93 and beta 8.45\n",
      "\n"
     ]
    },
    {
     "name": "stderr",
     "output_type": "stream",
     "text": [
      "\r",
      " 68%|██████▊   | 137/200 [54:45<24:29, 23.32s/it]"
     ]
    },
    {
     "name": "stdout",
     "output_type": "stream",
     "text": [
      "Sampling opponents using Thompson sampling\n",
      "Opponent 0: Checkpoint #47 with alpha 19.83 and beta 18.72\n",
      "Opponent 1: Checkpoint #30 with alpha 79.55 and beta 75.93\n",
      "Opponent 2: Checkpoint #26 with alpha 40.86 and beta 33.02\n",
      "Opponent 3: Checkpoint #75 with alpha 16.43 and beta 15.88\n",
      "\n"
     ]
    },
    {
     "name": "stderr",
     "output_type": "stream",
     "text": [
      "\r",
      " 69%|██████▉   | 138/200 [55:09<24:06, 23.33s/it]"
     ]
    },
    {
     "name": "stdout",
     "output_type": "stream",
     "text": [
      "Sampling opponents using Thompson sampling\n",
      "Opponent 0: Checkpoint #62 with alpha 8.80 and beta 9.53\n",
      "Opponent 1: Checkpoint #85 with alpha 25.11 and beta 27.05\n",
      "Opponent 2: Checkpoint #56 with alpha 11.65 and beta 13.66\n",
      "Opponent 3: Checkpoint #4 with alpha 25.50 and beta 24.68\n",
      "\n"
     ]
    },
    {
     "name": "stderr",
     "output_type": "stream",
     "text": [
      "\r",
      " 70%|██████▉   | 139/200 [55:32<23:44, 23.35s/it]"
     ]
    },
    {
     "name": "stdout",
     "output_type": "stream",
     "text": [
      "Sampling opponents using Thompson sampling\n",
      "Opponent 0: Checkpoint #83 with alpha 124.76 and beta 107.89\n",
      "Opponent 1: Checkpoint #41 with alpha 11.57 and beta 12.78\n",
      "Opponent 2: Checkpoint #14 with alpha 43.73 and beta 45.22\n",
      "Opponent 3: Checkpoint #70 with alpha 36.30 and beta 34.72\n",
      "\n"
     ]
    },
    {
     "name": "stderr",
     "output_type": "stream",
     "text": [
      "\r",
      " 70%|███████   | 140/200 [55:55<23:24, 23.41s/it]"
     ]
    },
    {
     "name": "stdout",
     "output_type": "stream",
     "text": [
      "Sampling opponents using Thompson sampling\n",
      "Opponent 0: Checkpoint #33 with alpha 40.19 and beta 34.72\n",
      "Opponent 1: Checkpoint #39 with alpha 7.94 and beta 11.92\n",
      "Opponent 2: Checkpoint #31 with alpha 32.19 and beta 31.33\n",
      "Opponent 3: Checkpoint #41 with alpha 131.99 and beta 91.14\n",
      "\n"
     ]
    },
    {
     "name": "stderr",
     "output_type": "stream",
     "text": [
      "\r",
      " 70%|███████   | 141/200 [56:19<22:59, 23.39s/it]"
     ]
    },
    {
     "name": "stdout",
     "output_type": "stream",
     "text": [
      "Sampling opponents using Thompson sampling\n",
      "Opponent 0: Checkpoint #114 with alpha 1.00 and beta 1.00\n",
      "Opponent 1: Checkpoint #114 with alpha 1.00 and beta 1.00\n",
      "Opponent 2: Checkpoint #58 with alpha 7.74 and beta 10.24\n",
      "Opponent 3: Checkpoint #2 with alpha 56.23 and beta 50.74\n",
      "\n"
     ]
    },
    {
     "name": "stderr",
     "output_type": "stream",
     "text": [
      "\r",
      " 71%|███████   | 142/200 [56:42<22:35, 23.38s/it]"
     ]
    },
    {
     "name": "stdout",
     "output_type": "stream",
     "text": [
      "Sampling opponents using Thompson sampling\n",
      "Opponent 0: Checkpoint #23 with alpha 35.73 and beta 39.70\n",
      "Opponent 1: Checkpoint #65 with alpha 49.90 and beta 46.38\n",
      "Opponent 2: Checkpoint #29 with alpha 25.71 and beta 24.61\n",
      "Opponent 3: Checkpoint #8 with alpha 31.96 and beta 28.23\n",
      "\n"
     ]
    },
    {
     "name": "stderr",
     "output_type": "stream",
     "text": [
      "\r",
      " 72%|███████▏  | 143/200 [57:06<22:15, 23.42s/it]"
     ]
    },
    {
     "name": "stdout",
     "output_type": "stream",
     "text": [
      "Sampling opponents using Thompson sampling\n",
      "Opponent 0: Checkpoint #90 with alpha 26.72 and beta 25.32\n",
      "Opponent 1: Checkpoint #37 with alpha 18.66 and beta 18.64\n",
      "Opponent 2: Checkpoint #38 with alpha 79.06 and beta 62.91\n",
      "Opponent 3: Checkpoint #11 with alpha 7.77 and beta 10.05\n",
      "\n"
     ]
    },
    {
     "name": "stderr",
     "output_type": "stream",
     "text": [
      "\r",
      " 72%|███████▏  | 144/200 [57:29<21:58, 23.54s/it]"
     ]
    },
    {
     "name": "stdout",
     "output_type": "stream",
     "text": [
      "Sampling opponents using Thompson sampling\n",
      "Opponent 0: Checkpoint #92 with alpha 17.52 and beta 18.55\n",
      "Opponent 1: Checkpoint #21 with alpha 18.28 and beta 19.74\n",
      "Opponent 2: Checkpoint #45 with alpha 63.49 and beta 52.34\n",
      "Opponent 3: Checkpoint #15 with alpha 59.10 and beta 53.38\n",
      "\n"
     ]
    },
    {
     "name": "stderr",
     "output_type": "stream",
     "text": [
      "\r",
      " 72%|███████▎  | 145/200 [57:53<21:32, 23.49s/it]"
     ]
    },
    {
     "name": "stdout",
     "output_type": "stream",
     "text": [
      "Sampling opponents using Thompson sampling\n",
      "Opponent 0: Checkpoint #20 with alpha 10.81 and beta 11.12\n",
      "Opponent 1: Checkpoint #87 with alpha 43.73 and beta 41.62\n",
      "Opponent 2: Checkpoint #41 with alpha 191.32 and beta 144.24\n",
      "Opponent 3: Checkpoint #97 with alpha 14.64 and beta 16.54\n",
      "\n"
     ]
    },
    {
     "name": "stderr",
     "output_type": "stream",
     "text": [
      "\r",
      " 73%|███████▎  | 146/200 [58:16<21:07, 23.47s/it]"
     ]
    },
    {
     "name": "stdout",
     "output_type": "stream",
     "text": [
      "Sampling opponents using Thompson sampling\n",
      "Opponent 0: Checkpoint #57 with alpha 4.95 and beta 7.06\n",
      "Opponent 1: Checkpoint #67 with alpha 22.37 and beta 21.45\n",
      "Opponent 2: Checkpoint #91 with alpha 21.77 and beta 23.93\n",
      "Opponent 3: Checkpoint #104 with alpha 16.35 and beta 15.63\n",
      "\n"
     ]
    },
    {
     "name": "stderr",
     "output_type": "stream",
     "text": [
      "\r",
      " 74%|███████▎  | 147/200 [58:40<20:44, 23.47s/it]"
     ]
    },
    {
     "name": "stdout",
     "output_type": "stream",
     "text": [
      "Sampling opponents using Thompson sampling\n",
      "Opponent 0: Checkpoint #89 with alpha 19.30 and beta 19.13\n",
      "Opponent 1: Checkpoint #50 with alpha 20.24 and beta 21.67\n",
      "Opponent 2: Checkpoint #7 with alpha 13.84 and beta 15.69\n",
      "Opponent 3: Checkpoint #101 with alpha 44.12 and beta 38.46\n",
      "\n"
     ]
    },
    {
     "name": "stderr",
     "output_type": "stream",
     "text": [
      "\r",
      " 74%|███████▍  | 148/200 [59:03<20:18, 23.44s/it]"
     ]
    },
    {
     "name": "stdout",
     "output_type": "stream",
     "text": [
      "Sampling opponents using Thompson sampling\n",
      "Opponent 0: Checkpoint #101 with alpha 151.91 and beta 126.54\n",
      "Opponent 1: Checkpoint #76 with alpha 17.20 and beta 17.78\n",
      "Opponent 2: Checkpoint #52 with alpha 56.84 and beta 54.29\n",
      "Opponent 3: Checkpoint #25 with alpha 13.22 and beta 13.96\n",
      "\n"
     ]
    },
    {
     "name": "stderr",
     "output_type": "stream",
     "text": [
      "\r",
      " 74%|███████▍  | 149/200 [59:26<19:52, 23.39s/it]"
     ]
    },
    {
     "name": "stdout",
     "output_type": "stream",
     "text": [
      "Sampling opponents using Thompson sampling\n",
      "Opponent 0: Checkpoint #102 with alpha 21.47 and beta 20.74\n",
      "Opponent 1: Checkpoint #42 with alpha 69.62 and beta 57.54\n",
      "Opponent 2: Checkpoint #66 with alpha 14.36 and beta 20.26\n",
      "Opponent 3: Checkpoint #43 with alpha 10.23 and beta 10.67\n",
      "\n"
     ]
    },
    {
     "name": "stderr",
     "output_type": "stream",
     "text": [
      "\r",
      " 75%|███████▌  | 150/200 [59:50<19:29, 23.38s/it]"
     ]
    },
    {
     "name": "stdout",
     "output_type": "stream",
     "text": [
      "Sampling opponents using Thompson sampling\n",
      "Opponent 0: Checkpoint #72 with alpha 43.19 and beta 46.10\n",
      "Opponent 1: Checkpoint #88 with alpha 35.22 and beta 34.28\n",
      "Opponent 2: Checkpoint #55 with alpha 34.32 and beta 35.47\n",
      "Opponent 3: Checkpoint #111 with alpha 63.10 and beta 58.85\n",
      "\n"
     ]
    },
    {
     "name": "stderr",
     "output_type": "stream",
     "text": [
      "\r",
      " 76%|███████▌  | 151/200 [1:00:13<19:04, 23.36s/it]"
     ]
    },
    {
     "name": "stdout",
     "output_type": "stream",
     "text": [
      "Sampling opponents using Thompson sampling\n",
      "Opponent 0: Checkpoint #36 with alpha 16.09 and beta 16.49\n",
      "Opponent 1: Checkpoint #115 with alpha 1.00 and beta 1.00\n",
      "Opponent 2: Checkpoint #99 with alpha 12.57 and beta 15.79\n",
      "Opponent 3: Checkpoint #22 with alpha 68.90 and beta 60.52\n",
      "\n"
     ]
    },
    {
     "name": "stderr",
     "output_type": "stream",
     "text": [
      "\r",
      " 76%|███████▌  | 152/200 [1:00:36<18:40, 23.34s/it]"
     ]
    },
    {
     "name": "stdout",
     "output_type": "stream",
     "text": [
      "Sampling opponents using Thompson sampling\n",
      "Opponent 0: Checkpoint #106 with alpha 63.43 and beta 50.88\n",
      "Opponent 1: Checkpoint #79 with alpha 6.61 and beta 7.72\n",
      "Opponent 2: Checkpoint #55 with alpha 136.90 and beta 116.09\n",
      "Opponent 3: Checkpoint #32 with alpha 19.48 and beta 20.23\n",
      "\n"
     ]
    },
    {
     "name": "stderr",
     "output_type": "stream",
     "text": [
      "\r",
      " 76%|███████▋  | 153/200 [1:01:00<18:17, 23.35s/it]"
     ]
    },
    {
     "name": "stdout",
     "output_type": "stream",
     "text": [
      "Sampling opponents using Thompson sampling\n",
      "Opponent 0: Checkpoint #43 with alpha 109.50 and beta 78.99\n",
      "Opponent 1: Checkpoint #95 with alpha 17.87 and beta 19.74\n",
      "Opponent 2: SavedRLAgent: a3c_agent_v3 with alpha 22.69 and beta 25.52\n",
      "Opponent 3: Checkpoint #84 with alpha 27.87 and beta 26.85\n",
      "\n"
     ]
    },
    {
     "name": "stderr",
     "output_type": "stream",
     "text": [
      "\r",
      " 77%|███████▋  | 154/200 [1:01:23<17:53, 23.34s/it]"
     ]
    },
    {
     "name": "stdout",
     "output_type": "stream",
     "text": [
      "Sampling opponents using Thompson sampling\n",
      "Opponent 0: Checkpoint #13 with alpha 31.09 and beta 31.59\n",
      "Opponent 1: Checkpoint #6 with alpha 10.42 and beta 10.85\n",
      "Opponent 2: Checkpoint #105 with alpha 38.86 and beta 43.78\n",
      "Opponent 3: Checkpoint #90 with alpha 74.77 and beta 74.58\n",
      "\n"
     ]
    },
    {
     "name": "stderr",
     "output_type": "stream",
     "text": [
      "\r",
      " 78%|███████▊  | 155/200 [1:01:46<17:31, 23.37s/it]"
     ]
    },
    {
     "name": "stdout",
     "output_type": "stream",
     "text": [
      "Sampling opponents using Thompson sampling\n",
      "Opponent 0: Checkpoint #3 with alpha 9.51 and beta 10.55\n",
      "Opponent 1: Checkpoint #112 with alpha 35.98 and beta 38.00\n",
      "Opponent 2: Checkpoint #47 with alpha 53.45 and beta 45.48\n",
      "Opponent 3: Checkpoint #30 with alpha 72.58 and beta 72.81\n",
      "\n"
     ]
    },
    {
     "name": "stderr",
     "output_type": "stream",
     "text": [
      "\r",
      " 78%|███████▊  | 156/200 [1:02:10<17:07, 23.34s/it]"
     ]
    },
    {
     "name": "stdout",
     "output_type": "stream",
     "text": [
      "Sampling opponents using Thompson sampling\n",
      "Opponent 0: Checkpoint #93 with alpha 27.00 and beta 25.61\n",
      "Opponent 1: Checkpoint #41 with alpha 169.30 and beta 141.32\n",
      "Opponent 2: Checkpoint #78 with alpha 44.94 and beta 40.27\n",
      "Opponent 3: Checkpoint #87 with alpha 88.64 and beta 79.65\n",
      "\n"
     ]
    },
    {
     "name": "stderr",
     "output_type": "stream",
     "text": [
      "\r",
      " 78%|███████▊  | 157/200 [1:02:33<16:43, 23.34s/it]"
     ]
    },
    {
     "name": "stdout",
     "output_type": "stream",
     "text": [
      "Sampling opponents using Thompson sampling\n",
      "Opponent 0: Checkpoint #45 with alpha 89.87 and beta 77.66\n",
      "Opponent 1: Checkpoint #63 with alpha 25.98 and beta 24.34\n",
      "Opponent 2: Checkpoint #9 with alpha 11.71 and beta 12.12\n",
      "Opponent 3: Checkpoint #115 with alpha 84.73 and beta 71.57\n",
      "\n"
     ]
    },
    {
     "name": "stderr",
     "output_type": "stream",
     "text": [
      "\r",
      " 79%|███████▉  | 158/200 [1:02:56<16:19, 23.33s/it]"
     ]
    },
    {
     "name": "stdout",
     "output_type": "stream",
     "text": [
      "Sampling opponents using Thompson sampling\n",
      "Opponent 0: Checkpoint #18 with alpha 19.25 and beta 20.43\n",
      "Opponent 1: Checkpoint #62 with alpha 43.72 and beta 38.32\n",
      "Opponent 2: Checkpoint #110 with alpha 16.69 and beta 17.36\n",
      "Opponent 3: Checkpoint #68 with alpha 11.89 and beta 14.23\n",
      "\n"
     ]
    },
    {
     "name": "stderr",
     "output_type": "stream",
     "text": [
      "\r",
      " 80%|███████▉  | 159/200 [1:03:20<15:56, 23.33s/it]"
     ]
    },
    {
     "name": "stdout",
     "output_type": "stream",
     "text": [
      "Sampling opponents using Thompson sampling\n",
      "Opponent 0: Checkpoint #91 with alpha 66.02 and beta 65.51\n",
      "Opponent 1: Checkpoint #10 with alpha 19.28 and beta 20.12\n",
      "Opponent 2: Checkpoint #10 with alpha 19.28 and beta 20.12\n",
      "Opponent 3: Checkpoint #54 with alpha 41.73 and beta 40.52\n",
      "\n"
     ]
    },
    {
     "name": "stderr",
     "output_type": "stream",
     "text": [
      "\r",
      " 80%|████████  | 160/200 [1:03:43<15:32, 23.30s/it]"
     ]
    },
    {
     "name": "stdout",
     "output_type": "stream",
     "text": [
      "Sampling opponents using Thompson sampling\n",
      "Opponent 0: Checkpoint #40 with alpha 41.67 and beta 35.98\n",
      "Opponent 1: Checkpoint #40 with alpha 41.67 and beta 35.98\n",
      "Opponent 2: Checkpoint #23 with alpha 57.26 and beta 56.33\n",
      "Opponent 3: Checkpoint #64 with alpha 29.12 and beta 27.98\n",
      "\n"
     ]
    },
    {
     "name": "stderr",
     "output_type": "stream",
     "text": [
      "\r",
      " 80%|████████  | 161/200 [1:04:06<15:08, 23.30s/it]"
     ]
    },
    {
     "name": "stdout",
     "output_type": "stream",
     "text": [
      "Sampling opponents using Thompson sampling\n",
      "Opponent 0: Checkpoint #96 with alpha 36.69 and beta 33.19\n",
      "Opponent 1: Checkpoint #108 with alpha 22.61 and beta 23.12\n",
      "Opponent 2: Checkpoint #116 with alpha 1.00 and beta 1.00\n",
      "Opponent 3: Checkpoint #116 with alpha 1.00 and beta 1.00\n",
      "\n"
     ]
    },
    {
     "name": "stderr",
     "output_type": "stream",
     "text": [
      "\r",
      " 81%|████████  | 162/200 [1:04:30<14:45, 23.30s/it]"
     ]
    },
    {
     "name": "stdout",
     "output_type": "stream",
     "text": [
      "Sampling opponents using Thompson sampling\n",
      "Opponent 0: Checkpoint #34 with alpha 30.73 and beta 31.10\n",
      "Opponent 1: Checkpoint #103 with alpha 14.80 and beta 15.16\n",
      "Opponent 2: Checkpoint #35 with alpha 34.43 and beta 31.93\n",
      "Opponent 3: Checkpoint #32 with alpha 80.68 and beta 69.15\n",
      "\n"
     ]
    },
    {
     "name": "stderr",
     "output_type": "stream",
     "text": [
      "\r",
      " 82%|████████▏ | 163/200 [1:04:53<14:24, 23.36s/it]"
     ]
    },
    {
     "name": "stdout",
     "output_type": "stream",
     "text": [
      "Sampling opponents using Thompson sampling\n",
      "Opponent 0: Checkpoint #109 with alpha 20.19 and beta 23.84\n",
      "Opponent 1: Checkpoint #27 with alpha 9.39 and beta 10.76\n",
      "Opponent 2: SavedRLAgent: a3c_agent_v3 with alpha 82.60 and beta 72.32\n",
      "Opponent 3: Checkpoint #49 with alpha 14.22 and beta 15.12\n",
      "\n"
     ]
    },
    {
     "name": "stderr",
     "output_type": "stream",
     "text": [
      "\r",
      " 82%|████████▏ | 164/200 [1:05:17<14:02, 23.40s/it]"
     ]
    },
    {
     "name": "stdout",
     "output_type": "stream",
     "text": [
      "Sampling opponents using Thompson sampling\n",
      "Opponent 0: Checkpoint #82 with alpha 46.23 and beta 39.10\n",
      "Opponent 1: Checkpoint #59 with alpha 26.79 and beta 27.41\n",
      "Opponent 2: Checkpoint #24 with alpha 26.13 and beta 23.70\n",
      "Opponent 3: Checkpoint #94 with alpha 20.65 and beta 23.02\n",
      "\n"
     ]
    },
    {
     "name": "stderr",
     "output_type": "stream",
     "text": [
      "\r",
      " 82%|████████▎ | 165/200 [1:05:40<13:39, 23.42s/it]"
     ]
    },
    {
     "name": "stdout",
     "output_type": "stream",
     "text": [
      "Sampling opponents using Thompson sampling\n",
      "Opponent 0: Checkpoint #92 with alpha 40.74 and beta 43.24\n",
      "Opponent 1: Checkpoint #44 with alpha 8.81 and beta 12.27\n",
      "Opponent 2: Checkpoint #100 with alpha 36.03 and beta 32.24\n",
      "Opponent 3: Checkpoint #101 with alpha 110.61 and beta 93.84\n",
      "\n"
     ]
    },
    {
     "name": "stderr",
     "output_type": "stream",
     "text": [
      "\r",
      " 83%|████████▎ | 166/200 [1:06:03<13:16, 23.43s/it]"
     ]
    },
    {
     "name": "stdout",
     "output_type": "stream",
     "text": [
      "Sampling opponents using Thompson sampling\n",
      "Opponent 0: Checkpoint #47 with alpha 97.76 and beta 78.26\n",
      "Opponent 1: Checkpoint #15 with alpha 55.05 and beta 49.45\n",
      "Opponent 2: Checkpoint #98 with alpha 15.95 and beta 20.04\n",
      "Opponent 3: Checkpoint #16 with alpha 8.01 and beta 11.46\n",
      "\n"
     ]
    },
    {
     "name": "stderr",
     "output_type": "stream",
     "text": [
      "\r",
      " 84%|████████▎ | 167/200 [1:06:27<12:52, 23.42s/it]"
     ]
    },
    {
     "name": "stdout",
     "output_type": "stream",
     "text": [
      "Sampling opponents using Thompson sampling\n",
      "Opponent 0: Checkpoint #104 with alpha 43.03 and beta 39.56\n",
      "Opponent 1: Checkpoint #48 with alpha 14.59 and beta 16.97\n",
      "Opponent 2: Checkpoint #0 with alpha 17.64 and beta 19.64\n",
      "Opponent 3: Checkpoint #17 with alpha 24.77 and beta 23.14\n",
      "\n"
     ]
    },
    {
     "name": "stderr",
     "output_type": "stream",
     "text": [
      "\r",
      " 84%|████████▍ | 168/200 [1:06:50<12:28, 23.39s/it]"
     ]
    },
    {
     "name": "stdout",
     "output_type": "stream",
     "text": [
      "Sampling opponents using Thompson sampling\n",
      "Opponent 0: Checkpoint #83 with alpha 53.52 and beta 46.61\n",
      "Opponent 1: Checkpoint #31 with alpha 32.94 and beta 32.23\n",
      "Opponent 2: Checkpoint #63 with alpha 75.55 and beta 72.82\n",
      "Opponent 3: Checkpoint #8 with alpha 35.88 and beta 35.46\n",
      "\n"
     ]
    },
    {
     "name": "stderr",
     "output_type": "stream",
     "text": [
      "\r",
      " 84%|████████▍ | 169/200 [1:07:14<12:04, 23.38s/it]"
     ]
    },
    {
     "name": "stdout",
     "output_type": "stream",
     "text": [
      "Sampling opponents using Thompson sampling\n",
      "Opponent 0: Checkpoint #12 with alpha 22.00 and beta 22.51\n",
      "Opponent 1: Checkpoint #51 with alpha 15.50 and beta 17.18\n",
      "Opponent 2: Checkpoint #39 with alpha 26.65 and beta 25.40\n",
      "Opponent 3: Checkpoint #74 with alpha 13.47 and beta 15.40\n",
      "\n"
     ]
    },
    {
     "name": "stderr",
     "output_type": "stream",
     "text": [
      "\r",
      " 85%|████████▌ | 170/200 [1:07:37<11:41, 23.38s/it]"
     ]
    },
    {
     "name": "stdout",
     "output_type": "stream",
     "text": [
      "Sampling opponents using Thompson sampling\n",
      "Opponent 0: Checkpoint #4 with alpha 22.88 and beta 27.62\n",
      "Opponent 1: Checkpoint #80 with alpha 22.47 and beta 24.04\n",
      "Opponent 2: Checkpoint #1 with alpha 16.31 and beta 16.25\n",
      "Opponent 3: Checkpoint #89 with alpha 36.18 and beta 40.34\n",
      "\n"
     ]
    },
    {
     "name": "stderr",
     "output_type": "stream",
     "text": [
      "\r",
      " 86%|████████▌ | 171/200 [1:08:00<11:17, 23.38s/it]"
     ]
    },
    {
     "name": "stdout",
     "output_type": "stream",
     "text": [
      "Sampling opponents using Thompson sampling\n",
      "Opponent 0: Checkpoint #46 with alpha 27.96 and beta 23.75\n",
      "Opponent 1: Checkpoint #38 with alpha 45.71 and beta 38.12\n",
      "Opponent 2: Checkpoint #43 with alpha 87.82 and beta 70.68\n",
      "Opponent 3: Checkpoint #117 with alpha 1.00 and beta 1.00\n",
      "\n"
     ]
    },
    {
     "name": "stderr",
     "output_type": "stream",
     "text": [
      "\r",
      " 86%|████████▌ | 172/200 [1:08:24<10:54, 23.37s/it]"
     ]
    },
    {
     "name": "stdout",
     "output_type": "stream",
     "text": [
      "Sampling opponents using Thompson sampling\n",
      "Opponent 0: Checkpoint #81 with alpha 9.34 and beta 11.43\n",
      "Opponent 1: Checkpoint #73 with alpha 27.71 and beta 28.48\n",
      "Opponent 2: Checkpoint #55 with alpha 87.57 and beta 78.60\n",
      "Opponent 3: Checkpoint #52 with alpha 49.02 and beta 44.90\n",
      "\n"
     ]
    },
    {
     "name": "stderr",
     "output_type": "stream",
     "text": [
      "\r",
      " 86%|████████▋ | 173/200 [1:08:47<10:30, 23.36s/it]"
     ]
    },
    {
     "name": "stdout",
     "output_type": "stream",
     "text": [
      "Sampling opponents using Thompson sampling\n",
      "Opponent 0: Checkpoint #33 with alpha 27.25 and beta 25.28\n",
      "Opponent 1: Checkpoint #78 with alpha 69.19 and beta 54.47\n",
      "Opponent 2: Checkpoint #33 with alpha 27.25 and beta 25.28\n",
      "Opponent 3: Checkpoint #19 with alpha 17.43 and beta 19.68\n",
      "\n"
     ]
    },
    {
     "name": "stderr",
     "output_type": "stream",
     "text": [
      "\r",
      " 87%|████████▋ | 174/200 [1:09:10<10:07, 23.36s/it]"
     ]
    },
    {
     "name": "stdout",
     "output_type": "stream",
     "text": [
      "Sampling opponents using Thompson sampling\n",
      "Opponent 0: Checkpoint #36 with alpha 38.76 and beta 35.96\n",
      "Opponent 1: Checkpoint #75 with alpha 16.82 and beta 19.58\n",
      "Opponent 2: Checkpoint #18 with alpha 56.66 and beta 53.47\n",
      "Opponent 3: Checkpoint #61 with alpha 14.33 and beta 16.91\n",
      "\n"
     ]
    },
    {
     "name": "stderr",
     "output_type": "stream",
     "text": [
      "\r",
      " 88%|████████▊ | 175/200 [1:09:34<09:43, 23.36s/it]"
     ]
    },
    {
     "name": "stdout",
     "output_type": "stream",
     "text": [
      "Sampling opponents using Thompson sampling\n",
      "Opponent 0: Checkpoint #29 with alpha 24.78 and beta 23.22\n",
      "Opponent 1: Checkpoint #107 with alpha 11.30 and beta 13.74\n",
      "Opponent 2: Checkpoint #79 with alpha 37.78 and beta 31.33\n",
      "Opponent 3: Checkpoint #107 with alpha 11.30 and beta 13.74\n",
      "\n"
     ]
    },
    {
     "name": "stderr",
     "output_type": "stream",
     "text": [
      "\r",
      " 88%|████████▊ | 176/200 [1:09:57<09:21, 23.41s/it]"
     ]
    },
    {
     "name": "stdout",
     "output_type": "stream",
     "text": [
      "Sampling opponents using Thompson sampling\n",
      "Opponent 0: Checkpoint #9 with alpha 44.34 and beta 44.10\n",
      "Opponent 1: Checkpoint #67 with alpha 26.49 and beta 28.10\n",
      "Opponent 2: Checkpoint #22 with alpha 49.04 and beta 45.26\n",
      "Opponent 3: Checkpoint #53 with alpha 20.61 and beta 19.81\n",
      "\n"
     ]
    },
    {
     "name": "stderr",
     "output_type": "stream",
     "text": [
      "\r",
      " 88%|████████▊ | 177/200 [1:10:21<08:58, 23.41s/it]"
     ]
    },
    {
     "name": "stdout",
     "output_type": "stream",
     "text": [
      "Sampling opponents using Thompson sampling\n",
      "Opponent 0: Checkpoint #90 with alpha 55.66 and beta 54.95\n",
      "Opponent 1: Checkpoint #95 with alpha 37.03 and beta 35.42\n",
      "Opponent 2: Checkpoint #62 with alpha 55.82 and beta 54.58\n",
      "Opponent 3: Checkpoint #90 with alpha 55.66 and beta 54.95\n",
      "\n"
     ]
    },
    {
     "name": "stderr",
     "output_type": "stream",
     "text": [
      "\r",
      " 89%|████████▉ | 178/200 [1:10:44<08:35, 23.42s/it]"
     ]
    },
    {
     "name": "stdout",
     "output_type": "stream",
     "text": [
      "Sampling opponents using Thompson sampling\n",
      "Opponent 0: Checkpoint #69 with alpha 7.58 and beta 9.33\n",
      "Opponent 1: Checkpoint #86 with alpha 7.37 and beta 10.39\n",
      "Opponent 2: Checkpoint #114 with alpha 32.03 and beta 31.40\n",
      "Opponent 3: Checkpoint #56 with alpha 14.15 and beta 16.16\n",
      "\n"
     ]
    },
    {
     "name": "stderr",
     "output_type": "stream",
     "text": [
      "\r",
      " 90%|████████▉ | 179/200 [1:11:08<08:13, 23.51s/it]"
     ]
    },
    {
     "name": "stdout",
     "output_type": "stream",
     "text": [
      "Sampling opponents using Thompson sampling\n",
      "Opponent 0: Checkpoint #88 with alpha 32.93 and beta 30.34\n",
      "Opponent 1: Checkpoint #68 with alpha 42.94 and beta 37.65\n",
      "Opponent 2: Checkpoint #77 with alpha 7.50 and beta 9.89\n",
      "Opponent 3: Checkpoint #58 with alpha 15.34 and beta 17.20\n",
      "\n"
     ]
    },
    {
     "name": "stderr",
     "output_type": "stream",
     "text": [
      "\r",
      " 90%|█████████ | 180/200 [1:11:31<07:50, 23.52s/it]"
     ]
    },
    {
     "name": "stdout",
     "output_type": "stream",
     "text": [
      "Sampling opponents using Thompson sampling\n",
      "Opponent 0: Checkpoint #20 with alpha 17.88 and beta 20.73\n",
      "Opponent 1: Checkpoint #42 with alpha 35.23 and beta 33.63\n",
      "Opponent 2: Checkpoint #38 with alpha 100.13 and beta 85.39\n",
      "Opponent 3: Checkpoint #113 with alpha 28.67 and beta 25.35\n",
      "\n"
     ]
    },
    {
     "name": "stderr",
     "output_type": "stream",
     "text": [
      "\r",
      " 90%|█████████ | 181/200 [1:11:55<07:26, 23.50s/it]"
     ]
    },
    {
     "name": "stdout",
     "output_type": "stream",
     "text": [
      "Sampling opponents using Thompson sampling\n",
      "Opponent 0: Checkpoint #118 with alpha 1.00 and beta 1.00\n",
      "Opponent 1: Checkpoint #111 with alpha 35.30 and beta 32.50\n",
      "Opponent 2: Checkpoint #118 with alpha 1.00 and beta 1.00\n",
      "Opponent 3: Checkpoint #118 with alpha 1.00 and beta 1.00\n",
      "\n"
     ]
    },
    {
     "name": "stderr",
     "output_type": "stream",
     "text": [
      "\r",
      " 91%|█████████ | 182/200 [1:12:18<07:02, 23.45s/it]"
     ]
    },
    {
     "name": "stdout",
     "output_type": "stream",
     "text": [
      "Sampling opponents using Thompson sampling\n",
      "Opponent 0: Checkpoint #37 with alpha 15.27 and beta 18.26\n",
      "Opponent 1: Checkpoint #1 with alpha 65.69 and beta 65.66\n",
      "Opponent 2: Checkpoint #14 with alpha 16.18 and beta 16.81\n",
      "Opponent 3: Checkpoint #82 with alpha 66.66 and beta 50.86\n",
      "\n"
     ]
    },
    {
     "name": "stderr",
     "output_type": "stream",
     "text": [
      "\r",
      " 92%|█████████▏| 183/200 [1:12:41<06:37, 23.40s/it]"
     ]
    },
    {
     "name": "stdout",
     "output_type": "stream",
     "text": [
      "Sampling opponents using Thompson sampling\n",
      "Opponent 0: Checkpoint #11 with alpha 13.99 and beta 15.36\n",
      "Opponent 1: Checkpoint #71 with alpha 21.37 and beta 19.06\n",
      "Opponent 2: Checkpoint #11 with alpha 13.99 and beta 15.36\n",
      "Opponent 3: Checkpoint #97 with alpha 17.00 and beta 17.42\n",
      "\n"
     ]
    },
    {
     "name": "stderr",
     "output_type": "stream",
     "text": [
      "\r",
      " 92%|█████████▏| 184/200 [1:13:05<06:14, 23.41s/it]"
     ]
    },
    {
     "name": "stdout",
     "output_type": "stream",
     "text": [
      "Sampling opponents using Thompson sampling\n",
      "Opponent 0: Checkpoint #72 with alpha 26.41 and beta 26.00\n",
      "Opponent 1: Checkpoint #105 with alpha 31.84 and beta 31.09\n",
      "Opponent 2: Checkpoint #26 with alpha 11.08 and beta 14.44\n",
      "Opponent 3: Checkpoint #30 with alpha 41.84 and beta 38.57\n",
      "\n"
     ]
    },
    {
     "name": "stderr",
     "output_type": "stream",
     "text": [
      "\r",
      " 92%|█████████▎| 185/200 [1:13:28<05:51, 23.43s/it]"
     ]
    },
    {
     "name": "stdout",
     "output_type": "stream",
     "text": [
      "Sampling opponents using Thompson sampling\n",
      "Opponent 0: Checkpoint #24 with alpha 45.11 and beta 43.56\n",
      "Opponent 1: Checkpoint #6 with alpha 24.13 and beta 23.14\n",
      "Opponent 2: Checkpoint #102 with alpha 19.66 and beta 20.21\n",
      "Opponent 3: Checkpoint #102 with alpha 19.66 and beta 20.21\n",
      "\n"
     ]
    },
    {
     "name": "stderr",
     "output_type": "stream",
     "text": [
      "\r",
      " 93%|█████████▎| 186/200 [1:13:52<05:27, 23.41s/it]"
     ]
    },
    {
     "name": "stdout",
     "output_type": "stream",
     "text": [
      "Sampling opponents using Thompson sampling\n",
      "Opponent 0: Checkpoint #106 with alpha 28.85 and beta 27.94\n",
      "Opponent 1: Checkpoint #65 with alpha 16.02 and beta 16.09\n",
      "Opponent 2: Checkpoint #106 with alpha 28.85 and beta 27.94\n",
      "Opponent 3: Checkpoint #84 with alpha 24.79 and beta 24.02\n",
      "\n"
     ]
    },
    {
     "name": "stderr",
     "output_type": "stream",
     "text": [
      "\r",
      " 94%|█████████▎| 187/200 [1:14:15<05:04, 23.41s/it]"
     ]
    },
    {
     "name": "stdout",
     "output_type": "stream",
     "text": [
      "Sampling opponents using Thompson sampling\n",
      "Opponent 0: Checkpoint #5 with alpha 7.39 and beta 9.12\n",
      "Opponent 1: Checkpoint #88 with alpha 86.79 and beta 94.85\n",
      "Opponent 2: Checkpoint #5 with alpha 7.39 and beta 9.12\n",
      "Opponent 3: Checkpoint #96 with alpha 38.24 and beta 35.65\n",
      "\n"
     ]
    },
    {
     "name": "stderr",
     "output_type": "stream",
     "text": [
      "\r",
      " 94%|█████████▍| 188/200 [1:14:38<04:40, 23.40s/it]"
     ]
    },
    {
     "name": "stdout",
     "output_type": "stream",
     "text": [
      "Sampling opponents using Thompson sampling\n",
      "Opponent 0: Checkpoint #32 with alpha 47.47 and beta 47.49\n",
      "Opponent 1: Checkpoint #85 with alpha 9.02 and beta 11.19\n",
      "Opponent 2: Checkpoint #114 with alpha 88.82 and beta 75.21\n",
      "Opponent 3: Checkpoint #12 with alpha 51.00 and beta 45.24\n",
      "\n"
     ]
    },
    {
     "name": "stderr",
     "output_type": "stream",
     "text": [
      "\r",
      " 94%|█████████▍| 189/200 [1:15:02<04:17, 23.37s/it]"
     ]
    },
    {
     "name": "stdout",
     "output_type": "stream",
     "text": [
      "Sampling opponents using Thompson sampling\n",
      "Opponent 0: Checkpoint #60 with alpha 7.36 and beta 7.67\n",
      "Opponent 1: Checkpoint #60 with alpha 7.36 and beta 7.67\n",
      "Opponent 2: Checkpoint #54 with alpha 31.55 and beta 31.29\n",
      "Opponent 3: Checkpoint #64 with alpha 32.50 and beta 27.96\n",
      "\n"
     ]
    },
    {
     "name": "stderr",
     "output_type": "stream",
     "text": [
      "\r",
      " 95%|█████████▌| 190/200 [1:15:25<03:53, 23.35s/it]"
     ]
    },
    {
     "name": "stdout",
     "output_type": "stream",
     "text": [
      "Sampling opponents using Thompson sampling\n",
      "Opponent 0: Checkpoint #50 with alpha 13.42 and beta 14.39\n",
      "Opponent 1: Checkpoint #57 with alpha 10.43 and beta 12.86\n",
      "Opponent 2: Checkpoint #103 with alpha 28.18 and beta 29.01\n",
      "Opponent 3: Checkpoint #51 with alpha 39.51 and beta 43.31\n",
      "\n"
     ]
    },
    {
     "name": "stderr",
     "output_type": "stream",
     "text": [
      "\r",
      " 96%|█████████▌| 191/200 [1:15:48<03:30, 23.35s/it]"
     ]
    },
    {
     "name": "stdout",
     "output_type": "stream",
     "text": [
      "Sampling opponents using Thompson sampling\n",
      "Opponent 0: Checkpoint #119 with alpha 1.00 and beta 1.00\n",
      "Opponent 1: Checkpoint #108 with alpha 28.01 and beta 26.99\n",
      "Opponent 2: Checkpoint #119 with alpha 1.00 and beta 1.00\n",
      "Opponent 3: Checkpoint #28 with alpha 6.00 and beta 8.10\n",
      "\n"
     ]
    },
    {
     "name": "stderr",
     "output_type": "stream",
     "text": [
      "\r",
      " 96%|█████████▌| 192/200 [1:16:12<03:06, 23.33s/it]"
     ]
    },
    {
     "name": "stdout",
     "output_type": "stream",
     "text": [
      "Sampling opponents using Thompson sampling\n",
      "Opponent 0: Checkpoint #105 with alpha 93.40 and beta 88.01\n",
      "Opponent 1: Checkpoint #21 with alpha 9.46 and beta 11.73\n",
      "Opponent 2: Checkpoint #66 with alpha 12.66 and beta 14.35\n",
      "Opponent 3: Checkpoint #21 with alpha 9.46 and beta 11.73\n",
      "\n"
     ]
    },
    {
     "name": "stderr",
     "output_type": "stream",
     "text": [
      "\r",
      " 96%|█████████▋| 193/200 [1:16:35<02:43, 23.33s/it]"
     ]
    },
    {
     "name": "stdout",
     "output_type": "stream",
     "text": [
      "Sampling opponents using Thompson sampling\n",
      "Opponent 0: SavedRLAgent: a3c_agent_v3 with alpha 40.55 and beta 37.89\n",
      "Opponent 1: Checkpoint #91 with alpha 29.67 and beta 30.13\n",
      "Opponent 2: Checkpoint #71 with alpha 83.07 and beta 67.19\n",
      "Opponent 3: Checkpoint #87 with alpha 27.96 and beta 28.82\n",
      "\n"
     ]
    },
    {
     "name": "stderr",
     "output_type": "stream",
     "text": [
      "\r",
      " 97%|█████████▋| 194/200 [1:16:58<02:20, 23.34s/it]"
     ]
    },
    {
     "name": "stdout",
     "output_type": "stream",
     "text": [
      "Sampling opponents using Thompson sampling\n",
      "Opponent 0: Checkpoint #62 with alpha 70.87 and beta 63.31\n",
      "Opponent 1: Checkpoint #40 with alpha 45.65 and beta 41.53\n",
      "Opponent 2: Checkpoint #9 with alpha 56.71 and beta 62.05\n",
      "Opponent 3: Checkpoint #101 with alpha 48.06 and beta 45.70\n",
      "\n"
     ]
    },
    {
     "name": "stderr",
     "output_type": "stream",
     "text": [
      "\r",
      " 98%|█████████▊| 195/200 [1:17:22<01:56, 23.35s/it]"
     ]
    },
    {
     "name": "stdout",
     "output_type": "stream",
     "text": [
      "Sampling opponents using Thompson sampling\n",
      "Opponent 0: Checkpoint #99 with alpha 11.45 and beta 13.55\n",
      "Opponent 1: Checkpoint #23 with alpha 28.04 and beta 25.79\n",
      "Opponent 2: Checkpoint #40 with alpha 168.87 and beta 113.95\n",
      "Opponent 3: Checkpoint #40 with alpha 168.87 and beta 113.95\n",
      "\n"
     ]
    },
    {
     "name": "stderr",
     "output_type": "stream",
     "text": [
      "\r",
      " 98%|█████████▊| 196/200 [1:17:45<01:33, 23.35s/it]"
     ]
    },
    {
     "name": "stdout",
     "output_type": "stream",
     "text": [
      "Sampling opponents using Thompson sampling\n",
      "Opponent 0: Checkpoint #35 with alpha 24.88 and beta 23.52\n",
      "Opponent 1: Checkpoint #34 with alpha 23.87 and beta 23.75\n",
      "Opponent 2: Checkpoint #47 with alpha 42.45 and beta 40.52\n",
      "Opponent 3: Checkpoint #54 with alpha 108.04 and beta 82.86\n",
      "\n"
     ]
    },
    {
     "name": "stderr",
     "output_type": "stream",
     "text": [
      "\r",
      " 98%|█████████▊| 197/200 [1:18:08<01:10, 23.34s/it]"
     ]
    },
    {
     "name": "stdout",
     "output_type": "stream",
     "text": [
      "Sampling opponents using Thompson sampling\n",
      "Opponent 0: Checkpoint #101 with alpha 151.76 and beta 109.12\n",
      "Opponent 1: Checkpoint #38 with alpha 85.44 and beta 80.16\n",
      "Opponent 2: Checkpoint #49 with alpha 21.90 and beta 20.03\n",
      "Opponent 3: Checkpoint #92 with alpha 28.08 and beta 28.97\n",
      "\n"
     ]
    },
    {
     "name": "stderr",
     "output_type": "stream",
     "text": [
      "\r",
      " 99%|█████████▉| 198/200 [1:18:32<00:46, 23.33s/it]"
     ]
    },
    {
     "name": "stdout",
     "output_type": "stream",
     "text": [
      "Sampling opponents using Thompson sampling\n",
      "Opponent 0: Checkpoint #45 with alpha 24.53 and beta 21.63\n",
      "Opponent 1: Checkpoint #13 with alpha 14.88 and beta 13.72\n",
      "Opponent 2: Checkpoint #76 with alpha 8.57 and beta 10.32\n",
      "Opponent 3: Checkpoint #3 with alpha 11.89 and beta 13.51\n",
      "\n"
     ]
    },
    {
     "name": "stderr",
     "output_type": "stream",
     "text": [
      "\r",
      "100%|█████████▉| 199/200 [1:18:55<00:23, 23.31s/it]"
     ]
    },
    {
     "name": "stdout",
     "output_type": "stream",
     "text": [
      "Sampling opponents using Thompson sampling\n",
      "Opponent 0: Checkpoint #10 with alpha 29.67 and beta 29.51\n",
      "Opponent 1: Checkpoint #27 with alpha 17.18 and beta 19.22\n",
      "Opponent 2: Checkpoint #100 with alpha 22.77 and beta 25.97\n",
      "Opponent 3: Checkpoint #98 with alpha 21.92 and beta 23.45\n",
      "\n"
     ]
    },
    {
     "name": "stderr",
     "output_type": "stream",
     "text": [
      "100%|██████████| 200/200 [1:19:18<00:00, 23.79s/it]\n"
     ]
    },
    {
     "data": {
      "image/png": "[encoded data removed]",
      "text/plain": [
       "<Figure size 460.8x403.2 with 1 Axes>"
      ]
     },
     "metadata": {},
     "output_type": "display_data"
    }
   ],
   "source": [
    "env_kwargs['n_envs'] = 800\n",
    "episode_reward_sums += a3c_alg.train(n_episodes=200, **rl_alg_kwargs, **env_kwargs)\n",
    "plt.plot(episode_reward_sums)\n",
    "plt.show();"
   ]
  },
  {
   "cell_type": "code",
   "execution_count": 94,
   "metadata": {},
   "outputs": [],
   "source": [
    "temp_model = a3c_alg.model_constructor()\n",
    "temp_model.load_state_dict(a3c_alg.checkpoints[78])\n",
    "temp_model.to(device=DEVICE)\n",
    "temp_model.eval();\n",
    "\n",
    "def model_wrapped(states):\n",
    "    return temp_model.sample_action(states.unsqueeze(0)).squeeze(0)\n",
    "    #return a3c_alg.model.sample_action(states.unsqueeze(0)).squeeze(0)"
   ]
  },
  {
   "cell_type": "code",
   "execution_count": 95,
   "metadata": {},
   "outputs": [
    {
     "name": "stdout",
     "output_type": "stream",
     "text": [
      "Opponent 79, ranked 3, has an estimated win % of 0.567.\n",
      "Checkpoint #78, path: /home/isaiah/GitHub/Kaggle/Santa_2020/runs/v4_contd/780_cp.txt\n"
     ]
    },
    {
     "data": {
      "text/plain": [
       "array([0.50081914, 0.48598948, 0.51816986, 0.53534363, 0.46065866,\n",
       "       0.44087082, 0.51414301, 0.51720425, 0.52793261, 0.47424356,\n",
       "       0.42742923, 0.47529614, 0.5254527 , 0.48897261, 0.52109964,\n",
       "       0.47694271, 0.45016783, 0.47601805, 0.47159289, 0.51855141,\n",
       "       0.49580052, 0.51869415, 0.53858207, 0.536909  , 0.52732594,\n",
       "       0.46640437, 0.45991462, 0.46329322, 0.45704959, 0.46743117,\n",
       "       0.46791895, 0.53791149, 0.49548694, 0.48558865, 0.42920494,\n",
       "       0.49406646, 0.49618068, 0.47742934, 0.43402368, 0.54164681,\n",
       "       0.44940406, 0.50318364, 0.48262202, 0.49925114, 0.52893415,\n",
       "       0.54877225, 0.53945825, 0.56086373, 0.54719396, 0.47510184,\n",
       "       0.42878113, 0.54572381, 0.5094365 , 0.55278641, 0.54164065,\n",
       "       0.52252991, 0.42326271, 0.47107882, 0.40678069, 0.50733141,\n",
       "       0.48909083, 0.52528071, 0.44195002, 0.47717234, 0.44998456,\n",
       "       0.46451931, 0.51163051, 0.43091032, 0.46783486, 0.49800934,\n",
       "       0.4827651 , 0.52969608, 0.57089156, 0.50188092, 0.52136937,\n",
       "       0.45694982, 0.52479516, 0.49425612, 0.52639055, 0.56673577,\n",
       "       0.5355485 , 0.39734256, 0.46167587, 0.46512066, 0.5352543 ,\n",
       "       0.5111971 , 0.51457936, 0.57239841, 0.5588227 , 0.42163519,\n",
       "       0.44882318, 0.48557131, 0.50260781, 0.53468977, 0.45501199,\n",
       "       0.47526766, 0.49343124, 0.49302003, 0.49584718, 0.51603384,\n",
       "       0.46013289])"
      ]
     },
     "execution_count": 95,
     "metadata": {},
     "output_type": "execute_result"
    }
   ],
   "source": [
    "#(a3c_alg.opp_a / (a3c_alg.opp_a + a3c_alg.opp_b)).argmax() - len(initial_opponent_pool)\n",
    "est_opp_skill = a3c_alg.opp_a / (a3c_alg.opp_a + a3c_alg.opp_b)\n",
    "ranking = np.argsort(-est_opp_skill)\n",
    "idx = 2\n",
    "print(f'Opponent {ranking[idx]}, ranked {idx+1}, has an estimated win % of {est_opp_skill[ranking[idx]]:.3f}.')\n",
    "print(f'Checkpoint #{ranking[idx] - len(a3c_alg.initial_opponent_pool)}, path: {a3c_alg.exp_folder}/{(ranking[idx] - len(a3c_alg.initial_opponent_pool)) * a3c_alg.checkpoint_freq}_cp.txt')\n",
    "#np.argsort(-est_opp_skill)\n",
    "est_opp_skill"
   ]
  },
  {
   "cell_type": "markdown",
   "metadata": {},
   "source": [
    "## Benchmark the model against a previous RL agent, and various hand-crafted algorithms"
   ]
  },
  {
   "cell_type": "code",
   "execution_count": 96,
   "metadata": {
    "scrolled": true
   },
   "outputs": [
    {
     "name": "stderr",
     "output_type": "stream",
     "text": [
      "100%|██████████| 1999/1999 [00:46<00:00, 43.16it/s]\n"
     ]
    },
    {
     "name": "stdout",
     "output_type": "stream",
     "text": [
      "new_model -vs- a3c_agent_v3\n",
      "Mean scores: 641.30 - 638.75\n",
      "Match score: 2101 - 55 - 1844 (52.5% - 1.4% - 46.1%)\n"
     ]
    },
    {
     "name": "stderr",
     "output_type": "stream",
     "text": [
      "100%|██████████| 1999/1999 [00:48<00:00, 41.26it/s]\n"
     ]
    },
    {
     "name": "stdout",
     "output_type": "stream",
     "text": [
      "new_model -vs- a3c_agent_v4-162\n",
      "Mean scores: 641.75 - 639.23\n",
      "Match score: 2095 - 69 - 1836 (52.4% - 1.7% - 45.9%)\n"
     ]
    }
   ],
   "source": [
    "va.run_vectorized_vs(model_wrapped, va.SavedRLAgent('a3c_agent_v3'), 'new_model', 'a3c_agent_v3', n_envs=4000, out_device=DEVICE)\n",
    "va.run_vectorized_vs(model_wrapped, va.SavedRLAgent('a3c_agent_v4-162'), 'new_model', 'a3c_agent_v4-162', n_envs=4000, out_device=DEVICE)"
   ]
  },
  {
   "cell_type": "code",
   "execution_count": 97,
   "metadata": {},
   "outputs": [
    {
     "name": "stderr",
     "output_type": "stream",
     "text": [
      "100%|██████████| 1999/1999 [00:13<00:00, 143.15it/s]\n"
     ]
    },
    {
     "name": "stdout",
     "output_type": "stream",
     "text": [
      "new_model -vs- new_model\n",
      "Mean scores: 638.77 - 640.44\n",
      "Match score: 468 - 12 - 520 (46.8% - 1.2% - 52.0%)\n"
     ]
    },
    {
     "name": "stderr",
     "output_type": "stream",
     "text": [
      "100%|██████████| 1999/1999 [00:10<00:00, 194.02it/s]\n"
     ]
    },
    {
     "name": "stdout",
     "output_type": "stream",
     "text": [
      "new_model -vs- a3c_agent_v0\n",
      "Mean scores: 652.14 - 630.10\n",
      "Match score: 756 - 8 - 236 (75.6% - 0.8% - 23.6%)\n"
     ]
    },
    {
     "name": "stderr",
     "output_type": "stream",
     "text": [
      "100%|██████████| 1999/1999 [00:12<00:00, 161.52it/s]\n"
     ]
    },
    {
     "name": "stdout",
     "output_type": "stream",
     "text": [
      "new_model -vs- a3c_agent_v1\n",
      "Mean scores: 645.86 - 630.47\n",
      "Match score: 694 - 17 - 289 (69.4% - 1.7% - 28.9%)\n"
     ]
    },
    {
     "name": "stderr",
     "output_type": "stream",
     "text": [
      "100%|██████████| 1999/1999 [00:13<00:00, 143.46it/s]\n"
     ]
    },
    {
     "name": "stdout",
     "output_type": "stream",
     "text": [
      "new_model -vs- a3c_agent_v2\n",
      "Mean scores: 642.78 - 637.56\n",
      "Match score: 546 - 14 - 440 (54.6% - 1.4% - 44.0%)\n"
     ]
    },
    {
     "name": "stderr",
     "output_type": "stream",
     "text": [
      "100%|██████████| 1999/1999 [00:46<00:00, 42.63it/s]\n"
     ]
    },
    {
     "name": "stdout",
     "output_type": "stream",
     "text": [
      "new_model -vs- a3c_agent_v3\n",
      "Mean scores: 641.32 - 638.37\n",
      "Match score: 2156 - 44 - 1800 (53.9% - 1.1% - 45.0%)\n"
     ]
    },
    {
     "name": "stderr",
     "output_type": "stream",
     "text": [
      "100%|██████████| 1999/1999 [00:48<00:00, 40.95it/s]\n"
     ]
    },
    {
     "name": "stdout",
     "output_type": "stream",
     "text": [
      "new_model -vs- a3c_agent_v4-162\n",
      "Mean scores: 642.92 - 639.64\n",
      "Match score: 2146 - 70 - 1784 (53.7% - 1.8% - 44.6%)\n"
     ]
    },
    {
     "name": "stderr",
     "output_type": "stream",
     "text": [
      "100%|██████████| 1999/1999 [00:08<00:00, 243.49it/s]\n"
     ]
    },
    {
     "name": "stdout",
     "output_type": "stream",
     "text": [
      "new_model -vs- basic_thompson_sampling\n",
      "Mean scores: 657.90 - 614.12\n",
      "Match score: 928 - 2 - 70 (92.8% - 0.2% - 7.0%)\n"
     ]
    },
    {
     "name": "stderr",
     "output_type": "stream",
     "text": [
      "100%|██████████| 1999/1999 [00:08<00:00, 223.29it/s]\n"
     ]
    },
    {
     "name": "stdout",
     "output_type": "stream",
     "text": [
      "new_model -vs- pull_vegas_slot_machines\n",
      "Mean scores: 650.41 - 613.26\n",
      "Match score: 895 - 10 - 95 (89.5% - 1.0% - 9.5%)\n"
     ]
    }
   ],
   "source": [
    "model.eval()\n",
    "benchmark_env_kwargs = dict(\n",
    "    n_envs=1000,\n",
    "    out_device=DEVICE\n",
    ")\n",
    "\n",
    "## Against itself\n",
    "va.run_vectorized_vs(model_wrapped, model_wrapped, 'new_model', 'new_model', **benchmark_env_kwargs)\n",
    "\n",
    "## Previous best models\n",
    "va.run_vectorized_vs(model_wrapped, va.SavedRLAgent('a3c_agent_v0'), 'new_model', 'a3c_agent_v0', **benchmark_env_kwargs)\n",
    "va.run_vectorized_vs(model_wrapped, va.SavedRLAgent('a3c_agent_v1'), 'new_model', 'a3c_agent_v1', **benchmark_env_kwargs)\n",
    "va.run_vectorized_vs(model_wrapped, va.SavedRLAgent('a3c_agent_v2'), 'new_model', 'a3c_agent_v2', **benchmark_env_kwargs)\n",
    "va.run_vectorized_vs(model_wrapped, va.SavedRLAgent('a3c_agent_v3'), 'new_model', 'a3c_agent_v3', n_envs=4000, out_device=DEVICE)\n",
    "va.run_vectorized_vs(model_wrapped, va.SavedRLAgent('a3c_agent_v4-162'), 'new_model', 'a3c_agent_v4-162', n_envs=4000, out_device=DEVICE)\n",
    "\n",
    "## Always 0 agent\n",
    "#va.run_vectorized_vs(model_wrapped, va.AlwaysFirstAgent(), 'new_model', 'always_first', **benchmark_env_kwargs)\n",
    "\n",
    "## Random agent\n",
    "#va.run_vectorized_vs(model_wrapped, va.RandomAgent(), 'new_model', 'random_agent', **benchmark_env_kwargs)\n",
    "\n",
    "## Basic thompson sampling\n",
    "va.run_vectorized_vs(model_wrapped, va.BasicThompsonSampling(OBS_NORM), 'new_model', 'basic_thompson_sampling', **benchmark_env_kwargs)\n",
    "\n",
    "## Pull vegas slot machines\n",
    "va.run_vectorized_vs(model_wrapped, va.PullVegasSlotMachines(OBS_NORM), 'new_model', 'pull_vegas_slot_machines', **benchmark_env_kwargs)"
   ]
  },
  {
   "cell_type": "markdown",
   "metadata": {},
   "source": [
    "## Benchmark the model against the checkpointed version"
   ]
  },
  {
   "cell_type": "code",
   "execution_count": null,
   "metadata": {},
   "outputs": [],
   "source": [
    "model.eval()\n",
    "benchmark_env_kwargs = dict(\n",
    "    n_envs=1000,\n",
    "    out_device=DEVICE\n",
    ")\n",
    "\n",
    "checkpointed_model = GraphNNA3C(**graph_nn_kwargs)\n",
    "checkpointed_model.to(torch.device('cuda'))\n",
    "checkpointed_model.load_state_dict(model_sd_checkpoint)\n",
    "checkpointed_model.eval()\n",
    "\n",
    "def checkpointed_model_wrapped(states):\n",
    "    return checkpointed_model.sample_action(states.unsqueeze(0)).squeeze(0)\n",
    "\n",
    "va.run_vectorized_vs(model_wrapped, checkpointed_model_wrapped, 'new_model', 'checkpointed_model', **benchmark_env_kwargs)"
   ]
  },
  {
   "cell_type": "code",
   "execution_count": null,
   "metadata": {},
   "outputs": [],
   "source": [
    "temp_sd_checkpoint = model.state_dict()"
   ]
  },
  {
   "cell_type": "markdown",
   "metadata": {},
   "source": [
    "## Visualize model parameter distributions"
   ]
  },
  {
   "cell_type": "code",
   "execution_count": 17,
   "metadata": {
    "scrolled": true
   },
   "outputs": [
    {
     "data": {
      "image/png": "[encoded data removed]",
      "text/plain": [
       "<Figure size 720x2520 with 14 Axes>"
      ]
     },
     "metadata": {},
     "output_type": "display_data"
    }
   ],
   "source": [
    "full_layer_name = []\n",
    "layer_name = []\n",
    "component_name = []\n",
    "weight_or_bias = []\n",
    "param_val = []\n",
    "for key, val in model.state_dict().items():\n",
    "    if 'message_passing_mat' in key:\n",
    "        pass\n",
    "    else:\n",
    "        for v in val.cpu().numpy().ravel():\n",
    "            param_val.append(v)\n",
    "            full_layer_name.append(key)\n",
    "            key_split = key.split('.')\n",
    "            if len(key_split) == 3:\n",
    "                ln, pn, wob = key_split\n",
    "            elif len(key_split) >= 4:\n",
    "                ln = '.'.join(key_split[0:-2])\n",
    "                pn, wob = key_split[-2:]\n",
    "            else:\n",
    "                raise RuntimeError(f'Unrecognized layer key: {key}')\n",
    "            layer_name.append(ln)\n",
    "            component_name.append(pn)\n",
    "            weight_or_bias.append(wob)\n",
    "params_df = pd.DataFrame(dict(\n",
    "    full_layer_name = full_layer_name,\n",
    "    layer_name = layer_name,\n",
    "    component_name = component_name,\n",
    "    weight_or_bias = weight_or_bias,\n",
    "    param_val = param_val\n",
    "))\n",
    "\n",
    "sns.displot(\n",
    "    params_df, x='param_val', col='component_name', row='layer_name',\n",
    "    binwidth=0.1,\n",
    "    #height=3,\n",
    "    facet_kws=dict(margin_titles=True, sharex=False, sharey=False)\n",
    ");"
   ]
  },
  {
   "cell_type": "code",
   "execution_count": null,
   "metadata": {
    "scrolled": true
   },
   "outputs": [],
   "source": [
    "full_layer_name = []\n",
    "layer_name = []\n",
    "component_name = []\n",
    "weight_or_bias = []\n",
    "param_val = []\n",
    "for key, val in GraphNNA3C(**graph_nn_kwargs).state_dict().items():\n",
    "    if 'message_passing_mat' in key:\n",
    "        pass\n",
    "    else:\n",
    "        for v in val.cpu().numpy().ravel():\n",
    "            param_val.append(v)\n",
    "            full_layer_name.append(key)\n",
    "            key_split = key.split('.')\n",
    "            if len(key_split) == 3:\n",
    "                ln, pn, wob = key_split\n",
    "            elif len(key_split) >= 4:\n",
    "                ln = '.'.join(key_split[0:-2])\n",
    "                pn, wob = key_split[-2:]\n",
    "            else:\n",
    "                raise RuntimeError(f'Unrecognized layer key: {key}')\n",
    "            layer_name.append(ln)\n",
    "            component_name.append(pn)\n",
    "            weight_or_bias.append(wob)\n",
    "params_df = pd.DataFrame(dict(\n",
    "    full_layer_name = full_layer_name,\n",
    "    layer_name = layer_name,\n",
    "    component_name = component_name,\n",
    "    weight_or_bias = weight_or_bias,\n",
    "    param_val = param_val\n",
    "))\n",
    "\n",
    "sns.displot(\n",
    "    params_df, x='param_val', col='component_name', row='layer_name',\n",
    "    binwidth=0.1,\n",
    "    #height=3,\n",
    "    facet_kws=dict(margin_titles=True, sharex=False, sharey=False)\n",
    ");"
   ]
  },
  {
   "cell_type": "markdown",
   "metadata": {},
   "source": [
    "## Save the model state_dict as a serialized string"
   ]
  },
  {
   "cell_type": "code",
   "execution_count": 27,
   "metadata": {},
   "outputs": [],
   "source": [
    "model.to('cpu')\n",
    "state_dict_bytes = pickle.dumps({\n",
    "    'model_state_dict': model.state_dict(),\n",
    "    #'optimizer_state_dict': optimizer.state_dict()\n",
    "})\n",
    "serialized_string = base64.b64encode(state_dict_bytes)\n",
    "with open('rl_agents/ss_temp.txt', 'w') as f:\n",
    "    f.write(str(serialized_string))\n",
    "model.to(device=DEVICE);"
   ]
  },
  {
   "cell_type": "markdown",
   "metadata": {},
   "source": [
    "## Testing and debugging"
   ]
  },
  {
   "cell_type": "code",
   "execution_count": 19,
   "metadata": {},
   "outputs": [
    {
     "data": {
      "text/plain": [
       "torch.Size([1, 2, 100, 3])"
      ]
     },
     "execution_count": 19,
     "metadata": {},
     "output_type": "execute_result"
    }
   ],
   "source": [
    "s.shape"
   ]
  },
  {
   "cell_type": "code",
   "execution_count": 18,
   "metadata": {
    "scrolled": false
   },
   "outputs": [
    {
     "name": "stdout",
     "output_type": "stream",
     "text": [
      "\n",
      "[ -50.70728   343.18048  -360.98813  -184.58109   343.18048   343.18048\n",
      " -179.55315  -371.94223   343.18048  -101.76725  -289.71634   343.18048\n",
      "  343.18033  -101.76725  -101.7673    343.1806    343.18048   -55.70023\n",
      " -423.23956   343.18048   343.18048  -144.07784  -483.9645   -132.49835\n",
      "  343.18048  -284.71515  -214.44508   -36.317387  343.18033   343.1806\n",
      " -144.07787  -181.13568  -172.01115   330.54306  -392.00793   -42.726707\n",
      " -100.718575  343.18048  -232.7463   -184.58109  -182.04886   343.18048\n",
      " -209.41711  -139.44606  -169.4972    343.1806    343.18033  -309.7208\n",
      "  343.18048   330.54306  -137.13019  -130.38986   343.18048   343.18048\n",
      "  343.18048  -206.90314   343.18048   132.18704  -179.55313  -289.71637\n",
      " -141.76196   343.1806    343.18033  -222.74408   343.18048   343.18048\n",
      " -360.98813   343.18048   343.18048   343.18048  -174.52518  -166.98323\n",
      "  343.18048   -50.707306 -164.46925   -50.707294 -130.38986  -416.65625\n",
      " -164.46925   343.1806   -209.41711  -100.9217    343.18048  -182.04887\n",
      "  343.18048   343.18048   -50.707294  132.18704   343.18048  -141.76198\n",
      " -261.74228  -184.58109  -217.7429    330.54337  -222.74408  -127.94915\n",
      "  -36.317387  105.332886 -182.04887  -211.93109 ]\n",
      "0.06400467\n",
      "tensor([[0.3002, 0.0000, 0.7004, 0.3002, 0.0000, 0.0000, 0.4002, 0.6003, 0.0000,\n",
      "         0.3002, 0.6503, 0.0000, 0.0000, 0.3002, 0.3002, 0.0000, 0.0000, 0.4002,\n",
      "         0.7004, 0.0000, 0.0000, 0.2501, 0.2501, 0.5003, 0.0000, 0.7004, 0.6003,\n",
      "         0.1501, 0.0000, 0.0000, 0.2501, 0.1501, 0.5503, 0.0500, 0.1001, 0.2001,\n",
      "         0.2001, 0.0000, 0.4002, 0.3002, 0.0500, 0.0000, 0.7004, 0.3502, 0.6003,\n",
      "         0.0000, 0.0000, 0.4502, 0.0000, 0.0500, 0.4002, 0.5503, 0.0000, 0.0000,\n",
      "         0.0000, 0.7504, 0.0000, 0.1001, 0.4002, 0.6503, 0.3002, 0.0000, 0.0000,\n",
      "         0.5003, 0.0000, 0.0000, 0.7004, 0.0000, 0.0000, 0.0000, 0.5003, 0.6503,\n",
      "         0.0000, 0.3002, 0.7004, 0.3002, 0.5503, 0.3002, 0.7004, 0.0000, 0.7004,\n",
      "         0.5503, 0.0000, 0.0500, 0.0000, 0.0000, 0.3002, 0.1001, 0.0000, 0.3002,\n",
      "         0.2001, 0.3002, 0.5503, 0.0500, 0.5003, 0.1001, 0.1501, 0.3002, 0.0500,\n",
      "         0.6503],\n",
      "        [0.3002, 0.0000, 0.7004, 0.3002, 0.0000, 0.0000, 0.4002, 0.6003, 0.0000,\n",
      "         0.3002, 0.6503, 0.0000, 0.0000, 0.3002, 0.3002, 0.0000, 0.0000, 0.4002,\n",
      "         0.7004, 0.0000, 0.0000, 0.2501, 0.2501, 0.5003, 0.0000, 0.7004, 0.6003,\n",
      "         0.1501, 0.0000, 0.0000, 0.2501, 0.1501, 0.5503, 0.0500, 0.1001, 0.2001,\n",
      "         0.2001, 0.0000, 0.4002, 0.3002, 0.0500, 0.0000, 0.7004, 0.3502, 0.6003,\n",
      "         0.0000, 0.0000, 0.4502, 0.0000, 0.0500, 0.4002, 0.5503, 0.0000, 0.0000,\n",
      "         0.0000, 0.7504, 0.0000, 0.1001, 0.4002, 0.6503, 0.3002, 0.0000, 0.0000,\n",
      "         0.5003, 0.0000, 0.0000, 0.7004, 0.0000, 0.0000, 0.0000, 0.5003, 0.6503,\n",
      "         0.0000, 0.3002, 0.7004, 0.3002, 0.5503, 0.3002, 0.7004, 0.0000, 0.7004,\n",
      "         0.5503, 0.0000, 0.0500, 0.0000, 0.0000, 0.3002, 0.1001, 0.0000, 0.3002,\n",
      "         0.2001, 0.3002, 0.5503, 0.0500, 0.5003, 0.1001, 0.1501, 0.3002, 0.0500,\n",
      "         0.6503],\n",
      "        [0.2501, 0.0000, 0.3502, 0.1001, 0.0000, 0.0000, 0.2001, 0.2501, 0.0000,\n",
      "         0.2001, 0.3502, 0.0000, 0.0000, 0.2001, 0.2001, 0.0000, 0.0000, 0.3502,\n",
      "         0.3002, 0.0000, 0.0000, 0.1001, 0.0000, 0.3502, 0.0000, 0.4002, 0.3502,\n",
      "         0.1001, 0.0000, 0.0000, 0.1001, 0.0500, 0.3502, 0.0500, 0.0000, 0.1501,\n",
      "         0.1001, 0.0000, 0.1501, 0.1001, 0.0000, 0.0000, 0.4502, 0.2001, 0.4002,\n",
      "         0.0000, 0.0000, 0.1501, 0.0000, 0.0500, 0.2501, 0.4002, 0.0000, 0.0000,\n",
      "         0.0000, 0.5003, 0.0000, 0.1001, 0.2001, 0.3502, 0.1501, 0.0000, 0.0000,\n",
      "         0.2501, 0.0000, 0.0000, 0.3502, 0.0000, 0.0000, 0.0000, 0.3002, 0.4502,\n",
      "         0.0000, 0.2501, 0.5003, 0.2501, 0.4002, 0.0500, 0.5003, 0.0000, 0.4502,\n",
      "         0.4502, 0.0000, 0.0000, 0.0000, 0.0000, 0.2501, 0.1001, 0.0000, 0.1501,\n",
      "         0.0500, 0.1001, 0.3002, 0.0500, 0.2501, 0.0500, 0.1001, 0.3002, 0.0000,\n",
      "         0.4002]], device='cuda:0')\n",
      "-0.5939897048553506 -0.7199463838814203\n"
     ]
    }
   ],
   "source": [
    "from scipy.stats import spearmanr, pearsonr\n",
    "\n",
    "test_env = KaggleMABEnvTorchVectorized(n_players=2, decay_rate=0.97)\n",
    "with torch.no_grad():\n",
    "    test_env.reset()\n",
    "    # Take n good actions\n",
    "    for i in range(500):\n",
    "        actions = test_env.thresholds.argmax(axis=-1)[:, None]\n",
    "        s, _, _, _ = test_env.step(actions.repeat(1, test_env.n_players))\n",
    "    logits, values = model(s[0,0].to(device=DEVICE)[None, None, :])\n",
    "    logits = logits.cpu().numpy().squeeze()\n",
    "    values = values.cpu().numpy().squeeze()\n",
    "print()\n",
    "print(logits)\n",
    "print(values)\n",
    "print(s[:,0].squeeze().t())\n",
    "print(spearmanr(logits, test_env.thresholds.squeeze().cpu().numpy())[0],\n",
    "      pearsonr(logits, test_env.thresholds.squeeze().cpu().numpy())[0])"
   ]
  },
  {
   "cell_type": "code",
   "execution_count": null,
   "metadata": {},
   "outputs": [],
   "source": [
    "child_layer_idx = -1\n",
    "child_layer = list(model.children())[child_layer_idx]\n",
    "print(child_layer.transform_features.weight.data, child_layer.transform_features.bias.data)\n",
    "print(child_layer.recombine_features.weight.data, child_layer.recombine_features.bias.data)\n",
    "print(model)\n",
    "print(child_layer)"
   ]
  },
  {
   "cell_type": "code",
   "execution_count": null,
   "metadata": {
    "scrolled": false
   },
   "outputs": [],
   "source": [
    "test_env = KaggleMABEnvTorchVectorized(n_envs=3, n_players=2, decay_rate=0.97, env_device=torch.device('cpu'), out_device=DEVICE)\n",
    "test_env.reset()\n",
    "actions = torch.arange(6).view(3,2)\n",
    "test_env.step(actions)\n",
    "test_env.step(actions)\n",
    "actions = torch.arange(1,7).view(3,2)\n",
    "test_env.step(actions)\n",
    "test_env.step(actions)\n",
    "test_env.step(actions)\n",
    "\n",
    "test = test_env.player_n_pulls.unsqueeze(3).expand(-1,-1,-1,2).transpose(1,3)\n",
    "test = torch.cat([\n",
    "    test[:,0,:,:].unsqueeze(1),\n",
    "    test[:,0,:,[1,0]].unsqueeze(1)\n",
    "], dim=1)\n",
    "test[0,0]\n",
    "test_env.player_rewards_sums"
   ]
  },
  {
   "cell_type": "code",
   "execution_count": null,
   "metadata": {},
   "outputs": [],
   "source": [
    "# Simulated env rollouts with random policy\n",
    "test_env = KaggleMABEnvTorchVectorized(n_envs=1000, n_players=2, decay_rate=0.97, env_device=torch.device('cuda'), out_device=torch.device('cuda'))\n",
    "\n",
    "for i in tqdm.trange(test_env.n_steps):\n",
    "    actions = torch.randint(test_env.n_bandits, size=(test_env.n_envs, test_env.n_players))\n",
    "    test_env.step(actions)\n",
    "print(f'Mean of player rewards: {test_env.player_rewards_sums.sum(axis=-1).mean():.2f}, Standard deviation of player rewards: {test_env.player_rewards_sums.sum(axis=-1).std():.2f}')"
   ]
  },
  {
   "cell_type": "code",
   "execution_count": null,
   "metadata": {},
   "outputs": [],
   "source": [
    "# Simulated env rollouts with omniscient optimal policy\n",
    "test_env = KaggleMABEnvTorchVectorized(n_envs=1000, n_players=2, decay_rate=0.97, env_device=torch.device('cuda'), out_device=torch.device('cpu'))\n",
    "\n",
    "for i in tqdm.trange(test_env.n_steps):\n",
    "    actions = test_env.thresholds.argmax(axis=-1)[:, None]\n",
    "    test_env.step(actions.repeat(1, test_env.n_players))\n",
    "print(f'Mean of player rewards: {test_env.player_rewards_sums.sum(axis=-1).mean():.2f}, Standard deviation of player rewards: {test_env.player_rewards_sums.sum(axis=-1).std():.2f}')"
   ]
  },
  {
   "cell_type": "code",
   "execution_count": null,
   "metadata": {},
   "outputs": [],
   "source": []
  },
  {
   "cell_type": "code",
   "execution_count": null,
   "metadata": {},
   "outputs": [],
   "source": [
    "n_nodes = 10\n",
    "activation_func = nn.ReLU()\n",
    "layer_size = 64\n",
    "layers = (\n",
    "    [FullyConnectedGNNLayer(n_nodes, 1, layer_size, activation_func=activation_func)] +\n",
    "    [FullyConnectedGNNLayer(n_nodes, layer_size, layer_size, activation_func=activation_func)] * 0 +\n",
    "    [FullyConnectedGNNLayer(n_nodes, layer_size, 1, activation_func=activation_func)]\n",
    ")\n",
    "model = nn.Sequential(\n",
    "    *layers\n",
    ")\n",
    "#model = FullyConnectedGNNLayer(n_nodes, 1, 1, activation_func=nn.Identity())\n",
    "model.train()\n",
    "model.to('cuda')\n",
    "loss_func = nn.CrossEntropyLoss()\n",
    "optimizer = torch.optim.SGD(model.parameters(), lr=0.0002)\n",
    "#optimizer = torch.optim.Adam(model.parameters(), lr=0.0001)\n",
    "\n",
    "for i in tqdm.trange(10):\n",
    "    train_batch_in = torch.rand((250, n_nodes, 1), dtype=torch.float).to('cuda')\n",
    "    k = 2\n",
    "    labels = torch.topk(train_batch_in, k=k, dim=1).indices[:,k-1]\n",
    "    \n",
    "    optimizer.zero_grad()\n",
    "    outputs = model(train_batch_in)\n",
    "    loss = loss_func(outputs, labels)\n",
    "    loss.backward()\n",
    "    optimizer.step()\n",
    "    \n",
    "    accuracy = (F.softmax(outputs, dim=1).argmax(dim=1) == labels).float().mean()\n",
    "print(f'Loss: {loss:.2f}, Accuracy: {accuracy:.3f}')\n",
    "\n",
    "test_batch_in = torch.rand((1, n_nodes, 1), dtype=torch.float).to('cuda')\n",
    "print(test_batch_in)\n",
    "print(F.softmax(model(test_batch_in), dim=1))\n",
    "print(torch.topk(test_batch_in, k=k, dim=1).indices[:,k-1])\n",
    "print(F.softmax(model(test_batch_in), dim=1).argmax(dim=1))"
   ]
  },
  {
   "cell_type": "code",
   "execution_count": null,
   "metadata": {},
   "outputs": [],
   "source": [
    "for i in tqdm.trange(1000):\n",
    "    train_batch_in = torch.rand((250, n_nodes, 1), dtype=torch.float).to('cuda')\n",
    "    k = 2\n",
    "    labels = torch.topk(train_batch_in, k=k, dim=1).indices[:,k-1]\n",
    "    \n",
    "    optimizer.zero_grad()\n",
    "    outputs = model(train_batch_in)\n",
    "    loss = loss_func(outputs, labels)\n",
    "    loss.backward()\n",
    "    optimizer.step()\n",
    "    \n",
    "    accuracy = (F.softmax(outputs, dim=1).argmax(dim=1) == labels).float().mean()\n",
    "print(f'Loss: {loss:.2f}, Accuracy: {accuracy:.3f}')"
   ]
  },
  {
   "cell_type": "code",
   "execution_count": null,
   "metadata": {},
   "outputs": [],
   "source": [
    "model = FullyConnectedGNNLayer(5, 1, 1, activation_func=nn.Identity())\n",
    "model.train()\n",
    "model.to('cuda')\n",
    "loss_func = nn.MSELoss()\n",
    "optimizer = torch.optim.SGD(model.parameters(), lr=0.01, momentum=0.)\n",
    "\n",
    "for i in tqdm.trange(10000):\n",
    "    train_batch_in = torch.rand((1024, 5, 1), dtype=torch.float).to('cuda')\n",
    "    train_batch_out = train_batch_in + train_batch_in.sum(dim=1, keepdims=True)\n",
    "    \n",
    "    optimizer.zero_grad()\n",
    "    outputs = model(train_batch_in)\n",
    "    loss = loss_func(outputs, train_batch_out)\n",
    "    loss.backward()\n",
    "    optimizer.step()\n",
    "loss"
   ]
  },
  {
   "cell_type": "code",
   "execution_count": null,
   "metadata": {},
   "outputs": [],
   "source": [
    "train_batch_in = torch.rand((2, 5, 1), dtype=torch.float).to('cuda')\n",
    "print(train_batch_in)\n",
    "print(train_batch_in + train_batch_in.sum(dim=1, keepdims=True))\n",
    "print(model(train_batch_in))"
   ]
  },
  {
   "cell_type": "markdown",
   "metadata": {},
   "source": [
    "## Deprecated"
   ]
  },
  {
   "cell_type": "code",
   "execution_count": null,
   "metadata": {},
   "outputs": [],
   "source": [
    "# Loosely based on: https://github.com/MorvanZhou/pytorch-A3C\n",
    "def a3c_vectorized_env(env, model, optimizer, n_episodes, batch_size,\n",
    "                       gamma=0.9):\n",
    "    model.to(device=DEVICE)\n",
    "    model.train()\n",
    "    episode_reward_sums = []\n",
    "    \n",
    "    for episode in tqdm.trange(n_episodes):\n",
    "        buffer_s, buffer_a, buffer_r = [], [], []\n",
    "        s, r, _, _ = env.reset()\n",
    "        episode_reward_sums.append(r)\n",
    "        step_count = 1\n",
    "        while not env.done:\n",
    "            # Batch size of 1 for inference\n",
    "            a = model.sample_action(s.to(device=DEVICE).unsqueeze(0)).squeeze(0)\n",
    "            next_s, r, done, _ = env.step(a)\n",
    "            \n",
    "            #print(s.shape, a.shape, r.shape)\n",
    "            buffer_s.append(s)\n",
    "            buffer_a.append(a)\n",
    "            buffer_r.append(r)\n",
    "            \n",
    "            if step_count % batch_size == 0 or done:\n",
    "                if done:\n",
    "                    v_next_s = torch.zeros_like(buffer_r[-1])\n",
    "                else:\n",
    "                    _, v_next_s = model(next_s.to(device=DEVICE).unsqueeze(0))\n",
    "                    v_next_s = v_next_s.detach().squeeze(0)\n",
    "                v_next_s.to(device=DEVICE)\n",
    "                \n",
    "                buffer_v_target = []\n",
    "                for r in buffer_r[::-1]:\n",
    "                    v_next_s = r + gamma * v_next_s\n",
    "                    buffer_v_target.append(v_next_s)\n",
    "                buffer_v_target.reverse()\n",
    "                \n",
    "                loss = model.loss_func(\n",
    "                    torch.stack(buffer_s).to(device=DEVICE),\n",
    "                    torch.stack(buffer_a).to(device=DEVICE),\n",
    "                    torch.stack(buffer_v_target).to(device=DEVICE)\n",
    "                )\n",
    "                optimizer.zero_grad()\n",
    "                loss.backward()\n",
    "                optimizer.step()\n",
    "                buffer_s, buffer_a, buffer_r = [], [], []\n",
    "            s = next_s\n",
    "            episode_reward_sums[-1] += r\n",
    "            step_count += 1\n",
    "        episode_reward_sums[-1] = episode_reward_sums[-1].mean()\n",
    "    return episode_reward_sums"
   ]
  },
  {
   "cell_type": "code",
   "execution_count": null,
   "metadata": {},
   "outputs": [],
   "source": [
    "class Kaggle_MAB_Env_Numpy_Vectorized():\n",
    "    def __init__(self,\n",
    "                 # Kaggle MAB env params\n",
    "                 n_bandits=100, n_steps=1999, decay_rate=0.97, sample_resolution=100,\n",
    "                 # Custom params\n",
    "                 n_envs=1, n_players=2, reward_type=EVERY_STEP, remove_extra_dims=False):\n",
    "        # Assert parameter conditions\n",
    "        assert 0 <= decay_rate <= 1.\n",
    "        assert reward_type in (END_OF_GAME, EVERY_STEP)\n",
    "        if reward_type == END_OF_GAME:\n",
    "            assert n_players >= 2\n",
    "        else:\n",
    "            assert n_players >= 1\n",
    "        self.n_bandits = n_bandits\n",
    "        self.n_steps = n_steps\n",
    "        self.decay_rate = decay_rate\n",
    "        self.sample_resolution = sample_resolution\n",
    "        \n",
    "        self.n_envs = n_envs\n",
    "        self.n_players = n_players\n",
    "        self.reward_type = reward_type\n",
    "        self.remove_extra_dims = remove_extra_dims\n",
    "        \n",
    "        self.timestep = None\n",
    "        self.orig_thresholds = None\n",
    "        self.player_n_pulls = None\n",
    "        self.player_rewards_sums = None\n",
    "        self.reset()\n",
    "    \n",
    "    @property\n",
    "    def thresholds(self):\n",
    "        return self.orig_thresholds * (self.decay_rate ** self.player_n_pulls[:,0,:])\n",
    "    \n",
    "    def reset(self):\n",
    "        self.timestep = 0\n",
    "        self.orig_thresholds = np.random.randint(self.sample_resolution + 1, size=(self.n_envs, self.n_bandits)).astype(np.float32)\n",
    "        self.player_n_pulls = np.zeros((self.n_envs, self.n_players, self.n_bandits))\n",
    "        self.player_rewards_sums = np.zeros_like(self.player_n_pulls)\n",
    "        \n",
    "        rewards = np.zeros((self.n_envs, self.n_players))\n",
    "        if self.remove_extra_dims:\n",
    "            return self.get_obs().squeeze(), rewards.squeeze(), self.done, dict(thresholds=self.thresholds.squeeze())\n",
    "        else:\n",
    "            return self.get_obs(), rewards, self.done, dict(thresholds=self.thresholds)\n",
    "        \n",
    "    def step(self, actions):\n",
    "        if self.remove_extra_dims:\n",
    "            if type(actions) == int:\n",
    "                actions = np.array([[actions]])\n",
    "            else:\n",
    "                actions = actions.reshape((self.n_envs, self.n_players))\n",
    "        assert actions.shape == (self.n_envs, self.n_players), f'actions.shape was: {actions.shape}'\n",
    "        assert not self.done\n",
    "        self.timestep += 1\n",
    "        \n",
    "        # Compute agent rewards\n",
    "        selected_thresholds = np.take_along_axis(self.thresholds, actions, axis=1)\n",
    "        pull_rewards = np.random.randint(self.sample_resolution, size=selected_thresholds.shape) < selected_thresholds\n",
    "        #pull_rewards = selected_thresholds / float(self.sample_resolution)\n",
    "        \n",
    "        # Update player_n_pulls and player_rewards_sums\n",
    "        for env_idx, env_actions in enumerate(actions):\n",
    "            for player_idx, pull_idx in enumerate(env_actions):\n",
    "                self.player_n_pulls[env_idx, :, pull_idx] += 1\n",
    "                self.player_rewards_sums[env_idx, player_idx, pull_idx] += pull_rewards[env_idx, player_idx]\n",
    "        \n",
    "        # Return (obs, reward, done) tuple\n",
    "        if self.reward_type == END_OF_GAME:\n",
    "            rewards = np.zeros_like(actions)\n",
    "            if self.timestep == self.n_steps:\n",
    "                rewards_sums = self.player_rewards_sums.sum(axis=2)\n",
    "                winners = rewards_sums.argmax(axis=1)\n",
    "                rewards[winners] = 1\n",
    "        elif self.reward_type == EVERY_STEP:\n",
    "            rewards = pull_rewards\n",
    "        \n",
    "        # State, reward, done, info_dict\n",
    "        if self.remove_extra_dims:\n",
    "            return self.get_obs().squeeze(), rewards.squeeze(), self.done, dict(thresholds=self.thresholds.squeeze())\n",
    "        else:\n",
    "            return self.get_obs(), rewards, self.done, dict(thresholds=self.thresholds)\n",
    "    \n",
    "    def get_obs(self):\n",
    "        # TODO: Clearly do not return thresholds or orig_thresholds\n",
    "        return np.stack([\n",
    "            #np.broadcast_to(self.orig_thresholds[:, None, :] / self.sample_resolution, self.player_n_pulls.shape),\n",
    "            self.player_n_pulls,\n",
    "            self.player_rewards_sums\n",
    "        ], axis=-1).astype(np.float32)\n",
    "    \n",
    "    @property\n",
    "    def done(self):\n",
    "        return self.timestep >= self.n_steps"
   ]
  },
  {
   "cell_type": "code",
   "execution_count": null,
   "metadata": {},
   "outputs": [],
   "source": [
    "class FeedForwardNN_A3C(nn.Module):\n",
    "    def __init__(self, in_features, n_bandits, activation_func=nn.ReLU()):\n",
    "        super().__init__()\n",
    "        self.in_features = in_features\n",
    "        self.activation_func = activation_func\n",
    "        layer_size = 128\n",
    "        self.base = nn.Sequential(\n",
    "            nn.Linear(self.in_features, layer_size),\n",
    "            activation_func,\n",
    "            nn.Linear(layer_size, layer_size),\n",
    "            activation_func,\n",
    "        )\n",
    "        self.actor = nn.Linear(layer_size, n_bandits)\n",
    "        self.critic = nn.Linear(layer_size, 1)\n",
    "        \n",
    "    def forward(self, states):\n",
    "        in_shape = states.shape\n",
    "        base_out = self.base(states.view(-1, self.in_features))\n",
    "        return self.activation_func(self.actor(base_out)).view(in_shape[:-1]), self.critic(base_out).view(in_shape[:-2])\n",
    "    \n",
    "    def sample_action(self, states):\n",
    "        with torch.no_grad():\n",
    "            logits, _ = self.forward(states)\n",
    "            probs = F.softmax(logits, dim=-1)\n",
    "            batch_size, n_envs, n_players, n_bandits = probs.shape\n",
    "            m = distributions.Categorical(probs.view(batch_size * n_envs * n_players, n_bandits))\n",
    "            return m.sample().view(batch_size, n_envs, n_players)\n",
    "    \n",
    "    def choose_best_action(self, states):\n",
    "        with torch.no_grad():\n",
    "            logits, _ = self.forward(states)\n",
    "            return logits.argmax(dim=-1)\n",
    "        \n",
    "    def loss_func(self, states, actions, v_t):\n",
    "        #print(f'states.shape: {states.shape}, actions.shape: {actions.shape}, v_t.shape: {v_t.shape}')\n",
    "        logits, values = self.forward(states)\n",
    "        \n",
    "        #print(f'logits.shape: {logits.shape}, values.shape: {values.shape}')\n",
    "        td = v_t - values\n",
    "        critic_loss = td.pow(2).view(-1)\n",
    "        \n",
    "        probs = F.softmax(logits, dim=-1)\n",
    "        batch_size, n_envs, n_players, n_bandits = probs.shape\n",
    "        m = distributions.Categorical(probs.view(batch_size * n_envs * n_players, n_bandits))\n",
    "        #print(f'm.log_prob(actions.view(batch_size * n_envs * n_players)).shape: {m.log_prob(actions.view(batch_size * n_envs * n_players)).shape}, td.shape: {td.shape}')\n",
    "        actor_loss = -(m.log_prob(actions.view(-1)) * td.detach().view(-1))\n",
    "        total_loss = (critic_loss + actor_loss).mean()\n",
    "        return total_loss"
   ]
  }
 ],
 "metadata": {
  "kernelspec": {
   "display_name": "Python 3",
   "language": "python",
   "name": "python3"
  },
  "language_info": {
   "codemirror_mode": {
    "name": "ipython",
    "version": 3
   },
   "file_extension": ".py",
   "mimetype": "text/x-python",
   "name": "python",
   "nbconvert_exporter": "python",
   "pygments_lexer": "ipython3",
   "version": "3.7.7"
  }
 },
 "nbformat": 4,
 "nbformat_minor": 4
}
