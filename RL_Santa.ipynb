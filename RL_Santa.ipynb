{
 "cells": [
  {
   "cell_type": "code",
   "execution_count": 1,
   "metadata": {},
   "outputs": [],
   "source": [
    "import base64\n",
    "from functools import wraps\n",
    "from jupyterthemes import jtplot\n",
    "import matplotlib.pyplot as plt\n",
    "import numpy as np\n",
    "import pickle\n",
    "import torch\n",
    "from torch import distributions, nn\n",
    "import torch.nn.functional as F\n",
    "import time\n",
    "import tqdm\n",
    "\n",
    "%matplotlib inline\n",
    "jtplot.style()\n",
    "\n",
    "device = torch.device('cuda')"
   ]
  },
  {
   "cell_type": "code",
   "execution_count": 2,
   "metadata": {},
   "outputs": [],
   "source": [
    "class FullyConnectedGNNLayer(nn.Module):\n",
    "    def __init__(self, n_nodes, in_features, out_features, activation_func=nn.ReLU(), squeeze_out=False):\n",
    "        super().__init__()\n",
    "        self.n_nodes = n_nodes\n",
    "        self.activation_func = activation_func\n",
    "        self.transform_features = nn.Linear(in_features, out_features)\n",
    "        self.message_passing_mat = nn.Parameter(\n",
    "            (torch.ones((n_nodes, n_nodes)) - torch.eye(n_nodes)) / (n_nodes - 1),\n",
    "            requires_grad=False\n",
    "        )\n",
    "        self.recombine_features = nn.Linear(out_features*2, out_features)\n",
    "        self.squeeze_out = squeeze_out\n",
    "    \n",
    "    def forward(self, features):\n",
    "        features_transformed = self.activation_func(\n",
    "            self.transform_features(features)\n",
    "        )\n",
    "        messages = torch.matmul(self.message_passing_mat, features_transformed)\n",
    "        features_messages_combined = self.activation_func(\n",
    "            self.recombine_features(torch.cat([features_transformed, messages], dim=-1))\n",
    "        )\n",
    "        if self.squeeze_out:\n",
    "            return features_messages_combined.squeeze(dim=-1)\n",
    "        else:\n",
    "            return features_messages_combined"
   ]
  },
  {
   "cell_type": "code",
   "execution_count": 6,
   "metadata": {},
   "outputs": [],
   "source": [
    "END_OF_GAME = 0\n",
    "EVERY_STEP = 1\n",
    "class Kaggle_MAB_Env_Torch_Vectorized():\n",
    "    def __init__(self,\n",
    "                 # Kaggle MAB env params\n",
    "                 n_bandits=100, n_steps=1999, decay_rate=0.97, sample_resolution=100,\n",
    "                 # Custom params\n",
    "                 n_envs=1, n_players=2, reward_type=EVERY_STEP, normalize_reward=True, remove_extra_dims=False, env_device=torch.device('cuda'), out_device=torch.device('cuda')):\n",
    "        # Assert parameter conditions\n",
    "        assert 0 <= decay_rate <= 1.\n",
    "        assert reward_type in (END_OF_GAME, EVERY_STEP)\n",
    "        if reward_type == END_OF_GAME:\n",
    "            assert n_players >= 2\n",
    "        else:\n",
    "            assert n_players >= 1\n",
    "        self.n_bandits = n_bandits\n",
    "        self.n_steps = n_steps\n",
    "        self.decay_rate = decay_rate\n",
    "        self.sample_resolution = sample_resolution\n",
    "        \n",
    "        self.n_envs = n_envs\n",
    "        self.n_players = n_players\n",
    "        self.reward_type = reward_type\n",
    "        if not normalize_reward or self.reward_type == END_OF_GAME:\n",
    "            self.r_norm = 1.\n",
    "        else:\n",
    "            #self.r_norm = 1 / self.n_steps\n",
    "            self.r_norm = 1 / (np.sum(self.decay_rate ** np.arange(self.n_steps)) * np.arange(self.n_bandits).sum() / (self.n_bandits * self.n_players))\n",
    "        self.remove_extra_dims = remove_extra_dims\n",
    "        self.env_device = env_device\n",
    "        self.out_device = out_device\n",
    "        \n",
    "        self.timestep = None\n",
    "        self.orig_thresholds = None\n",
    "        self.player_n_pulls = None\n",
    "        self.player_rewards_sums = None\n",
    "        self.reset()\n",
    "        \n",
    "    def _out_device_decorator(f):\n",
    "        @wraps(f)\n",
    "        def wrapped(self, *args, **kwargs):\n",
    "            return [out.to(self.out_device) if torch.is_tensor(out) else out for out in f(self, *args, **kwargs)]\n",
    "        return wrapped\n",
    "    \n",
    "    @_out_device_decorator\n",
    "    def reset(self):\n",
    "        self.timestep = 0\n",
    "        self.orig_thresholds = torch.randint(self.sample_resolution + 1, size=(self.n_envs, self.n_bandits), dtype=torch.float32, device=self.env_device)\n",
    "        self.player_n_pulls = torch.zeros((self.n_envs, self.n_players, self.n_bandits), device=self.env_device)\n",
    "        self.player_rewards_sums = torch.zeros_like(self.player_n_pulls)\n",
    "        \n",
    "        rewards = torch.zeros((self.n_envs, self.n_players), device=self.env_device) * self.r_norm\n",
    "        if self.remove_extra_dims:\n",
    "            rewards = rewards.squeeze()\n",
    "        return self.obs, rewards, self.done, self.info_dict\n",
    "    \n",
    "    @_out_device_decorator\n",
    "    def step(self, actions):\n",
    "        if self.remove_extra_dims:\n",
    "            if type(actions) == int:\n",
    "                actions = torch.tensor([[actions]], device=self.env_device)\n",
    "            else:\n",
    "                actions = actions.view((self.n_envs, self.n_players))\n",
    "        assert actions.shape == (self.n_envs, self.n_players), f'actions.shape was: {actions.shape}'\n",
    "        assert not self.done\n",
    "        self.timestep += 1\n",
    "        actions = actions.to(self.env_device)\n",
    "        \n",
    "        # Compute agent rewards\n",
    "        selected_thresholds = self.thresholds.gather(-1, actions)\n",
    "        pull_rewards = torch.randint(self.sample_resolution, size=selected_thresholds.shape, dtype=torch.float32, device=self.env_device) < selected_thresholds\n",
    "        #pull_rewards = selected_thresholds / self.sample_resolution\n",
    "        \n",
    "        # Update player_n_pulls and player_rewards_sums\n",
    "        #for env_idx, env_actions in enumerate(actions):\n",
    "        #    for player_idx, pull_idx in enumerate(env_actions):\n",
    "        #        self.player_n_pulls[env_idx, :, pull_idx] += 1\n",
    "        #        self.player_rewards_sums[env_idx, player_idx, pull_idx] += pull_rewards[env_idx, player_idx]\n",
    "        \"\"\"\n",
    "        actions_expanded = actions.unsqueeze(1).expand(-1, self.n_players, -1)\n",
    "        self.player_n_pulls.scatter_(\n",
    "            -1,\n",
    "            actions_expanded,\n",
    "            self.player_n_pulls.gather(-1, actions_expanded) + 1\n",
    "        )\n",
    "        \"\"\"\n",
    "        envs_idxs = torch.arange(self.n_envs).repeat_interleave(self.n_players)\n",
    "        players_idxs = torch.arange(self.n_players).repeat(self.n_envs)\n",
    "        self.player_n_pulls[\n",
    "            envs_idxs,\n",
    "            players_idxs,\n",
    "            actions.view(-1)\n",
    "        ] += 1.\n",
    "        self.player_rewards_sums[\n",
    "            envs_idxs,\n",
    "            players_idxs,\n",
    "            actions.view(-1)\n",
    "        ] += pull_rewards.view(-1)\n",
    "        \n",
    "        # Return (obs, reward, done) tuple\n",
    "        if self.reward_type == END_OF_GAME:\n",
    "            rewards = torch.zeros_like(actions).float()\n",
    "            if self.timestep == self.n_steps:\n",
    "                rewards_sums = self.player_rewards_sums.sum(dim=2)\n",
    "                winners = rewards_sums.argmax(dim=1)\n",
    "                rewards[winners] = 1.\n",
    "        elif self.reward_type == EVERY_STEP:\n",
    "            rewards = pull_rewards\n",
    "        \n",
    "        rewards = rewards * self.r_norm\n",
    "        # State, reward, done, info_dict\n",
    "        if self.remove_extra_dims:\n",
    "            rewards = rewards.squeeze()\n",
    "        return self.obs, rewards, self.done, self.info_dict\n",
    "    \n",
    "    @property\n",
    "    def obs(self):\n",
    "        # Duplicate and reshape player_n_pulls such that each player receives a tensor of shape (1,1,n_bandits,n_players)\n",
    "        # The final axis contains the player's num_pulls first and other player actions listed afterwards\n",
    "        # This is currently not implemented for more than 2 players\n",
    "        if self.n_players == 1:\n",
    "            obs = torch.stack([\n",
    "                self.player_n_pulls,\n",
    "                self.player_rewards_sums\n",
    "            ], dim=-1)\n",
    "        elif self.n_players == 2:\n",
    "            player_n_pulls_player_relative = torch.stack([\n",
    "                self.player_n_pulls,\n",
    "                self.player_n_pulls[:,[1,0],:]\n",
    "            ], dim=-1)\n",
    "            obs = torch.cat([\n",
    "                player_n_pulls_player_relative,\n",
    "                self.player_rewards_sums.unsqueeze(-1)\n",
    "            ], dim=-1)\n",
    "        else:\n",
    "            raise RuntimeError('n_players > 2 is not currently supported by obs() due to relative player pulls info')\n",
    "        if self.remove_extra_dims:\n",
    "            obs = obs.squeeze()\n",
    "        return obs * self.n_bandits / self.n_steps\n",
    "    \n",
    "    @property\n",
    "    def thresholds(self):\n",
    "        return self.orig_thresholds * (self.decay_rate ** self.player_n_pulls.sum(dim=1))\n",
    "    \n",
    "    @property\n",
    "    def done(self):\n",
    "        return self.timestep >= self.n_steps\n",
    "    \n",
    "    @property\n",
    "    def info_dict(self):\n",
    "        if self.remove_extra_dims:\n",
    "            info_dict = {\n",
    "                'thresholds': self.thresholds.squeeze(),\n",
    "                'true_player_rewards_sums': self.player_rewards_sums.squeeze(),\n",
    "            }\n",
    "        else:\n",
    "            info_dict = {\n",
    "                'thresholds': self.thresholds,\n",
    "                'true_player_rewards_sums': self.player_rewards_sums,\n",
    "            }\n",
    "        return info_dict"
   ]
  },
  {
   "cell_type": "code",
   "execution_count": 7,
   "metadata": {},
   "outputs": [],
   "source": [
    "class GraphNN_A3C(nn.Module):\n",
    "    def __init__(self, in_features, n_nodes):\n",
    "        super().__init__()\n",
    "        # Define network\n",
    "        activation_func = nn.ReLU()\n",
    "        layer_size = 16\n",
    "        layers = (\n",
    "            [FullyConnectedGNNLayer(n_nodes, in_features, layer_size, activation_func=activation_func)] +\n",
    "            [FullyConnectedGNNLayer(n_nodes, layer_size, layer_size, activation_func=activation_func)] * 1\n",
    "        )\n",
    "        self.base = nn.Sequential(*layers)\n",
    "        self.actor = FullyConnectedGNNLayer(n_nodes, layer_size, 1, activation_func=activation_func, squeeze_out=True)\n",
    "        self.critic = FullyConnectedGNNLayer(n_nodes, layer_size, 1, activation_func=nn.Identity(), squeeze_out=True)\n",
    "        \n",
    "        self.train()\n",
    "    \n",
    "    def forward(self, states):\n",
    "        base_out = self.base(states)\n",
    "        return self.actor(base_out), self.critic(base_out).mean(dim=-1)\n",
    "    \n",
    "    def choose_action(self, states):\n",
    "        with torch.no_grad():\n",
    "            logits, _ = self.forward(states)\n",
    "            probs = F.softmax(logits, dim=-1)\n",
    "            batch_size, n_envs, n_players, n_bandits = probs.shape\n",
    "            m = torch.distributions.Categorical(probs.view(batch_size * n_envs * n_players, n_bandits))\n",
    "            return m.sample().view(batch_size, n_envs, n_players)\n",
    "    \n",
    "    def loss_func(self, states, actions, v_t):\n",
    "        #print(f'states.shape: {states.shape}, actions.shape: {actions.shape}, v_t.shape: {v_t.shape}')\n",
    "        logits, values = self.forward(states)\n",
    "        \n",
    "        #print(f'logits.shape: {logits.shape}, values.shape: {values.shape}')\n",
    "        td = v_t - values\n",
    "        critic_loss = td.pow(2).view(-1)\n",
    "        \n",
    "        probs = F.softmax(logits, dim=-1)\n",
    "        batch_size, n_envs, n_players, n_bandits = probs.shape\n",
    "        m = torch.distributions.Categorical(probs.view(batch_size * n_envs * n_players, n_bandits))\n",
    "        #print(f'm.log_prob(actions.view(batch_size * n_envs * n_players)).shape: {m.log_prob(actions.view(batch_size * n_envs * n_players)).shape}, td.shape: {td.shape}')\n",
    "        actor_loss = -(m.log_prob(actions.view(-1)) * td.detach().view(-1))\n",
    "        total_loss = (critic_loss + actor_loss).mean()\n",
    "        return total_loss\n",
    "\n",
    "\n",
    "def a3c_vectorized_env(env, model, optimizer, n_episodes, batch_size,\n",
    "                       gamma=0.9):\n",
    "    model.to(device=device)\n",
    "    model.train()\n",
    "    episode_reward_sums = []\n",
    "    \n",
    "    for episode in tqdm.trange(n_episodes):\n",
    "        buffer_s, buffer_a, buffer_r = [], [], []\n",
    "        s, r, _, _ = env.reset()\n",
    "        episode_reward_sums.append(r)\n",
    "        step_count = 1\n",
    "        while not env.done:\n",
    "            # Batch size of 1 for inference\n",
    "            a = model.choose_action(s.to(device=device).unsqueeze(0)).squeeze(0)\n",
    "            next_s, r, done, _ = env.step(a)\n",
    "            \n",
    "            #print(s.shape, a.shape, r.shape)\n",
    "            buffer_s.append(s)\n",
    "            buffer_a.append(a)\n",
    "            buffer_r.append(r)\n",
    "            \n",
    "            if step_count % batch_size == 0 or done:\n",
    "                if done:\n",
    "                    v_next_s = torch.zeros_like(buffer_r[-1])\n",
    "                else:\n",
    "                    _, v_next_s = model(next_s.to(device=device).unsqueeze(0))\n",
    "                    v_next_s = v_next_s.detach().squeeze(0)\n",
    "                v_next_s.to(device=device)\n",
    "                \n",
    "                buffer_v_target = []\n",
    "                for r in buffer_r[::-1]:\n",
    "                    v_next_s = r + gamma * v_next_s\n",
    "                    buffer_v_target.append(v_next_s)\n",
    "                buffer_v_target.reverse()\n",
    "                \n",
    "                loss = model.loss_func(\n",
    "                    torch.stack(buffer_s).to(device=device),\n",
    "                    torch.stack(buffer_a).to(device=device),\n",
    "                    torch.stack(buffer_v_target).to(device=device)\n",
    "                )\n",
    "                optimizer.zero_grad()\n",
    "                loss.backward()\n",
    "                optimizer.step()\n",
    "                buffer_s, buffer_a, buffer_r = [], [], []\n",
    "            s = next_s\n",
    "            episode_reward_sums[-1] += r\n",
    "            step_count += 1\n",
    "    return [rs.mean() for rs in episode_reward_sums]"
   ]
  },
  {
   "cell_type": "code",
   "execution_count": 10,
   "metadata": {},
   "outputs": [
    {
     "name": "stderr",
     "output_type": "stream",
     "text": [
      "100%|██████████| 20/20 [01:51<00:00,  5.59s/it]\n"
     ]
    }
   ],
   "source": [
    "env = Kaggle_MAB_Env_Torch_Vectorized(n_envs=256, n_players=2, decay_rate=0.97, out_device=device)\n",
    "model = GraphNN_A3C(3, env.n_bandits)\n",
    "model.to(device=device)\n",
    "optimizer = torch.optim.Adam(model.parameters())\n",
    "\n",
    "vec_env_kwargs = dict(\n",
    "    batch_size=100,\n",
    "    gamma=0.99\n",
    ")\n",
    "episode_reward_sums = a3c_vectorized_env(env, model, optimizer, n_episodes=20, **vec_env_kwargs)"
   ]
  },
  {
   "cell_type": "code",
   "execution_count": 11,
   "metadata": {},
   "outputs": [
    {
     "data": {
      "image/png": "[encoded data removed]",
      "text/plain": [
       "<Figure size 460.8x403.2 with 1 Axes>"
      ]
     },
     "metadata": {},
     "output_type": "display_data"
    },
    {
     "data": {
      "image/png": "[encoded data removed]",
      "text/plain": [
       "<Figure size 460.8x403.2 with 1 Axes>"
      ]
     },
     "metadata": {},
     "output_type": "display_data"
    }
   ],
   "source": [
    "plt.plot([rs / env.r_norm for rs in episode_reward_sums])\n",
    "plt.show()\n",
    "plt.plot(episode_reward_sums);"
   ]
  },
  {
   "cell_type": "markdown",
   "metadata": {},
   "source": [
    "#### TODO:\n",
    "Adjust size of GNN - add more layers\n",
    "\n",
    "Tune gamma and/or batch_size\n",
    "\n",
    "Eventually, experiment with reward_type = END_OF_GAME"
   ]
  },
  {
   "cell_type": "code",
   "execution_count": 12,
   "metadata": {},
   "outputs": [
    {
     "name": "stderr",
     "output_type": "stream",
     "text": [
      "100%|██████████| 50/50 [04:38<00:00,  5.57s/it]\n"
     ]
    }
   ],
   "source": [
    "episode_reward_sums = a3c_vectorized_env(env, model, optimizer, n_episodes=50, **vec_env_kwargs)"
   ]
  },
  {
   "cell_type": "code",
   "execution_count": 13,
   "metadata": {},
   "outputs": [
    {
     "data": {
      "image/png": "[encoded data removed]",
      "text/plain": [
       "<Figure size 460.8x403.2 with 1 Axes>"
      ]
     },
     "metadata": {},
     "output_type": "display_data"
    },
    {
     "data": {
      "image/png": "[encoded data removed]",
      "text/plain": [
       "<Figure size 460.8x403.2 with 1 Axes>"
      ]
     },
     "metadata": {},
     "output_type": "display_data"
    }
   ],
   "source": [
    "#rewards = reinforce(env, policy_est, batch_size=2, num_episodes=100)\n",
    "plt.plot([rs / env.r_norm for rs in episode_reward_sums])\n",
    "plt.show()\n",
    "plt.plot(episode_reward_sums);"
   ]
  },
  {
   "cell_type": "markdown",
   "metadata": {},
   "source": [
    "## Save the model state_dict as a serialized string"
   ]
  },
  {
   "cell_type": "code",
   "execution_count": 116,
   "metadata": {},
   "outputs": [],
   "source": [
    "model.to('cpu')\n",
    "state_dict_bytes = pickle.dumps({\n",
    "    'model_state_dict': model.state_dict(),\n",
    "    #'optimizer_state_dict': optimizer.state_dict()\n",
    "})\n",
    "serialized_string = base64.b64encode(state_dict_bytes)\n",
    "with open('rl_agents/s_s.txt', 'w') as f:\n",
    "    f.write(repr(serialized_string))"
   ]
  },
  {
   "cell_type": "markdown",
   "metadata": {},
   "source": [
    "## Testing and debugging"
   ]
  },
  {
   "cell_type": "code",
   "execution_count": 77,
   "metadata": {
    "scrolled": false
   },
   "outputs": [
    {
     "data": {
      "text/plain": [
       "tensor([[[0., 0., 0., 0., 0., 0., 0., 0., 0., 0., 0., 0., 0., 0., 0., 0., 0.,\n",
       "          0., 0., 0., 0., 0., 0., 0., 0., 0., 0., 0., 0., 0., 0., 0., 0., 0.,\n",
       "          0., 0., 0., 0., 0., 0., 0., 0., 0., 0., 0., 0., 0., 0., 0., 0., 0.,\n",
       "          0., 0., 0., 0., 0., 0., 0., 0., 0., 0., 0., 0., 0., 0., 0., 0., 0.,\n",
       "          0., 0., 0., 0., 0., 0., 0., 0., 0., 0., 0., 0., 0., 0., 0., 0., 0.,\n",
       "          0., 0., 0., 0., 0., 0., 0., 0., 0., 0., 0., 0., 0., 0., 0.],\n",
       "         [0., 0., 3., 0., 0., 0., 0., 0., 0., 0., 0., 0., 0., 0., 0., 0., 0.,\n",
       "          0., 0., 0., 0., 0., 0., 0., 0., 0., 0., 0., 0., 0., 0., 0., 0., 0.,\n",
       "          0., 0., 0., 0., 0., 0., 0., 0., 0., 0., 0., 0., 0., 0., 0., 0., 0.,\n",
       "          0., 0., 0., 0., 0., 0., 0., 0., 0., 0., 0., 0., 0., 0., 0., 0., 0.,\n",
       "          0., 0., 0., 0., 0., 0., 0., 0., 0., 0., 0., 0., 0., 0., 0., 0., 0.,\n",
       "          0., 0., 0., 0., 0., 0., 0., 0., 0., 0., 0., 0., 0., 0., 0.]],\n",
       "\n",
       "        [[0., 0., 1., 2., 0., 0., 0., 0., 0., 0., 0., 0., 0., 0., 0., 0., 0.,\n",
       "          0., 0., 0., 0., 0., 0., 0., 0., 0., 0., 0., 0., 0., 0., 0., 0., 0.,\n",
       "          0., 0., 0., 0., 0., 0., 0., 0., 0., 0., 0., 0., 0., 0., 0., 0., 0.,\n",
       "          0., 0., 0., 0., 0., 0., 0., 0., 0., 0., 0., 0., 0., 0., 0., 0., 0.,\n",
       "          0., 0., 0., 0., 0., 0., 0., 0., 0., 0., 0., 0., 0., 0., 0., 0., 0.,\n",
       "          0., 0., 0., 0., 0., 0., 0., 0., 0., 0., 0., 0., 0., 0., 0.],\n",
       "         [0., 0., 0., 2., 2., 0., 0., 0., 0., 0., 0., 0., 0., 0., 0., 0., 0.,\n",
       "          0., 0., 0., 0., 0., 0., 0., 0., 0., 0., 0., 0., 0., 0., 0., 0., 0.,\n",
       "          0., 0., 0., 0., 0., 0., 0., 0., 0., 0., 0., 0., 0., 0., 0., 0., 0.,\n",
       "          0., 0., 0., 0., 0., 0., 0., 0., 0., 0., 0., 0., 0., 0., 0., 0., 0.,\n",
       "          0., 0., 0., 0., 0., 0., 0., 0., 0., 0., 0., 0., 0., 0., 0., 0., 0.,\n",
       "          0., 0., 0., 0., 0., 0., 0., 0., 0., 0., 0., 0., 0., 0., 0.]],\n",
       "\n",
       "        [[0., 0., 0., 0., 0., 1., 0., 0., 0., 0., 0., 0., 0., 0., 0., 0., 0.,\n",
       "          0., 0., 0., 0., 0., 0., 0., 0., 0., 0., 0., 0., 0., 0., 0., 0., 0.,\n",
       "          0., 0., 0., 0., 0., 0., 0., 0., 0., 0., 0., 0., 0., 0., 0., 0., 0.,\n",
       "          0., 0., 0., 0., 0., 0., 0., 0., 0., 0., 0., 0., 0., 0., 0., 0., 0.,\n",
       "          0., 0., 0., 0., 0., 0., 0., 0., 0., 0., 0., 0., 0., 0., 0., 0., 0.,\n",
       "          0., 0., 0., 0., 0., 0., 0., 0., 0., 0., 0., 0., 0., 0., 0.],\n",
       "         [0., 0., 0., 0., 0., 1., 1., 0., 0., 0., 0., 0., 0., 0., 0., 0., 0.,\n",
       "          0., 0., 0., 0., 0., 0., 0., 0., 0., 0., 0., 0., 0., 0., 0., 0., 0.,\n",
       "          0., 0., 0., 0., 0., 0., 0., 0., 0., 0., 0., 0., 0., 0., 0., 0., 0.,\n",
       "          0., 0., 0., 0., 0., 0., 0., 0., 0., 0., 0., 0., 0., 0., 0., 0., 0.,\n",
       "          0., 0., 0., 0., 0., 0., 0., 0., 0., 0., 0., 0., 0., 0., 0., 0., 0.,\n",
       "          0., 0., 0., 0., 0., 0., 0., 0., 0., 0., 0., 0., 0., 0., 0.]]])"
      ]
     },
     "execution_count": 77,
     "metadata": {},
     "output_type": "execute_result"
    }
   ],
   "source": [
    "test_env = Kaggle_MAB_Env_Torch_Vectorized(n_envs=3, n_players=2, decay_rate=0.97, env_device=torch.device('cpu'), out_device=device)\n",
    "test_env.reset()\n",
    "actions = torch.arange(6).view(3,2)\n",
    "test_env.step(actions)\n",
    "test_env.step(actions)\n",
    "actions = torch.arange(1,7).view(3,2)\n",
    "test_env.step(actions)\n",
    "test_env.step(actions)\n",
    "test_env.step(actions)\n",
    "\n",
    "test = test_env.player_n_pulls.unsqueeze(3).expand(-1,-1,-1,2).transpose(1,3)\n",
    "test = torch.cat([\n",
    "    test[:,0,:,:].unsqueeze(1),\n",
    "    test[:,0,:,[1,0]].unsqueeze(1)\n",
    "], dim=1)\n",
    "test[0,0]\n",
    "test_env.player_rewards_sums"
   ]
  },
  {
   "cell_type": "code",
   "execution_count": 87,
   "metadata": {
    "scrolled": false
   },
   "outputs": [
    {
     "name": "stdout",
     "output_type": "stream",
     "text": [
      "\n",
      "[59.24764  59.24764  62.7534   59.24764  60.21512  59.24764  59.24764\n",
      " 59.24764  60.21512  59.24764  59.24764  59.24764  59.12124  59.24764\n",
      " 59.24764  61.746227 59.24764  59.24764  59.24764  59.24764  59.24764\n",
      " 59.24764  61.746235 59.24764  63.14696  59.24764  59.24764  59.24764\n",
      " 59.24764  59.24764  59.24764  59.24764  62.40287  60.586052 57.59015\n",
      " 59.24764  59.24764  59.24764  59.24764  59.24764  60.586052 59.24764\n",
      " 62.75343  59.24764  59.24764  61.74622  59.24764  61.746227 58.027374\n",
      " 59.24764  60.586052 59.24764  59.24764  60.586052 59.24764  60.586052\n",
      " 61.746235 59.24764  59.24764  59.24764  59.24764  59.24764  61.30899\n",
      " 59.24764  59.24764  61.74622  59.24764  59.24764  59.24764  59.24764\n",
      " 59.24764  59.24764  59.24764  58.027374 59.24764  59.24764  59.24764\n",
      " 59.24764  58.027374 59.24764  59.24764  59.24764  59.24764  59.24764\n",
      " 59.24764  59.24764  59.24764  59.24764  59.24764  59.24764  59.24764\n",
      " 59.24764  59.24764  59.24764  59.24764  59.24764  59.24764  59.24764\n",
      " 59.24764  59.24764 ]\n",
      "0.064958826\n",
      "tensor([[0.0000, 0.0000, 0.1501, 0.0000, 0.1501, 0.0000, 0.0000, 0.0000, 0.1501,\n",
      "         0.0000, 0.0000, 0.0000, 0.1001, 0.0000, 0.0000, 0.1001, 0.0000, 0.0000,\n",
      "         0.0000, 0.0000, 0.0000, 0.0000, 0.1001, 0.0000, 0.2001, 0.0000, 0.0000,\n",
      "         0.0000, 0.0000, 0.0000, 0.0000, 0.0000, 0.2501, 0.0500, 0.1501, 0.0000,\n",
      "         0.0000, 0.0000, 0.0000, 0.0000, 0.0500, 0.0000, 0.1501, 0.0000, 0.0000,\n",
      "         0.1001, 0.0000, 0.1001, 0.0500, 0.0000, 0.0500, 0.0000, 0.0000, 0.0500,\n",
      "         0.0000, 0.0500, 0.1001, 0.0000, 0.0000, 0.0000, 0.0000, 0.0000, 0.2001,\n",
      "         0.0000, 0.0000, 0.1001, 0.0000, 0.0000, 0.0000, 0.0000, 0.0000, 0.0000,\n",
      "         0.0000, 0.0500, 0.0000, 0.0000, 0.0000, 0.0000, 0.0500, 0.0000, 0.0000,\n",
      "         0.0000, 0.0000, 0.0000, 0.0000, 0.0000, 0.0000, 0.0000, 0.0000, 0.0000,\n",
      "         0.0000, 0.0000, 0.0000, 0.0000, 0.0000, 0.0000, 0.0000, 0.0000, 0.0000,\n",
      "         0.0000],\n",
      "        [0.0000, 0.0000, 0.1501, 0.0000, 0.1501, 0.0000, 0.0000, 0.0000, 0.1501,\n",
      "         0.0000, 0.0000, 0.0000, 0.1001, 0.0000, 0.0000, 0.1001, 0.0000, 0.0000,\n",
      "         0.0000, 0.0000, 0.0000, 0.0000, 0.1001, 0.0000, 0.2001, 0.0000, 0.0000,\n",
      "         0.0000, 0.0000, 0.0000, 0.0000, 0.0000, 0.2501, 0.0500, 0.1501, 0.0000,\n",
      "         0.0000, 0.0000, 0.0000, 0.0000, 0.0500, 0.0000, 0.1501, 0.0000, 0.0000,\n",
      "         0.1001, 0.0000, 0.1001, 0.0500, 0.0000, 0.0500, 0.0000, 0.0000, 0.0500,\n",
      "         0.0000, 0.0500, 0.1001, 0.0000, 0.0000, 0.0000, 0.0000, 0.0000, 0.2001,\n",
      "         0.0000, 0.0000, 0.1001, 0.0000, 0.0000, 0.0000, 0.0000, 0.0000, 0.0000,\n",
      "         0.0000, 0.0500, 0.0000, 0.0000, 0.0000, 0.0000, 0.0500, 0.0000, 0.0000,\n",
      "         0.0000, 0.0000, 0.0000, 0.0000, 0.0000, 0.0000, 0.0000, 0.0000, 0.0000,\n",
      "         0.0000, 0.0000, 0.0000, 0.0000, 0.0000, 0.0000, 0.0000, 0.0000, 0.0000,\n",
      "         0.0000],\n",
      "        [0.0000, 0.0000, 0.1501, 0.0000, 0.1001, 0.0000, 0.0000, 0.0000, 0.1001,\n",
      "         0.0000, 0.0000, 0.0000, 0.0500, 0.0000, 0.0000, 0.1001, 0.0000, 0.0000,\n",
      "         0.0000, 0.0000, 0.0000, 0.0000, 0.1001, 0.0000, 0.2001, 0.0000, 0.0000,\n",
      "         0.0000, 0.0000, 0.0000, 0.0000, 0.0000, 0.2001, 0.0500, 0.0500, 0.0000,\n",
      "         0.0000, 0.0000, 0.0000, 0.0000, 0.0500, 0.0000, 0.1501, 0.0000, 0.0000,\n",
      "         0.1001, 0.0000, 0.1001, 0.0000, 0.0000, 0.0500, 0.0000, 0.0000, 0.0500,\n",
      "         0.0000, 0.0500, 0.1001, 0.0000, 0.0000, 0.0000, 0.0000, 0.0000, 0.1501,\n",
      "         0.0000, 0.0000, 0.1001, 0.0000, 0.0000, 0.0000, 0.0000, 0.0000, 0.0000,\n",
      "         0.0000, 0.0000, 0.0000, 0.0000, 0.0000, 0.0000, 0.0000, 0.0000, 0.0000,\n",
      "         0.0000, 0.0000, 0.0000, 0.0000, 0.0000, 0.0000, 0.0000, 0.0000, 0.0000,\n",
      "         0.0000, 0.0000, 0.0000, 0.0000, 0.0000, 0.0000, 0.0000, 0.0000, 0.0000,\n",
      "         0.0000]], device='cuda:0')\n",
      "0.3865158773024851 0.39152427485145724\n"
     ]
    }
   ],
   "source": [
    "from scipy.stats import spearmanr, pearsonr\n",
    "\n",
    "test_env = Kaggle_MAB_Env_Torch_Vectorized(n_players=2, decay_rate=0.97)\n",
    "with torch.no_grad():\n",
    "    test_env.reset()\n",
    "    # Take 10 good actions\n",
    "    for i in range(50):\n",
    "        actions = test_env.thresholds.argmax(axis=-1)[:, None]\n",
    "        s, _, _, _ = test_env.step(actions.repeat(1, test_env.n_players))\n",
    "    logits, values = model(s[0,0].to(device=device)[None, None, :])\n",
    "    logits = logits.cpu().numpy().squeeze()\n",
    "    values = values.cpu().numpy().squeeze()\n",
    "print()\n",
    "print(logits)\n",
    "print(values)\n",
    "print(s[:,0].squeeze().t())\n",
    "print(spearmanr(logits, test_env.thresholds.squeeze().cpu().numpy())[0],\n",
    "      pearsonr(logits, test_env.thresholds.squeeze().cpu().numpy())[0])"
   ]
  },
  {
   "cell_type": "code",
   "execution_count": 10,
   "metadata": {},
   "outputs": [
    {
     "name": "stderr",
     "output_type": "stream",
     "text": [
      "100%|██████████| 1999/1999 [00:01<00:00, 1586.75it/s]\n"
     ]
    },
    {
     "data": {
      "text/plain": [
       "(tensor(591.1075, device='cuda:0'), tensor(38.6730, device='cuda:0'))"
      ]
     },
     "execution_count": 10,
     "metadata": {},
     "output_type": "execute_result"
    }
   ],
   "source": [
    "test_env = Kaggle_MAB_Env_Torch_Vectorized(n_envs=1000, n_players=2, decay_rate=0.97, env_device=torch.device('cuda'), out_device=torch.device('cuda'))\n",
    "\n",
    "for i in tqdm.trange(test_env.n_steps):\n",
    "    actions = torch.randint(test_env.n_bandits, size=(test_env.n_envs, test_env.n_players))\n",
    "    test_env.step(actions)\n",
    "test_env.player_rewards_sums.sum(axis=-1).mean(), test_env.player_rewards_sums.sum(axis=-1).std()"
   ]
  },
  {
   "cell_type": "code",
   "execution_count": 11,
   "metadata": {},
   "outputs": [
    {
     "name": "stderr",
     "output_type": "stream",
     "text": [
      "100%|██████████| 1999/1999 [00:01<00:00, 1052.65it/s]\n"
     ]
    },
    {
     "data": {
      "text/plain": [
       "(tensor(661.2520, device='cuda:0'), tensor(37.1968, device='cuda:0'))"
      ]
     },
     "execution_count": 11,
     "metadata": {},
     "output_type": "execute_result"
    }
   ],
   "source": [
    "test_env = Kaggle_MAB_Env_Torch_Vectorized(n_envs=1000, n_players=2, decay_rate=0.97, env_device=torch.device('cuda'), out_device=torch.device('cpu'))\n",
    "\n",
    "for i in tqdm.trange(test_env.n_steps):\n",
    "    actions = test_env.thresholds.argmax(axis=-1)[:, None]\n",
    "    test_env.step(actions.repeat(1, test_env.n_players))\n",
    "test_env.player_rewards_sums.sum(axis=-1).mean(), test_env.player_rewards_sums.sum(axis=-1).std()"
   ]
  },
  {
   "cell_type": "code",
   "execution_count": null,
   "metadata": {},
   "outputs": [],
   "source": []
  },
  {
   "cell_type": "code",
   "execution_count": 152,
   "metadata": {},
   "outputs": [
    {
     "name": "stderr",
     "output_type": "stream",
     "text": [
      "100%|██████████| 10/10 [00:00<00:00, 479.15it/s]"
     ]
    },
    {
     "name": "stdout",
     "output_type": "stream",
     "text": [
      "Loss: 2.30, Accuracy: 0.000\n",
      "tensor([[[0.8214],\n",
      "         [0.5663],\n",
      "         [0.7303],\n",
      "         [0.6139],\n",
      "         [0.0942],\n",
      "         [0.2026],\n",
      "         [0.8251],\n",
      "         [0.3299],\n",
      "         [0.0296],\n",
      "         [0.5319]]], device='cuda:0')\n",
      "tensor([[[0.1007],\n",
      "         [0.1003],\n",
      "         [0.1006],\n",
      "         [0.1004],\n",
      "         [0.0990],\n",
      "         [0.0994],\n",
      "         [0.1007],\n",
      "         [0.0997],\n",
      "         [0.0988],\n",
      "         [0.1003]]], device='cuda:0', grad_fn=<SoftmaxBackward>)\n",
      "tensor([[0]], device='cuda:0')\n",
      "tensor([[6]], device='cuda:0')\n"
     ]
    },
    {
     "name": "stderr",
     "output_type": "stream",
     "text": [
      "\n"
     ]
    }
   ],
   "source": [
    "n_nodes = 10\n",
    "activation_func = nn.ReLU()\n",
    "layer_size = 64\n",
    "layers = (\n",
    "    [FullyConnectedGNNLayer(n_nodes, 1, layer_size, activation_func=activation_func)] +\n",
    "    [FullyConnectedGNNLayer(n_nodes, layer_size, layer_size, activation_func=activation_func)] * 0 +\n",
    "    [FullyConnectedGNNLayer(n_nodes, layer_size, 1, activation_func=activation_func)]\n",
    ")\n",
    "model = nn.Sequential(\n",
    "    *layers\n",
    ")\n",
    "#model = FullyConnectedGNNLayer(n_nodes, 1, 1, activation_func=nn.Identity())\n",
    "model.train()\n",
    "model.to('cuda')\n",
    "loss_func = nn.CrossEntropyLoss()\n",
    "optimizer = torch.optim.SGD(model.parameters(), lr=0.0002)\n",
    "#optimizer = torch.optim.Adam(model.parameters(), lr=0.0001)\n",
    "\n",
    "for i in tqdm.trange(10):\n",
    "    train_batch_in = torch.rand((250, n_nodes, 1), dtype=torch.float).to('cuda')\n",
    "    k = 2\n",
    "    labels = torch.topk(train_batch_in, k=k, dim=1).indices[:,k-1]\n",
    "    \n",
    "    optimizer.zero_grad()\n",
    "    outputs = model(train_batch_in)\n",
    "    loss = loss_func(outputs, labels)\n",
    "    loss.backward()\n",
    "    optimizer.step()\n",
    "    \n",
    "    accuracy = (F.softmax(outputs, dim=1).argmax(dim=1) == labels).float().mean()\n",
    "print(f'Loss: {loss:.2f}, Accuracy: {accuracy:.3f}')\n",
    "\n",
    "test_batch_in = torch.rand((1, n_nodes, 1), dtype=torch.float).to('cuda')\n",
    "print(test_batch_in)\n",
    "print(F.softmax(model(test_batch_in), dim=1))\n",
    "print(torch.topk(test_batch_in, k=k, dim=1).indices[:,k-1])\n",
    "print(F.softmax(model(test_batch_in), dim=1).argmax(dim=1))"
   ]
  },
  {
   "cell_type": "code",
   "execution_count": 153,
   "metadata": {},
   "outputs": [
    {
     "name": "stderr",
     "output_type": "stream",
     "text": [
      "100%|██████████| 1000/1000 [00:01<00:00, 549.97it/s]"
     ]
    },
    {
     "name": "stdout",
     "output_type": "stream",
     "text": [
      "Loss: 2.29, Accuracy: 0.000\n"
     ]
    },
    {
     "name": "stderr",
     "output_type": "stream",
     "text": [
      "\n"
     ]
    }
   ],
   "source": [
    "for i in tqdm.trange(1000):\n",
    "    train_batch_in = torch.rand((250, n_nodes, 1), dtype=torch.float).to('cuda')\n",
    "    k = 2\n",
    "    labels = torch.topk(train_batch_in, k=k, dim=1).indices[:,k-1]\n",
    "    \n",
    "    optimizer.zero_grad()\n",
    "    outputs = model(train_batch_in)\n",
    "    loss = loss_func(outputs, labels)\n",
    "    loss.backward()\n",
    "    optimizer.step()\n",
    "    \n",
    "    accuracy = (F.softmax(outputs, dim=1).argmax(dim=1) == labels).float().mean()\n",
    "print(f'Loss: {loss:.2f}, Accuracy: {accuracy:.3f}')"
   ]
  },
  {
   "cell_type": "code",
   "execution_count": 250,
   "metadata": {},
   "outputs": [
    {
     "name": "stderr",
     "output_type": "stream",
     "text": [
      "100%|██████████| 10000/10000 [00:08<00:00, 1172.83it/s]\n"
     ]
    },
    {
     "data": {
      "text/plain": [
       "tensor(2.2476e-11, device='cuda:0', grad_fn=<MseLossBackward>)"
      ]
     },
     "execution_count": 250,
     "metadata": {},
     "output_type": "execute_result"
    }
   ],
   "source": [
    "model = FullyConnectedGNNLayer(5, 1, 1, activation_func=nn.Identity())\n",
    "model.train()\n",
    "model.to('cuda')\n",
    "loss_func = nn.MSELoss()\n",
    "optimizer = torch.optim.SGD(model.parameters(), lr=0.01, momentum=0.)\n",
    "\n",
    "for i in tqdm.trange(10000):\n",
    "    train_batch_in = torch.rand((1024, 5, 1), dtype=torch.float).to('cuda')\n",
    "    train_batch_out = train_batch_in + train_batch_in.sum(dim=1, keepdims=True)\n",
    "    \n",
    "    optimizer.zero_grad()\n",
    "    outputs = model(train_batch_in)\n",
    "    loss = loss_func(outputs, train_batch_out)\n",
    "    loss.backward()\n",
    "    optimizer.step()\n",
    "loss"
   ]
  },
  {
   "cell_type": "code",
   "execution_count": 251,
   "metadata": {},
   "outputs": [
    {
     "name": "stdout",
     "output_type": "stream",
     "text": [
      "tensor([[[0.8142],\n",
      "         [0.2351],\n",
      "         [0.0057],\n",
      "         [0.8548],\n",
      "         [0.5895]],\n",
      "\n",
      "        [[0.9160],\n",
      "         [0.7284],\n",
      "         [0.4671],\n",
      "         [0.4535],\n",
      "         [0.1266]]], device='cuda:0')\n",
      "tensor([[[3.3136],\n",
      "         [2.7345],\n",
      "         [2.5050],\n",
      "         [3.3541],\n",
      "         [3.0888]],\n",
      "\n",
      "        [[3.6076],\n",
      "         [3.4200],\n",
      "         [3.1586],\n",
      "         [3.1450],\n",
      "         [2.8181]]], device='cuda:0')\n",
      "tensor([[[3.3136],\n",
      "         [2.7345],\n",
      "         [2.5051],\n",
      "         [3.3541],\n",
      "         [3.0888]],\n",
      "\n",
      "        [[3.6076],\n",
      "         [3.4200],\n",
      "         [3.1586],\n",
      "         [3.1450],\n",
      "         [2.8181]]], device='cuda:0', grad_fn=<AddBackward0>)\n"
     ]
    }
   ],
   "source": [
    "train_batch_in = torch.rand((2, 5, 1), dtype=torch.float).to('cuda')\n",
    "print(train_batch_in)\n",
    "print(train_batch_in + train_batch_in.sum(dim=1, keepdims=True))\n",
    "print(model(train_batch_in))"
   ]
  },
  {
   "cell_type": "code",
   "execution_count": 89,
   "metadata": {},
   "outputs": [
    {
     "name": "stdout",
     "output_type": "stream",
     "text": [
      "tensor([[ 0.0080, -0.0226, -0.1496,  0.2931,  0.1663,  0.2044,  0.2448, -0.1525,\n",
      "          0.2126, -0.2047,  0.1701, -0.0532,  0.0583,  0.2180, -0.1198, -0.1294]],\n",
      "       device='cuda:0') tensor([-0.0723], device='cuda:0')\n",
      "tensor([[ 0.6758, -0.5271]], device='cuda:0') tensor([-0.3440], device='cuda:0')\n",
      "GraphNN_A3C(\n",
      "  (base): Sequential(\n",
      "    (0): FullyConnectedGNNLayer(\n",
      "      (activation_func): ReLU()\n",
      "      (transform_features): Linear(in_features=3, out_features=16, bias=True)\n",
      "      (recombine_features): Linear(in_features=32, out_features=16, bias=True)\n",
      "    )\n",
      "    (1): FullyConnectedGNNLayer(\n",
      "      (activation_func): ReLU()\n",
      "      (transform_features): Linear(in_features=16, out_features=16, bias=True)\n",
      "      (recombine_features): Linear(in_features=32, out_features=16, bias=True)\n",
      "    )\n",
      "  )\n",
      "  (actor): FullyConnectedGNNLayer(\n",
      "    (activation_func): ReLU()\n",
      "    (transform_features): Linear(in_features=16, out_features=1, bias=True)\n",
      "    (recombine_features): Linear(in_features=2, out_features=1, bias=True)\n",
      "  )\n",
      "  (critic): FullyConnectedGNNLayer(\n",
      "    (activation_func): Identity()\n",
      "    (transform_features): Linear(in_features=16, out_features=1, bias=True)\n",
      "    (recombine_features): Linear(in_features=2, out_features=1, bias=True)\n",
      "  )\n",
      ")\n",
      "FullyConnectedGNNLayer(\n",
      "  (activation_func): Identity()\n",
      "  (transform_features): Linear(in_features=16, out_features=1, bias=True)\n",
      "  (recombine_features): Linear(in_features=2, out_features=1, bias=True)\n",
      ")\n"
     ]
    }
   ],
   "source": [
    "child_layer_idx = -1\n",
    "child_layer = list(model.children())[child_layer_idx]\n",
    "print(child_layer.transform_features.weight.data, child_layer.transform_features.bias.data)\n",
    "print(child_layer.recombine_features.weight.data, child_layer.recombine_features.bias.data)\n",
    "print(model)\n",
    "print(child_layer)"
   ]
  },
  {
   "cell_type": "markdown",
   "metadata": {},
   "source": [
    "## Deprecated"
   ]
  },
  {
   "cell_type": "code",
   "execution_count": null,
   "metadata": {},
   "outputs": [],
   "source": [
    "class Kaggle_MAB_Env_Numpy_Vectorized():\n",
    "    def __init__(self,\n",
    "                 # Kaggle MAB env params\n",
    "                 n_bandits=100, n_steps=1999, decay_rate=0.97, sample_resolution=100,\n",
    "                 # Custom params\n",
    "                 n_envs=1, n_players=2, reward_type=EVERY_STEP, remove_extra_dims=False):\n",
    "        # Assert parameter conditions\n",
    "        assert 0 <= decay_rate <= 1.\n",
    "        assert reward_type in (END_OF_GAME, EVERY_STEP)\n",
    "        if reward_type == END_OF_GAME:\n",
    "            assert n_players >= 2\n",
    "        else:\n",
    "            assert n_players >= 1\n",
    "        self.n_bandits = n_bandits\n",
    "        self.n_steps = n_steps\n",
    "        self.decay_rate = decay_rate\n",
    "        self.sample_resolution = sample_resolution\n",
    "        \n",
    "        self.n_envs = n_envs\n",
    "        self.n_players = n_players\n",
    "        self.reward_type = reward_type\n",
    "        self.remove_extra_dims = remove_extra_dims\n",
    "        \n",
    "        self.timestep = None\n",
    "        self.orig_thresholds = None\n",
    "        self.player_n_pulls = None\n",
    "        self.player_rewards_sums = None\n",
    "        self.reset()\n",
    "    \n",
    "    @property\n",
    "    def thresholds(self):\n",
    "        return self.orig_thresholds * (self.decay_rate ** self.player_n_pulls[:,0,:])\n",
    "    \n",
    "    def reset(self):\n",
    "        self.timestep = 0\n",
    "        self.orig_thresholds = np.random.randint(self.sample_resolution + 1, size=(self.n_envs, self.n_bandits)).astype(np.float32)\n",
    "        self.player_n_pulls = np.zeros((self.n_envs, self.n_players, self.n_bandits))\n",
    "        self.player_rewards_sums = np.zeros_like(self.player_n_pulls)\n",
    "        \n",
    "        rewards = np.zeros((self.n_envs, self.n_players))\n",
    "        if self.remove_extra_dims:\n",
    "            return self.get_obs().squeeze(), rewards.squeeze(), self.done, dict(thresholds=self.thresholds.squeeze())\n",
    "        else:\n",
    "            return self.get_obs(), rewards, self.done, dict(thresholds=self.thresholds)\n",
    "        \n",
    "    def step(self, actions):\n",
    "        if self.remove_extra_dims:\n",
    "            if type(actions) == int:\n",
    "                actions = np.array([[actions]])\n",
    "            else:\n",
    "                actions = actions.reshape((self.n_envs, self.n_players))\n",
    "        assert actions.shape == (self.n_envs, self.n_players), f'actions.shape was: {actions.shape}'\n",
    "        assert not self.done\n",
    "        self.timestep += 1\n",
    "        \n",
    "        # Compute agent rewards\n",
    "        selected_thresholds = np.take_along_axis(self.thresholds, actions, axis=1)\n",
    "        pull_rewards = np.random.randint(self.sample_resolution, size=selected_thresholds.shape) < selected_thresholds\n",
    "        #pull_rewards = selected_thresholds / float(self.sample_resolution)\n",
    "        \n",
    "        # Update player_n_pulls and player_rewards_sums\n",
    "        for env_idx, env_actions in enumerate(actions):\n",
    "            for player_idx, pull_idx in enumerate(env_actions):\n",
    "                self.player_n_pulls[env_idx, :, pull_idx] += 1\n",
    "                self.player_rewards_sums[env_idx, player_idx, pull_idx] += pull_rewards[env_idx, player_idx]\n",
    "        \n",
    "        # Return (obs, reward, done) tuple\n",
    "        if self.reward_type == END_OF_GAME:\n",
    "            rewards = np.zeros_like(actions)\n",
    "            if self.timestep == self.n_steps:\n",
    "                rewards_sums = self.player_rewards_sums.sum(axis=2)\n",
    "                winners = rewards_sums.argmax(axis=1)\n",
    "                rewards[winners] = 1\n",
    "        elif self.reward_type == EVERY_STEP:\n",
    "            rewards = pull_rewards\n",
    "        \n",
    "        # State, reward, done, info_dict\n",
    "        if self.remove_extra_dims:\n",
    "            return self.get_obs().squeeze(), rewards.squeeze(), self.done, dict(thresholds=self.thresholds.squeeze())\n",
    "        else:\n",
    "            return self.get_obs(), rewards, self.done, dict(thresholds=self.thresholds)\n",
    "    \n",
    "    def get_obs(self):\n",
    "        # TODO: Clearly do not return thresholds or orig_thresholds\n",
    "        return np.stack([\n",
    "            #np.broadcast_to(self.orig_thresholds[:, None, :] / self.sample_resolution, self.player_n_pulls.shape),\n",
    "            self.player_n_pulls,\n",
    "            self.player_rewards_sums\n",
    "        ], axis=-1).astype(np.float32)\n",
    "    \n",
    "    @property\n",
    "    def done(self):\n",
    "        return self.timestep >= self.n_steps"
   ]
  }
 ],
 "metadata": {
  "kernelspec": {
   "display_name": "Python 3",
   "language": "python",
   "name": "python3"
  },
  "language_info": {
   "codemirror_mode": {
    "name": "ipython",
    "version": 3
   },
   "file_extension": ".py",
   "mimetype": "text/x-python",
   "name": "python",
   "nbconvert_exporter": "python",
   "pygments_lexer": "ipython3",
   "version": "3.7.7"
  }
 },
 "nbformat": 4,
 "nbformat_minor": 4
}
