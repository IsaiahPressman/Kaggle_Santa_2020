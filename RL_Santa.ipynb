{
 "cells": [
  {
   "cell_type": "code",
   "execution_count": 1,
   "metadata": {},
   "outputs": [],
   "source": [
    "from functools import wraps\n",
    "from jupyterthemes import jtplot\n",
    "import matplotlib.pyplot as plt\n",
    "import numpy as np\n",
    "import torch\n",
    "from torch import distributions, nn\n",
    "import torch.nn.functional as F\n",
    "import time\n",
    "import tqdm\n",
    "\n",
    "%matplotlib inline\n",
    "jtplot.style()\n",
    "\n",
    "device = torch.device('cuda')"
   ]
  },
  {
   "cell_type": "code",
   "execution_count": 2,
   "metadata": {},
   "outputs": [],
   "source": [
    "class FullyConnectedGNNLayer(nn.Module):\n",
    "    def __init__(self, n_nodes, in_features, out_features, activation_func=nn.ReLU(), squeeze_out=False):\n",
    "        super().__init__()\n",
    "        self.n_nodes = n_nodes\n",
    "        self.activation_func = activation_func\n",
    "        self.transform_features = nn.Linear(in_features, out_features)\n",
    "        self.message_passing_mat = nn.Parameter(\n",
    "            (torch.ones((n_nodes, n_nodes)) - torch.eye(n_nodes)) / (n_nodes - 1),\n",
    "            requires_grad=False\n",
    "        )\n",
    "        self.recombine_features = nn.Linear(out_features*2, out_features)\n",
    "        self.squeeze_out = squeeze_out\n",
    "    \n",
    "    def forward(self, features):\n",
    "        features_transformed = self.activation_func(\n",
    "            self.transform_features(features)\n",
    "        )\n",
    "        messages = torch.matmul(self.message_passing_mat, features_transformed)\n",
    "        features_messages_combined = self.activation_func(\n",
    "            self.recombine_features(torch.cat([features_transformed, messages], dim=-1))\n",
    "        )\n",
    "        if self.squeeze_out:\n",
    "            return features_messages_combined.squeeze(dim=-1)\n",
    "        else:\n",
    "            return features_messages_combined"
   ]
  },
  {
   "cell_type": "code",
   "execution_count": 14,
   "metadata": {},
   "outputs": [],
   "source": [
    "END_OF_GAME = 0\n",
    "EVERY_STEP = 1\n",
    "class Kaggle_MAB_Env_Torch_Vectorized():\n",
    "    def __init__(self,\n",
    "                 # Kaggle MAB env params\n",
    "                 n_bandits=100, n_steps=1999, decay_rate=0.97, sample_resolution=100,\n",
    "                 # Custom params\n",
    "                 n_envs=1, n_players=2, reward_type=EVERY_STEP, remove_extra_dims=False, env_device=torch.device('cpu'), out_device=torch.device('cpu')):\n",
    "        # Assert parameter conditions\n",
    "        assert 0 <= decay_rate <= 1.\n",
    "        assert reward_type in (END_OF_GAME, EVERY_STEP)\n",
    "        if reward_type == END_OF_GAME:\n",
    "            assert n_players >= 2\n",
    "        else:\n",
    "            assert n_players >= 1\n",
    "        self.n_bandits = n_bandits\n",
    "        self.n_steps = n_steps\n",
    "        self.decay_rate = decay_rate\n",
    "        self.sample_resolution = sample_resolution\n",
    "        \n",
    "        self.n_envs = n_envs\n",
    "        self.n_players = n_players\n",
    "        self.reward_type = reward_type\n",
    "        self.remove_extra_dims = remove_extra_dims\n",
    "        self.env_device = env_device\n",
    "        self.out_device = out_device\n",
    "        \n",
    "        self.timestep = None\n",
    "        self.orig_thresholds = None\n",
    "        self.player_n_pulls = None\n",
    "        self.player_rewards_sums = None\n",
    "        self.reset()\n",
    "        \n",
    "    def _out_device_decorator(f):\n",
    "        @wraps(f)\n",
    "        def wrapped(self, *args, **kwargs):\n",
    "            return [out.to(self.out_device) if torch.is_tensor(out) else out for out in f(self, *args, **kwargs)]\n",
    "        return wrapped\n",
    "    \n",
    "    @_out_device_decorator\n",
    "    def reset(self):\n",
    "        self.timestep = 0\n",
    "        self.orig_thresholds = torch.randint(self.sample_resolution + 1, size=(self.n_envs, self.n_bandits), dtype=torch.float32, device=self.env_device)\n",
    "        self.player_n_pulls = torch.zeros((self.n_envs, self.n_players, self.n_bandits), device=self.env_device)\n",
    "        self.player_rewards_sums = torch.zeros_like(self.player_n_pulls)\n",
    "        \n",
    "        rewards = torch.zeros((self.n_envs, self.n_players), device=self.env_device)\n",
    "        if self.remove_extra_dims:\n",
    "            return self.get_obs().squeeze(), rewards.squeeze(), self.done, dict(thresholds=self.thresholds.squeeze())\n",
    "        else:\n",
    "            return self.get_obs(), rewards, self.done, dict(thresholds=self.thresholds)\n",
    "    \n",
    "    @_out_device_decorator\n",
    "    def step(self, actions):\n",
    "        if self.remove_extra_dims:\n",
    "            if type(actions) == int:\n",
    "                actions = torch.tensor([[actions]], device=self.env_device)\n",
    "            else:\n",
    "                actions = actions.view((self.n_envs, self.n_players))\n",
    "        assert actions.shape == (self.n_envs, self.n_players), f'actions.shape was: {actions.shape}'\n",
    "        assert not self.done\n",
    "        self.timestep += 1\n",
    "        actions = actions.to(self.env_device)\n",
    "        \n",
    "        # Compute agent rewards\n",
    "        selected_thresholds = self.thresholds.gather(-1, actions)\n",
    "        pull_rewards = torch.randint(self.sample_resolution, size=selected_thresholds.shape, dtype=torch.float32, device=self.env_device) < selected_thresholds\n",
    "        #pull_rewards = selected_thresholds / self.sample_resolution\n",
    "        \n",
    "        # Update player_n_pulls and player_rewards_sums\n",
    "        #for env_idx, env_actions in enumerate(actions):\n",
    "        #    for player_idx, pull_idx in enumerate(env_actions):\n",
    "        #        self.player_n_pulls[env_idx, :, pull_idx] += 1\n",
    "        #        self.player_rewards_sums[env_idx, player_idx, pull_idx] += pull_rewards[env_idx, player_idx]\n",
    "        actions_expanded = actions.unsqueeze(1).expand(-1, self.n_players, -1)\n",
    "        self.player_n_pulls.scatter_(\n",
    "            -1,\n",
    "            actions_expanded,\n",
    "            self.player_n_pulls.gather(-1, actions_expanded) + 1\n",
    "        )\n",
    "        self.player_rewards_sums[\n",
    "            torch.arange(self.n_envs).repeat_interleave(self.n_players),\n",
    "            torch.arange(self.n_players).repeat(self.n_envs),\n",
    "            actions.view(-1)\n",
    "        ] += pull_rewards.view(-1)\n",
    "        \n",
    "        # Return (obs, reward, done) tuple\n",
    "        if self.reward_type == END_OF_GAME:\n",
    "            rewards = torch.zeros_like(actions).float()\n",
    "            if self.timestep == self.n_steps:\n",
    "                rewards_sums = self.player_rewards_sums.sum(dim=2)\n",
    "                winners = rewards_sums.argmax(dim=1)\n",
    "                rewards[winners] = 1.\n",
    "        elif self.reward_type == EVERY_STEP:\n",
    "            rewards = pull_rewards\n",
    "        \n",
    "        # State, reward, done, info_dict\n",
    "        if self.remove_extra_dims:\n",
    "            return self.get_obs().squeeze(), rewards.squeeze(), self.done, dict(thresholds=self.thresholds.squeeze())\n",
    "        else:\n",
    "            return self.get_obs(), rewards, self.done, dict(thresholds=self.thresholds)\n",
    "    \n",
    "    def get_obs(self):\n",
    "        # TODO: Clearly do not return thresholds or orig_thresholds\n",
    "        return torch.stack([\n",
    "            #np.broadcast_to(self.orig_thresholds[:, None, :] / self.sample_resolution, self.player_n_pulls.shape),\n",
    "            self.player_n_pulls,\n",
    "            self.player_rewards_sums\n",
    "        ], dim=-1)\n",
    "    \n",
    "    @property\n",
    "    def thresholds(self):\n",
    "        return self.orig_thresholds * (self.decay_rate ** self.player_n_pulls[:,0,:])\n",
    "    \n",
    "    @property\n",
    "    def done(self):\n",
    "        return self.timestep >= self.n_steps"
   ]
  },
  {
   "cell_type": "code",
   "execution_count": 15,
   "metadata": {},
   "outputs": [],
   "source": [
    "class GraphNN_A3C(nn.Module):\n",
    "    def __init__(self, in_features, n_nodes):\n",
    "        super().__init__()\n",
    "        # Define network\n",
    "        activation_func = nn.Identity()\n",
    "        layer_size = 32\n",
    "        layers = (\n",
    "            [FullyConnectedGNNLayer(n_nodes, in_features, layer_size, activation_func=activation_func)] +\n",
    "            [FullyConnectedGNNLayer(n_nodes, layer_size, layer_size, activation_func=activation_func)] * 0\n",
    "        )\n",
    "        self.base = nn.Sequential(*layers)\n",
    "        self.actor = FullyConnectedGNNLayer(n_nodes, layer_size, 1, activation_func=activation_func, squeeze_out=True)\n",
    "        self.critic = FullyConnectedGNNLayer(n_nodes, layer_size, 1, activation_func=nn.Identity(), squeeze_out=True)\n",
    "        \n",
    "        self.train()\n",
    "    \n",
    "    def forward(self, states):\n",
    "        base_out = self.base(states)\n",
    "        return self.actor(base_out), self.critic(base_out).mean(dim=-1)\n",
    "    \n",
    "    def choose_action(self, states):\n",
    "        with torch.no_grad():\n",
    "            logits, _ = self.forward(states)\n",
    "            probs = F.softmax(logits, dim=-1)\n",
    "            batch_size, n_envs, n_players, n_bandits = probs.shape\n",
    "            m = torch.distributions.Categorical(probs.view(batch_size * n_envs * n_players, n_bandits))\n",
    "            return m.sample().view(batch_size, n_envs, n_players)\n",
    "    \n",
    "    def loss_func(self, states, actions, v_t):\n",
    "        #print(f'states.shape: {states.shape}, actions.shape: {actions.shape}, v_t.shape: {v_t.shape}')\n",
    "        logits, values = self.forward(states)\n",
    "        \n",
    "        #print(f'logits.shape: {logits.shape}, values.shape: {values.shape}')\n",
    "        td = v_t - values\n",
    "        critic_loss = td.pow(2).view(-1)\n",
    "        \n",
    "        probs = F.softmax(logits, dim=-1)\n",
    "        batch_size, n_envs, n_players, n_bandits = probs.shape\n",
    "        m = torch.distributions.Categorical(probs.view(batch_size * n_envs * n_players, n_bandits))\n",
    "        #print(f'm.log_prob(actions.view(batch_size * n_envs * n_players)).shape: {m.log_prob(actions.view(batch_size * n_envs * n_players)).shape}, td.shape: {td.shape}')\n",
    "        actor_loss = -(m.log_prob(actions.view(-1)) * td.detach().view(-1))\n",
    "        total_loss = (critic_loss + actor_loss).mean()\n",
    "        return total_loss\n",
    "\n",
    "\n",
    "def a3c_vectorized_env(env, model, optimizer, n_episodes, batch_size,\n",
    "                       gamma=0.9):\n",
    "    model.to(device=device)\n",
    "    model.train()\n",
    "    episode_reward_sums = []\n",
    "    \n",
    "    for episode in tqdm.trange(n_episodes):\n",
    "        buffer_s, buffer_a, buffer_r = [], [], []\n",
    "        s, r, _, _ = env.reset()\n",
    "        episode_reward_sums.append(r)\n",
    "        step_count = 1\n",
    "        while not env.done:\n",
    "            # Batch size of 1 for inference\n",
    "            a = model.choose_action(s.to(device=device).unsqueeze(0)).squeeze(0)\n",
    "            next_s, r, done, _ = env.step(a)\n",
    "            \n",
    "            #print(s.shape, a.shape, r.shape)\n",
    "            buffer_s.append(s)\n",
    "            buffer_a.append(a)\n",
    "            buffer_r.append(r)\n",
    "            \n",
    "            if step_count % batch_size == 0 or done:\n",
    "                if done:\n",
    "                    v_next_s = torch.zeros_like(buffer_r[-1])\n",
    "                else:\n",
    "                    _, v_next_s = model(next_s.to(device=device).unsqueeze(0))\n",
    "                    v_next_s = v_next_s.detach().squeeze(0)\n",
    "                v_next_s.to(device=device)\n",
    "                \n",
    "                buffer_v_target = []\n",
    "                for r in buffer_r[::-1]:\n",
    "                    v_next_s = r + gamma * v_next_s\n",
    "                    buffer_v_target.append(v_next_s)\n",
    "                buffer_v_target.reverse()\n",
    "                \n",
    "                loss = model.loss_func(\n",
    "                    torch.stack(buffer_s).to(device=device),\n",
    "                    torch.stack(buffer_a).to(device=device),\n",
    "                    torch.stack(buffer_v_target).to(device=device)\n",
    "                )\n",
    "                optimizer.zero_grad()\n",
    "                loss.backward()\n",
    "                optimizer.step()\n",
    "                buffer_s, buffer_a, buffer_r = [], [], []\n",
    "            s = next_s\n",
    "            episode_reward_sums[-1] += r\n",
    "            step_count += 1\n",
    "    return [rs.mean() for rs in episode_reward_sums]"
   ]
  },
  {
   "cell_type": "code",
   "execution_count": 16,
   "metadata": {},
   "outputs": [
    {
     "name": "stderr",
     "output_type": "stream",
     "text": [
      "100%|██████████| 20/20 [01:25<00:00,  4.29s/it]\n"
     ]
    }
   ],
   "source": [
    "env = Kaggle_MAB_Env_Torch_Vectorized(n_envs=256, n_players=2, decay_rate=0.97, env_device=torch.device('cuda'), out_device=device)\n",
    "model = GraphNN_A3C(2, env.n_bandits)\n",
    "model.to(device=device)\n",
    "optimizer = torch.optim.Adam(model.parameters())\n",
    "episode_reward_sums = a3c_vectorized_env(env, model, optimizer, n_episodes=20, batch_size=30, gamma=0.99)"
   ]
  },
  {
   "cell_type": "code",
   "execution_count": 18,
   "metadata": {},
   "outputs": [
    {
     "name": "stderr",
     "output_type": "stream",
     "text": [
      "100%|██████████| 50/50 [03:33<00:00,  4.27s/it]\n"
     ]
    }
   ],
   "source": [
    "episode_reward_sums = a3c_vectorized_env(env, model, optimizer, n_episodes=50, batch_size=30, gamma=0.99)"
   ]
  },
  {
   "cell_type": "code",
   "execution_count": 19,
   "metadata": {},
   "outputs": [
    {
     "data": {
      "image/png": "[encoded data removed]",
      "text/plain": [
       "<Figure size 460.8x403.2 with 1 Axes>"
      ]
     },
     "metadata": {},
     "output_type": "display_data"
    }
   ],
   "source": [
    "#rewards = reinforce(env, policy_est, batch_size=2, num_episodes=100)\n",
    "plt.plot(episode_reward_sums);"
   ]
  },
  {
   "cell_type": "code",
   "execution_count": 6,
   "metadata": {},
   "outputs": [
    {
     "data": {
      "image/png": "[encoded data removed]",
      "text/plain": [
       "<Figure size 460.8x403.2 with 1 Axes>"
      ]
     },
     "metadata": {},
     "output_type": "display_data"
    }
   ],
   "source": [
    "#rewards = reinforce(env, policy_est, batch_size=2, num_episodes=100)\n",
    "plt.plot(episode_reward_sums);"
   ]
  },
  {
   "cell_type": "markdown",
   "metadata": {},
   "source": [
    "## Testing and debugging"
   ]
  },
  {
   "cell_type": "code",
   "execution_count": 12,
   "metadata": {
    "scrolled": true
   },
   "outputs": [
    {
     "data": {
      "text/plain": [
       "tensor([[[0., 1., 0., 0., 0., 0., 0., 0., 0., 0., 0., 0., 0., 0., 0., 0., 0.,\n",
       "          0., 0., 0., 0., 0., 0., 0., 0., 0., 0., 0., 0., 0., 0., 0., 0., 0.,\n",
       "          0., 0., 0., 0., 0., 0., 0., 0., 0., 0., 0., 0., 0., 0., 0., 0., 0.,\n",
       "          0., 0., 0., 0., 0., 0., 0., 0., 0., 0., 0., 0., 0., 0., 0., 0., 0.,\n",
       "          0., 0., 0., 0., 0., 0., 0., 0., 0., 0., 0., 0., 0., 0., 0., 0., 0.,\n",
       "          0., 0., 0., 0., 0., 0., 0., 0., 0., 0., 0., 0., 0., 0., 0.],\n",
       "         [0., 1., 1., 0., 0., 0., 0., 0., 0., 0., 0., 0., 0., 0., 0., 0., 0.,\n",
       "          0., 0., 0., 0., 0., 0., 0., 0., 0., 0., 0., 0., 0., 0., 0., 0., 0.,\n",
       "          0., 0., 0., 0., 0., 0., 0., 0., 0., 0., 0., 0., 0., 0., 0., 0., 0.,\n",
       "          0., 0., 0., 0., 0., 0., 0., 0., 0., 0., 0., 0., 0., 0., 0., 0., 0.,\n",
       "          0., 0., 0., 0., 0., 0., 0., 0., 0., 0., 0., 0., 0., 0., 0., 0., 0.,\n",
       "          0., 0., 0., 0., 0., 0., 0., 0., 0., 0., 0., 0., 0., 0., 0.]],\n",
       "\n",
       "        [[0., 0., 0., 0., 0., 0., 0., 0., 0., 0., 0., 0., 0., 0., 0., 0., 0.,\n",
       "          0., 0., 0., 0., 0., 0., 0., 0., 0., 0., 0., 0., 0., 0., 0., 0., 0.,\n",
       "          0., 0., 0., 0., 0., 0., 0., 0., 0., 0., 0., 0., 0., 0., 0., 0., 0.,\n",
       "          0., 0., 0., 0., 0., 0., 0., 0., 0., 0., 0., 0., 0., 0., 0., 0., 0.,\n",
       "          0., 0., 0., 0., 0., 0., 0., 0., 0., 0., 0., 0., 0., 0., 0., 0., 0.,\n",
       "          0., 0., 0., 0., 0., 0., 0., 0., 0., 0., 0., 0., 0., 0., 0.],\n",
       "         [0., 0., 0., 0., 1., 0., 0., 0., 0., 0., 0., 0., 0., 0., 0., 0., 0.,\n",
       "          0., 0., 0., 0., 0., 0., 0., 0., 0., 0., 0., 0., 0., 0., 0., 0., 0.,\n",
       "          0., 0., 0., 0., 0., 0., 0., 0., 0., 0., 0., 0., 0., 0., 0., 0., 0.,\n",
       "          0., 0., 0., 0., 0., 0., 0., 0., 0., 0., 0., 0., 0., 0., 0., 0., 0.,\n",
       "          0., 0., 0., 0., 0., 0., 0., 0., 0., 0., 0., 0., 0., 0., 0., 0., 0.,\n",
       "          0., 0., 0., 0., 0., 0., 0., 0., 0., 0., 0., 0., 0., 0., 0.]],\n",
       "\n",
       "        [[0., 0., 0., 0., 0., 1., 0., 0., 0., 0., 0., 0., 0., 0., 0., 0., 0.,\n",
       "          0., 0., 0., 0., 0., 0., 0., 0., 0., 0., 0., 0., 0., 0., 0., 0., 0.,\n",
       "          0., 0., 0., 0., 0., 0., 0., 0., 0., 0., 0., 0., 0., 0., 0., 0., 0.,\n",
       "          0., 0., 0., 0., 0., 0., 0., 0., 0., 0., 0., 0., 0., 0., 0., 0., 0.,\n",
       "          0., 0., 0., 0., 0., 0., 0., 0., 0., 0., 0., 0., 0., 0., 0., 0., 0.,\n",
       "          0., 0., 0., 0., 0., 0., 0., 0., 0., 0., 0., 0., 0., 0., 0.],\n",
       "         [0., 0., 0., 0., 0., 1., 1., 0., 0., 0., 0., 0., 0., 0., 0., 0., 0.,\n",
       "          0., 0., 0., 0., 0., 0., 0., 0., 0., 0., 0., 0., 0., 0., 0., 0., 0.,\n",
       "          0., 0., 0., 0., 0., 0., 0., 0., 0., 0., 0., 0., 0., 0., 0., 0., 0.,\n",
       "          0., 0., 0., 0., 0., 0., 0., 0., 0., 0., 0., 0., 0., 0., 0., 0., 0.,\n",
       "          0., 0., 0., 0., 0., 0., 0., 0., 0., 0., 0., 0., 0., 0., 0., 0., 0.,\n",
       "          0., 0., 0., 0., 0., 0., 0., 0., 0., 0., 0., 0., 0., 0., 0.]]])"
      ]
     },
     "execution_count": 12,
     "metadata": {},
     "output_type": "execute_result"
    }
   ],
   "source": [
    "test_env = Kaggle_MAB_Env_Torch_Vectorized(n_envs=3, n_players=2, decay_rate=0.97, env_device=torch.device('cpu'), out_device=device)\n",
    "test_env.reset()\n",
    "actions = torch.arange(6).view(3,2)\n",
    "test_env.step(actions)\n",
    "actions = torch.arange(1,7).view(3,2)\n",
    "test_env.step(actions)\n",
    "\n",
    "test_env.player_rewards_sums"
   ]
  },
  {
   "cell_type": "code",
   "execution_count": 63,
   "metadata": {},
   "outputs": [
    {
     "name": "stderr",
     "output_type": "stream",
     "text": [
      "100%|██████████| 10/10 [00:16<00:00,  1.67s/it]"
     ]
    },
    {
     "name": "stdout",
     "output_type": "stream",
     "text": [
      "\n",
      "[0.01002364 0.00997299 0.00998578 0.01002303 0.01000408 0.01000531\n",
      " 0.01001141 0.00996934 0.00999554 0.00999188 0.00999371 0.00999981\n",
      " 0.01003099 0.01002976 0.00998456 0.01000225 0.00999554 0.00998944\n",
      " 0.01001264 0.00997117 0.01001997 0.00999981 0.01000164 0.00997847\n",
      " 0.0099992  0.01002915 0.00997299 0.00999798 0.00999981 0.00997117\n",
      " 0.00999737 0.01003099 0.00998456 0.00996934 0.00997786 0.01002915\n",
      " 0.01002793 0.00998091 0.00997238 0.01000958 0.01002609 0.01001569\n",
      " 0.00998578 0.01001019 0.00997969 0.00999554 0.00997482 0.00997786\n",
      " 0.01002854 0.01000347 0.00998822 0.01002425 0.01002854 0.00999371\n",
      " 0.00999432 0.01001692 0.01002242 0.01002425 0.00998091 0.01000469\n",
      " 0.01001141 0.00998517 0.01002548 0.009987   0.01001814 0.01001325\n",
      " 0.01002425 0.01000836 0.0099992  0.00998822 0.00999066 0.0099803\n",
      " 0.01001447 0.01000469 0.01001203 0.00997604 0.01001508 0.00997117\n",
      " 0.00998761 0.01003037 0.00996995 0.01000653 0.00997665 0.00997847\n",
      " 0.00996934 0.00999188 0.01002609 0.01002915 0.01003099 0.00998578\n",
      " 0.00997725 0.00996995 0.01000714 0.00998091 0.00996995 0.01002793\n",
      " 0.01000103 0.01002548 0.01000531 0.01000836]\n",
      "[0.88 0.06 0.27 0.87 0.56 0.58 0.68 0.01 0.42 0.36 0.39 0.49 1.   0.98\n",
      " 0.25 0.53 0.42 0.33 0.7  0.04 0.82 0.49 0.52 0.16 0.48 0.97 0.06 0.46\n",
      " 0.49 0.04 0.45 1.   0.25 0.01 0.14 0.97 0.95 0.2  0.05 0.65 0.92 0.75\n",
      " 0.27 0.66 0.17 0.42 0.09 0.15 0.96 0.55 0.31 0.89 0.96 0.39 0.4  0.77\n",
      " 0.86 0.89 0.19 0.57 0.68 0.26 0.91 0.29 0.79 0.71 0.89 0.63 0.48 0.31\n",
      " 0.34 0.19 0.73 0.57 0.69 0.12 0.74 0.04 0.3  0.99 0.01 0.6  0.12 0.16\n",
      " 0.   0.36 0.92 0.97 1.   0.27 0.13 0.02 0.61 0.2  0.01 0.95 0.51 0.91\n",
      " 0.58 0.63]\n",
      "0.9999099607428837 0.9999104380924329\n"
     ]
    },
    {
     "name": "stderr",
     "output_type": "stream",
     "text": [
      "\n"
     ]
    }
   ],
   "source": [
    "from scipy.stats import spearmanr, pearsonr\n",
    "\n",
    "test_env = Kaggle_MAB_Env_Vectorized(n_players=1, remove_extra_dims=True, decay_rate=1.)\n",
    "policy_est = GraphNN(3, 1)\n",
    "rewards = reinforce(env, policy_est, batch_size=1, n_episodes=10)\n",
    "with torch.no_grad():\n",
    "    s, _, _, _ = test_env.reset()\n",
    "    pred = policy_est(torch.from_numpy(s).to(device=device)).cpu().numpy()\n",
    "print()\n",
    "print(pred)\n",
    "print(s[:,0])\n",
    "print(spearmanr(pred, s[:,0])[0], pearsonr(pred, s[:,0])[0])"
   ]
  },
  {
   "cell_type": "code",
   "execution_count": 42,
   "metadata": {},
   "outputs": [
    {
     "name": "stderr",
     "output_type": "stream",
     "text": [
      "100%|██████████| 1999/1999 [00:11<00:00, 172.19it/s]\n"
     ]
    },
    {
     "data": {
      "text/plain": [
       "(1005.06, 61.294342316399806)"
      ]
     },
     "execution_count": 42,
     "metadata": {},
     "output_type": "execute_result"
    }
   ],
   "source": [
    "test_env = Kaggle_MAB_Env_Vectorized(n_envs=500, n_players=1, decay_rate=1.)\n",
    "\n",
    "for i in tqdm.trange(test_env.n_steps):\n",
    "    actions = np.random.randint(100, size=(test_env.n_envs, test_env.n_players))\n",
    "    test_env.step(actions)\n",
    "test_env.player_rewards_sums.sum(axis=-1).mean(), test_env.player_rewards_sums.sum(axis=-1).std()"
   ]
  },
  {
   "cell_type": "code",
   "execution_count": 32,
   "metadata": {},
   "outputs": [
    {
     "name": "stderr",
     "output_type": "stream",
     "text": [
      "100%|██████████| 1999/1999 [00:08<00:00, 247.70it/s]\n"
     ]
    },
    {
     "data": {
      "text/plain": [
       "(653.577215086164, 33.41196941037249)"
      ]
     },
     "execution_count": 32,
     "metadata": {},
     "output_type": "execute_result"
    }
   ],
   "source": [
    "test_env = Kaggle_MAB_Env_Vectorized(n_envs=250, n_players=2, decay_rate=0.97)\n",
    "\n",
    "for i in tqdm.trange(test_env.n_steps):\n",
    "    actions = test_env.thresholds.argmax(axis=-1)[:, None]\n",
    "    test_env.step(np.broadcast_to(actions, (test_env.n_envs, test_env.n_players)))\n",
    "test_env.player_rewards_sums.sum(axis=-1).mean(), test_env.player_rewards_sums.sum(axis=-1).std()"
   ]
  },
  {
   "cell_type": "code",
   "execution_count": null,
   "metadata": {},
   "outputs": [],
   "source": []
  },
  {
   "cell_type": "code",
   "execution_count": 152,
   "metadata": {},
   "outputs": [
    {
     "name": "stderr",
     "output_type": "stream",
     "text": [
      "100%|██████████| 10/10 [00:00<00:00, 479.15it/s]"
     ]
    },
    {
     "name": "stdout",
     "output_type": "stream",
     "text": [
      "Loss: 2.30, Accuracy: 0.000\n",
      "tensor([[[0.8214],\n",
      "         [0.5663],\n",
      "         [0.7303],\n",
      "         [0.6139],\n",
      "         [0.0942],\n",
      "         [0.2026],\n",
      "         [0.8251],\n",
      "         [0.3299],\n",
      "         [0.0296],\n",
      "         [0.5319]]], device='cuda:0')\n",
      "tensor([[[0.1007],\n",
      "         [0.1003],\n",
      "         [0.1006],\n",
      "         [0.1004],\n",
      "         [0.0990],\n",
      "         [0.0994],\n",
      "         [0.1007],\n",
      "         [0.0997],\n",
      "         [0.0988],\n",
      "         [0.1003]]], device='cuda:0', grad_fn=<SoftmaxBackward>)\n",
      "tensor([[0]], device='cuda:0')\n",
      "tensor([[6]], device='cuda:0')\n"
     ]
    },
    {
     "name": "stderr",
     "output_type": "stream",
     "text": [
      "\n"
     ]
    }
   ],
   "source": [
    "n_nodes = 10\n",
    "activation_func = nn.ReLU()\n",
    "layer_size = 64\n",
    "layers = (\n",
    "    [FullyConnectedGNNLayer(n_nodes, 1, layer_size, activation_func=activation_func)] +\n",
    "    [FullyConnectedGNNLayer(n_nodes, layer_size, layer_size, activation_func=activation_func)] * 0 +\n",
    "    [FullyConnectedGNNLayer(n_nodes, layer_size, 1, activation_func=activation_func)]\n",
    ")\n",
    "model = nn.Sequential(\n",
    "    *layers\n",
    ")\n",
    "#model = FullyConnectedGNNLayer(n_nodes, 1, 1, activation_func=nn.Identity())\n",
    "model.train()\n",
    "model.to('cuda')\n",
    "loss_func = nn.CrossEntropyLoss()\n",
    "optimizer = torch.optim.SGD(model.parameters(), lr=0.0002)\n",
    "#optimizer = torch.optim.Adam(model.parameters(), lr=0.0001)\n",
    "\n",
    "for i in tqdm.trange(10):\n",
    "    train_batch_in = torch.rand((250, n_nodes, 1), dtype=torch.float).to('cuda')\n",
    "    k = 2\n",
    "    labels = torch.topk(train_batch_in, k=k, dim=1).indices[:,k-1]\n",
    "    \n",
    "    optimizer.zero_grad()\n",
    "    outputs = model(train_batch_in)\n",
    "    loss = loss_func(outputs, labels)\n",
    "    loss.backward()\n",
    "    optimizer.step()\n",
    "    \n",
    "    accuracy = (F.softmax(outputs, dim=1).argmax(dim=1) == labels).float().mean()\n",
    "print(f'Loss: {loss:.2f}, Accuracy: {accuracy:.3f}')\n",
    "\n",
    "test_batch_in = torch.rand((1, n_nodes, 1), dtype=torch.float).to('cuda')\n",
    "print(test_batch_in)\n",
    "print(F.softmax(model(test_batch_in), dim=1))\n",
    "print(torch.topk(test_batch_in, k=k, dim=1).indices[:,k-1])\n",
    "print(F.softmax(model(test_batch_in), dim=1).argmax(dim=1))"
   ]
  },
  {
   "cell_type": "code",
   "execution_count": 153,
   "metadata": {},
   "outputs": [
    {
     "name": "stderr",
     "output_type": "stream",
     "text": [
      "100%|██████████| 1000/1000 [00:01<00:00, 549.97it/s]"
     ]
    },
    {
     "name": "stdout",
     "output_type": "stream",
     "text": [
      "Loss: 2.29, Accuracy: 0.000\n"
     ]
    },
    {
     "name": "stderr",
     "output_type": "stream",
     "text": [
      "\n"
     ]
    }
   ],
   "source": [
    "for i in tqdm.trange(1000):\n",
    "    train_batch_in = torch.rand((250, n_nodes, 1), dtype=torch.float).to('cuda')\n",
    "    k = 2\n",
    "    labels = torch.topk(train_batch_in, k=k, dim=1).indices[:,k-1]\n",
    "    \n",
    "    optimizer.zero_grad()\n",
    "    outputs = model(train_batch_in)\n",
    "    loss = loss_func(outputs, labels)\n",
    "    loss.backward()\n",
    "    optimizer.step()\n",
    "    \n",
    "    accuracy = (F.softmax(outputs, dim=1).argmax(dim=1) == labels).float().mean()\n",
    "print(f'Loss: {loss:.2f}, Accuracy: {accuracy:.3f}')"
   ]
  },
  {
   "cell_type": "code",
   "execution_count": 250,
   "metadata": {},
   "outputs": [
    {
     "name": "stderr",
     "output_type": "stream",
     "text": [
      "100%|██████████| 10000/10000 [00:08<00:00, 1172.83it/s]\n"
     ]
    },
    {
     "data": {
      "text/plain": [
       "tensor(2.2476e-11, device='cuda:0', grad_fn=<MseLossBackward>)"
      ]
     },
     "execution_count": 250,
     "metadata": {},
     "output_type": "execute_result"
    }
   ],
   "source": [
    "model = FullyConnectedGNNLayer(5, 1, 1, activation_func=nn.Identity())\n",
    "model.train()\n",
    "model.to('cuda')\n",
    "loss_func = nn.MSELoss()\n",
    "optimizer = torch.optim.SGD(model.parameters(), lr=0.01, momentum=0.)\n",
    "\n",
    "for i in tqdm.trange(10000):\n",
    "    train_batch_in = torch.rand((1024, 5, 1), dtype=torch.float).to('cuda')\n",
    "    train_batch_out = train_batch_in + train_batch_in.sum(dim=1, keepdims=True)\n",
    "    \n",
    "    optimizer.zero_grad()\n",
    "    outputs = model(train_batch_in)\n",
    "    loss = loss_func(outputs, train_batch_out)\n",
    "    loss.backward()\n",
    "    optimizer.step()\n",
    "loss"
   ]
  },
  {
   "cell_type": "code",
   "execution_count": 251,
   "metadata": {},
   "outputs": [
    {
     "name": "stdout",
     "output_type": "stream",
     "text": [
      "tensor([[[0.8142],\n",
      "         [0.2351],\n",
      "         [0.0057],\n",
      "         [0.8548],\n",
      "         [0.5895]],\n",
      "\n",
      "        [[0.9160],\n",
      "         [0.7284],\n",
      "         [0.4671],\n",
      "         [0.4535],\n",
      "         [0.1266]]], device='cuda:0')\n",
      "tensor([[[3.3136],\n",
      "         [2.7345],\n",
      "         [2.5050],\n",
      "         [3.3541],\n",
      "         [3.0888]],\n",
      "\n",
      "        [[3.6076],\n",
      "         [3.4200],\n",
      "         [3.1586],\n",
      "         [3.1450],\n",
      "         [2.8181]]], device='cuda:0')\n",
      "tensor([[[3.3136],\n",
      "         [2.7345],\n",
      "         [2.5051],\n",
      "         [3.3541],\n",
      "         [3.0888]],\n",
      "\n",
      "        [[3.6076],\n",
      "         [3.4200],\n",
      "         [3.1586],\n",
      "         [3.1450],\n",
      "         [2.8181]]], device='cuda:0', grad_fn=<AddBackward0>)\n"
     ]
    }
   ],
   "source": [
    "train_batch_in = torch.rand((2, 5, 1), dtype=torch.float).to('cuda')\n",
    "print(train_batch_in)\n",
    "print(train_batch_in + train_batch_in.sum(dim=1, keepdims=True))\n",
    "print(model(train_batch_in))"
   ]
  },
  {
   "cell_type": "code",
   "execution_count": 118,
   "metadata": {},
   "outputs": [
    {
     "name": "stdout",
     "output_type": "stream",
     "text": [
      "tensor([[-0.0268, -0.0445,  0.0814,  0.0578, -0.0223, -0.0030, -0.0113,  0.0988,\n",
      "         -0.1126,  0.0250, -0.1195,  0.0792, -0.1035,  0.0792,  0.1039, -0.0649,\n",
      "          0.0926,  0.0105, -0.1005,  0.0191, -0.0927,  0.0873, -0.0442, -0.0873,\n",
      "         -0.0545,  0.0852,  0.0263, -0.0080, -0.0911, -0.0923, -0.1211,  0.1100,\n",
      "         -0.0782,  0.0099, -0.0972, -0.0283,  0.0352,  0.1225,  0.0202, -0.0982,\n",
      "          0.0804, -0.1218, -0.0615, -0.0282, -0.0387,  0.1030,  0.0157, -0.0376,\n",
      "         -0.0027, -0.0425, -0.0577,  0.0745,  0.0306, -0.0299,  0.0535,  0.0026,\n",
      "          0.0562,  0.1197, -0.0381,  0.0243, -0.0914, -0.1078, -0.0665, -0.0355]],\n",
      "       device='cuda:0') tensor([0.0346], device='cuda:0')\n",
      "tensor([[ 0.0029, -0.2631]], device='cuda:0') tensor([0.1936], device='cuda:0')\n"
     ]
    }
   ],
   "source": [
    "child_idx = -1\n",
    "print(list(model.children())[child_idx].transform_features.weight.data, list(model.children())[child_idx].transform_features.bias.data)\n",
    "print(list(model.children())[child_idx].recombine_features.weight.data, list(model.children())[child_idx].recombine_features.bias.data)\n",
    "#model.message_passing_mat"
   ]
  },
  {
   "cell_type": "markdown",
   "metadata": {},
   "source": [
    "## Deprecated"
   ]
  },
  {
   "cell_type": "code",
   "execution_count": null,
   "metadata": {},
   "outputs": [],
   "source": [
    "class Kaggle_MAB_Env_Numpy_Vectorized():\n",
    "    def __init__(self,\n",
    "                 # Kaggle MAB env params\n",
    "                 n_bandits=100, n_steps=1999, decay_rate=0.97, sample_resolution=100,\n",
    "                 # Custom params\n",
    "                 n_envs=1, n_players=2, reward_type=EVERY_STEP, remove_extra_dims=False):\n",
    "        # Assert parameter conditions\n",
    "        assert 0 <= decay_rate <= 1.\n",
    "        assert reward_type in (END_OF_GAME, EVERY_STEP)\n",
    "        if reward_type == END_OF_GAME:\n",
    "            assert n_players >= 2\n",
    "        else:\n",
    "            assert n_players >= 1\n",
    "        self.n_bandits = n_bandits\n",
    "        self.n_steps = n_steps\n",
    "        self.decay_rate = decay_rate\n",
    "        self.sample_resolution = sample_resolution\n",
    "        \n",
    "        self.n_envs = n_envs\n",
    "        self.n_players = n_players\n",
    "        self.reward_type = reward_type\n",
    "        self.remove_extra_dims = remove_extra_dims\n",
    "        \n",
    "        self.timestep = None\n",
    "        self.orig_thresholds = None\n",
    "        self.player_n_pulls = None\n",
    "        self.player_rewards_sums = None\n",
    "        self.reset()\n",
    "    \n",
    "    @property\n",
    "    def thresholds(self):\n",
    "        return self.orig_thresholds * (self.decay_rate ** self.player_n_pulls[:,0,:])\n",
    "    \n",
    "    def reset(self):\n",
    "        self.timestep = 0\n",
    "        self.orig_thresholds = np.random.randint(self.sample_resolution + 1, size=(self.n_envs, self.n_bandits)).astype(np.float32)\n",
    "        self.player_n_pulls = np.zeros((self.n_envs, self.n_players, self.n_bandits))\n",
    "        self.player_rewards_sums = np.zeros_like(self.player_n_pulls)\n",
    "        \n",
    "        rewards = np.zeros((self.n_envs, self.n_players))\n",
    "        if self.remove_extra_dims:\n",
    "            return self.get_obs().squeeze(), rewards.squeeze(), self.done, dict(thresholds=self.thresholds.squeeze())\n",
    "        else:\n",
    "            return self.get_obs(), rewards, self.done, dict(thresholds=self.thresholds)\n",
    "        \n",
    "    def step(self, actions):\n",
    "        if self.remove_extra_dims:\n",
    "            if type(actions) == int:\n",
    "                actions = np.array([[actions]])\n",
    "            else:\n",
    "                actions = actions.reshape((self.n_envs, self.n_players))\n",
    "        assert actions.shape == (self.n_envs, self.n_players), f'actions.shape was: {actions.shape}'\n",
    "        assert not self.done\n",
    "        self.timestep += 1\n",
    "        \n",
    "        # Compute agent rewards\n",
    "        selected_thresholds = np.take_along_axis(self.thresholds, actions, axis=1)\n",
    "        pull_rewards = np.random.randint(self.sample_resolution, size=selected_thresholds.shape) < selected_thresholds\n",
    "        #pull_rewards = selected_thresholds / float(self.sample_resolution)\n",
    "        \n",
    "        # Update player_n_pulls and player_rewards_sums\n",
    "        for env_idx, env_actions in enumerate(actions):\n",
    "            for player_idx, pull_idx in enumerate(env_actions):\n",
    "                self.player_n_pulls[env_idx, :, pull_idx] += 1\n",
    "                self.player_rewards_sums[env_idx, player_idx, pull_idx] += pull_rewards[env_idx, player_idx]\n",
    "        \n",
    "        # Return (obs, reward, done) tuple\n",
    "        if self.reward_type == END_OF_GAME:\n",
    "            rewards = np.zeros_like(actions)\n",
    "            if self.timestep == self.n_steps:\n",
    "                rewards_sums = self.player_rewards_sums.sum(axis=2)\n",
    "                winners = rewards_sums.argmax(axis=1)\n",
    "                rewards[winners] = 1\n",
    "        elif self.reward_type == EVERY_STEP:\n",
    "            rewards = pull_rewards\n",
    "        \n",
    "        # State, reward, done, info_dict\n",
    "        if self.remove_extra_dims:\n",
    "            return self.get_obs().squeeze(), rewards.squeeze(), self.done, dict(thresholds=self.thresholds.squeeze())\n",
    "        else:\n",
    "            return self.get_obs(), rewards, self.done, dict(thresholds=self.thresholds)\n",
    "    \n",
    "    def get_obs(self):\n",
    "        # TODO: Clearly do not return thresholds or orig_thresholds\n",
    "        return np.stack([\n",
    "            #np.broadcast_to(self.orig_thresholds[:, None, :] / self.sample_resolution, self.player_n_pulls.shape),\n",
    "            self.player_n_pulls,\n",
    "            self.player_rewards_sums\n",
    "        ], axis=-1).astype(np.float32)\n",
    "    \n",
    "    @property\n",
    "    def done(self):\n",
    "        return self.timestep >= self.n_steps"
   ]
  }
 ],
 "metadata": {
  "kernelspec": {
   "display_name": "Python 3",
   "language": "python",
   "name": "python3"
  },
  "language_info": {
   "codemirror_mode": {
    "name": "ipython",
    "version": 3
   },
   "file_extension": ".py",
   "mimetype": "text/x-python",
   "name": "python",
   "nbconvert_exporter": "python",
   "pygments_lexer": "ipython3",
   "version": "3.7.7"
  }
 },
 "nbformat": 4,
 "nbformat_minor": 4
}
