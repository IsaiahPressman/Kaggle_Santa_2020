{
 "cells": [
  {
   "cell_type": "code",
   "execution_count": 1,
   "metadata": {},
   "outputs": [],
   "source": [
    "import base64\n",
    "from importlib import reload\n",
    "from jupyterthemes import jtplot\n",
    "import matplotlib.pyplot as plt\n",
    "import numpy as np\n",
    "import pandas as pd\n",
    "from pathlib import Path\n",
    "import pickle\n",
    "import seaborn as sns\n",
    "import shutil\n",
    "import torch\n",
    "from torch import distributions, nn\n",
    "import torch.nn.functional as F\n",
    "import time\n",
    "import tqdm\n",
    "\n",
    "# Custom imports\n",
    "import graph_nns as gnn\n",
    "import vectorized_env as ve\n",
    "import vectorized_agents as va\n",
    "\n",
    "%matplotlib inline\n",
    "jtplot.style()\n",
    "\n",
    "DEVICE = torch.device('cuda')\n",
    "OBS_NORM = 100. / 1999."
   ]
  },
  {
   "cell_type": "markdown",
   "metadata": {},
   "source": [
    "## A3C RL algorithm"
   ]
  },
  {
   "cell_type": "code",
   "execution_count": 2,
   "metadata": {},
   "outputs": [],
   "source": [
    "class A3CVectorized():\n",
    "    def __init__(self, model_constructor, optimizer, model=None, device=torch.device('cuda'), exp_folder=Path('/home/isaiah/GitHub/Kaggle/Santa_2020/runs/TEMP'),\n",
    "                 recurrent_model=False, clip_grads=10.,\n",
    "                 play_against_past_selves=True, n_past_selves=4, checkpoint_freq=10, initial_opponent_pool=[], opp_posterior_decay=0.95):\n",
    "        self.model_constructor = model_constructor\n",
    "        self.optimizer = optimizer\n",
    "        if model is None:\n",
    "            self.model = self.model_constructor()\n",
    "        else:\n",
    "            self.model = model\n",
    "        self.device = device\n",
    "        self.exp_folder = exp_folder\n",
    "        if str(self.exp_folder) == '/home/isaiah/GitHub/Kaggle/Santa_2020/runs/TEMP':\n",
    "            print('WARNING: Using TEMP exp_folder')\n",
    "            if self.exp_folder.exists():\n",
    "                shutil.rmtree(self.exp_folder)\n",
    "        elif self.exp_folder.exists() and any(Path(self.exp_folder).iterdir()):\n",
    "            raise RuntimeError(f'Experiment folder {self.exp_folder} already exists and is not empty')\n",
    "        else:\n",
    "            print(f'Saving results to {self.exp_folder}')\n",
    "        self.exp_folder.mkdir(exist_ok=True)\n",
    "        self.recurrent_model = recurrent_model\n",
    "        self.clip_grads = clip_grads\n",
    "        self.play_against_past_selves = play_against_past_selves\n",
    "        self.n_past_selves = n_past_selves\n",
    "        self.checkpoint_freq = checkpoint_freq\n",
    "        self.initial_opponent_pool = initial_opponent_pool\n",
    "        self.opp_posterior_decay = opp_posterior_decay\n",
    "        \n",
    "        self.env = None\n",
    "        self.opp_a = np.ones(len(self.initial_opponent_pool))\n",
    "        self.opp_b = np.ones(len(self.initial_opponent_pool))\n",
    "        self.checkpoints = []\n",
    "        self.true_ep_num = 0\n",
    "        \n",
    "        if self.clip_grads is not None:\n",
    "            assert self.clip_grads > 0, 'Should not clip gradients to 0 - pass None to clip_grads if gradient clipping should not be used'\n",
    "            for p in self.model.parameters():\n",
    "                if p.requires_grad:\n",
    "                    p.register_hook(lambda grad: torch.clamp(grad, -self.clip_grads, self.clip_grads))\n",
    "        \n",
    "    def train(self, n_episodes, batch_size=30, gamma=0.99, **env_kwargs):\n",
    "        if self.play_against_past_selves and 'opponent' in env_kwargs.keys():\n",
    "            raise RuntimeError('Cannot play against past selves when opponent is defined')\n",
    "        self.env = None\n",
    "        self.model.train()\n",
    "        episode_reward_sums = []\n",
    "        \n",
    "        for ep_num in tqdm.trange(n_episodes):\n",
    "            if self.recurrent_model:\n",
    "                self.model.reset_hidden_states()\n",
    "            if self.play_against_past_selves:\n",
    "                opponents, opponent_idxs = self.sample_opponents()\n",
    "                self.env = ve.KaggleMABEnvTorchVectorized(opponent=opponents, **env_kwargs)\n",
    "            else:\n",
    "                self.env = ve.KaggleMABEnvTorchVectorized(**env_kwargs)\n",
    "            buffer_a, buffer_r, buffer_l, buffer_v = [], [], [], []\n",
    "            s, r, _, _ = self.env.reset()\n",
    "            episode_reward_sums.append(r)\n",
    "            step_count = 1\n",
    "            a, (l, v) = self.model.sample_action(s.to(device=self.device).unsqueeze(0), train=True)\n",
    "            while not self.env.done:\n",
    "                next_s, r, done, _ = self.env.step(a.squeeze(0))\n",
    "\n",
    "                buffer_a.append(a)\n",
    "                buffer_r.append(r)\n",
    "                buffer_l.append(l)\n",
    "                buffer_v.append(v)\n",
    "\n",
    "                if self.recurrent_model and (step_count % batch_size == 0 or done):\n",
    "                    self.model.detach_hidden_states()\n",
    "                a, (l, v) = self.model.sample_action(next_s.to(device=self.device).unsqueeze(0), train=True)\n",
    "                \n",
    "                if step_count % batch_size == 0 or done:\n",
    "                    if done:\n",
    "                        v_next_s = torch.zeros_like(buffer_r[-1])\n",
    "                    else:\n",
    "                        #_, v_next_s = self.model(next_s.to(device=self.device).unsqueeze(0))\n",
    "                        v_next_s = v.detach().squeeze(0)\n",
    "                    v_next_s.to(device=self.device)\n",
    "\n",
    "                    buffer_v_target = []\n",
    "                    for r in buffer_r[::-1]:\n",
    "                        v_next_s = r + gamma * v_next_s\n",
    "                        buffer_v_target.append(v_next_s)\n",
    "                    buffer_v_target.reverse()\n",
    "                    \n",
    "                    actions = torch.cat(buffer_a).to(device=self.device)\n",
    "                    v_t = torch.stack(buffer_v_target).to(device=self.device)\n",
    "                    logits = torch.cat(buffer_l).to(device=self.device)\n",
    "                    values = torch.cat(buffer_v).to(device=self.device)\n",
    "                    #print(f'actions.shape: {actions.shape}, v_t.shape: {v_t.shape}')\n",
    "                    \n",
    "                    #print(f'logits.shape: {logits.shape}, values.shape: {values.shape}')\n",
    "                    td = v_t - values\n",
    "                    # Huber loss\n",
    "                    critic_loss = F.smooth_l1_loss(v_t, values, reduction='none').view(-1)\n",
    "\n",
    "                    probs = F.softmax(logits, dim=-1)\n",
    "                    real_batch_size, n_envs, n_players, n_bandits = probs.shape\n",
    "                    m = distributions.Categorical(probs.view(real_batch_size * n_envs * n_players, n_bandits))\n",
    "                    #print(f'm.log_prob(actions.view(real_batch_size * n_envs * n_players)).shape: {m.log_prob(actions.view(real_batch_size * n_envs * n_players)).shape}, td.shape: {td.shape}')\n",
    "                    actor_loss = -(m.log_prob(actions.view(-1)) * td.detach().view(-1))\n",
    "                    total_loss = (critic_loss + actor_loss).mean()\n",
    "                    \n",
    "                    self.optimizer.zero_grad()\n",
    "                    total_loss.backward()\n",
    "                    self.optimizer.step()\n",
    "                    buffer_a, buffer_r, buffer_l, buffer_v = [], [], [], []\n",
    "                s = next_s\n",
    "                episode_reward_sums[-1] += r\n",
    "                step_count += 1\n",
    "            if self.play_against_past_selves:\n",
    "                if opponent_idxs is not None:\n",
    "                    self.update_opponent_scores(opponent_idxs, self.env.player_rewards_sums.cpu())\n",
    "                if ep_num % self.checkpoint_freq == 0:\n",
    "                    self.checkpoint()\n",
    "            if ep_num % self.checkpoint_freq == 0:\n",
    "                self.save()\n",
    "            episode_reward_sums[-1] = episode_reward_sums[-1].mean() / self.env.r_norm\n",
    "            self.true_ep_num += 1\n",
    "        self.save(finished=True)\n",
    "        return episode_reward_sums\n",
    "    \n",
    "    def sample_opponents(self):\n",
    "        if len(self.initial_opponent_pool) + len(self.checkpoints) == 0:\n",
    "            print('No opponents sampled')\n",
    "            return None, None\n",
    "        else:\n",
    "            opponents = []\n",
    "            opponent_idxs = []\n",
    "            for i in range(self.n_past_selves):\n",
    "                # Sample opponents randomly if the agent is losing > some fraction of it's games, otherwise use thompson sampling\n",
    "                if np.sum(self.opp_b - 1) <= np.sum(self.opp_a - 1) / 5.:\n",
    "                    if i == 0:\n",
    "                        print('Sampling opponents randomly')\n",
    "                    selected_opp_idx = np.random.randint(len(self.opp_a))\n",
    "                else:\n",
    "                    if i == 0:\n",
    "                        print('Sampling opponents using Thompson sampling')\n",
    "                    selected_opp_idx = np.random.beta(self.opp_a, self.opp_b).argmax()\n",
    "                opponent_idxs.append(selected_opp_idx)\n",
    "                opponents.append(self.get_opponent(selected_opp_idx))\n",
    "                if selected_opp_idx < len(self.initial_opponent_pool):\n",
    "                    try:\n",
    "                        print(f'Opponent {i}: {opponents[-1].name} with alpha {self.opp_a[selected_opp_idx]:.2f} and beta {self.opp_b[selected_opp_idx]:.2f}')\n",
    "                    except AttributeError:\n",
    "                        print(f'Opponent {i}: {opponents[-1]} with alpha {self.opp_a[selected_opp_idx]:.2f} and beta {self.opp_b[selected_opp_idx]:.2f}')\n",
    "                else:\n",
    "                    print(f'Opponent {i}: Checkpoint #{selected_opp_idx - len(self.initial_opponent_pool)} with alpha {self.opp_a[selected_opp_idx]:.2f} and beta {self.opp_b[selected_opp_idx]:.2f}')\n",
    "            print()\n",
    "            return va.MultiAgent(opponents), opponent_idxs\n",
    "\n",
    "    def update_opponent_scores(self, curr_opp_idxs, player_rewards_sums):\n",
    "        # player_rewards_sums.shape is (n_envs, n_players, n_bandits)\n",
    "        # Decay posteriors\n",
    "        self.opp_a = np.maximum(self.opp_a * self.opp_posterior_decay, 1.)\n",
    "        self.opp_b = np.maximum(self.opp_b * self.opp_posterior_decay, 1.)\n",
    "        \n",
    "        # Update posteriors with new w/l stats\n",
    "        rewards_sums = player_rewards_sums.sum(dim=2)\n",
    "        game_scores = torch.zeros(rewards_sums.shape)\n",
    "        winners_idxs = rewards_sums.argmax(dim=1)\n",
    "        draws_mask = rewards_sums[:,0] == rewards_sums[:,1]\n",
    "        game_scores[torch.arange(game_scores.shape[0]), winners_idxs] = 1.\n",
    "        game_scores[draws_mask] = 0.5\n",
    "        game_scores = [gs.numpy() for gs in game_scores.chunk(self.n_past_selves)]\n",
    "        for match_idx, opp_idx in enumerate(curr_opp_idxs):\n",
    "            self.opp_a[opp_idx] += game_scores[match_idx][:,1].sum()\n",
    "            self.opp_b[opp_idx] += game_scores[match_idx][:,0].sum()\n",
    "            \n",
    "    def checkpoint(self):\n",
    "        self.model.cpu()\n",
    "        self.checkpoints.append(self.model.state_dict())\n",
    "        self.opp_a = np.append(self.opp_a, 1.)\n",
    "        self.opp_b = np.append(self.opp_b, 1.)\n",
    "        self.model.to(device=self.device)\n",
    "    \n",
    "    def save(self, finished=False):\n",
    "        if finished:\n",
    "            file_path_base = self.exp_folder / f'final_{self.true_ep_num}'\n",
    "        else:\n",
    "            file_path_base = self.exp_folder / str(self.true_ep_num)\n",
    "        # Save model params\n",
    "        self.model.cpu()\n",
    "        state_dict_bytes = pickle.dumps({\n",
    "            'model_state_dict': self.model.state_dict(),\n",
    "        })\n",
    "        serialized_string = base64.b64encode(state_dict_bytes)\n",
    "        with open(f'{file_path_base}_cp.txt', 'w') as f:\n",
    "            f.write(str(serialized_string))\n",
    "        self.model.to(device=self.device)\n",
    "        # Save skill estimates\n",
    "        if self.play_against_past_selves:\n",
    "            checkpoint_idxs = np.arange(len(a3c_alg.opp_a)) - len(a3c_alg.initial_opponent_pool)\n",
    "            checkpoint_idxs = np.where(\n",
    "                checkpoint_idxs < 0,\n",
    "                np.nan,\n",
    "                checkpoint_idxs\n",
    "            )\n",
    "            df = pd.DataFrame({\n",
    "                'opp_a': a3c_alg.opp_a,\n",
    "                'opp_b': a3c_alg.opp_b,\n",
    "                'est_opp_skill': a3c_alg.opp_a / (a3c_alg.opp_a + a3c_alg.opp_b),\n",
    "                'checkpoint_idxs': checkpoint_idxs\n",
    "            })\n",
    "            df.to_csv(f'{file_path_base}_skill_estimates.csv')\n",
    "    \n",
    "    def get_opponent(self, idx):\n",
    "        if idx < 0:\n",
    "            raise IndexError(f'Negative indexing is not supported')\n",
    "        elif idx < len(self.initial_opponent_pool):\n",
    "            return self.initial_opponent_pool[idx]\n",
    "        elif idx < len(self.initial_opponent_pool) + len(self.checkpoints):\n",
    "            checkpoint_idx = idx - len(self.initial_opponent_pool)\n",
    "            checkpoint_opp = self.model_constructor()\n",
    "            checkpoint_opp.load_state_dict(self.checkpoints[checkpoint_idx])\n",
    "            checkpoint_opp.to(device=self.device)\n",
    "            checkpoint_opp.eval()\n",
    "            return va.RLModelWrapperAgent(checkpoint_opp, self.obs_type)\n",
    "        else:\n",
    "            raise IndexError(f'Index {idx} is out of bounds')"
   ]
  },
  {
   "cell_type": "markdown",
   "metadata": {},
   "source": [
    "## Optional: load a saved model state_dict from a serialized string file"
   ]
  },
  {
   "cell_type": "code",
   "execution_count": 3,
   "metadata": {},
   "outputs": [],
   "source": [
    "#with open('rl_agents/ss_temp.txt', 'r') as f:\n",
    "with open('runs/v4/cp_162.txt', 'r') as f:\n",
    "    serialized_string = f.readline()[2:-1].encode()\n",
    "state_dict_bytes = base64.b64decode(serialized_string)\n",
    "loaded_state_dicts = pickle.loads(state_dict_bytes)"
   ]
  },
  {
   "cell_type": "markdown",
   "metadata": {},
   "source": [
    "## RL training\n",
    "#### TODO:\n",
    "Change GNN layer option to \"efficient_GNN\"\n",
    "\n",
    "Implement \"fictitious self-play\" to improve trained model robustness. On a related note, maybe compare trained agents against many/all agents from this notebook: https://www.kaggle.com/jamesmcguigan/santa-2020-agents-comparison\n",
    "\n",
    "Implement new RL algorithm - AWAC, and use top team's logs as training data. See: https://www.kaggle.com/masatomatsui/santa-episode-scraper\n",
    "\n",
    "Eventually, experiment with reward_type = END_OF_GAME"
   ]
  },
  {
   "cell_type": "code",
   "execution_count": 4,
   "metadata": {},
   "outputs": [
    {
     "name": "stdout",
     "output_type": "stream",
     "text": [
      "WARNING: Failed to load saved model\n",
      "WARNING: Using TEMP exp_folder\n"
     ]
    }
   ],
   "source": [
    "use_rnn = True\n",
    "\n",
    "graph_nn_kwargs = dict(\n",
    "    in_features=3,\n",
    "    n_nodes=100,\n",
    "    n_hidden_layers=3,\n",
    "    layer_sizes=16,\n",
    "    layer_class=gnn.SmallRecurrentGNNLayer if use_rnn else gnn.SmallFullyConnectedGNNLayer,\n",
    "    skip_connection_n=1\n",
    ")\n",
    "model = gnn.GraphNNA3C(**graph_nn_kwargs)\n",
    "try:\n",
    "    sd = loaded_state_dicts['model_state_dict']\n",
    "    model.load_state_dict(sd)\n",
    "    print('Successfully loaded saved model')\n",
    "    del loaded_state_dicts\n",
    "except NameError:\n",
    "    pass\n",
    "except RuntimeError:\n",
    "    print('WARNING: Failed to load saved model')\n",
    "model.to(device=DEVICE)\n",
    "optimizer = torch.optim.Adam(model.parameters(), lr=0.01)\n",
    "\n",
    "env_kwargs = dict(\n",
    "    n_envs=512,\n",
    "    out_device=DEVICE,\n",
    "    reward_type=ve.EVERY_STEP_EV,\n",
    "    obs_type=ve.LAST_STEP_OBS if use_rnn else ve.SUMMED_OBS,\n",
    "    opponent_obs_type=ve.SUMMED_OBS\n",
    ")\n",
    "rl_alg_kwargs = dict(\n",
    "    batch_size=30 if use_rnn else 30,\n",
    "    gamma=0.99\n",
    ")\n",
    "\n",
    "# Used for va.run_vectorized_vs\n",
    "def model_wrapped(states):\n",
    "    return model.sample_action(states.unsqueeze(0)).squeeze(0)\n",
    "\n",
    "def model_constructor():\n",
    "    return gnn.GraphNNA3C(**graph_nn_kwargs)\n",
    "\n",
    "# initial_opponent_pool = []\n",
    "initial_opponent_pool = [\n",
    "    #va.BasicThompsonSampling(OBS_NORM),\n",
    "    #va.PullVegasSlotMachines(OBS_NORM),\n",
    "    #va.SavedRLAgent('a3c_agent_v0'),\n",
    "    #va.SavedRLAgent('a3c_agent_v1'),\n",
    "    #va.SavedRLAgent('a3c_agent_v2'),\n",
    "    va.SavedRLAgent('a3c_agent_v3'),\n",
    "]\n",
    "\n",
    "a3c_alg = A3CVectorized(model_constructor, optimizer, model=model, device=DEVICE,\n",
    "                        exp_folder=Path('/home/isaiah/GitHub/Kaggle/Santa_2020/runs/TEMP'),\n",
    "                        recurrent_model=use_rnn,\n",
    "                        clip_grads=10.,\n",
    "                        play_against_past_selves=False,\n",
    "                        n_past_selves=4,\n",
    "                        checkpoint_freq=10,\n",
    "                        initial_opponent_pool=initial_opponent_pool,\n",
    "                        opp_posterior_decay=0.95)"
   ]
  },
  {
   "cell_type": "code",
   "execution_count": 5,
   "metadata": {
    "scrolled": false
   },
   "outputs": [
    {
     "name": "stderr",
     "output_type": "stream",
     "text": [
      "100%|██████████| 30/30 [09:43<00:00, 19.46s/it]\n"
     ]
    },
    {
     "data": {
      "image/png": "[encoded data removed]",
      "text/plain": [
       "<Figure size 460.8x403.2 with 1 Axes>"
      ]
     },
     "metadata": {},
     "output_type": "display_data"
    }
   ],
   "source": [
    "env_kwargs['n_envs'] = 512\n",
    "env_kwargs['opponent'] = va.SavedRLAgent('a3c_agent_v2')\n",
    "episode_reward_sums = a3c_alg.train(n_episodes=30, **rl_alg_kwargs, **env_kwargs)\n",
    "\n",
    "#episode_reward_sums = a3c_vectorized_env(env, model, optimizer, n_episodes=50, **rl_alg_kwargs)\n",
    "plt.plot(episode_reward_sums)\n",
    "plt.show();\n",
    "#plt.plot(episode_reward_sums);"
   ]
  },
  {
   "cell_type": "code",
   "execution_count": 9,
   "metadata": {
    "scrolled": true
   },
   "outputs": [
    {
     "name": "stderr",
     "output_type": "stream",
     "text": [
      "100%|██████████| 30/30 [09:01<00:00, 18.06s/it]\n"
     ]
    },
    {
     "data": {
      "image/png": "[encoded data removed]",
      "text/plain": [
       "<Figure size 460.8x403.2 with 1 Axes>"
      ]
     },
     "metadata": {},
     "output_type": "display_data"
    }
   ],
   "source": [
    "#env_kwargs['n_envs'] = 512\n",
    "episode_reward_sums += a3c_alg.train(n_episodes=30, **rl_alg_kwargs, **env_kwargs)\n",
    "plt.plot(episode_reward_sums)\n",
    "plt.show();"
   ]
  },
  {
   "cell_type": "code",
   "execution_count": 94,
   "metadata": {},
   "outputs": [],
   "source": [
    "temp_model = a3c_alg.model_constructor()\n",
    "temp_model.load_state_dict(a3c_alg.checkpoints[78])\n",
    "temp_model.to(device=DEVICE)\n",
    "temp_model.eval();\n",
    "\n",
    "def model_wrapped(states):\n",
    "    return temp_model.sample_action(states.unsqueeze(0)).squeeze(0)\n",
    "    #return a3c_alg.model.sample_action(states.unsqueeze(0)).squeeze(0)"
   ]
  },
  {
   "cell_type": "code",
   "execution_count": 95,
   "metadata": {},
   "outputs": [
    {
     "name": "stdout",
     "output_type": "stream",
     "text": [
      "Opponent 79, ranked 3, has an estimated win % of 0.567.\n",
      "Checkpoint #78, path: /home/isaiah/GitHub/Kaggle/Santa_2020/runs/v4_contd/780_cp.txt\n"
     ]
    },
    {
     "data": {
      "text/plain": [
       "array([0.50081914, 0.48598948, 0.51816986, 0.53534363, 0.46065866,\n",
       "       0.44087082, 0.51414301, 0.51720425, 0.52793261, 0.47424356,\n",
       "       0.42742923, 0.47529614, 0.5254527 , 0.48897261, 0.52109964,\n",
       "       0.47694271, 0.45016783, 0.47601805, 0.47159289, 0.51855141,\n",
       "       0.49580052, 0.51869415, 0.53858207, 0.536909  , 0.52732594,\n",
       "       0.46640437, 0.45991462, 0.46329322, 0.45704959, 0.46743117,\n",
       "       0.46791895, 0.53791149, 0.49548694, 0.48558865, 0.42920494,\n",
       "       0.49406646, 0.49618068, 0.47742934, 0.43402368, 0.54164681,\n",
       "       0.44940406, 0.50318364, 0.48262202, 0.49925114, 0.52893415,\n",
       "       0.54877225, 0.53945825, 0.56086373, 0.54719396, 0.47510184,\n",
       "       0.42878113, 0.54572381, 0.5094365 , 0.55278641, 0.54164065,\n",
       "       0.52252991, 0.42326271, 0.47107882, 0.40678069, 0.50733141,\n",
       "       0.48909083, 0.52528071, 0.44195002, 0.47717234, 0.44998456,\n",
       "       0.46451931, 0.51163051, 0.43091032, 0.46783486, 0.49800934,\n",
       "       0.4827651 , 0.52969608, 0.57089156, 0.50188092, 0.52136937,\n",
       "       0.45694982, 0.52479516, 0.49425612, 0.52639055, 0.56673577,\n",
       "       0.5355485 , 0.39734256, 0.46167587, 0.46512066, 0.5352543 ,\n",
       "       0.5111971 , 0.51457936, 0.57239841, 0.5588227 , 0.42163519,\n",
       "       0.44882318, 0.48557131, 0.50260781, 0.53468977, 0.45501199,\n",
       "       0.47526766, 0.49343124, 0.49302003, 0.49584718, 0.51603384,\n",
       "       0.46013289])"
      ]
     },
     "execution_count": 95,
     "metadata": {},
     "output_type": "execute_result"
    }
   ],
   "source": [
    "#(a3c_alg.opp_a / (a3c_alg.opp_a + a3c_alg.opp_b)).argmax() - len(initial_opponent_pool)\n",
    "est_opp_skill = a3c_alg.opp_a / (a3c_alg.opp_a + a3c_alg.opp_b)\n",
    "ranking = np.argsort(-est_opp_skill)\n",
    "idx = 2\n",
    "print(f'Opponent {ranking[idx]}, ranked {idx+1}, has an estimated win % of {est_opp_skill[ranking[idx]]:.3f}.')\n",
    "print(f'Checkpoint #{ranking[idx] - len(a3c_alg.initial_opponent_pool)}, path: {a3c_alg.exp_folder}/{(ranking[idx] - len(a3c_alg.initial_opponent_pool)) * a3c_alg.checkpoint_freq}_cp.txt')\n",
    "#np.argsort(-est_opp_skill)\n",
    "est_opp_skill"
   ]
  },
  {
   "cell_type": "markdown",
   "metadata": {},
   "source": [
    "## Benchmark the model against a previous RL agent, and various hand-crafted algorithms"
   ]
  },
  {
   "cell_type": "code",
   "execution_count": 10,
   "metadata": {},
   "outputs": [
    {
     "name": "stderr",
     "output_type": "stream",
     "text": [
      "100%|██████████| 1999/1999 [00:12<00:00, 154.21it/s]\n"
     ]
    },
    {
     "name": "stdout",
     "output_type": "stream",
     "text": [
      "new_model -vs- opp\n",
      "Mean scores: 566.30 - 653.99\n",
      "Match score: 0 - 1 - 999 (0.0% - 0.1% - 99.9%)\n"
     ]
    }
   ],
   "source": [
    "a3c_alg.model.reset_hidden_states()\n",
    "opp = va.SavedRLAgent('a3c_agent_v0')\n",
    "#opp = va.BasicThompsonSampling(OBS_NORM)\n",
    "va.run_vectorized_vs(model_wrapped, opp, 'new_model', 'opp', n_envs=1000, out_device=DEVICE, obs_type=ve.LAST_STEP_OBS, opponent_obs_type=ve.SUMMED_OBS)\n",
    "a3c_alg.model.reset_hidden_states()"
   ]
  },
  {
   "cell_type": "code",
   "execution_count": 11,
   "metadata": {},
   "outputs": [
    {
     "name": "stderr",
     "output_type": "stream",
     "text": [
      "100%|██████████| 1999/1999 [00:04<00:00, 444.80it/s]\n"
     ]
    },
    {
     "name": "stdout",
     "output_type": "stream",
     "text": [
      "1 -vs- 2\n",
      "Mean scores: 562.49 - 675.64\n",
      "Match score: 0 - 0 - 1000 (0.0% - 0.0% - 100.0%)\n"
     ]
    }
   ],
   "source": [
    "va.run_vectorized_vs(va.RandomAgent(), va.SavedRLAgent('a3c_agent_v0'), '1', '2', n_envs=1000, out_device=DEVICE)"
   ]
  },
  {
   "cell_type": "code",
   "execution_count": 14,
   "metadata": {},
   "outputs": [],
   "source": [
    "test_env = ve.KaggleMABEnvTorchVectorized(**env_kwargs)\n",
    "a3c_alg.model.reset_hidden_states()"
   ]
  },
  {
   "cell_type": "code",
   "execution_count": 15,
   "metadata": {},
   "outputs": [],
   "source": [
    "s, _, _, _ = test_env.reset()\n",
    "a = a3c_alg.model.sample_action(s.unsqueeze(0))"
   ]
  },
  {
   "cell_type": "code",
   "execution_count": 22,
   "metadata": {},
   "outputs": [
    {
     "data": {
      "text/plain": [
       "tensor([ 0.0272,  0.0183,  0.0095,  0.0715, -0.0287,  0.0131,  0.0077, -0.0307,\n",
       "        -0.0054, -0.0020,  0.0213, -0.0444, -0.0072,  0.0254, -0.0071,  0.0156],\n",
       "       device='cuda:0')"
      ]
     },
     "execution_count": 22,
     "metadata": {},
     "output_type": "execute_result"
    }
   ],
   "source": [
    "a3c_alg.model.get_hidden_states()[0][0][0][0,0]"
   ]
  },
  {
   "cell_type": "code",
   "execution_count": 96,
   "metadata": {
    "scrolled": true
   },
   "outputs": [
    {
     "name": "stderr",
     "output_type": "stream",
     "text": [
      "100%|██████████| 1999/1999 [00:46<00:00, 43.16it/s]\n"
     ]
    },
    {
     "name": "stdout",
     "output_type": "stream",
     "text": [
      "new_model -vs- a3c_agent_v3\n",
      "Mean scores: 641.30 - 638.75\n",
      "Match score: 2101 - 55 - 1844 (52.5% - 1.4% - 46.1%)\n"
     ]
    },
    {
     "name": "stderr",
     "output_type": "stream",
     "text": [
      "100%|██████████| 1999/1999 [00:48<00:00, 41.26it/s]\n"
     ]
    },
    {
     "name": "stdout",
     "output_type": "stream",
     "text": [
      "new_model -vs- a3c_agent_v4-162\n",
      "Mean scores: 641.75 - 639.23\n",
      "Match score: 2095 - 69 - 1836 (52.4% - 1.7% - 45.9%)\n"
     ]
    }
   ],
   "source": [
    "va.run_vectorized_vs(model_wrapped, va.SavedRLAgent('a3c_agent_v3'), 'new_model', 'a3c_agent_v3', n_envs=4000, out_device=DEVICE)\n",
    "va.run_vectorized_vs(model_wrapped, va.SavedRLAgent('a3c_agent_v4-162'), 'new_model', 'a3c_agent_v4-162', n_envs=4000, out_device=DEVICE)"
   ]
  },
  {
   "cell_type": "code",
   "execution_count": 15,
   "metadata": {},
   "outputs": [
    {
     "name": "stderr",
     "output_type": "stream",
     "text": [
      "100%|██████████| 1999/1999 [00:08<00:00, 225.45it/s]\n"
     ]
    },
    {
     "name": "stdout",
     "output_type": "stream",
     "text": [
      "new_model -vs- new_model\n",
      "Mean scores: 581.89 - 581.28\n",
      "Match score: 502 - 18 - 480 (50.2% - 1.8% - 48.0%)\n"
     ]
    },
    {
     "name": "stderr",
     "output_type": "stream",
     "text": [
      "100%|██████████| 1999/1999 [00:08<00:00, 247.40it/s]\n"
     ]
    },
    {
     "name": "stdout",
     "output_type": "stream",
     "text": [
      "new_model -vs- a3c_agent_v0\n",
      "Mean scores: 497.38 - 683.32\n",
      "Match score: 0 - 0 - 1000 (0.0% - 0.0% - 100.0%)\n"
     ]
    },
    {
     "name": "stderr",
     "output_type": "stream",
     "text": [
      "100%|██████████| 1999/1999 [00:10<00:00, 197.35it/s]\n"
     ]
    },
    {
     "name": "stdout",
     "output_type": "stream",
     "text": [
      "new_model -vs- a3c_agent_v1\n",
      "Mean scores: 505.32 - 672.76\n",
      "Match score: 0 - 0 - 1000 (0.0% - 0.0% - 100.0%)\n"
     ]
    },
    {
     "name": "stderr",
     "output_type": "stream",
     "text": [
      " 15%|█▍        | 296/1999 [00:01<00:09, 172.20it/s]\n"
     ]
    },
    {
     "ename": "KeyboardInterrupt",
     "evalue": "",
     "output_type": "error",
     "traceback": [
      "\u001b[0;31m---------------------------------------------------------------------------\u001b[0m",
      "\u001b[0;31mKeyboardInterrupt\u001b[0m                         Traceback (most recent call last)",
      "\u001b[0;32m<ipython-input-15-d80abdc815ba>\u001b[0m in \u001b[0;36m<module>\u001b[0;34m\u001b[0m\n\u001b[1;32m     12\u001b[0m \u001b[0mva\u001b[0m\u001b[0;34m.\u001b[0m\u001b[0mrun_vectorized_vs\u001b[0m\u001b[0;34m(\u001b[0m\u001b[0mmodel_wrapped\u001b[0m\u001b[0;34m,\u001b[0m \u001b[0mva\u001b[0m\u001b[0;34m.\u001b[0m\u001b[0mSavedRLAgent\u001b[0m\u001b[0;34m(\u001b[0m\u001b[0;34m'a3c_agent_v0'\u001b[0m\u001b[0;34m)\u001b[0m\u001b[0;34m,\u001b[0m \u001b[0;34m'new_model'\u001b[0m\u001b[0;34m,\u001b[0m \u001b[0;34m'a3c_agent_v0'\u001b[0m\u001b[0;34m,\u001b[0m \u001b[0;34m**\u001b[0m\u001b[0mbenchmark_env_kwargs\u001b[0m\u001b[0;34m)\u001b[0m\u001b[0;34m\u001b[0m\u001b[0;34m\u001b[0m\u001b[0m\n\u001b[1;32m     13\u001b[0m \u001b[0mva\u001b[0m\u001b[0;34m.\u001b[0m\u001b[0mrun_vectorized_vs\u001b[0m\u001b[0;34m(\u001b[0m\u001b[0mmodel_wrapped\u001b[0m\u001b[0;34m,\u001b[0m \u001b[0mva\u001b[0m\u001b[0;34m.\u001b[0m\u001b[0mSavedRLAgent\u001b[0m\u001b[0;34m(\u001b[0m\u001b[0;34m'a3c_agent_v1'\u001b[0m\u001b[0;34m)\u001b[0m\u001b[0;34m,\u001b[0m \u001b[0;34m'new_model'\u001b[0m\u001b[0;34m,\u001b[0m \u001b[0;34m'a3c_agent_v1'\u001b[0m\u001b[0;34m,\u001b[0m \u001b[0;34m**\u001b[0m\u001b[0mbenchmark_env_kwargs\u001b[0m\u001b[0;34m)\u001b[0m\u001b[0;34m\u001b[0m\u001b[0;34m\u001b[0m\u001b[0m\n\u001b[0;32m---> 14\u001b[0;31m \u001b[0mva\u001b[0m\u001b[0;34m.\u001b[0m\u001b[0mrun_vectorized_vs\u001b[0m\u001b[0;34m(\u001b[0m\u001b[0mmodel_wrapped\u001b[0m\u001b[0;34m,\u001b[0m \u001b[0mva\u001b[0m\u001b[0;34m.\u001b[0m\u001b[0mSavedRLAgent\u001b[0m\u001b[0;34m(\u001b[0m\u001b[0;34m'a3c_agent_v2'\u001b[0m\u001b[0;34m)\u001b[0m\u001b[0;34m,\u001b[0m \u001b[0;34m'new_model'\u001b[0m\u001b[0;34m,\u001b[0m \u001b[0;34m'a3c_agent_v2'\u001b[0m\u001b[0;34m,\u001b[0m \u001b[0;34m**\u001b[0m\u001b[0mbenchmark_env_kwargs\u001b[0m\u001b[0;34m)\u001b[0m\u001b[0;34m\u001b[0m\u001b[0;34m\u001b[0m\u001b[0m\n\u001b[0m\u001b[1;32m     15\u001b[0m \u001b[0mva\u001b[0m\u001b[0;34m.\u001b[0m\u001b[0mrun_vectorized_vs\u001b[0m\u001b[0;34m(\u001b[0m\u001b[0mmodel_wrapped\u001b[0m\u001b[0;34m,\u001b[0m \u001b[0mva\u001b[0m\u001b[0;34m.\u001b[0m\u001b[0mSavedRLAgent\u001b[0m\u001b[0;34m(\u001b[0m\u001b[0;34m'a3c_agent_v3'\u001b[0m\u001b[0;34m)\u001b[0m\u001b[0;34m,\u001b[0m \u001b[0;34m'new_model'\u001b[0m\u001b[0;34m,\u001b[0m \u001b[0;34m'a3c_agent_v3'\u001b[0m\u001b[0;34m,\u001b[0m \u001b[0mn_envs\u001b[0m\u001b[0;34m=\u001b[0m\u001b[0;36m4000\u001b[0m\u001b[0;34m,\u001b[0m \u001b[0mout_device\u001b[0m\u001b[0;34m=\u001b[0m\u001b[0mDEVICE\u001b[0m\u001b[0;34m)\u001b[0m\u001b[0;34m\u001b[0m\u001b[0;34m\u001b[0m\u001b[0m\n\u001b[1;32m     16\u001b[0m \u001b[0mva\u001b[0m\u001b[0;34m.\u001b[0m\u001b[0mrun_vectorized_vs\u001b[0m\u001b[0;34m(\u001b[0m\u001b[0mmodel_wrapped\u001b[0m\u001b[0;34m,\u001b[0m \u001b[0mva\u001b[0m\u001b[0;34m.\u001b[0m\u001b[0mSavedRLAgent\u001b[0m\u001b[0;34m(\u001b[0m\u001b[0;34m'a3c_agent_v4-162'\u001b[0m\u001b[0;34m)\u001b[0m\u001b[0;34m,\u001b[0m \u001b[0;34m'new_model'\u001b[0m\u001b[0;34m,\u001b[0m \u001b[0;34m'a3c_agent_v4-162'\u001b[0m\u001b[0;34m,\u001b[0m \u001b[0mn_envs\u001b[0m\u001b[0;34m=\u001b[0m\u001b[0;36m4000\u001b[0m\u001b[0;34m,\u001b[0m \u001b[0mout_device\u001b[0m\u001b[0;34m=\u001b[0m\u001b[0mDEVICE\u001b[0m\u001b[0;34m)\u001b[0m\u001b[0;34m\u001b[0m\u001b[0;34m\u001b[0m\u001b[0m\n",
      "\u001b[0;32m/Windows/Users/isaia/Documents/GitHub/Kaggle/Santa_2020/vectorized_agents.py\u001b[0m in \u001b[0;36mrun_vectorized_vs\u001b[0;34m(p1, p2, p1_name, p2_name, *env_args, **env_kwargs)\u001b[0m\n\u001b[1;32m     15\u001b[0m     \u001b[0ms\u001b[0m\u001b[0;34m,\u001b[0m \u001b[0m_\u001b[0m\u001b[0;34m,\u001b[0m \u001b[0m_\u001b[0m\u001b[0;34m,\u001b[0m \u001b[0m_\u001b[0m \u001b[0;34m=\u001b[0m \u001b[0mvs_env\u001b[0m\u001b[0;34m.\u001b[0m\u001b[0mreset\u001b[0m\u001b[0;34m(\u001b[0m\u001b[0;34m)\u001b[0m\u001b[0;34m\u001b[0m\u001b[0;34m\u001b[0m\u001b[0m\n\u001b[1;32m     16\u001b[0m     \u001b[0;32mfor\u001b[0m \u001b[0mi\u001b[0m \u001b[0;32min\u001b[0m \u001b[0mtqdm\u001b[0m\u001b[0;34m.\u001b[0m\u001b[0mtrange\u001b[0m\u001b[0;34m(\u001b[0m\u001b[0mvs_env\u001b[0m\u001b[0;34m.\u001b[0m\u001b[0mn_steps\u001b[0m\u001b[0;34m)\u001b[0m\u001b[0;34m:\u001b[0m\u001b[0;34m\u001b[0m\u001b[0;34m\u001b[0m\u001b[0m\n\u001b[0;32m---> 17\u001b[0;31m         \u001b[0ms\u001b[0m\u001b[0;34m,\u001b[0m \u001b[0m_\u001b[0m\u001b[0;34m,\u001b[0m \u001b[0m_\u001b[0m\u001b[0;34m,\u001b[0m \u001b[0m_\u001b[0m \u001b[0;34m=\u001b[0m \u001b[0mvs_env\u001b[0m\u001b[0;34m.\u001b[0m\u001b[0mstep\u001b[0m\u001b[0;34m(\u001b[0m\u001b[0mp1\u001b[0m\u001b[0;34m(\u001b[0m\u001b[0ms\u001b[0m\u001b[0;34m)\u001b[0m\u001b[0;34m)\u001b[0m\u001b[0;34m\u001b[0m\u001b[0;34m\u001b[0m\u001b[0m\n\u001b[0m\u001b[1;32m     18\u001b[0m     \u001b[0mp1_scores\u001b[0m\u001b[0;34m,\u001b[0m \u001b[0mp2_scores\u001b[0m \u001b[0;34m=\u001b[0m \u001b[0mvs_env\u001b[0m\u001b[0;34m.\u001b[0m\u001b[0mplayer_rewards_sums\u001b[0m\u001b[0;34m.\u001b[0m\u001b[0msum\u001b[0m\u001b[0;34m(\u001b[0m\u001b[0;34m-\u001b[0m\u001b[0;36m1\u001b[0m\u001b[0;34m)\u001b[0m\u001b[0;34m.\u001b[0m\u001b[0mchunk\u001b[0m\u001b[0;34m(\u001b[0m\u001b[0;36m2\u001b[0m\u001b[0;34m,\u001b[0m \u001b[0mdim\u001b[0m\u001b[0;34m=\u001b[0m\u001b[0;36m1\u001b[0m\u001b[0;34m)\u001b[0m\u001b[0;34m\u001b[0m\u001b[0;34m\u001b[0m\u001b[0m\n\u001b[1;32m     19\u001b[0m     \u001b[0mprint\u001b[0m\u001b[0;34m(\u001b[0m\u001b[0;34mf'{p1_name} -vs- {p2_name}'\u001b[0m\u001b[0;34m)\u001b[0m\u001b[0;34m\u001b[0m\u001b[0;34m\u001b[0m\u001b[0m\n",
      "\u001b[0;32m/Windows/Users/isaia/Documents/GitHub/Kaggle/Santa_2020/vectorized_env.py\u001b[0m in \u001b[0;36mwrapped\u001b[0;34m(self, *args, **kwargs)\u001b[0m\n\u001b[1;32m     74\u001b[0m         \u001b[0;32mdef\u001b[0m \u001b[0mwrapped\u001b[0m\u001b[0;34m(\u001b[0m\u001b[0mself\u001b[0m\u001b[0;34m,\u001b[0m \u001b[0;34m*\u001b[0m\u001b[0margs\u001b[0m\u001b[0;34m,\u001b[0m \u001b[0;34m**\u001b[0m\u001b[0mkwargs\u001b[0m\u001b[0;34m)\u001b[0m\u001b[0;34m:\u001b[0m\u001b[0;34m\u001b[0m\u001b[0;34m\u001b[0m\u001b[0m\n\u001b[1;32m     75\u001b[0m             \u001b[0;32mif\u001b[0m \u001b[0mself\u001b[0m\u001b[0;34m.\u001b[0m\u001b[0mopponent\u001b[0m \u001b[0;32mis\u001b[0m \u001b[0;32mnot\u001b[0m \u001b[0;32mNone\u001b[0m\u001b[0;34m:\u001b[0m\u001b[0;34m\u001b[0m\u001b[0;34m\u001b[0m\u001b[0m\n\u001b[0;32m---> 76\u001b[0;31m                 \u001b[0;32mreturn\u001b[0m \u001b[0;34m[\u001b[0m\u001b[0mout\u001b[0m\u001b[0;34m[\u001b[0m\u001b[0;34m:\u001b[0m\u001b[0;34m,\u001b[0m\u001b[0;36m0\u001b[0m\u001b[0;34m]\u001b[0m\u001b[0;34m.\u001b[0m\u001b[0munsqueeze\u001b[0m\u001b[0;34m(\u001b[0m\u001b[0;36m1\u001b[0m\u001b[0;34m)\u001b[0m \u001b[0;32mif\u001b[0m \u001b[0mtorch\u001b[0m\u001b[0;34m.\u001b[0m\u001b[0mis_tensor\u001b[0m\u001b[0;34m(\u001b[0m\u001b[0mout\u001b[0m\u001b[0;34m)\u001b[0m \u001b[0;32melse\u001b[0m \u001b[0mout\u001b[0m \u001b[0;32mfor\u001b[0m \u001b[0mout\u001b[0m \u001b[0;32min\u001b[0m \u001b[0mf\u001b[0m\u001b[0;34m(\u001b[0m\u001b[0mself\u001b[0m\u001b[0;34m,\u001b[0m \u001b[0;34m*\u001b[0m\u001b[0margs\u001b[0m\u001b[0;34m,\u001b[0m \u001b[0;34m**\u001b[0m\u001b[0mkwargs\u001b[0m\u001b[0;34m)\u001b[0m\u001b[0;34m]\u001b[0m\u001b[0;34m\u001b[0m\u001b[0;34m\u001b[0m\u001b[0m\n\u001b[0m\u001b[1;32m     77\u001b[0m             \u001b[0;32melse\u001b[0m\u001b[0;34m:\u001b[0m\u001b[0;34m\u001b[0m\u001b[0;34m\u001b[0m\u001b[0m\n\u001b[1;32m     78\u001b[0m                 \u001b[0;32mreturn\u001b[0m \u001b[0mf\u001b[0m\u001b[0;34m(\u001b[0m\u001b[0mself\u001b[0m\u001b[0;34m,\u001b[0m \u001b[0;34m*\u001b[0m\u001b[0margs\u001b[0m\u001b[0;34m,\u001b[0m \u001b[0;34m**\u001b[0m\u001b[0mkwargs\u001b[0m\u001b[0;34m)\u001b[0m\u001b[0;34m\u001b[0m\u001b[0;34m\u001b[0m\u001b[0m\n",
      "\u001b[0;32m/Windows/Users/isaia/Documents/GitHub/Kaggle/Santa_2020/vectorized_env.py\u001b[0m in \u001b[0;36mwrapped\u001b[0;34m(self, *args, **kwargs)\u001b[0m\n\u001b[1;32m     82\u001b[0m         \u001b[0;34m@\u001b[0m\u001b[0mwraps\u001b[0m\u001b[0;34m(\u001b[0m\u001b[0mf\u001b[0m\u001b[0;34m)\u001b[0m\u001b[0;34m\u001b[0m\u001b[0;34m\u001b[0m\u001b[0m\n\u001b[1;32m     83\u001b[0m         \u001b[0;32mdef\u001b[0m \u001b[0mwrapped\u001b[0m\u001b[0;34m(\u001b[0m\u001b[0mself\u001b[0m\u001b[0;34m,\u001b[0m \u001b[0;34m*\u001b[0m\u001b[0margs\u001b[0m\u001b[0;34m,\u001b[0m \u001b[0;34m**\u001b[0m\u001b[0mkwargs\u001b[0m\u001b[0;34m)\u001b[0m\u001b[0;34m:\u001b[0m\u001b[0;34m\u001b[0m\u001b[0;34m\u001b[0m\u001b[0m\n\u001b[0;32m---> 84\u001b[0;31m             \u001b[0;32mreturn\u001b[0m \u001b[0;34m[\u001b[0m\u001b[0mout\u001b[0m\u001b[0;34m.\u001b[0m\u001b[0mto\u001b[0m\u001b[0;34m(\u001b[0m\u001b[0mself\u001b[0m\u001b[0;34m.\u001b[0m\u001b[0mout_device\u001b[0m\u001b[0;34m)\u001b[0m \u001b[0;32mif\u001b[0m \u001b[0mtorch\u001b[0m\u001b[0;34m.\u001b[0m\u001b[0mis_tensor\u001b[0m\u001b[0;34m(\u001b[0m\u001b[0mout\u001b[0m\u001b[0;34m)\u001b[0m \u001b[0;32melse\u001b[0m \u001b[0mout\u001b[0m \u001b[0;32mfor\u001b[0m \u001b[0mout\u001b[0m \u001b[0;32min\u001b[0m \u001b[0mf\u001b[0m\u001b[0;34m(\u001b[0m\u001b[0mself\u001b[0m\u001b[0;34m,\u001b[0m \u001b[0;34m*\u001b[0m\u001b[0margs\u001b[0m\u001b[0;34m,\u001b[0m \u001b[0;34m**\u001b[0m\u001b[0mkwargs\u001b[0m\u001b[0;34m)\u001b[0m\u001b[0;34m]\u001b[0m\u001b[0;34m\u001b[0m\u001b[0;34m\u001b[0m\u001b[0m\n\u001b[0m\u001b[1;32m     85\u001b[0m         \u001b[0;32mreturn\u001b[0m \u001b[0mwrapped\u001b[0m\u001b[0;34m\u001b[0m\u001b[0;34m\u001b[0m\u001b[0m\n\u001b[1;32m     86\u001b[0m \u001b[0;34m\u001b[0m\u001b[0m\n",
      "\u001b[0;32m/Windows/Users/isaia/Documents/GitHub/Kaggle/Santa_2020/vectorized_env.py\u001b[0m in \u001b[0;36mstep\u001b[0;34m(self, actions)\u001b[0m\n\u001b[1;32m    110\u001b[0m \u001b[0;34m\u001b[0m\u001b[0m\n\u001b[1;32m    111\u001b[0m         \u001b[0;31m# Compute agent rewards\u001b[0m\u001b[0;34m\u001b[0m\u001b[0;34m\u001b[0m\u001b[0;34m\u001b[0m\u001b[0m\n\u001b[0;32m--> 112\u001b[0;31m         \u001b[0mselected_thresholds\u001b[0m \u001b[0;34m=\u001b[0m \u001b[0mself\u001b[0m\u001b[0;34m.\u001b[0m\u001b[0mthresholds\u001b[0m\u001b[0;34m.\u001b[0m\u001b[0mgather\u001b[0m\u001b[0;34m(\u001b[0m\u001b[0;34m-\u001b[0m\u001b[0;36m1\u001b[0m\u001b[0;34m,\u001b[0m \u001b[0mactions\u001b[0m\u001b[0;34m)\u001b[0m\u001b[0;34m\u001b[0m\u001b[0;34m\u001b[0m\u001b[0m\n\u001b[0m\u001b[1;32m    113\u001b[0m         \u001b[0mpull_rewards\u001b[0m \u001b[0;34m=\u001b[0m \u001b[0mtorch\u001b[0m\u001b[0;34m.\u001b[0m\u001b[0mrandint\u001b[0m\u001b[0;34m(\u001b[0m\u001b[0mself\u001b[0m\u001b[0;34m.\u001b[0m\u001b[0msample_resolution\u001b[0m\u001b[0;34m,\u001b[0m \u001b[0msize\u001b[0m\u001b[0;34m=\u001b[0m\u001b[0mselected_thresholds\u001b[0m\u001b[0;34m.\u001b[0m\u001b[0mshape\u001b[0m\u001b[0;34m,\u001b[0m \u001b[0mdtype\u001b[0m\u001b[0;34m=\u001b[0m\u001b[0mtorch\u001b[0m\u001b[0;34m.\u001b[0m\u001b[0mfloat32\u001b[0m\u001b[0;34m,\u001b[0m \u001b[0mdevice\u001b[0m\u001b[0;34m=\u001b[0m\u001b[0mself\u001b[0m\u001b[0;34m.\u001b[0m\u001b[0menv_device\u001b[0m\u001b[0;34m)\u001b[0m \u001b[0;34m<\u001b[0m \u001b[0mselected_thresholds\u001b[0m\u001b[0;34m\u001b[0m\u001b[0;34m\u001b[0m\u001b[0m\n\u001b[1;32m    114\u001b[0m \u001b[0;34m\u001b[0m\u001b[0m\n",
      "\u001b[0;32m/Windows/Users/isaia/Documents/GitHub/Kaggle/Santa_2020/vectorized_env.py\u001b[0m in \u001b[0;36mthresholds\u001b[0;34m(self)\u001b[0m\n\u001b[1;32m    200\u001b[0m     \u001b[0;34m@\u001b[0m\u001b[0mproperty\u001b[0m\u001b[0;34m\u001b[0m\u001b[0;34m\u001b[0m\u001b[0m\n\u001b[1;32m    201\u001b[0m     \u001b[0;32mdef\u001b[0m \u001b[0mthresholds\u001b[0m\u001b[0;34m(\u001b[0m\u001b[0mself\u001b[0m\u001b[0;34m)\u001b[0m\u001b[0;34m:\u001b[0m\u001b[0;34m\u001b[0m\u001b[0;34m\u001b[0m\u001b[0m\n\u001b[0;32m--> 202\u001b[0;31m         \u001b[0;32mreturn\u001b[0m \u001b[0mself\u001b[0m\u001b[0;34m.\u001b[0m\u001b[0morig_thresholds\u001b[0m \u001b[0;34m*\u001b[0m \u001b[0;34m(\u001b[0m\u001b[0mself\u001b[0m\u001b[0;34m.\u001b[0m\u001b[0mdecay_rate\u001b[0m \u001b[0;34m**\u001b[0m \u001b[0mself\u001b[0m\u001b[0;34m.\u001b[0m\u001b[0mplayer_n_pulls\u001b[0m\u001b[0;34m.\u001b[0m\u001b[0msum\u001b[0m\u001b[0;34m(\u001b[0m\u001b[0mdim\u001b[0m\u001b[0;34m=\u001b[0m\u001b[0;36m1\u001b[0m\u001b[0;34m)\u001b[0m\u001b[0;34m)\u001b[0m\u001b[0;34m\u001b[0m\u001b[0;34m\u001b[0m\u001b[0m\n\u001b[0m\u001b[1;32m    203\u001b[0m \u001b[0;34m\u001b[0m\u001b[0m\n\u001b[1;32m    204\u001b[0m     \u001b[0;34m@\u001b[0m\u001b[0mproperty\u001b[0m\u001b[0;34m\u001b[0m\u001b[0;34m\u001b[0m\u001b[0m\n",
      "\u001b[0;32m~/miniconda3/envs/pt14/lib/python3.7/site-packages/torch/tensor.py\u001b[0m in \u001b[0;36mwrapped\u001b[0;34m(*args, **kwargs)\u001b[0m\n\u001b[1;32m     26\u001b[0m     \u001b[0;32mdef\u001b[0m \u001b[0mwrapped\u001b[0m\u001b[0;34m(\u001b[0m\u001b[0;34m*\u001b[0m\u001b[0margs\u001b[0m\u001b[0;34m,\u001b[0m \u001b[0;34m**\u001b[0m\u001b[0mkwargs\u001b[0m\u001b[0;34m)\u001b[0m\u001b[0;34m:\u001b[0m\u001b[0;34m\u001b[0m\u001b[0;34m\u001b[0m\u001b[0m\n\u001b[1;32m     27\u001b[0m         \u001b[0;32mtry\u001b[0m\u001b[0;34m:\u001b[0m\u001b[0;34m\u001b[0m\u001b[0;34m\u001b[0m\u001b[0m\n\u001b[0;32m---> 28\u001b[0;31m             \u001b[0;32mreturn\u001b[0m \u001b[0mf\u001b[0m\u001b[0;34m(\u001b[0m\u001b[0;34m*\u001b[0m\u001b[0margs\u001b[0m\u001b[0;34m,\u001b[0m \u001b[0;34m**\u001b[0m\u001b[0mkwargs\u001b[0m\u001b[0;34m)\u001b[0m\u001b[0;34m\u001b[0m\u001b[0;34m\u001b[0m\u001b[0m\n\u001b[0m\u001b[1;32m     29\u001b[0m         \u001b[0;32mexcept\u001b[0m \u001b[0mTypeError\u001b[0m\u001b[0;34m:\u001b[0m\u001b[0;34m\u001b[0m\u001b[0;34m\u001b[0m\u001b[0m\n\u001b[1;32m     30\u001b[0m             \u001b[0;32mreturn\u001b[0m \u001b[0mNotImplemented\u001b[0m\u001b[0;34m\u001b[0m\u001b[0;34m\u001b[0m\u001b[0m\n",
      "\u001b[0;32m~/miniconda3/envs/pt14/lib/python3.7/site-packages/torch/tensor.py\u001b[0m in \u001b[0;36m__rpow__\u001b[0;34m(self, other)\u001b[0m\n\u001b[1;32m    415\u001b[0m     \u001b[0;34m@\u001b[0m\u001b[0m_wrap_type_error_to_not_implemented\u001b[0m\u001b[0;34m\u001b[0m\u001b[0;34m\u001b[0m\u001b[0m\n\u001b[1;32m    416\u001b[0m     \u001b[0;32mdef\u001b[0m \u001b[0m__rpow__\u001b[0m\u001b[0;34m(\u001b[0m\u001b[0mself\u001b[0m\u001b[0;34m,\u001b[0m \u001b[0mother\u001b[0m\u001b[0;34m)\u001b[0m\u001b[0;34m:\u001b[0m\u001b[0;34m\u001b[0m\u001b[0;34m\u001b[0m\u001b[0m\n\u001b[0;32m--> 417\u001b[0;31m         \u001b[0;32mreturn\u001b[0m \u001b[0mself\u001b[0m\u001b[0;34m.\u001b[0m\u001b[0mnew_tensor\u001b[0m\u001b[0;34m(\u001b[0m\u001b[0mother\u001b[0m\u001b[0;34m)\u001b[0m \u001b[0;34m**\u001b[0m \u001b[0mself\u001b[0m\u001b[0;34m\u001b[0m\u001b[0;34m\u001b[0m\u001b[0m\n\u001b[0m\u001b[1;32m    418\u001b[0m \u001b[0;34m\u001b[0m\u001b[0m\n\u001b[1;32m    419\u001b[0m     \u001b[0;34m@\u001b[0m\u001b[0m_wrap_type_error_to_not_implemented\u001b[0m\u001b[0;34m\u001b[0m\u001b[0;34m\u001b[0m\u001b[0m\n",
      "\u001b[0;31mKeyboardInterrupt\u001b[0m: "
     ]
    }
   ],
   "source": [
    "model.eval()\n",
    "benchmark_env_kwargs = dict(\n",
    "    n_envs=1000,\n",
    "    out_device=DEVICE\n",
    ")\n",
    "\n",
    "## Against itself\n",
    "va.run_vectorized_vs(model_wrapped, model_wrapped, 'new_model', 'new_model', **benchmark_env_kwargs)\n",
    "#model_wrapped.reset_hidden_states()\n",
    "\n",
    "## Previous best models\n",
    "va.run_vectorized_vs(model_wrapped, va.SavedRLAgent('a3c_agent_v0'), 'new_model', 'a3c_agent_v0', **benchmark_env_kwargs)\n",
    "va.run_vectorized_vs(model_wrapped, va.SavedRLAgent('a3c_agent_v1'), 'new_model', 'a3c_agent_v1', **benchmark_env_kwargs)\n",
    "va.run_vectorized_vs(model_wrapped, va.SavedRLAgent('a3c_agent_v2'), 'new_model', 'a3c_agent_v2', **benchmark_env_kwargs)\n",
    "va.run_vectorized_vs(model_wrapped, va.SavedRLAgent('a3c_agent_v3'), 'new_model', 'a3c_agent_v3', n_envs=4000, out_device=DEVICE)\n",
    "va.run_vectorized_vs(model_wrapped, va.SavedRLAgent('a3c_agent_v4-162'), 'new_model', 'a3c_agent_v4-162', n_envs=4000, out_device=DEVICE)\n",
    "\n",
    "## Always 0 agent\n",
    "#va.run_vectorized_vs(model_wrapped, va.AlwaysFirstAgent(), 'new_model', 'always_first', **benchmark_env_kwargs)\n",
    "\n",
    "## Random agent\n",
    "#va.run_vectorized_vs(model_wrapped, va.RandomAgent(), 'new_model', 'random_agent', **benchmark_env_kwargs)\n",
    "\n",
    "## Basic thompson sampling\n",
    "va.run_vectorized_vs(model_wrapped, va.BasicThompsonSampling(OBS_NORM), 'new_model', 'basic_thompson_sampling', **benchmark_env_kwargs)\n",
    "\n",
    "## Pull vegas slot machines\n",
    "va.run_vectorized_vs(model_wrapped, va.PullVegasSlotMachines(OBS_NORM), 'new_model', 'pull_vegas_slot_machines', **benchmark_env_kwargs)"
   ]
  },
  {
   "cell_type": "code",
   "execution_count": null,
   "metadata": {},
   "outputs": [],
   "source": [
    "temp_sd_checkpoint = model.state_dict()"
   ]
  },
  {
   "cell_type": "markdown",
   "metadata": {},
   "source": [
    "## Visualize model parameter distributions"
   ]
  },
  {
   "cell_type": "code",
   "execution_count": 6,
   "metadata": {},
   "outputs": [
    {
     "data": {
      "image/png": "[encoded data removed]",
      "text/plain": [
       "<Figure size 1440x2160 with 24 Axes>"
      ]
     },
     "metadata": {},
     "output_type": "display_data"
    }
   ],
   "source": [
    "full_layer_name = []\n",
    "layer_name = []\n",
    "component_name = []\n",
    "weight_or_bias = []\n",
    "param_val = []\n",
    "for key, val in model.state_dict().items():\n",
    "    if 'message_passing_mat' in key:\n",
    "        pass\n",
    "    else:\n",
    "        for v in val.cpu().numpy().ravel():\n",
    "            param_val.append(v)\n",
    "            full_layer_name.append(key)\n",
    "            key_split = key.split('.')\n",
    "            if len(key_split) == 3:\n",
    "                ln, pn, wob = key_split\n",
    "            elif len(key_split) >= 4:\n",
    "                ln = '.'.join(key_split[0:-2])\n",
    "                pn, wob = key_split[-2:]\n",
    "            else:\n",
    "                raise RuntimeError(f'Unrecognized layer key: {key}')\n",
    "            layer_name.append(ln)\n",
    "            component_name.append(pn)\n",
    "            weight_or_bias.append(wob)\n",
    "params_df = pd.DataFrame(dict(\n",
    "    full_layer_name = full_layer_name,\n",
    "    layer_name = layer_name,\n",
    "    component_name = component_name,\n",
    "    weight_or_bias = weight_or_bias,\n",
    "    param_val = param_val\n",
    "))\n",
    "\n",
    "sns.displot(\n",
    "    params_df, x='param_val', col='weight_or_bias', row='layer_name',\n",
    "    binwidth=0.1,\n",
    "    #height=3,\n",
    "    facet_kws=dict(margin_titles=True, sharex=False, sharey=False)\n",
    ");"
   ]
  },
  {
   "cell_type": "code",
   "execution_count": 29,
   "metadata": {},
   "outputs": [
    {
     "data": {
      "text/html": [
       "<div>\n",
       "<style scoped>\n",
       "    .dataframe tbody tr th:only-of-type {\n",
       "        vertical-align: middle;\n",
       "    }\n",
       "\n",
       "    .dataframe tbody tr th {\n",
       "        vertical-align: top;\n",
       "    }\n",
       "\n",
       "    .dataframe thead th {\n",
       "        text-align: right;\n",
       "    }\n",
       "</style>\n",
       "<table border=\"1\" class=\"dataframe\">\n",
       "  <thead>\n",
       "    <tr style=\"text-align: right;\">\n",
       "      <th></th>\n",
       "      <th>full_layer_name</th>\n",
       "      <th>layer_name</th>\n",
       "      <th>component_name</th>\n",
       "      <th>weight_or_bias</th>\n",
       "      <th>param_val</th>\n",
       "    </tr>\n",
       "  </thead>\n",
       "  <tbody>\n",
       "    <tr>\n",
       "      <th>0</th>\n",
       "      <td>base.layers.0.recombine_features.weight_ih_l0</td>\n",
       "      <td>base.layers.0</td>\n",
       "      <td>recombine_features</td>\n",
       "      <td>weight_ih_l0</td>\n",
       "      <td>0.293951</td>\n",
       "    </tr>\n",
       "    <tr>\n",
       "      <th>1</th>\n",
       "      <td>base.layers.0.recombine_features.weight_ih_l0</td>\n",
       "      <td>base.layers.0</td>\n",
       "      <td>recombine_features</td>\n",
       "      <td>weight_ih_l0</td>\n",
       "      <td>0.093798</td>\n",
       "    </tr>\n",
       "    <tr>\n",
       "      <th>2</th>\n",
       "      <td>base.layers.0.recombine_features.weight_ih_l0</td>\n",
       "      <td>base.layers.0</td>\n",
       "      <td>recombine_features</td>\n",
       "      <td>weight_ih_l0</td>\n",
       "      <td>-0.065024</td>\n",
       "    </tr>\n",
       "    <tr>\n",
       "      <th>3</th>\n",
       "      <td>base.layers.0.recombine_features.weight_ih_l0</td>\n",
       "      <td>base.layers.0</td>\n",
       "      <td>recombine_features</td>\n",
       "      <td>weight_ih_l0</td>\n",
       "      <td>0.177684</td>\n",
       "    </tr>\n",
       "    <tr>\n",
       "      <th>4</th>\n",
       "      <td>base.layers.0.recombine_features.weight_ih_l0</td>\n",
       "      <td>base.layers.0</td>\n",
       "      <td>recombine_features</td>\n",
       "      <td>weight_ih_l0</td>\n",
       "      <td>-0.148650</td>\n",
       "    </tr>\n",
       "    <tr>\n",
       "      <th>...</th>\n",
       "      <td>...</td>\n",
       "      <td>...</td>\n",
       "      <td>...</td>\n",
       "      <td>...</td>\n",
       "      <td>...</td>\n",
       "    </tr>\n",
       "    <tr>\n",
       "      <th>11411</th>\n",
       "      <td>critic.recombine_features.bias_ih_l0</td>\n",
       "      <td>critic</td>\n",
       "      <td>recombine_features</td>\n",
       "      <td>bias_ih_l0</td>\n",
       "      <td>-1.058360</td>\n",
       "    </tr>\n",
       "    <tr>\n",
       "      <th>11412</th>\n",
       "      <td>critic.recombine_features.bias_hh_l0</td>\n",
       "      <td>critic</td>\n",
       "      <td>recombine_features</td>\n",
       "      <td>bias_hh_l0</td>\n",
       "      <td>-0.049016</td>\n",
       "    </tr>\n",
       "    <tr>\n",
       "      <th>11413</th>\n",
       "      <td>critic.recombine_features.bias_hh_l0</td>\n",
       "      <td>critic</td>\n",
       "      <td>recombine_features</td>\n",
       "      <td>bias_hh_l0</td>\n",
       "      <td>-0.446017</td>\n",
       "    </tr>\n",
       "    <tr>\n",
       "      <th>11414</th>\n",
       "      <td>critic.recombine_features.bias_hh_l0</td>\n",
       "      <td>critic</td>\n",
       "      <td>recombine_features</td>\n",
       "      <td>bias_hh_l0</td>\n",
       "      <td>0.037797</td>\n",
       "    </tr>\n",
       "    <tr>\n",
       "      <th>11415</th>\n",
       "      <td>critic.recombine_features.bias_hh_l0</td>\n",
       "      <td>critic</td>\n",
       "      <td>recombine_features</td>\n",
       "      <td>bias_hh_l0</td>\n",
       "      <td>-0.508194</td>\n",
       "    </tr>\n",
       "  </tbody>\n",
       "</table>\n",
       "<p>11416 rows × 5 columns</p>\n",
       "</div>"
      ],
      "text/plain": [
       "                                     full_layer_name     layer_name  \\\n",
       "0      base.layers.0.recombine_features.weight_ih_l0  base.layers.0   \n",
       "1      base.layers.0.recombine_features.weight_ih_l0  base.layers.0   \n",
       "2      base.layers.0.recombine_features.weight_ih_l0  base.layers.0   \n",
       "3      base.layers.0.recombine_features.weight_ih_l0  base.layers.0   \n",
       "4      base.layers.0.recombine_features.weight_ih_l0  base.layers.0   \n",
       "...                                              ...            ...   \n",
       "11411           critic.recombine_features.bias_ih_l0         critic   \n",
       "11412           critic.recombine_features.bias_hh_l0         critic   \n",
       "11413           critic.recombine_features.bias_hh_l0         critic   \n",
       "11414           critic.recombine_features.bias_hh_l0         critic   \n",
       "11415           critic.recombine_features.bias_hh_l0         critic   \n",
       "\n",
       "           component_name weight_or_bias  param_val  \n",
       "0      recombine_features   weight_ih_l0   0.293951  \n",
       "1      recombine_features   weight_ih_l0   0.093798  \n",
       "2      recombine_features   weight_ih_l0  -0.065024  \n",
       "3      recombine_features   weight_ih_l0   0.177684  \n",
       "4      recombine_features   weight_ih_l0  -0.148650  \n",
       "...                   ...            ...        ...  \n",
       "11411  recombine_features     bias_ih_l0  -1.058360  \n",
       "11412  recombine_features     bias_hh_l0  -0.049016  \n",
       "11413  recombine_features     bias_hh_l0  -0.446017  \n",
       "11414  recombine_features     bias_hh_l0   0.037797  \n",
       "11415  recombine_features     bias_hh_l0  -0.508194  \n",
       "\n",
       "[11416 rows x 5 columns]"
      ]
     },
     "execution_count": 29,
     "metadata": {},
     "output_type": "execute_result"
    }
   ],
   "source": [
    "params_df"
   ]
  },
  {
   "cell_type": "code",
   "execution_count": null,
   "metadata": {
    "scrolled": true
   },
   "outputs": [],
   "source": [
    "full_layer_name = []\n",
    "layer_name = []\n",
    "component_name = []\n",
    "weight_or_bias = []\n",
    "param_val = []\n",
    "for key, val in gnn.GraphNNA3C(**graph_nn_kwargs).state_dict().items():\n",
    "    if 'message_passing_mat' in key:\n",
    "        pass\n",
    "    else:\n",
    "        for v in val.cpu().numpy().ravel():\n",
    "            param_val.append(v)\n",
    "            full_layer_name.append(key)\n",
    "            key_split = key.split('.')\n",
    "            if len(key_split) == 3:\n",
    "                ln, pn, wob = key_split\n",
    "            elif len(key_split) >= 4:\n",
    "                ln = '.'.join(key_split[0:-2])\n",
    "                pn, wob = key_split[-2:]\n",
    "            else:\n",
    "                raise RuntimeError(f'Unrecognized layer key: {key}')\n",
    "            layer_name.append(ln)\n",
    "            component_name.append(pn)\n",
    "            weight_or_bias.append(wob)\n",
    "params_df = pd.DataFrame(dict(\n",
    "    full_layer_name = full_layer_name,\n",
    "    layer_name = layer_name,\n",
    "    component_name = component_name,\n",
    "    weight_or_bias = weight_or_bias,\n",
    "    param_val = param_val\n",
    "))\n",
    "\n",
    "sns.displot(\n",
    "    params_df, x='param_val', col='component_name', row='layer_name',\n",
    "    binwidth=0.1,\n",
    "    #height=3,\n",
    "    facet_kws=dict(margin_titles=True, sharex=False, sharey=False)\n",
    ");"
   ]
  },
  {
   "cell_type": "markdown",
   "metadata": {},
   "source": [
    "## Save the model state_dict as a serialized string"
   ]
  },
  {
   "cell_type": "code",
   "execution_count": 27,
   "metadata": {},
   "outputs": [],
   "source": [
    "model.to('cpu')\n",
    "state_dict_bytes = pickle.dumps({\n",
    "    'model_state_dict': model.state_dict(),\n",
    "    #'optimizer_state_dict': optimizer.state_dict()\n",
    "})\n",
    "serialized_string = base64.b64encode(state_dict_bytes)\n",
    "with open('rl_agents/ss_temp.txt', 'w') as f:\n",
    "    f.write(str(serialized_string))\n",
    "model.to(device=DEVICE);"
   ]
  },
  {
   "cell_type": "markdown",
   "metadata": {},
   "source": [
    "## Testing and debugging"
   ]
  },
  {
   "cell_type": "code",
   "execution_count": 13,
   "metadata": {
    "scrolled": false
   },
   "outputs": [
    {
     "name": "stdout",
     "output_type": "stream",
     "text": [
      "\n",
      "[-0.3799582  -0.3799582  -0.37995818 -0.37995818 -0.37995818 -0.37995815\n",
      " -0.37995818 -0.37995815 -0.37995818 -0.37995818 -0.3799582  -0.37995818\n",
      " -0.3799582  -0.37995818 -0.3799582  -0.37995818 -0.3799582  -0.3799582\n",
      " -0.37995818 -0.37995818 -0.37995818 -0.37995815 -0.37995818 -0.37995815\n",
      " -0.37995818 -0.37995818 -0.3799582  -0.37995818 -0.3799582  -0.37995818\n",
      " -0.3799582  -0.37995818 -0.3799582  -0.3799582  -0.37995818 -0.37995818\n",
      " -0.37995818 -0.37995815 -0.37995818 -0.37995815 -0.37995818 -0.37995818\n",
      "  0.71257406 -0.37995818 -0.3799582  -0.37995818 -0.3799582  -0.37995818\n",
      " -0.3799582  -0.3799582  -0.37995818 -0.37995818 -0.37995818 -0.37995815\n",
      " -0.37995818 -0.37995815 -0.37995818 -0.37995818 -0.3799582  -0.37995818\n",
      " -0.3799582  -0.37995818 -0.3799582  -0.37995818 -0.3799582  -0.3799582\n",
      " -0.37995818 -0.37995818 -0.37995818 -0.37995815 -0.37995818 -0.37995815\n",
      " -0.37995818 -0.37995818 -0.3799582  -0.37995818 -0.3799582  -0.37995818\n",
      " -0.3799582  -0.37995818 -0.3799582  -0.3799582  -0.37995818 -0.37995818\n",
      " -0.37995818 -0.37995815 -0.37995818 -0.37995815 -0.37995818 -0.37995818\n",
      " -0.3799582  -0.37995818 -0.3799582  -0.37995818 -0.3799582  -0.37995818\n",
      " -0.3799582  -0.3799582  -0.37995818 -0.37995818]\n",
      "0.028556887\n",
      "tensor([[0., 0., 0., 0., 0., 0., 0., 0., 0., 0., 0., 0., 0., 0., 0., 0., 0., 0.,\n",
      "         0., 0., 0., 0., 0., 0., 0., 0., 0., 0., 0., 0., 0., 0., 0., 0., 0., 0.,\n",
      "         0., 0., 0., 0., 0., 0., 1., 0., 0., 0., 0., 0., 0., 0., 0., 0., 0., 0.,\n",
      "         0., 0., 0., 0., 0., 0., 0., 0., 0., 0., 0., 0., 0., 0., 0., 0., 0., 0.,\n",
      "         0., 0., 0., 0., 0., 0., 0., 0., 0., 0., 0., 0., 0., 0., 0., 0., 0., 0.,\n",
      "         0., 0., 0., 0., 0., 0., 0., 0., 0., 0.],\n",
      "        [0., 0., 0., 0., 0., 0., 0., 0., 0., 0., 0., 0., 0., 0., 0., 0., 0., 0.,\n",
      "         0., 0., 0., 0., 0., 0., 0., 0., 0., 0., 0., 0., 0., 0., 0., 0., 0., 0.,\n",
      "         0., 0., 0., 0., 0., 0., 1., 0., 0., 0., 0., 0., 0., 0., 0., 0., 0., 0.,\n",
      "         0., 0., 0., 0., 0., 0., 0., 0., 0., 0., 0., 0., 0., 0., 0., 0., 0., 0.,\n",
      "         0., 0., 0., 0., 0., 0., 0., 0., 0., 0., 0., 0., 0., 0., 0., 0., 0., 0.,\n",
      "         0., 0., 0., 0., 0., 0., 0., 0., 0., 0.],\n",
      "        [0., 0., 0., 0., 0., 0., 0., 0., 0., 0., 0., 0., 0., 0., 0., 0., 0., 0.,\n",
      "         0., 0., 0., 0., 0., 0., 0., 0., 0., 0., 0., 0., 0., 0., 0., 0., 0., 0.,\n",
      "         0., 0., 0., 0., 0., 0., 1., 0., 0., 0., 0., 0., 0., 0., 0., 0., 0., 0.,\n",
      "         0., 0., 0., 0., 0., 0., 0., 0., 0., 0., 0., 0., 0., 0., 0., 0., 0., 0.,\n",
      "         0., 0., 0., 0., 0., 0., 0., 0., 0., 0., 0., 0., 0., 0., 0., 0., 0., 0.,\n",
      "         0., 0., 0., 0., 0., 0., 0., 0., 0., 0.]], device='cuda:0')\n",
      "0.06540969700566004 0.1590081238709383\n"
     ]
    }
   ],
   "source": [
    "from scipy.stats import spearmanr, pearsonr\n",
    "\n",
    "model.reset_hidden_states()\n",
    "test_env = ve.KaggleMABEnvTorchVectorized(n_players=2, decay_rate=0.97, obs_type=ve.LAST_STEP_OBS)\n",
    "with torch.no_grad():\n",
    "    s, _, _, _ = test_env.reset()\n",
    "    # Take n good actions\n",
    "    for i in range(1):\n",
    "        actions = test_env.thresholds.argmax(axis=-1)[:, None]\n",
    "        s, _, _, _ = test_env.step(actions.repeat(1, test_env.n_players))\n",
    "    logits, values = model(s[0,0].to(device=DEVICE)[None, None, :])\n",
    "    logits = logits.cpu().numpy().squeeze()\n",
    "    values = values.cpu().numpy().squeeze()\n",
    "print()\n",
    "print(logits)\n",
    "print(values)\n",
    "print(s[:,0].squeeze().t())\n",
    "print(spearmanr(logits, test_env.thresholds.squeeze().cpu().numpy())[0],\n",
    "      pearsonr(logits, test_env.thresholds.squeeze().cpu().numpy())[0])"
   ]
  },
  {
   "cell_type": "code",
   "execution_count": null,
   "metadata": {},
   "outputs": [],
   "source": [
    "child_layer_idx = -1\n",
    "child_layer = list(model.children())[child_layer_idx]\n",
    "print(child_layer.transform_features.weight.data, child_layer.transform_features.bias.data)\n",
    "print(child_layer.recombine_features.weight.data, child_layer.recombine_features.bias.data)\n",
    "print(model)\n",
    "print(child_layer)"
   ]
  },
  {
   "cell_type": "code",
   "execution_count": null,
   "metadata": {
    "scrolled": false
   },
   "outputs": [],
   "source": [
    "test_env = ve.KaggleMABEnvTorchVectorized(n_envs=3, n_players=2, decay_rate=0.97, env_device=torch.device('cpu'), out_device=DEVICE)\n",
    "test_env.reset()\n",
    "actions = torch.arange(6).view(3,2)\n",
    "test_env.step(actions)\n",
    "test_env.step(actions)\n",
    "actions = torch.arange(1,7).view(3,2)\n",
    "test_env.step(actions)\n",
    "test_env.step(actions)\n",
    "test_env.step(actions)\n",
    "\n",
    "test = test_env.player_n_pulls.unsqueeze(3).expand(-1,-1,-1,2).transpose(1,3)\n",
    "test = torch.cat([\n",
    "    test[:,0,:,:].unsqueeze(1),\n",
    "    test[:,0,:,[1,0]].unsqueeze(1)\n",
    "], dim=1)\n",
    "test[0,0]\n",
    "test_env.player_rewards_sums"
   ]
  },
  {
   "cell_type": "code",
   "execution_count": null,
   "metadata": {},
   "outputs": [],
   "source": [
    "# Simulated env rollouts with random policy\n",
    "test_env = ve.KaggleMABEnvTorchVectorized(n_envs=1000, n_players=2, decay_rate=0.97, env_device=torch.device('cuda'), out_device=torch.device('cuda'))\n",
    "\n",
    "for i in tqdm.trange(test_env.n_steps):\n",
    "    actions = torch.randint(test_env.n_bandits, size=(test_env.n_envs, test_env.n_players))\n",
    "    test_env.step(actions)\n",
    "print(f'Mean of player rewards: {test_env.player_rewards_sums.sum(axis=-1).mean():.2f}, Standard deviation of player rewards: {test_env.player_rewards_sums.sum(axis=-1).std():.2f}')"
   ]
  },
  {
   "cell_type": "code",
   "execution_count": null,
   "metadata": {},
   "outputs": [],
   "source": [
    "# Simulated env rollouts with omniscient optimal policy\n",
    "test_env = ve.KaggleMABEnvTorchVectorized(n_envs=1000, n_players=2, decay_rate=0.97, env_device=torch.device('cuda'), out_device=torch.device('cpu'))\n",
    "\n",
    "for i in tqdm.trange(test_env.n_steps):\n",
    "    actions = test_env.thresholds.argmax(axis=-1)[:, None]\n",
    "    test_env.step(actions.repeat(1, test_env.n_players))\n",
    "print(f'Mean of player rewards: {test_env.player_rewards_sums.sum(axis=-1).mean():.2f}, Standard deviation of player rewards: {test_env.player_rewards_sums.sum(axis=-1).std():.2f}')"
   ]
  },
  {
   "cell_type": "code",
   "execution_count": null,
   "metadata": {},
   "outputs": [],
   "source": []
  },
  {
   "cell_type": "code",
   "execution_count": null,
   "metadata": {},
   "outputs": [],
   "source": [
    "n_nodes = 10\n",
    "activation_func = nn.ReLU()\n",
    "layer_size = 64\n",
    "layers = (\n",
    "    [FullyConnectedGNNLayer(n_nodes, 1, layer_size, activation_func=activation_func)] +\n",
    "    [FullyConnectedGNNLayer(n_nodes, layer_size, layer_size, activation_func=activation_func)] * 0 +\n",
    "    [FullyConnectedGNNLayer(n_nodes, layer_size, 1, activation_func=activation_func)]\n",
    ")\n",
    "model = nn.Sequential(\n",
    "    *layers\n",
    ")\n",
    "#model = FullyConnectedGNNLayer(n_nodes, 1, 1, activation_func=nn.Identity())\n",
    "model.train()\n",
    "model.to('cuda')\n",
    "loss_func = nn.CrossEntropyLoss()\n",
    "optimizer = torch.optim.SGD(model.parameters(), lr=0.0002)\n",
    "#optimizer = torch.optim.Adam(model.parameters(), lr=0.0001)\n",
    "\n",
    "for i in tqdm.trange(10):\n",
    "    train_batch_in = torch.rand((250, n_nodes, 1), dtype=torch.float).to('cuda')\n",
    "    k = 2\n",
    "    labels = torch.topk(train_batch_in, k=k, dim=1).indices[:,k-1]\n",
    "    \n",
    "    optimizer.zero_grad()\n",
    "    outputs = model(train_batch_in)\n",
    "    loss = loss_func(outputs, labels)\n",
    "    loss.backward()\n",
    "    optimizer.step()\n",
    "    \n",
    "    accuracy = (F.softmax(outputs, dim=1).argmax(dim=1) == labels).float().mean()\n",
    "print(f'Loss: {loss:.2f}, Accuracy: {accuracy:.3f}')\n",
    "\n",
    "test_batch_in = torch.rand((1, n_nodes, 1), dtype=torch.float).to('cuda')\n",
    "print(test_batch_in)\n",
    "print(F.softmax(model(test_batch_in), dim=1))\n",
    "print(torch.topk(test_batch_in, k=k, dim=1).indices[:,k-1])\n",
    "print(F.softmax(model(test_batch_in), dim=1).argmax(dim=1))"
   ]
  },
  {
   "cell_type": "code",
   "execution_count": null,
   "metadata": {},
   "outputs": [],
   "source": [
    "for i in tqdm.trange(1000):\n",
    "    train_batch_in = torch.rand((250, n_nodes, 1), dtype=torch.float).to('cuda')\n",
    "    k = 2\n",
    "    labels = torch.topk(train_batch_in, k=k, dim=1).indices[:,k-1]\n",
    "    \n",
    "    optimizer.zero_grad()\n",
    "    outputs = model(train_batch_in)\n",
    "    loss = loss_func(outputs, labels)\n",
    "    loss.backward()\n",
    "    optimizer.step()\n",
    "    \n",
    "    accuracy = (F.softmax(outputs, dim=1).argmax(dim=1) == labels).float().mean()\n",
    "print(f'Loss: {loss:.2f}, Accuracy: {accuracy:.3f}')"
   ]
  },
  {
   "cell_type": "code",
   "execution_count": null,
   "metadata": {},
   "outputs": [],
   "source": [
    "model = FullyConnectedGNNLayer(5, 1, 1, activation_func=nn.Identity())\n",
    "model.train()\n",
    "model.to('cuda')\n",
    "loss_func = nn.MSELoss()\n",
    "optimizer = torch.optim.SGD(model.parameters(), lr=0.01, momentum=0.)\n",
    "\n",
    "for i in tqdm.trange(10000):\n",
    "    train_batch_in = torch.rand((1024, 5, 1), dtype=torch.float).to('cuda')\n",
    "    train_batch_out = train_batch_in + train_batch_in.sum(dim=1, keepdims=True)\n",
    "    \n",
    "    optimizer.zero_grad()\n",
    "    outputs = model(train_batch_in)\n",
    "    loss = loss_func(outputs, train_batch_out)\n",
    "    loss.backward()\n",
    "    optimizer.step()\n",
    "loss"
   ]
  },
  {
   "cell_type": "code",
   "execution_count": null,
   "metadata": {},
   "outputs": [],
   "source": [
    "train_batch_in = torch.rand((2, 5, 1), dtype=torch.float).to('cuda')\n",
    "print(train_batch_in)\n",
    "print(train_batch_in + train_batch_in.sum(dim=1, keepdims=True))\n",
    "print(model(train_batch_in))"
   ]
  },
  {
   "cell_type": "markdown",
   "metadata": {},
   "source": [
    "## Deprecated"
   ]
  },
  {
   "cell_type": "code",
   "execution_count": null,
   "metadata": {},
   "outputs": [],
   "source": [
    "# Loosely based on: https://github.com/MorvanZhou/pytorch-A3C\n",
    "def a3c_vectorized_env(env, model, optimizer, n_episodes, batch_size,\n",
    "                       gamma=0.9):\n",
    "    model.to(device=DEVICE)\n",
    "    model.train()\n",
    "    episode_reward_sums = []\n",
    "    \n",
    "    for episode in tqdm.trange(n_episodes):\n",
    "        buffer_s, buffer_a, buffer_r = [], [], []\n",
    "        s, r, _, _ = env.reset()\n",
    "        episode_reward_sums.append(r)\n",
    "        step_count = 1\n",
    "        while not env.done:\n",
    "            # Batch size of 1 for inference\n",
    "            a = model.sample_action(s.to(device=DEVICE).unsqueeze(0)).squeeze(0)\n",
    "            next_s, r, done, _ = env.step(a)\n",
    "            \n",
    "            #print(s.shape, a.shape, r.shape)\n",
    "            buffer_s.append(s)\n",
    "            buffer_a.append(a)\n",
    "            buffer_r.append(r)\n",
    "            \n",
    "            if step_count % batch_size == 0 or done:\n",
    "                if done:\n",
    "                    v_next_s = torch.zeros_like(buffer_r[-1])\n",
    "                else:\n",
    "                    _, v_next_s = model(next_s.to(device=DEVICE).unsqueeze(0))\n",
    "                    v_next_s = v_next_s.detach().squeeze(0)\n",
    "                v_next_s.to(device=DEVICE)\n",
    "                \n",
    "                buffer_v_target = []\n",
    "                for r in buffer_r[::-1]:\n",
    "                    v_next_s = r + gamma * v_next_s\n",
    "                    buffer_v_target.append(v_next_s)\n",
    "                buffer_v_target.reverse()\n",
    "                \n",
    "                loss = model.loss_func(\n",
    "                    torch.stack(buffer_s).to(device=DEVICE),\n",
    "                    torch.stack(buffer_a).to(device=DEVICE),\n",
    "                    torch.stack(buffer_v_target).to(device=DEVICE)\n",
    "                )\n",
    "                optimizer.zero_grad()\n",
    "                loss.backward()\n",
    "                optimizer.step()\n",
    "                buffer_s, buffer_a, buffer_r = [], [], []\n",
    "            s = next_s\n",
    "            episode_reward_sums[-1] += r\n",
    "            step_count += 1\n",
    "        episode_reward_sums[-1] = episode_reward_sums[-1].mean()\n",
    "    return episode_reward_sums"
   ]
  },
  {
   "cell_type": "code",
   "execution_count": null,
   "metadata": {},
   "outputs": [],
   "source": [
    "class Kaggle_MAB_Env_Numpy_Vectorized():\n",
    "    def __init__(self,\n",
    "                 # Kaggle MAB env params\n",
    "                 n_bandits=100, n_steps=1999, decay_rate=0.97, sample_resolution=100,\n",
    "                 # Custom params\n",
    "                 n_envs=1, n_players=2, reward_type=EVERY_STEP, remove_extra_dims=False):\n",
    "        # Assert parameter conditions\n",
    "        assert 0 <= decay_rate <= 1.\n",
    "        assert reward_type in (END_OF_GAME, EVERY_STEP)\n",
    "        if reward_type == END_OF_GAME:\n",
    "            assert n_players >= 2\n",
    "        else:\n",
    "            assert n_players >= 1\n",
    "        self.n_bandits = n_bandits\n",
    "        self.n_steps = n_steps\n",
    "        self.decay_rate = decay_rate\n",
    "        self.sample_resolution = sample_resolution\n",
    "        \n",
    "        self.n_envs = n_envs\n",
    "        self.n_players = n_players\n",
    "        self.reward_type = reward_type\n",
    "        self.remove_extra_dims = remove_extra_dims\n",
    "        \n",
    "        self.timestep = None\n",
    "        self.orig_thresholds = None\n",
    "        self.player_n_pulls = None\n",
    "        self.player_rewards_sums = None\n",
    "        self.reset()\n",
    "    \n",
    "    @property\n",
    "    def thresholds(self):\n",
    "        return self.orig_thresholds * (self.decay_rate ** self.player_n_pulls[:,0,:])\n",
    "    \n",
    "    def reset(self):\n",
    "        self.timestep = 0\n",
    "        self.orig_thresholds = np.random.randint(self.sample_resolution + 1, size=(self.n_envs, self.n_bandits)).astype(np.float32)\n",
    "        self.player_n_pulls = np.zeros((self.n_envs, self.n_players, self.n_bandits))\n",
    "        self.player_rewards_sums = np.zeros_like(self.player_n_pulls)\n",
    "        \n",
    "        rewards = np.zeros((self.n_envs, self.n_players))\n",
    "        if self.remove_extra_dims:\n",
    "            return self.get_obs().squeeze(), rewards.squeeze(), self.done, dict(thresholds=self.thresholds.squeeze())\n",
    "        else:\n",
    "            return self.get_obs(), rewards, self.done, dict(thresholds=self.thresholds)\n",
    "        \n",
    "    def step(self, actions):\n",
    "        if self.remove_extra_dims:\n",
    "            if type(actions) == int:\n",
    "                actions = np.array([[actions]])\n",
    "            else:\n",
    "                actions = actions.reshape((self.n_envs, self.n_players))\n",
    "        assert actions.shape == (self.n_envs, self.n_players), f'actions.shape was: {actions.shape}'\n",
    "        assert not self.done\n",
    "        self.timestep += 1\n",
    "        \n",
    "        # Compute agent rewards\n",
    "        selected_thresholds = np.take_along_axis(self.thresholds, actions, axis=1)\n",
    "        pull_rewards = np.random.randint(self.sample_resolution, size=selected_thresholds.shape) < selected_thresholds\n",
    "        #pull_rewards = selected_thresholds / float(self.sample_resolution)\n",
    "        \n",
    "        # Update player_n_pulls and player_rewards_sums\n",
    "        for env_idx, env_actions in enumerate(actions):\n",
    "            for player_idx, pull_idx in enumerate(env_actions):\n",
    "                self.player_n_pulls[env_idx, :, pull_idx] += 1\n",
    "                self.player_rewards_sums[env_idx, player_idx, pull_idx] += pull_rewards[env_idx, player_idx]\n",
    "        \n",
    "        # Return (obs, reward, done) tuple\n",
    "        if self.reward_type == END_OF_GAME:\n",
    "            rewards = np.zeros_like(actions)\n",
    "            if self.timestep == self.n_steps:\n",
    "                rewards_sums = self.player_rewards_sums.sum(axis=2)\n",
    "                winners = rewards_sums.argmax(axis=1)\n",
    "                rewards[winners] = 1\n",
    "        elif self.reward_type == EVERY_STEP:\n",
    "            rewards = pull_rewards\n",
    "        \n",
    "        # State, reward, done, info_dict\n",
    "        if self.remove_extra_dims:\n",
    "            return self.get_obs().squeeze(), rewards.squeeze(), self.done, dict(thresholds=self.thresholds.squeeze())\n",
    "        else:\n",
    "            return self.get_obs(), rewards, self.done, dict(thresholds=self.thresholds)\n",
    "    \n",
    "    def get_obs(self):\n",
    "        # TODO: Clearly do not return thresholds or orig_thresholds\n",
    "        return np.stack([\n",
    "            #np.broadcast_to(self.orig_thresholds[:, None, :] / self.sample_resolution, self.player_n_pulls.shape),\n",
    "            self.player_n_pulls,\n",
    "            self.player_rewards_sums\n",
    "        ], axis=-1).astype(np.float32)\n",
    "    \n",
    "    @property\n",
    "    def done(self):\n",
    "        return self.timestep >= self.n_steps"
   ]
  },
  {
   "cell_type": "code",
   "execution_count": 5,
   "metadata": {},
   "outputs": [],
   "source": [
    "class FeedForwardNN_A3C(nn.Module):\n",
    "    def __init__(self, in_features, n_bandits, activation_func=nn.ReLU()):\n",
    "        super().__init__()\n",
    "        self.in_features = in_features\n",
    "        self.activation_func = activation_func\n",
    "        layer_size = 128\n",
    "        self.base = nn.Sequential(\n",
    "            nn.Linear(self.in_features, layer_size),\n",
    "            activation_func,\n",
    "            nn.Linear(layer_size, layer_size),\n",
    "            activation_func,\n",
    "        )\n",
    "        self.actor = nn.Linear(layer_size, n_bandits)\n",
    "        self.critic = nn.Linear(layer_size, 1)\n",
    "        \n",
    "    def forward(self, states):\n",
    "        in_shape = states.shape\n",
    "        base_out = self.base(states.view(-1, self.in_features))\n",
    "        return self.activation_func(self.actor(base_out)).view(in_shape[:-1]), self.critic(base_out).view(in_shape[:-2])\n",
    "    \n",
    "    def sample_action(self, states):\n",
    "        with torch.no_grad():\n",
    "            logits, _ = self.forward(states)\n",
    "            probs = F.softmax(logits, dim=-1)\n",
    "            batch_size, n_envs, n_players, n_bandits = probs.shape\n",
    "            m = distributions.Categorical(probs.view(batch_size * n_envs * n_players, n_bandits))\n",
    "            return m.sample().view(batch_size, n_envs, n_players)\n",
    "    \n",
    "    def choose_best_action(self, states):\n",
    "        with torch.no_grad():\n",
    "            logits, _ = self.forward(states)\n",
    "            return logits.argmax(dim=-1)\n",
    "        \n",
    "    def loss_func(self, states, actions, v_t):\n",
    "        #print(f'states.shape: {states.shape}, actions.shape: {actions.shape}, v_t.shape: {v_t.shape}')\n",
    "        logits, values = self.forward(states)\n",
    "        \n",
    "        #print(f'logits.shape: {logits.shape}, values.shape: {values.shape}')\n",
    "        td = v_t - values\n",
    "        critic_loss = td.pow(2).view(-1)\n",
    "        \n",
    "        probs = F.softmax(logits, dim=-1)\n",
    "        batch_size, n_envs, n_players, n_bandits = probs.shape\n",
    "        m = distributions.Categorical(probs.view(batch_size * n_envs * n_players, n_bandits))\n",
    "        #print(f'm.log_prob(actions.view(batch_size * n_envs * n_players)).shape: {m.log_prob(actions.view(batch_size * n_envs * n_players)).shape}, td.shape: {td.shape}')\n",
    "        actor_loss = -(m.log_prob(actions.view(-1)) * td.detach().view(-1))\n",
    "        total_loss = (critic_loss + actor_loss).mean()\n",
    "        return total_loss"
   ]
  }
 ],
 "metadata": {
  "kernelspec": {
   "display_name": "Python 3",
   "language": "python",
   "name": "python3"
  },
  "language_info": {
   "codemirror_mode": {
    "name": "ipython",
    "version": 3
   },
   "file_extension": ".py",
   "mimetype": "text/x-python",
   "name": "python",
   "nbconvert_exporter": "python",
   "pygments_lexer": "ipython3",
   "version": "3.7.7"
  }
 },
 "nbformat": 4,
 "nbformat_minor": 4
}
