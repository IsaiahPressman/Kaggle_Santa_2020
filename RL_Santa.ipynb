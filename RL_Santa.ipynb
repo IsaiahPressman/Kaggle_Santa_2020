{
 "cells": [
  {
   "cell_type": "code",
   "execution_count": 1,
   "metadata": {},
   "outputs": [],
   "source": [
    "import base64\n",
    "from jupyterthemes import jtplot\n",
    "import matplotlib.pyplot as plt\n",
    "import numpy as np\n",
    "import pandas as pd\n",
    "from pathlib import Path\n",
    "import pickle\n",
    "import seaborn as sns\n",
    "import shutil\n",
    "import torch\n",
    "from torch import distributions, nn\n",
    "import torch.nn.functional as F\n",
    "import time\n",
    "import tqdm\n",
    "\n",
    "# Custom imports\n",
    "from graph_nns import GraphNN_A3C\n",
    "import vectorized_env\n",
    "from vectorized_env import KaggleMABEnvTorchVectorized\n",
    "import vectorized_agents as va\n",
    "\n",
    "%matplotlib inline\n",
    "jtplot.style()\n",
    "\n",
    "DEVICE = torch.device('cuda')\n",
    "OBS_NORM = 100. / 1999."
   ]
  },
  {
   "cell_type": "markdown",
   "metadata": {},
   "source": [
    "## A3C RL algorithm"
   ]
  },
  {
   "cell_type": "code",
   "execution_count": 2,
   "metadata": {},
   "outputs": [],
   "source": [
    "def wrap_model(model):\n",
    "    def model_wrapped(states):\n",
    "        return model.sample_action(states.unsqueeze(0)).squeeze(0)\n",
    "    return model_wrapped\n",
    "\n",
    "\n",
    "class A3CVectorized():\n",
    "    def __init__(self, model_constructor, optimizer, model=None, device=torch.device('cuda'), exp_folder=Path('/home/isaiah/GitHub/Kaggle/Santa_2020/runs/TEMP'),\n",
    "                 play_against_past_selves=True, n_past_selves=8, checkpoint_freq=10, initial_opponent_pool=[], opp_posterior_decay=0.95):\n",
    "        self.model_constructor = model_constructor\n",
    "        self.optimizer = optimizer\n",
    "        if model is None:\n",
    "            self.model = self.model_constructor()\n",
    "        else:\n",
    "            self.model = model\n",
    "        self.device = device\n",
    "        self.exp_folder = exp_folder\n",
    "        if self.exp_folder.name == 'TEMP':\n",
    "            print('WARNING: Using TEMP exp_folder')\n",
    "            shutil.rmtree(self.exp_folder)\n",
    "        elif self.exp_folder.exists():\n",
    "            raise RuntimeError(f'Experiment folder {self.exp_folder} already exists')\n",
    "        else:\n",
    "            print(f'Saving results to {self.exp_folder}')\n",
    "        self.exp_folder.mkdir(exist_ok=True)\n",
    "        self.play_against_past_selves = play_against_past_selves\n",
    "        self.n_past_selves = n_past_selves\n",
    "        self.checkpoint_freq = checkpoint_freq\n",
    "        self.initial_opponent_pool = initial_opponent_pool\n",
    "        self.opp_posterior_decay = opp_posterior_decay\n",
    "        \n",
    "        self.env = None\n",
    "        self.opp_a = np.ones(len(self.initial_opponent_pool))\n",
    "        self.opp_b = np.ones(len(self.initial_opponent_pool))\n",
    "        self.checkpoints = []\n",
    "        self.true_ep_num = 0\n",
    "        \n",
    "    def train(self, n_episodes, batch_size=30, gamma=0.9, **env_kwargs):\n",
    "        if self.play_against_past_selves and 'opponent' in env_kwargs.keys():\n",
    "            raise RuntimeError('Cannot play against past selves when opponent is defined')\n",
    "        self.env = None\n",
    "        self.model.train()\n",
    "        episode_reward_sums = []\n",
    "        \n",
    "        for ep_num in tqdm.trange(n_episodes):\n",
    "            if self.play_against_past_selves:\n",
    "                opponents, opponent_idxs = self.sample_opponents()\n",
    "                self.env = KaggleMABEnvTorchVectorized(opponent=opponents, **env_kwargs)\n",
    "            else:\n",
    "                self.env = KaggleMABEnvTorchVectorized(**env_kwargs)\n",
    "            buffer_s, buffer_a, buffer_r = [], [], []\n",
    "            s, r, _, _ = self.env.reset()\n",
    "            episode_reward_sums.append(r)\n",
    "            step_count = 1\n",
    "            while not self.env.done:\n",
    "                # Batch size of 1 for inference\n",
    "                a = self.model.sample_action(s.to(device=self.device).unsqueeze(0)).squeeze(0)\n",
    "                next_s, r, done, _ = self.env.step(a)\n",
    "\n",
    "                buffer_s.append(s)\n",
    "                buffer_a.append(a)\n",
    "                buffer_r.append(r)\n",
    "\n",
    "                if step_count % batch_size == 0 or done:\n",
    "                    if done:\n",
    "                        v_next_s = torch.zeros_like(buffer_r[-1])\n",
    "                    else:\n",
    "                        _, v_next_s = self.model(next_s.to(device=self.device).unsqueeze(0))\n",
    "                        v_next_s = v_next_s.detach().squeeze(0)\n",
    "                    v_next_s.to(device=self.device)\n",
    "\n",
    "                    buffer_v_target = []\n",
    "                    for r in buffer_r[::-1]:\n",
    "                        v_next_s = r + gamma * v_next_s\n",
    "                        buffer_v_target.append(v_next_s)\n",
    "                    buffer_v_target.reverse()\n",
    "\n",
    "                    loss = self.model.loss_func(\n",
    "                        torch.stack(buffer_s).to(device=self.device),\n",
    "                        torch.stack(buffer_a).to(device=self.device),\n",
    "                        torch.stack(buffer_v_target).to(device=self.device)\n",
    "                    )\n",
    "                    self.optimizer.zero_grad()\n",
    "                    loss.backward()\n",
    "                    self.optimizer.step()\n",
    "                    buffer_s, buffer_a, buffer_r = [], [], []\n",
    "                s = next_s\n",
    "                episode_reward_sums[-1] += r\n",
    "                step_count += 1\n",
    "            if self.play_against_past_selves:\n",
    "                if opponent_idxs is not None:\n",
    "                    self.update_opponent_scores(opponent_idxs, self.env.player_rewards_sums.cpu())\n",
    "                if ep_num % self.checkpoint_freq == 0:\n",
    "                    self.checkpoint()\n",
    "            if ep_num % self.checkpoint_freq == 0:\n",
    "                self.save()\n",
    "            episode_reward_sums[-1] = episode_reward_sums[-1].mean() / self.env.r_norm\n",
    "            self.true_ep_num += 1\n",
    "        self.save(finished=True)\n",
    "        return episode_reward_sums\n",
    "    \n",
    "    def sample_opponents(self):\n",
    "        if len(self.initial_opponent_pool) + len(self.checkpoints) == 0:\n",
    "            print('No opponents sampled')\n",
    "            return None, None\n",
    "        else:\n",
    "            opponents = []\n",
    "            opponent_idxs = []\n",
    "            for i in range(self.n_past_selves):\n",
    "                # Sample opponents randomly if the agent is losing > 2/3 of it's games, otherwise use thompson sampling\n",
    "                if self.env is None or np.sum(self.opp_b - 1) <= self.env.n_envs / 3.:\n",
    "                    selected_opp_idx = np.random.randint(len(self.opp_a))\n",
    "                else:\n",
    "                    selected_opp_idx = np.random.beta(self.opp_a, self.opp_b).argmax()\n",
    "                opponent_idxs.append(selected_opp_idx)\n",
    "                opponents.append(self.get_opponent(selected_opp_idx))\n",
    "                if selected_opp_idx < len(self.initial_opponent_pool):\n",
    "                    try:\n",
    "                        print(f'Opponent {i}: {opponents[-1].name} with alpha {self.opp_a[selected_opp_idx]:.2f} and beta {self.opp_b[selected_opp_idx]:.2f}')\n",
    "                    except AttributeError:\n",
    "                        print(f'Opponent {i}: {opponents[-1]} with alpha {self.opp_a[selected_opp_idx]:.2f} and beta {self.opp_b[selected_opp_idx]:.2f}')\n",
    "                else:\n",
    "                    print(f'Opponent {i}: Checkpoint #{selected_opp_idx - len(self.initial_opponent_pool)} with alpha {self.opp_a[selected_opp_idx]:.2f} and beta {self.opp_b[selected_opp_idx]:.2f}')\n",
    "            print()\n",
    "            return va.MultiAgent(opponents), opponent_idxs\n",
    "\n",
    "    def update_opponent_scores(self, curr_opp_idxs, player_rewards_sums):\n",
    "        # player_rewards_sums.shape is (n_envs, n_players, n_bandits)\n",
    "        # Decay posteriors\n",
    "        self.opp_a = np.maximum(self.opp_a * self.opp_posterior_decay, 1.)\n",
    "        self.opp_b = np.maximum(self.opp_b * self.opp_posterior_decay, 1.)\n",
    "        \n",
    "        # Update posteriors with new w/l stats\n",
    "        global game_scores, rewards_sums\n",
    "        rewards_sums = player_rewards_sums.sum(dim=2)\n",
    "        game_scores = torch.zeros(rewards_sums.shape)\n",
    "        winners_idxs = rewards_sums.argmax(dim=1)\n",
    "        draws_mask = rewards_sums[:,0] == rewards_sums[:,1]\n",
    "        game_scores[torch.arange(game_scores.shape[0]), winners_idxs] = 1.\n",
    "        game_scores[draws_mask] = 0.5\n",
    "        game_scores = [gs.numpy() for gs in game_scores.chunk(self.n_past_selves)]\n",
    "        for match_idx, opp_idx in enumerate(curr_opp_idxs):\n",
    "            self.opp_a[opp_idx] += game_scores[match_idx][:,1].sum()\n",
    "            self.opp_b[opp_idx] += game_scores[match_idx][:,0].sum()\n",
    "            \n",
    "    def checkpoint(self):\n",
    "        self.model.cpu()\n",
    "        self.checkpoints.append(self.model.state_dict())\n",
    "        self.opp_a = np.append(self.opp_a, 1.)\n",
    "        self.opp_b = np.append(self.opp_b, 1.)\n",
    "        self.model.to(device=self.device)\n",
    "    \n",
    "    def save(self, finished=False):\n",
    "        if finished:\n",
    "            file_path_base = self.exp_folder / 'final'\n",
    "        else:\n",
    "            file_path_base = self.exp_folder / str(self.true_ep_num)\n",
    "        # Save model params\n",
    "        self.model.cpu()\n",
    "        state_dict_bytes = pickle.dumps({\n",
    "            'model_state_dict': self.model.state_dict(),\n",
    "        })\n",
    "        serialized_string = base64.b64encode(state_dict_bytes)\n",
    "        with open(f'{file_path_base}_cp.txt', 'w') as f:\n",
    "            f.write(str(serialized_string))\n",
    "        self.model.to(device=self.device)\n",
    "        # Save skill estimates\n",
    "        if self.play_against_past_selves:\n",
    "            checkpoint_idxs = np.arange(len(a3c_alg.opp_a)) - len(a3c_alg.initial_opponent_pool)\n",
    "            checkpoint_idxs = np.where(\n",
    "                checkpoint_idxs < 0,\n",
    "                np.nan,\n",
    "                checkpoint_idxs\n",
    "            )\n",
    "            df = pd.DataFrame({\n",
    "                'opp_a': a3c_alg.opp_a,\n",
    "                'opp_b': a3c_alg.opp_b,\n",
    "                'est_opp_skill': a3c_alg.opp_a / (a3c_alg.opp_a + a3c_alg.opp_b),\n",
    "                'checkpoint_idxs': checkpoint_idxs\n",
    "            })\n",
    "            df.to_csv(f'{file_path_base}_skill_estimates.csv')\n",
    "    \n",
    "    def get_opponent(self, idx):\n",
    "        if idx < 0:\n",
    "            raise IndexError(f'Negative indexing is not supported')\n",
    "        elif idx < len(self.initial_opponent_pool):\n",
    "            return self.initial_opponent_pool[idx]\n",
    "        elif idx < len(self.initial_opponent_pool) + len(self.checkpoints):\n",
    "            checkpoint_idx = idx - len(self.initial_opponent_pool)\n",
    "            checkpoint_opp = self.model_constructor()\n",
    "            checkpoint_opp.load_state_dict(self.checkpoints[checkpoint_idx])\n",
    "            checkpoint_opp.to(device=self.device)\n",
    "            checkpoint_opp.eval()\n",
    "            return checkpoint_opp\n",
    "        else:\n",
    "            raise IndexError(f'Index {idx} is out of bounds')"
   ]
  },
  {
   "cell_type": "markdown",
   "metadata": {},
   "source": [
    "## Optional: load a saved model state_dict from a serialized string file"
   ]
  },
  {
   "cell_type": "code",
   "execution_count": 7,
   "metadata": {},
   "outputs": [],
   "source": [
    "#with open('rl_agents/ss_temp.txt', 'r') as f:\n",
    "with open('rl_agents/ss_a3c_agent_v3.txt', 'r') as f:\n",
    "    serialized_string = f.readline()[2:-1].encode()\n",
    "state_dict_bytes = base64.b64decode(serialized_string)\n",
    "loaded_state_dicts = pickle.loads(state_dict_bytes)"
   ]
  },
  {
   "cell_type": "markdown",
   "metadata": {},
   "source": [
    "## RL training\n",
    "#### TODO:\n",
    "Implement \"fictitious self-play\" to improve trained model robustness. On a related note, maybe compare trained agents against many/all agents from this notebook: https://www.kaggle.com/jamesmcguigan/santa-2020-agents-comparison\n",
    "\n",
    "Implement new RL algorithm - AWAC, and use top team's logs as training data. See: https://www.kaggle.com/masatomatsui/santa-episode-scraper\n",
    "\n",
    "Eventually, experiment with reward_type = END_OF_GAME"
   ]
  },
  {
   "cell_type": "code",
   "execution_count": 5,
   "metadata": {},
   "outputs": [
    {
     "name": "stdout",
     "output_type": "stream",
     "text": [
      "WARNING: Using TEMP exp_folder\n"
     ]
    }
   ],
   "source": [
    "graph_nn_kwargs = dict(\n",
    "    in_features=3,\n",
    "    n_nodes=100,\n",
    "    n_hidden_layers=1,\n",
    "    layer_sizes=16,\n",
    "    skip_connection_n=1\n",
    ")\n",
    "model = GraphNN_A3C(**graph_nn_kwargs)\n",
    "try:\n",
    "    sd = loaded_state_dicts['model_state_dict']\n",
    "    model.load_state_dict(sd)\n",
    "    print('Successfully loaded saved model')\n",
    "    del loaded_state_dicts\n",
    "except NameError:\n",
    "    pass\n",
    "model.to(device=DEVICE)\n",
    "optimizer = torch.optim.Adam(model.parameters())\n",
    "\n",
    "env_kwargs = dict(\n",
    "    n_envs=512,\n",
    "    out_device=DEVICE,\n",
    "    reward_type=vectorized_env.EVERY_STEP_EV\n",
    ")\n",
    "rl_alg_kwargs = dict(\n",
    "    batch_size=30,\n",
    "    gamma=0.99\n",
    ")\n",
    "\n",
    "# Used for va.run_vectorized_vs\n",
    "def model_wrapped(states):\n",
    "    return model.sample_action(states.unsqueeze(0)).squeeze(0)\n",
    "\n",
    "def model_constructor():\n",
    "    return GraphNN_A3C(**graph_nn_kwargs)\n",
    "\n",
    "# initial_opponent_pool = []\n",
    "initial_opponent_pool = [\n",
    "    va.BasicThompsonSampling(OBS_NORM),\n",
    "    va.PullVegasSlotMachines(OBS_NORM),\n",
    "    va.SavedRLAgent('a3c_agent_v0'),\n",
    "    va.SavedRLAgent('a3c_agent_v1'),\n",
    "    va.SavedRLAgent('a3c_agent_v2'),\n",
    "    #va.SavedRLAgent('a3c_agent_v3'),\n",
    "]\n",
    "\n",
    "a3c_alg = A3CVectorized(model_constructor, optimizer, model=model, device=DEVICE,\n",
    "                        play_against_past_selves=True,\n",
    "                        n_past_selves=8,\n",
    "                        checkpoint_freq=1,\n",
    "                        initial_opponent_pool=initial_opponent_pool,\n",
    "                        opp_posterior_decay=0.95)"
   ]
  },
  {
   "cell_type": "code",
   "execution_count": 6,
   "metadata": {
    "scrolled": true
   },
   "outputs": [
    {
     "name": "stderr",
     "output_type": "stream",
     "text": [
      "\r",
      "  0%|          | 0/3 [00:00<?, ?it/s]"
     ]
    },
    {
     "name": "stdout",
     "output_type": "stream",
     "text": [
      "Opponent 0: SavedRLAgent: a3c_agent_v2 with alpha 1.00 and beta 1.00\n",
      "Opponent 1: SavedRLAgent: a3c_agent_v2 with alpha 1.00 and beta 1.00\n",
      "Opponent 2: SavedRLAgent: a3c_agent_v0 with alpha 1.00 and beta 1.00\n",
      "Opponent 3: SavedRLAgent: a3c_agent_v1 with alpha 1.00 and beta 1.00\n",
      "Opponent 4: PullVegasSlotMachines with alpha 1.00 and beta 1.00\n",
      "Opponent 5: PullVegasSlotMachines with alpha 1.00 and beta 1.00\n",
      "Opponent 6: SavedRLAgent: a3c_agent_v2 with alpha 1.00 and beta 1.00\n",
      "Opponent 7: SavedRLAgent: a3c_agent_v2 with alpha 1.00 and beta 1.00\n",
      "\n"
     ]
    },
    {
     "name": "stderr",
     "output_type": "stream",
     "text": [
      "\r",
      " 33%|███▎      | 1/3 [00:09<00:18,  9.06s/it]"
     ]
    },
    {
     "name": "stdout",
     "output_type": "stream",
     "text": [
      "Opponent 0: SavedRLAgent: a3c_agent_v2 with alpha 257.00 and beta 1.00\n",
      "Opponent 1: PullVegasSlotMachines with alpha 129.00 and beta 1.00\n",
      "Opponent 2: Checkpoint #0 with alpha 1.00 and beta 1.00\n",
      "Opponent 3: SavedRLAgent: a3c_agent_v0 with alpha 65.00 and beta 1.00\n",
      "Opponent 4: SavedRLAgent: a3c_agent_v0 with alpha 65.00 and beta 1.00\n",
      "Opponent 5: Checkpoint #0 with alpha 1.00 and beta 1.00\n",
      "Opponent 6: SavedRLAgent: a3c_agent_v0 with alpha 65.00 and beta 1.00\n",
      "Opponent 7: Checkpoint #0 with alpha 1.00 and beta 1.00\n",
      "\n"
     ]
    },
    {
     "name": "stderr",
     "output_type": "stream",
     "text": [
      "\r",
      " 67%|██████▋   | 2/3 [00:18<00:09,  9.03s/it]"
     ]
    },
    {
     "name": "stdout",
     "output_type": "stream",
     "text": [
      "Opponent 0: BasicThompsonSampling with alpha 1.00 and beta 1.00\n",
      "Opponent 1: SavedRLAgent: a3c_agent_v1 with alpha 61.75 and beta 1.00\n",
      "Opponent 2: PullVegasSlotMachines with alpha 186.55 and beta 1.00\n",
      "Opponent 3: PullVegasSlotMachines with alpha 186.55 and beta 1.00\n",
      "Opponent 4: SavedRLAgent: a3c_agent_v2 with alpha 308.15 and beta 1.00\n",
      "Opponent 5: SavedRLAgent: a3c_agent_v1 with alpha 61.75 and beta 1.00\n",
      "Opponent 6: BasicThompsonSampling with alpha 1.00 and beta 1.00\n",
      "Opponent 7: Checkpoint #0 with alpha 192.00 and beta 2.00\n",
      "\n"
     ]
    },
    {
     "name": "stderr",
     "output_type": "stream",
     "text": [
      "100%|██████████| 3/3 [00:24<00:00,  8.09s/it]\n"
     ]
    },
    {
     "data": {
      "image/png": "[encoded data removed]",
      "text/plain": [
       "<Figure size 460.8x403.2 with 1 Axes>"
      ]
     },
     "metadata": {},
     "output_type": "display_data"
    }
   ],
   "source": [
    "env_kwargs['n_envs'] = 512\n",
    "episode_reward_sums = a3c_alg.train(n_episodes=3, **rl_alg_kwargs, **env_kwargs)\n",
    "\n",
    "#episode_reward_sums = a3c_vectorized_env(env, model, optimizer, n_episodes=50, **rl_alg_kwargs)\n",
    "plt.plot(episode_reward_sums)\n",
    "plt.show();\n",
    "#plt.plot(episode_reward_sums);"
   ]
  },
  {
   "cell_type": "code",
   "execution_count": 6,
   "metadata": {
    "scrolled": true
   },
   "outputs": [
    {
     "name": "stderr",
     "output_type": "stream",
     "text": [
      "\r",
      "  0%|          | 0/30 [00:00<?, ?it/s]"
     ]
    },
    {
     "name": "stdout",
     "output_type": "stream",
     "text": [
      "Opponent 0: SavedRLAgent: a3c_agent_v2 with alpha 7224.75 and beta 3474.96\n",
      "Opponent 1: SavedRLAgent: a3c_agent_v2 with alpha 7224.75 and beta 3474.96\n",
      "Opponent 2: SavedRLAgent: a3c_agent_v2 with alpha 7224.75 and beta 3474.96\n",
      "Opponent 3: SavedRLAgent: a3c_agent_v2 with alpha 7224.75 and beta 3474.96\n",
      "Opponent 4: SavedRLAgent: a3c_agent_v2 with alpha 7224.75 and beta 3474.96\n",
      "Opponent 5: SavedRLAgent: a3c_agent_v2 with alpha 7224.75 and beta 3474.96\n",
      "Opponent 6: SavedRLAgent: a3c_agent_v2 with alpha 7224.75 and beta 3474.96\n",
      "Opponent 7: SavedRLAgent: a3c_agent_v2 with alpha 7224.75 and beta 3474.96\n",
      "\n"
     ]
    },
    {
     "name": "stderr",
     "output_type": "stream",
     "text": [
      "\r",
      "  3%|▎         | 1/30 [00:15<07:30, 15.55s/it]"
     ]
    },
    {
     "name": "stdout",
     "output_type": "stream",
     "text": [
      "Opponent 0: SavedRLAgent: a3c_agent_v2 with alpha 7518.51 and beta 3446.21\n",
      "Opponent 1: SavedRLAgent: a3c_agent_v2 with alpha 7518.51 and beta 3446.21\n",
      "Opponent 2: Checkpoint #5 with alpha 1.00 and beta 1.00\n",
      "Opponent 3: Checkpoint #5 with alpha 1.00 and beta 1.00\n",
      "Opponent 4: Checkpoint #5 with alpha 1.00 and beta 1.00\n",
      "Opponent 5: SavedRLAgent: a3c_agent_v2 with alpha 7518.51 and beta 3446.21\n",
      "Opponent 6: SavedRLAgent: a3c_agent_v2 with alpha 7518.51 and beta 3446.21\n",
      "Opponent 7: SavedRLAgent: a3c_agent_v2 with alpha 7518.51 and beta 3446.21\n",
      "\n"
     ]
    },
    {
     "name": "stderr",
     "output_type": "stream",
     "text": [
      "\r",
      "  7%|▋         | 2/30 [00:31<07:17, 15.61s/it]"
     ]
    },
    {
     "name": "stdout",
     "output_type": "stream",
     "text": [
      "Opponent 0: SavedRLAgent: a3c_agent_v2 with alpha 7497.58 and beta 3418.90\n",
      "Opponent 1: SavedRLAgent: a3c_agent_v2 with alpha 7497.58 and beta 3418.90\n",
      "Opponent 2: SavedRLAgent: a3c_agent_v2 with alpha 7497.58 and beta 3418.90\n",
      "Opponent 3: Checkpoint #5 with alpha 207.00 and beta 95.00\n",
      "Opponent 4: Checkpoint #5 with alpha 207.00 and beta 95.00\n",
      "Opponent 5: Checkpoint #5 with alpha 207.00 and beta 95.00\n",
      "Opponent 6: SavedRLAgent: a3c_agent_v2 with alpha 7497.58 and beta 3418.90\n",
      "Opponent 7: Checkpoint #5 with alpha 207.00 and beta 95.00\n",
      "\n"
     ]
    },
    {
     "name": "stderr",
     "output_type": "stream",
     "text": [
      "\r",
      " 10%|█         | 3/30 [00:46<07:00, 15.57s/it]"
     ]
    },
    {
     "name": "stdout",
     "output_type": "stream",
     "text": [
      "Opponent 0: Checkpoint #5 with alpha 499.65 and beta 187.25\n",
      "Opponent 1: Checkpoint #5 with alpha 499.65 and beta 187.25\n",
      "Opponent 2: Checkpoint #5 with alpha 499.65 and beta 187.25\n",
      "Opponent 3: Checkpoint #5 with alpha 499.65 and beta 187.25\n",
      "Opponent 4: Checkpoint #5 with alpha 499.65 and beta 187.25\n",
      "Opponent 5: Checkpoint #5 with alpha 499.65 and beta 187.25\n",
      "Opponent 6: Checkpoint #5 with alpha 499.65 and beta 187.25\n",
      "Opponent 7: Checkpoint #5 with alpha 499.65 and beta 187.25\n",
      "\n"
     ]
    },
    {
     "name": "stderr",
     "output_type": "stream",
     "text": [
      "\r",
      " 13%|█▎        | 4/30 [01:00<06:30, 15.01s/it]"
     ]
    },
    {
     "name": "stdout",
     "output_type": "stream",
     "text": [
      "Opponent 0: SavedRLAgent: a3c_agent_v2 with alpha 7047.29 and beta 3184.83\n",
      "Opponent 1: SavedRLAgent: a3c_agent_v2 with alpha 7047.29 and beta 3184.83\n",
      "Opponent 2: SavedRLAgent: a3c_agent_v2 with alpha 7047.29 and beta 3184.83\n",
      "Opponent 3: SavedRLAgent: a3c_agent_v2 with alpha 7047.29 and beta 3184.83\n",
      "Opponent 4: SavedRLAgent: a3c_agent_v2 with alpha 7047.29 and beta 3184.83\n",
      "Opponent 5: SavedRLAgent: a3c_agent_v2 with alpha 7047.29 and beta 3184.83\n",
      "Opponent 6: SavedRLAgent: a3c_agent_v2 with alpha 7047.29 and beta 3184.83\n",
      "Opponent 7: SavedRLAgent: a3c_agent_v2 with alpha 7047.29 and beta 3184.83\n",
      "\n"
     ]
    },
    {
     "name": "stderr",
     "output_type": "stream",
     "text": [
      "\r",
      " 17%|█▋        | 5/30 [01:16<06:21, 15.26s/it]"
     ]
    },
    {
     "name": "stdout",
     "output_type": "stream",
     "text": [
      "Opponent 0: SavedRLAgent: a3c_agent_v2 with alpha 7169.93 and beta 3350.59\n",
      "Opponent 1: SavedRLAgent: a3c_agent_v2 with alpha 7169.93 and beta 3350.59\n",
      "Opponent 2: SavedRLAgent: a3c_agent_v2 with alpha 7169.93 and beta 3350.59\n",
      "Opponent 3: SavedRLAgent: a3c_agent_v2 with alpha 7169.93 and beta 3350.59\n",
      "Opponent 4: SavedRLAgent: a3c_agent_v2 with alpha 7169.93 and beta 3350.59\n",
      "Opponent 5: SavedRLAgent: a3c_agent_v2 with alpha 7169.93 and beta 3350.59\n",
      "Opponent 6: SavedRLAgent: a3c_agent_v2 with alpha 7169.93 and beta 3350.59\n",
      "Opponent 7: SavedRLAgent: a3c_agent_v2 with alpha 7169.93 and beta 3350.59\n",
      "\n"
     ]
    },
    {
     "name": "stderr",
     "output_type": "stream",
     "text": [
      "\r",
      " 20%|██        | 6/30 [01:32<06:11, 15.50s/it]"
     ]
    },
    {
     "name": "stdout",
     "output_type": "stream",
     "text": [
      "Opponent 0: SavedRLAgent: a3c_agent_v2 with alpha 7390.93 and beta 3403.56\n",
      "Opponent 1: SavedRLAgent: a3c_agent_v2 with alpha 7390.93 and beta 3403.56\n",
      "Opponent 2: SavedRLAgent: a3c_agent_v2 with alpha 7390.93 and beta 3403.56\n",
      "Opponent 3: SavedRLAgent: a3c_agent_v2 with alpha 7390.93 and beta 3403.56\n",
      "Opponent 4: SavedRLAgent: a3c_agent_v2 with alpha 7390.93 and beta 3403.56\n",
      "Opponent 5: SavedRLAgent: a3c_agent_v2 with alpha 7390.93 and beta 3403.56\n",
      "Opponent 6: SavedRLAgent: a3c_agent_v2 with alpha 7390.93 and beta 3403.56\n",
      "Opponent 7: SavedRLAgent: a3c_agent_v2 with alpha 7390.93 and beta 3403.56\n",
      "\n"
     ]
    },
    {
     "name": "stderr",
     "output_type": "stream",
     "text": [
      "\r",
      " 23%|██▎       | 7/30 [01:48<06:03, 15.82s/it]"
     ]
    },
    {
     "name": "stdout",
     "output_type": "stream",
     "text": [
      "Opponent 0: SavedRLAgent: a3c_agent_v2 with alpha 7625.39 and beta 3429.38\n",
      "Opponent 1: SavedRLAgent: a3c_agent_v2 with alpha 7625.39 and beta 3429.38\n",
      "Opponent 2: SavedRLAgent: a3c_agent_v2 with alpha 7625.39 and beta 3429.38\n",
      "Opponent 3: SavedRLAgent: a3c_agent_v2 with alpha 7625.39 and beta 3429.38\n",
      "Opponent 4: SavedRLAgent: a3c_agent_v2 with alpha 7625.39 and beta 3429.38\n",
      "Opponent 5: SavedRLAgent: a3c_agent_v2 with alpha 7625.39 and beta 3429.38\n",
      "Opponent 6: SavedRLAgent: a3c_agent_v2 with alpha 7625.39 and beta 3429.38\n",
      "Opponent 7: SavedRLAgent: a3c_agent_v2 with alpha 7625.39 and beta 3429.38\n",
      "\n"
     ]
    },
    {
     "name": "stderr",
     "output_type": "stream",
     "text": [
      "\r",
      " 27%|██▋       | 8/30 [02:04<05:48, 15.85s/it]"
     ]
    },
    {
     "name": "stdout",
     "output_type": "stream",
     "text": [
      "Opponent 0: SavedRLAgent: a3c_agent_v2 with alpha 7894.12 and beta 3407.91\n",
      "Opponent 1: SavedRLAgent: a3c_agent_v2 with alpha 7894.12 and beta 3407.91\n",
      "Opponent 2: SavedRLAgent: a3c_agent_v2 with alpha 7894.12 and beta 3407.91\n",
      "Opponent 3: SavedRLAgent: a3c_agent_v2 with alpha 7894.12 and beta 3407.91\n",
      "Opponent 4: SavedRLAgent: a3c_agent_v2 with alpha 7894.12 and beta 3407.91\n",
      "Opponent 5: SavedRLAgent: a3c_agent_v2 with alpha 7894.12 and beta 3407.91\n",
      "Opponent 6: SavedRLAgent: a3c_agent_v2 with alpha 7894.12 and beta 3407.91\n",
      "Opponent 7: SavedRLAgent: a3c_agent_v2 with alpha 7894.12 and beta 3407.91\n",
      "\n"
     ]
    },
    {
     "name": "stderr",
     "output_type": "stream",
     "text": [
      "\r",
      " 30%|███       | 9/30 [02:20<05:33, 15.88s/it]"
     ]
    },
    {
     "name": "stdout",
     "output_type": "stream",
     "text": [
      "Opponent 0: SavedRLAgent: a3c_agent_v2 with alpha 8110.41 and beta 3426.52\n",
      "Opponent 1: SavedRLAgent: a3c_agent_v2 with alpha 8110.41 and beta 3426.52\n",
      "Opponent 2: SavedRLAgent: a3c_agent_v2 with alpha 8110.41 and beta 3426.52\n",
      "Opponent 3: SavedRLAgent: a3c_agent_v2 with alpha 8110.41 and beta 3426.52\n",
      "Opponent 4: SavedRLAgent: a3c_agent_v2 with alpha 8110.41 and beta 3426.52\n",
      "Opponent 5: SavedRLAgent: a3c_agent_v2 with alpha 8110.41 and beta 3426.52\n",
      "Opponent 6: SavedRLAgent: a3c_agent_v2 with alpha 8110.41 and beta 3426.52\n",
      "Opponent 7: SavedRLAgent: a3c_agent_v2 with alpha 8110.41 and beta 3426.52\n",
      "\n"
     ]
    },
    {
     "name": "stderr",
     "output_type": "stream",
     "text": [
      "\r",
      " 33%|███▎      | 10/30 [02:36<05:18, 15.90s/it]"
     ]
    },
    {
     "name": "stdout",
     "output_type": "stream",
     "text": [
      "Opponent 0: SavedRLAgent: a3c_agent_v2 with alpha 8304.39 and beta 3455.69\n",
      "Opponent 1: SavedRLAgent: a3c_agent_v2 with alpha 8304.39 and beta 3455.69\n",
      "Opponent 2: SavedRLAgent: a3c_agent_v2 with alpha 8304.39 and beta 3455.69\n",
      "Opponent 3: SavedRLAgent: a3c_agent_v2 with alpha 8304.39 and beta 3455.69\n",
      "Opponent 4: SavedRLAgent: a3c_agent_v2 with alpha 8304.39 and beta 3455.69\n",
      "Opponent 5: SavedRLAgent: a3c_agent_v2 with alpha 8304.39 and beta 3455.69\n",
      "Opponent 6: SavedRLAgent: a3c_agent_v2 with alpha 8304.39 and beta 3455.69\n",
      "Opponent 7: SavedRLAgent: a3c_agent_v2 with alpha 8304.39 and beta 3455.69\n",
      "\n"
     ]
    },
    {
     "name": "stderr",
     "output_type": "stream",
     "text": [
      "\r",
      " 37%|███▋      | 11/30 [02:52<05:02, 15.93s/it]"
     ]
    },
    {
     "name": "stdout",
     "output_type": "stream",
     "text": [
      "Opponent 0: SavedRLAgent: a3c_agent_v2 with alpha 8471.67 and beta 3500.41\n",
      "Opponent 1: SavedRLAgent: a3c_agent_v2 with alpha 8471.67 and beta 3500.41\n",
      "Opponent 2: SavedRLAgent: a3c_agent_v2 with alpha 8471.67 and beta 3500.41\n",
      "Opponent 3: SavedRLAgent: a3c_agent_v2 with alpha 8471.67 and beta 3500.41\n",
      "Opponent 4: SavedRLAgent: a3c_agent_v2 with alpha 8471.67 and beta 3500.41\n",
      "Opponent 5: SavedRLAgent: a3c_agent_v2 with alpha 8471.67 and beta 3500.41\n",
      "Opponent 6: SavedRLAgent: a3c_agent_v2 with alpha 8471.67 and beta 3500.41\n",
      "Opponent 7: Checkpoint #6 with alpha 1.00 and beta 1.00\n",
      "\n"
     ]
    },
    {
     "name": "stderr",
     "output_type": "stream",
     "text": [
      "\r",
      " 40%|████      | 12/30 [03:08<04:46, 15.90s/it]"
     ]
    },
    {
     "name": "stdout",
     "output_type": "stream",
     "text": [
      "Opponent 0: SavedRLAgent: a3c_agent_v2 with alpha 8488.09 and beta 3585.39\n",
      "Opponent 1: SavedRLAgent: a3c_agent_v2 with alpha 8488.09 and beta 3585.39\n",
      "Opponent 2: Checkpoint #6 with alpha 65.50 and beta 36.50\n",
      "Opponent 3: SavedRLAgent: a3c_agent_v2 with alpha 8488.09 and beta 3585.39\n",
      "Opponent 4: SavedRLAgent: a3c_agent_v2 with alpha 8488.09 and beta 3585.39\n",
      "Opponent 5: SavedRLAgent: a3c_agent_v2 with alpha 8488.09 and beta 3585.39\n",
      "Opponent 6: SavedRLAgent: a3c_agent_v2 with alpha 8488.09 and beta 3585.39\n",
      "Opponent 7: SavedRLAgent: a3c_agent_v2 with alpha 8488.09 and beta 3585.39\n",
      "\n"
     ]
    },
    {
     "name": "stderr",
     "output_type": "stream",
     "text": [
      "\r",
      " 43%|████▎     | 13/30 [03:24<04:29, 15.88s/it]"
     ]
    },
    {
     "name": "stdout",
     "output_type": "stream",
     "text": [
      "Opponent 0: Checkpoint #6 with alpha 135.22 and beta 61.67\n",
      "Opponent 1: SavedRLAgent: a3c_agent_v2 with alpha 8589.68 and beta 3580.12\n",
      "Opponent 2: SavedRLAgent: a3c_agent_v2 with alpha 8589.68 and beta 3580.12\n",
      "Opponent 3: SavedRLAgent: a3c_agent_v2 with alpha 8589.68 and beta 3580.12\n",
      "Opponent 4: SavedRLAgent: a3c_agent_v2 with alpha 8589.68 and beta 3580.12\n",
      "Opponent 5: SavedRLAgent: a3c_agent_v2 with alpha 8589.68 and beta 3580.12\n",
      "Opponent 6: Checkpoint #6 with alpha 135.22 and beta 61.67\n",
      "Opponent 7: Checkpoint #6 with alpha 135.22 and beta 61.67\n",
      "\n"
     ]
    },
    {
     "name": "stderr",
     "output_type": "stream",
     "text": [
      "\r",
      " 47%|████▋     | 14/30 [03:38<04:04, 15.26s/it]"
     ]
    },
    {
     "name": "stdout",
     "output_type": "stream",
     "text": [
      "Opponent 0: SavedRLAgent: a3c_agent_v2 with alpha 8331.20 and beta 3730.11\n",
      "Opponent 1: SavedRLAgent: a3c_agent_v2 with alpha 8331.20 and beta 3730.11\n",
      "Opponent 2: SavedRLAgent: a3c_agent_v2 with alpha 8331.20 and beta 3730.11\n",
      "Opponent 3: SavedRLAgent: a3c_agent_v2 with alpha 8331.20 and beta 3730.11\n",
      "Opponent 4: SavedRLAgent: a3c_agent_v2 with alpha 8331.20 and beta 3730.11\n",
      "Opponent 5: SavedRLAgent: a3c_agent_v2 with alpha 8331.20 and beta 3730.11\n",
      "Opponent 6: SavedRLAgent: a3c_agent_v2 with alpha 8331.20 and beta 3730.11\n",
      "Opponent 7: SavedRLAgent: a3c_agent_v2 with alpha 8331.20 and beta 3730.11\n",
      "\n"
     ]
    },
    {
     "name": "stderr",
     "output_type": "stream",
     "text": [
      "\r",
      " 50%|█████     | 15/30 [03:53<03:51, 15.41s/it]"
     ]
    },
    {
     "name": "stdout",
     "output_type": "stream",
     "text": [
      "Opponent 0: SavedRLAgent: a3c_agent_v2 with alpha 8328.64 and beta 3929.61\n",
      "Opponent 1: SavedRLAgent: a3c_agent_v2 with alpha 8328.64 and beta 3929.61\n",
      "Opponent 2: SavedRLAgent: a3c_agent_v2 with alpha 8328.64 and beta 3929.61\n",
      "Opponent 3: SavedRLAgent: a3c_agent_v2 with alpha 8328.64 and beta 3929.61\n",
      "Opponent 4: SavedRLAgent: a3c_agent_v2 with alpha 8328.64 and beta 3929.61\n",
      "Opponent 5: SavedRLAgent: a3c_agent_v2 with alpha 8328.64 and beta 3929.61\n",
      "Opponent 6: SavedRLAgent: a3c_agent_v2 with alpha 8328.64 and beta 3929.61\n",
      "Opponent 7: SavedRLAgent: a3c_agent_v2 with alpha 8328.64 and beta 3929.61\n",
      "\n"
     ]
    },
    {
     "name": "stderr",
     "output_type": "stream",
     "text": [
      "\r",
      " 53%|█████▎    | 16/30 [04:09<03:36, 15.50s/it]"
     ]
    },
    {
     "name": "stdout",
     "output_type": "stream",
     "text": [
      "Opponent 0: SavedRLAgent: a3c_agent_v2 with alpha 8437.21 and beta 4008.13\n",
      "Opponent 1: SavedRLAgent: a3c_agent_v2 with alpha 8437.21 and beta 4008.13\n",
      "Opponent 2: SavedRLAgent: a3c_agent_v2 with alpha 8437.21 and beta 4008.13\n",
      "Opponent 3: Checkpoint #2 with alpha 7.95 and beta 15.57\n",
      "Opponent 4: SavedRLAgent: a3c_agent_v2 with alpha 8437.21 and beta 4008.13\n",
      "Opponent 5: SavedRLAgent: a3c_agent_v2 with alpha 8437.21 and beta 4008.13\n",
      "Opponent 6: SavedRLAgent: a3c_agent_v2 with alpha 8437.21 and beta 4008.13\n",
      "Opponent 7: SavedRLAgent: a3c_agent_v2 with alpha 8437.21 and beta 4008.13\n",
      "\n"
     ]
    },
    {
     "name": "stderr",
     "output_type": "stream",
     "text": [
      "\r",
      " 57%|█████▋    | 17/30 [04:26<03:24, 15.74s/it]"
     ]
    },
    {
     "name": "stdout",
     "output_type": "stream",
     "text": [
      "Opponent 0: Checkpoint #2 with alpha 88.56 and beta 33.80\n",
      "Opponent 1: Checkpoint #2 with alpha 88.56 and beta 33.80\n",
      "Opponent 2: Checkpoint #2 with alpha 88.56 and beta 33.80\n",
      "Opponent 3: SavedRLAgent: a3c_agent_v2 with alpha 8549.35 and beta 3973.72\n",
      "Opponent 4: Checkpoint #2 with alpha 88.56 and beta 33.80\n",
      "Opponent 5: Checkpoint #2 with alpha 88.56 and beta 33.80\n",
      "Opponent 6: Checkpoint #2 with alpha 88.56 and beta 33.80\n",
      "Opponent 7: Checkpoint #2 with alpha 88.56 and beta 33.80\n",
      "\n"
     ]
    },
    {
     "name": "stderr",
     "output_type": "stream",
     "text": [
      "\r",
      " 60%|██████    | 18/30 [04:40<03:03, 15.28s/it]"
     ]
    },
    {
     "name": "stdout",
     "output_type": "stream",
     "text": [
      "Opponent 0: SavedRLAgent: a3c_agent_v2 with alpha 8127.38 and beta 3869.53\n",
      "Opponent 1: SavedRLAgent: a3c_agent_v2 with alpha 8127.38 and beta 3869.53\n",
      "Opponent 2: SavedRLAgent: a3c_agent_v2 with alpha 8127.38 and beta 3869.53\n",
      "Opponent 3: SavedRLAgent: a3c_agent_v2 with alpha 8127.38 and beta 3869.53\n",
      "Opponent 4: SavedRLAgent: a3c_agent_v2 with alpha 8127.38 and beta 3869.53\n",
      "Opponent 5: SavedRLAgent: a3c_agent_v2 with alpha 8127.38 and beta 3869.53\n",
      "Opponent 6: SavedRLAgent: a3c_agent_v2 with alpha 8127.38 and beta 3869.53\n",
      "Opponent 7: SavedRLAgent: a3c_agent_v2 with alpha 8127.38 and beta 3869.53\n",
      "\n"
     ]
    },
    {
     "name": "stderr",
     "output_type": "stream",
     "text": [
      "\r",
      " 63%|██████▎   | 19/30 [04:56<02:51, 15.60s/it]"
     ]
    },
    {
     "name": "stdout",
     "output_type": "stream",
     "text": [
      "Opponent 0: SavedRLAgent: a3c_agent_v2 with alpha 8160.01 and beta 4037.06\n",
      "Opponent 1: SavedRLAgent: a3c_agent_v2 with alpha 8160.01 and beta 4037.06\n",
      "Opponent 2: SavedRLAgent: a3c_agent_v2 with alpha 8160.01 and beta 4037.06\n",
      "Opponent 3: SavedRLAgent: a3c_agent_v2 with alpha 8160.01 and beta 4037.06\n",
      "Opponent 4: SavedRLAgent: a3c_agent_v2 with alpha 8160.01 and beta 4037.06\n",
      "Opponent 5: SavedRLAgent: a3c_agent_v2 with alpha 8160.01 and beta 4037.06\n",
      "Opponent 6: SavedRLAgent: a3c_agent_v2 with alpha 8160.01 and beta 4037.06\n",
      "Opponent 7: SavedRLAgent: a3c_agent_v2 with alpha 8160.01 and beta 4037.06\n",
      "\n"
     ]
    },
    {
     "name": "stderr",
     "output_type": "stream",
     "text": [
      "\r",
      " 67%|██████▋   | 20/30 [05:12<02:35, 15.56s/it]"
     ]
    },
    {
     "name": "stdout",
     "output_type": "stream",
     "text": [
      "Opponent 0: SavedRLAgent: a3c_agent_v2 with alpha 8335.51 and beta 4051.70\n",
      "Opponent 1: SavedRLAgent: a3c_agent_v2 with alpha 8335.51 and beta 4051.70\n",
      "Opponent 2: SavedRLAgent: a3c_agent_v2 with alpha 8335.51 and beta 4051.70\n",
      "Opponent 3: SavedRLAgent: a3c_agent_v2 with alpha 8335.51 and beta 4051.70\n",
      "Opponent 4: SavedRLAgent: a3c_agent_v2 with alpha 8335.51 and beta 4051.70\n",
      "Opponent 5: SavedRLAgent: a3c_agent_v2 with alpha 8335.51 and beta 4051.70\n",
      "Opponent 6: SavedRLAgent: a3c_agent_v2 with alpha 8335.51 and beta 4051.70\n",
      "Opponent 7: SavedRLAgent: a3c_agent_v2 with alpha 8335.51 and beta 4051.70\n",
      "\n"
     ]
    },
    {
     "name": "stderr",
     "output_type": "stream",
     "text": [
      "\r",
      " 70%|███████   | 21/30 [05:28<02:21, 15.77s/it]"
     ]
    },
    {
     "name": "stdout",
     "output_type": "stream",
     "text": [
      "Opponent 0: SavedRLAgent: a3c_agent_v2 with alpha 8534.73 and beta 4033.12\n",
      "Opponent 1: SavedRLAgent: a3c_agent_v2 with alpha 8534.73 and beta 4033.12\n",
      "Opponent 2: SavedRLAgent: a3c_agent_v2 with alpha 8534.73 and beta 4033.12\n",
      "Opponent 3: SavedRLAgent: a3c_agent_v2 with alpha 8534.73 and beta 4033.12\n",
      "Opponent 4: Checkpoint #7 with alpha 1.00 and beta 1.00\n",
      "Opponent 5: SavedRLAgent: a3c_agent_v2 with alpha 8534.73 and beta 4033.12\n",
      "Opponent 6: Checkpoint #7 with alpha 1.00 and beta 1.00\n",
      "Opponent 7: Checkpoint #7 with alpha 1.00 and beta 1.00\n",
      "\n"
     ]
    },
    {
     "name": "stderr",
     "output_type": "stream",
     "text": [
      "\r",
      " 73%|███████▎  | 22/30 [05:44<02:06, 15.82s/it]"
     ]
    },
    {
     "name": "stdout",
     "output_type": "stream",
     "text": [
      "Opponent 0: Checkpoint #7 with alpha 234.00 and beta 68.00\n",
      "Opponent 1: Checkpoint #7 with alpha 234.00 and beta 68.00\n",
      "Opponent 2: Checkpoint #7 with alpha 234.00 and beta 68.00\n",
      "Opponent 3: Checkpoint #7 with alpha 234.00 and beta 68.00\n",
      "Opponent 4: Checkpoint #7 with alpha 234.00 and beta 68.00\n",
      "Opponent 5: Checkpoint #7 with alpha 234.00 and beta 68.00\n",
      "Opponent 6: Checkpoint #7 with alpha 234.00 and beta 68.00\n",
      "Opponent 7: Checkpoint #7 with alpha 234.00 and beta 68.00\n",
      "\n"
     ]
    },
    {
     "name": "stderr",
     "output_type": "stream",
     "text": [
      "\r",
      " 77%|███████▋  | 23/30 [05:58<01:46, 15.25s/it]"
     ]
    },
    {
     "name": "stdout",
     "output_type": "stream",
     "text": [
      "Opponent 0: SavedRLAgent: a3c_agent_v2 with alpha 8067.87 and beta 3749.61\n",
      "Opponent 1: SavedRLAgent: a3c_agent_v2 with alpha 8067.87 and beta 3749.61\n",
      "Opponent 2: SavedRLAgent: a3c_agent_v2 with alpha 8067.87 and beta 3749.61\n",
      "Opponent 3: SavedRLAgent: a3c_agent_v2 with alpha 8067.87 and beta 3749.61\n",
      "Opponent 4: SavedRLAgent: a3c_agent_v2 with alpha 8067.87 and beta 3749.61\n",
      "Opponent 5: SavedRLAgent: a3c_agent_v2 with alpha 8067.87 and beta 3749.61\n",
      "Opponent 6: SavedRLAgent: a3c_agent_v2 with alpha 8067.87 and beta 3749.61\n",
      "Opponent 7: SavedRLAgent: a3c_agent_v2 with alpha 8067.87 and beta 3749.61\n",
      "\n"
     ]
    },
    {
     "name": "stderr",
     "output_type": "stream",
     "text": [
      "\r",
      " 80%|████████  | 24/30 [06:14<01:33, 15.59s/it]"
     ]
    },
    {
     "name": "stdout",
     "output_type": "stream",
     "text": [
      "Opponent 0: SavedRLAgent: a3c_agent_v2 with alpha 8123.48 and beta 3903.13\n",
      "Opponent 1: SavedRLAgent: a3c_agent_v2 with alpha 8123.48 and beta 3903.13\n",
      "Opponent 2: SavedRLAgent: a3c_agent_v2 with alpha 8123.48 and beta 3903.13\n",
      "Opponent 3: SavedRLAgent: a3c_agent_v2 with alpha 8123.48 and beta 3903.13\n",
      "Opponent 4: SavedRLAgent: a3c_agent_v2 with alpha 8123.48 and beta 3903.13\n",
      "Opponent 5: SavedRLAgent: a3c_agent_v2 with alpha 8123.48 and beta 3903.13\n",
      "Opponent 6: SavedRLAgent: a3c_agent_v2 with alpha 8123.48 and beta 3903.13\n",
      "Opponent 7: SavedRLAgent: a3c_agent_v2 with alpha 8123.48 and beta 3903.13\n",
      "\n"
     ]
    },
    {
     "name": "stderr",
     "output_type": "stream",
     "text": [
      "\r",
      " 83%|████████▎ | 25/30 [06:30<01:18, 15.63s/it]"
     ]
    },
    {
     "name": "stdout",
     "output_type": "stream",
     "text": [
      "Opponent 0: SavedRLAgent: a3c_agent_v2 with alpha 8436.81 and beta 3788.48\n",
      "Opponent 1: SavedRLAgent: a3c_agent_v2 with alpha 8436.81 and beta 3788.48\n",
      "Opponent 2: SavedRLAgent: a3c_agent_v2 with alpha 8436.81 and beta 3788.48\n",
      "Opponent 3: SavedRLAgent: a3c_agent_v2 with alpha 8436.81 and beta 3788.48\n",
      "Opponent 4: SavedRLAgent: a3c_agent_v2 with alpha 8436.81 and beta 3788.48\n",
      "Opponent 5: SavedRLAgent: a3c_agent_v2 with alpha 8436.81 and beta 3788.48\n",
      "Opponent 6: SavedRLAgent: a3c_agent_v2 with alpha 8436.81 and beta 3788.48\n",
      "Opponent 7: SavedRLAgent: a3c_agent_v2 with alpha 8436.81 and beta 3788.48\n",
      "\n"
     ]
    },
    {
     "name": "stderr",
     "output_type": "stream",
     "text": [
      "\r",
      " 87%|████████▋ | 26/30 [06:45<01:02, 15.64s/it]"
     ]
    },
    {
     "name": "stdout",
     "output_type": "stream",
     "text": [
      "Opponent 0: SavedRLAgent: a3c_agent_v2 with alpha 8497.96 and beta 3916.05\n",
      "Opponent 1: SavedRLAgent: a3c_agent_v2 with alpha 8497.96 and beta 3916.05\n",
      "Opponent 2: SavedRLAgent: a3c_agent_v2 with alpha 8497.96 and beta 3916.05\n",
      "Opponent 3: SavedRLAgent: a3c_agent_v2 with alpha 8497.96 and beta 3916.05\n",
      "Opponent 4: PullVegasSlotMachines with alpha 42.81 and beta 32.65\n",
      "Opponent 5: PullVegasSlotMachines with alpha 42.81 and beta 32.65\n",
      "Opponent 6: SavedRLAgent: a3c_agent_v2 with alpha 8497.96 and beta 3916.05\n",
      "Opponent 7: SavedRLAgent: a3c_agent_v2 with alpha 8497.96 and beta 3916.05\n",
      "\n"
     ]
    },
    {
     "name": "stderr",
     "output_type": "stream",
     "text": [
      "\r",
      " 90%|█████████ | 27/30 [07:01<00:46, 15.66s/it]"
     ]
    },
    {
     "name": "stdout",
     "output_type": "stream",
     "text": [
      "Opponent 0: PullVegasSlotMachines with alpha 223.67 and beta 48.02\n",
      "Opponent 1: PullVegasSlotMachines with alpha 223.67 and beta 48.02\n",
      "Opponent 2: PullVegasSlotMachines with alpha 223.67 and beta 48.02\n",
      "Opponent 3: PullVegasSlotMachines with alpha 223.67 and beta 48.02\n",
      "Opponent 4: PullVegasSlotMachines with alpha 223.67 and beta 48.02\n",
      "Opponent 5: PullVegasSlotMachines with alpha 223.67 and beta 48.02\n",
      "Opponent 6: PullVegasSlotMachines with alpha 223.67 and beta 48.02\n",
      "Opponent 7: PullVegasSlotMachines with alpha 223.67 and beta 48.02\n",
      "\n"
     ]
    },
    {
     "name": "stderr",
     "output_type": "stream",
     "text": [
      "\r",
      " 93%|█████████▎| 28/30 [07:12<00:28, 14.30s/it]"
     ]
    },
    {
     "name": "stdout",
     "output_type": "stream",
     "text": [
      "Opponent 0: SavedRLAgent: a3c_agent_v2 with alpha 8191.44 and beta 3582.21\n",
      "Opponent 1: SavedRLAgent: a3c_agent_v2 with alpha 8191.44 and beta 3582.21\n",
      "Opponent 2: SavedRLAgent: a3c_agent_v2 with alpha 8191.44 and beta 3582.21\n",
      "Opponent 3: SavedRLAgent: a3c_agent_v2 with alpha 8191.44 and beta 3582.21\n",
      "Opponent 4: SavedRLAgent: a3c_agent_v2 with alpha 8191.44 and beta 3582.21\n",
      "Opponent 5: SavedRLAgent: a3c_agent_v2 with alpha 8191.44 and beta 3582.21\n",
      "Opponent 6: SavedRLAgent: a3c_agent_v2 with alpha 8191.44 and beta 3582.21\n",
      "Opponent 7: SavedRLAgent: a3c_agent_v2 with alpha 8191.44 and beta 3582.21\n",
      "\n"
     ]
    },
    {
     "name": "stderr",
     "output_type": "stream",
     "text": [
      "\r",
      " 97%|█████████▋| 29/30 [07:28<00:14, 14.77s/it]"
     ]
    },
    {
     "name": "stdout",
     "output_type": "stream",
     "text": [
      "Opponent 0: SavedRLAgent: a3c_agent_v2 with alpha 8318.37 and beta 3666.60\n",
      "Opponent 1: SavedRLAgent: a3c_agent_v2 with alpha 8318.37 and beta 3666.60\n",
      "Opponent 2: SavedRLAgent: a3c_agent_v2 with alpha 8318.37 and beta 3666.60\n",
      "Opponent 3: SavedRLAgent: a3c_agent_v2 with alpha 8318.37 and beta 3666.60\n",
      "Opponent 4: SavedRLAgent: a3c_agent_v2 with alpha 8318.37 and beta 3666.60\n",
      "Opponent 5: SavedRLAgent: a3c_agent_v2 with alpha 8318.37 and beta 3666.60\n",
      "Opponent 6: SavedRLAgent: a3c_agent_v2 with alpha 8318.37 and beta 3666.60\n",
      "Opponent 7: SavedRLAgent: a3c_agent_v2 with alpha 8318.37 and beta 3666.60\n",
      "\n"
     ]
    },
    {
     "name": "stderr",
     "output_type": "stream",
     "text": [
      "100%|██████████| 30/30 [07:44<00:00, 15.47s/it]\n"
     ]
    },
    {
     "data": {
      "image/png": "[encoded data removed]",
      "text/plain": [
       "<Figure size 460.8x403.2 with 1 Axes>"
      ]
     },
     "metadata": {},
     "output_type": "display_data"
    }
   ],
   "source": [
    "env_kwargs['n_envs'] = 512\n",
    "episode_reward_sums += a3c_alg.train(n_episodes=30, **rl_alg_kwargs, **env_kwargs)\n",
    "plt.plot(episode_reward_sums)\n",
    "plt.show();"
   ]
  },
  {
   "cell_type": "code",
   "execution_count": 141,
   "metadata": {},
   "outputs": [],
   "source": [
    "# 108 is good, but pretty much even against v_3 (1053 - 18 - 929)\n",
    "# 156 is good, but even against v_3 (983 - 24 - 993)\n",
    "# 162 is best against v0-2, not as better against pull_vegas, and even against v_3 (1954 - 58 - 1988)\n",
    "# 164 is worth considering, with large margins against the field except v_3 who it's slightly behind\n",
    "# 152 BEATS EVERYONE\n",
    "\n",
    "# To submit later?\n",
    "# 128 is mostly even against v3 like 108 (2011 - 64 - 1925)\n",
    "# 157 beats everyone, but even against v_3\n",
    "\n",
    "\n",
    "\n",
    "temp_model = a3c_alg.model_constructor()\n",
    "temp_model.load_state_dict(a3c_alg.checkpoints[164])\n",
    "temp_model.to(device=DEVICE)\n",
    "temp_model.eval();\n",
    "\n",
    "def model_wrapped(states):\n",
    "    return temp_model.sample_action(states.unsqueeze(0)).squeeze(0)"
   ]
  },
  {
   "cell_type": "code",
   "execution_count": 143,
   "metadata": {},
   "outputs": [
    {
     "name": "stdout",
     "output_type": "stream",
     "text": [
      "Opponent 113, ranked 1, has an estimated win % of 0.59.\n",
      "Checkpoint #108\n"
     ]
    },
    {
     "data": {
      "text/plain": [
       "array([113, 161,  42,  32,  60,   4, 167,  82, 133, 142, 169, 157, 122,\n",
       "       162,  41,  17,   6, 131, 163,  63,  55, 121,  51, 146, 120,  97,\n",
       "       152,  19, 117, 158,  98, 109, 105,  50, 104, 164, 149, 153,  83,\n",
       "       155, 128, 114, 150,  64,  86,   0,  84,  66,  53, 138,  27, 119,\n",
       "        48,  88, 132,  89, 112, 148,  80,   3, 124,  43, 141,  31, 139,\n",
       "       145, 134,  76,  87, 111,  85, 100, 154,   7,  21, 130,  34,  20,\n",
       "        24,  79, 123, 116,  93,  94,  36, 147, 136, 118, 156,  99,  74,\n",
       "       125, 160, 110,  25,  69, 135, 102,  52,  44,  45,  90, 140,  71,\n",
       "        92, 115, 101,  23,  70,  65,  35,  14, 108,  40, 144,   9,  10,\n",
       "        26,  68,  33,  95,  61, 166, 151,  47,  91, 159,  11,  56, 107,\n",
       "       168,   8,  30,  58,  77,  39,  67, 143,  15, 106,  28,  38,  46,\n",
       "        16,  22, 137,  59,  29,   5, 127,  62,  54, 129,   2,  96, 103,\n",
       "        12,  81,  18,  73,  13,  37, 165,  78,  72,  75,  57,   1, 126,\n",
       "        49])"
      ]
     },
     "execution_count": 143,
     "metadata": {},
     "output_type": "execute_result"
    }
   ],
   "source": [
    "#(a3c_alg.opp_a / (a3c_alg.opp_a + a3c_alg.opp_b)).argmax() - len(initial_opponent_pool)\n",
    "est_opp_skill = a3c_alg.opp_a / (a3c_alg.opp_a + a3c_alg.opp_b)\n",
    "ranking = np.argsort(-est_opp_skill)\n",
    "idx = 0\n",
    "print(f'Opponent {ranking[idx]}, ranked {idx+1}, has an estimated win % of {est_opp_skill[ranking[idx]]:.2f}.')\n",
    "print(f'Checkpoint #{ranking[idx] - len(a3c_alg.initial_opponent_pool)}')\n",
    "np.argsort(-est_opp_skill)"
   ]
  },
  {
   "cell_type": "markdown",
   "metadata": {},
   "source": [
    "## Benchmark the model against a previous RL agent, and various hand-crafted algorithms"
   ]
  },
  {
   "cell_type": "code",
   "execution_count": 142,
   "metadata": {},
   "outputs": [
    {
     "name": "stderr",
     "output_type": "stream",
     "text": [
      "100%|██████████| 1999/1999 [00:50<00:00, 39.85it/s]\n"
     ]
    },
    {
     "name": "stdout",
     "output_type": "stream",
     "text": [
      "new_model -vs- a3c_agent_v3\n",
      "Mean scores: 640.83 - 641.77\n",
      "Match score: 1930 - 55 - 2015\n"
     ]
    }
   ],
   "source": [
    "va.run_vectorized_vs(model_wrapped, va.SavedRLAgent('a3c_agent_v3'), 'new_model', 'a3c_agent_v3', n_envs=4000, out_device=DEVICE)"
   ]
  },
  {
   "cell_type": "code",
   "execution_count": 125,
   "metadata": {},
   "outputs": [
    {
     "name": "stderr",
     "output_type": "stream",
     "text": [
      "100%|██████████| 1999/1999 [00:10<00:00, 186.52it/s]\n"
     ]
    },
    {
     "name": "stdout",
     "output_type": "stream",
     "text": [
      "new_model -vs- a3c_agent_v0\n",
      "Mean scores: 651.22 - 627.79\n",
      "Match score: 784 - 13 - 203\n"
     ]
    },
    {
     "name": "stderr",
     "output_type": "stream",
     "text": [
      "100%|██████████| 1999/1999 [00:12<00:00, 156.14it/s]\n"
     ]
    },
    {
     "name": "stdout",
     "output_type": "stream",
     "text": [
      "new_model -vs- a3c_agent_v1\n",
      "Mean scores: 643.23 - 630.17\n",
      "Match score: 668 - 15 - 317\n"
     ]
    },
    {
     "name": "stderr",
     "output_type": "stream",
     "text": [
      "100%|██████████| 1999/1999 [00:14<00:00, 139.66it/s]\n"
     ]
    },
    {
     "name": "stdout",
     "output_type": "stream",
     "text": [
      "new_model -vs- a3c_agent_v2\n",
      "Mean scores: 641.47 - 633.20\n",
      "Match score: 622 - 11 - 367\n"
     ]
    },
    {
     "name": "stderr",
     "output_type": "stream",
     "text": [
      "100%|██████████| 1999/1999 [00:14<00:00, 140.94it/s]\n"
     ]
    },
    {
     "name": "stdout",
     "output_type": "stream",
     "text": [
      "new_model -vs- a3c_agent_v3\n",
      "Mean scores: 641.49 - 640.91\n",
      "Match score: 487 - 15 - 498\n"
     ]
    },
    {
     "name": "stderr",
     "output_type": "stream",
     "text": [
      "100%|██████████| 1999/1999 [00:08<00:00, 247.26it/s]\n"
     ]
    },
    {
     "name": "stdout",
     "output_type": "stream",
     "text": [
      "new_model -vs- basic_thompson_sampling\n",
      "Mean scores: 655.36 - 621.63\n",
      "Match score: 879 - 1 - 120\n"
     ]
    },
    {
     "name": "stderr",
     "output_type": "stream",
     "text": [
      "100%|██████████| 1999/1999 [00:08<00:00, 242.01it/s]\n"
     ]
    },
    {
     "name": "stdout",
     "output_type": "stream",
     "text": [
      "new_model -vs- pull_vegas_slot_machines\n",
      "Mean scores: 652.28 - 627.99\n",
      "Match score: 771 - 5 - 224\n"
     ]
    }
   ],
   "source": [
    "model.eval()\n",
    "benchmark_env_kwargs = dict(\n",
    "    n_envs=1000,\n",
    "    out_device=DEVICE\n",
    ")\n",
    "\n",
    "## Previous best models\n",
    "va.run_vectorized_vs(model_wrapped, va.SavedRLAgent('a3c_agent_v0'), 'new_model', 'a3c_agent_v0', **benchmark_env_kwargs)\n",
    "va.run_vectorized_vs(model_wrapped, va.SavedRLAgent('a3c_agent_v1'), 'new_model', 'a3c_agent_v1', **benchmark_env_kwargs)\n",
    "va.run_vectorized_vs(model_wrapped, va.SavedRLAgent('a3c_agent_v2'), 'new_model', 'a3c_agent_v2', **benchmark_env_kwargs)\n",
    "va.run_vectorized_vs(model_wrapped, va.SavedRLAgent('a3c_agent_v3'), 'new_model', 'a3c_agent_v3', **benchmark_env_kwargs)\n",
    "\n",
    "## Always 0 agent\n",
    "#va.run_vectorized_vs(model_wrapped, va.AlwaysFirstAgent(), 'new_model', 'always_first', **benchmark_env_kwargs)\n",
    "\n",
    "## Random agent\n",
    "#va.run_vectorized_vs(model_wrapped, va.RandomAgent(), 'new_model', 'random_agent', **benchmark_env_kwargs)\n",
    "\n",
    "## Basic thompson sampling\n",
    "va.run_vectorized_vs(model_wrapped, va.BasicThompsonSampling(OBS_NORM), 'new_model', 'basic_thompson_sampling', **benchmark_env_kwargs)\n",
    "\n",
    "## Pull vegas slot machines\n",
    "va.run_vectorized_vs(model_wrapped, va.PullVegasSlotMachines(OBS_NORM), 'new_model', 'pull_vegas_slot_machines', **benchmark_env_kwargs)"
   ]
  },
  {
   "cell_type": "markdown",
   "metadata": {},
   "source": [
    "## Benchmark the model against the checkpointed version"
   ]
  },
  {
   "cell_type": "code",
   "execution_count": null,
   "metadata": {},
   "outputs": [],
   "source": [
    "model.eval()\n",
    "benchmark_env_kwargs = dict(\n",
    "    n_envs=1000,\n",
    "    out_device=DEVICE\n",
    ")\n",
    "\n",
    "checkpointed_model = GraphNN_A3C(**graph_nn_kwargs)\n",
    "checkpointed_model.to(torch.device('cuda'))\n",
    "checkpointed_model.load_state_dict(model_sd_checkpoint)\n",
    "checkpointed_model.eval()\n",
    "\n",
    "def checkpointed_model_wrapped(states):\n",
    "    return checkpointed_model.sample_action(states.unsqueeze(0)).squeeze(0)\n",
    "\n",
    "va.run_vectorized_vs(model_wrapped, checkpointed_model_wrapped, 'new_model', 'checkpointed_model', **benchmark_env_kwargs)"
   ]
  },
  {
   "cell_type": "code",
   "execution_count": null,
   "metadata": {},
   "outputs": [],
   "source": [
    "temp_sd_checkpoint = model.state_dict()"
   ]
  },
  {
   "cell_type": "markdown",
   "metadata": {},
   "source": [
    "## Visualize model parameter distributions"
   ]
  },
  {
   "cell_type": "code",
   "execution_count": 17,
   "metadata": {
    "scrolled": true
   },
   "outputs": [
    {
     "data": {
      "image/png": "[encoded data removed]",
      "text/plain": [
       "<Figure size 720x2520 with 14 Axes>"
      ]
     },
     "metadata": {},
     "output_type": "display_data"
    }
   ],
   "source": [
    "full_layer_name = []\n",
    "layer_name = []\n",
    "component_name = []\n",
    "weight_or_bias = []\n",
    "param_val = []\n",
    "for key, val in model.state_dict().items():\n",
    "    if 'message_passing_mat' in key:\n",
    "        pass\n",
    "    else:\n",
    "        for v in val.cpu().numpy().ravel():\n",
    "            param_val.append(v)\n",
    "            full_layer_name.append(key)\n",
    "            key_split = key.split('.')\n",
    "            if len(key_split) == 3:\n",
    "                ln, pn, wob = key_split\n",
    "            elif len(key_split) >= 4:\n",
    "                ln = '.'.join(key_split[0:-2])\n",
    "                pn, wob = key_split[-2:]\n",
    "            else:\n",
    "                raise RuntimeError(f'Unrecognized layer key: {key}')\n",
    "            layer_name.append(ln)\n",
    "            component_name.append(pn)\n",
    "            weight_or_bias.append(wob)\n",
    "params_df = pd.DataFrame(dict(\n",
    "    full_layer_name = full_layer_name,\n",
    "    layer_name = layer_name,\n",
    "    component_name = component_name,\n",
    "    weight_or_bias = weight_or_bias,\n",
    "    param_val = param_val\n",
    "))\n",
    "\n",
    "sns.displot(\n",
    "    params_df, x='param_val', col='component_name', row='layer_name',\n",
    "    binwidth=0.1,\n",
    "    #height=3,\n",
    "    facet_kws=dict(margin_titles=True, sharex=False, sharey=False)\n",
    ");"
   ]
  },
  {
   "cell_type": "code",
   "execution_count": null,
   "metadata": {
    "scrolled": true
   },
   "outputs": [],
   "source": [
    "full_layer_name = []\n",
    "layer_name = []\n",
    "component_name = []\n",
    "weight_or_bias = []\n",
    "param_val = []\n",
    "for key, val in GraphNN_A3C(**graph_nn_kwargs).state_dict().items():\n",
    "    if 'message_passing_mat' in key:\n",
    "        pass\n",
    "    else:\n",
    "        for v in val.cpu().numpy().ravel():\n",
    "            param_val.append(v)\n",
    "            full_layer_name.append(key)\n",
    "            key_split = key.split('.')\n",
    "            if len(key_split) == 3:\n",
    "                ln, pn, wob = key_split\n",
    "            elif len(key_split) >= 4:\n",
    "                ln = '.'.join(key_split[0:-2])\n",
    "                pn, wob = key_split[-2:]\n",
    "            else:\n",
    "                raise RuntimeError(f'Unrecognized layer key: {key}')\n",
    "            layer_name.append(ln)\n",
    "            component_name.append(pn)\n",
    "            weight_or_bias.append(wob)\n",
    "params_df = pd.DataFrame(dict(\n",
    "    full_layer_name = full_layer_name,\n",
    "    layer_name = layer_name,\n",
    "    component_name = component_name,\n",
    "    weight_or_bias = weight_or_bias,\n",
    "    param_val = param_val\n",
    "))\n",
    "\n",
    "sns.displot(\n",
    "    params_df, x='param_val', col='component_name', row='layer_name',\n",
    "    binwidth=0.1,\n",
    "    #height=3,\n",
    "    facet_kws=dict(margin_titles=True, sharex=False, sharey=False)\n",
    ");"
   ]
  },
  {
   "cell_type": "markdown",
   "metadata": {},
   "source": [
    "## Save the model state_dict as a serialized string"
   ]
  },
  {
   "cell_type": "code",
   "execution_count": 27,
   "metadata": {},
   "outputs": [],
   "source": [
    "model.to('cpu')\n",
    "state_dict_bytes = pickle.dumps({\n",
    "    'model_state_dict': model.state_dict(),\n",
    "    #'optimizer_state_dict': optimizer.state_dict()\n",
    "})\n",
    "serialized_string = base64.b64encode(state_dict_bytes)\n",
    "with open('rl_agents/ss_temp.txt', 'w') as f:\n",
    "    f.write(str(serialized_string))\n",
    "model.to(device=DEVICE);"
   ]
  },
  {
   "cell_type": "markdown",
   "metadata": {},
   "source": [
    "## Testing and debugging"
   ]
  },
  {
   "cell_type": "code",
   "execution_count": 19,
   "metadata": {},
   "outputs": [
    {
     "data": {
      "text/plain": [
       "torch.Size([1, 2, 100, 3])"
      ]
     },
     "execution_count": 19,
     "metadata": {},
     "output_type": "execute_result"
    }
   ],
   "source": [
    "s.shape"
   ]
  },
  {
   "cell_type": "code",
   "execution_count": 18,
   "metadata": {
    "scrolled": false
   },
   "outputs": [
    {
     "name": "stdout",
     "output_type": "stream",
     "text": [
      "\n",
      "[ -50.70728   343.18048  -360.98813  -184.58109   343.18048   343.18048\n",
      " -179.55315  -371.94223   343.18048  -101.76725  -289.71634   343.18048\n",
      "  343.18033  -101.76725  -101.7673    343.1806    343.18048   -55.70023\n",
      " -423.23956   343.18048   343.18048  -144.07784  -483.9645   -132.49835\n",
      "  343.18048  -284.71515  -214.44508   -36.317387  343.18033   343.1806\n",
      " -144.07787  -181.13568  -172.01115   330.54306  -392.00793   -42.726707\n",
      " -100.718575  343.18048  -232.7463   -184.58109  -182.04886   343.18048\n",
      " -209.41711  -139.44606  -169.4972    343.1806    343.18033  -309.7208\n",
      "  343.18048   330.54306  -137.13019  -130.38986   343.18048   343.18048\n",
      "  343.18048  -206.90314   343.18048   132.18704  -179.55313  -289.71637\n",
      " -141.76196   343.1806    343.18033  -222.74408   343.18048   343.18048\n",
      " -360.98813   343.18048   343.18048   343.18048  -174.52518  -166.98323\n",
      "  343.18048   -50.707306 -164.46925   -50.707294 -130.38986  -416.65625\n",
      " -164.46925   343.1806   -209.41711  -100.9217    343.18048  -182.04887\n",
      "  343.18048   343.18048   -50.707294  132.18704   343.18048  -141.76198\n",
      " -261.74228  -184.58109  -217.7429    330.54337  -222.74408  -127.94915\n",
      "  -36.317387  105.332886 -182.04887  -211.93109 ]\n",
      "0.06400467\n",
      "tensor([[0.3002, 0.0000, 0.7004, 0.3002, 0.0000, 0.0000, 0.4002, 0.6003, 0.0000,\n",
      "         0.3002, 0.6503, 0.0000, 0.0000, 0.3002, 0.3002, 0.0000, 0.0000, 0.4002,\n",
      "         0.7004, 0.0000, 0.0000, 0.2501, 0.2501, 0.5003, 0.0000, 0.7004, 0.6003,\n",
      "         0.1501, 0.0000, 0.0000, 0.2501, 0.1501, 0.5503, 0.0500, 0.1001, 0.2001,\n",
      "         0.2001, 0.0000, 0.4002, 0.3002, 0.0500, 0.0000, 0.7004, 0.3502, 0.6003,\n",
      "         0.0000, 0.0000, 0.4502, 0.0000, 0.0500, 0.4002, 0.5503, 0.0000, 0.0000,\n",
      "         0.0000, 0.7504, 0.0000, 0.1001, 0.4002, 0.6503, 0.3002, 0.0000, 0.0000,\n",
      "         0.5003, 0.0000, 0.0000, 0.7004, 0.0000, 0.0000, 0.0000, 0.5003, 0.6503,\n",
      "         0.0000, 0.3002, 0.7004, 0.3002, 0.5503, 0.3002, 0.7004, 0.0000, 0.7004,\n",
      "         0.5503, 0.0000, 0.0500, 0.0000, 0.0000, 0.3002, 0.1001, 0.0000, 0.3002,\n",
      "         0.2001, 0.3002, 0.5503, 0.0500, 0.5003, 0.1001, 0.1501, 0.3002, 0.0500,\n",
      "         0.6503],\n",
      "        [0.3002, 0.0000, 0.7004, 0.3002, 0.0000, 0.0000, 0.4002, 0.6003, 0.0000,\n",
      "         0.3002, 0.6503, 0.0000, 0.0000, 0.3002, 0.3002, 0.0000, 0.0000, 0.4002,\n",
      "         0.7004, 0.0000, 0.0000, 0.2501, 0.2501, 0.5003, 0.0000, 0.7004, 0.6003,\n",
      "         0.1501, 0.0000, 0.0000, 0.2501, 0.1501, 0.5503, 0.0500, 0.1001, 0.2001,\n",
      "         0.2001, 0.0000, 0.4002, 0.3002, 0.0500, 0.0000, 0.7004, 0.3502, 0.6003,\n",
      "         0.0000, 0.0000, 0.4502, 0.0000, 0.0500, 0.4002, 0.5503, 0.0000, 0.0000,\n",
      "         0.0000, 0.7504, 0.0000, 0.1001, 0.4002, 0.6503, 0.3002, 0.0000, 0.0000,\n",
      "         0.5003, 0.0000, 0.0000, 0.7004, 0.0000, 0.0000, 0.0000, 0.5003, 0.6503,\n",
      "         0.0000, 0.3002, 0.7004, 0.3002, 0.5503, 0.3002, 0.7004, 0.0000, 0.7004,\n",
      "         0.5503, 0.0000, 0.0500, 0.0000, 0.0000, 0.3002, 0.1001, 0.0000, 0.3002,\n",
      "         0.2001, 0.3002, 0.5503, 0.0500, 0.5003, 0.1001, 0.1501, 0.3002, 0.0500,\n",
      "         0.6503],\n",
      "        [0.2501, 0.0000, 0.3502, 0.1001, 0.0000, 0.0000, 0.2001, 0.2501, 0.0000,\n",
      "         0.2001, 0.3502, 0.0000, 0.0000, 0.2001, 0.2001, 0.0000, 0.0000, 0.3502,\n",
      "         0.3002, 0.0000, 0.0000, 0.1001, 0.0000, 0.3502, 0.0000, 0.4002, 0.3502,\n",
      "         0.1001, 0.0000, 0.0000, 0.1001, 0.0500, 0.3502, 0.0500, 0.0000, 0.1501,\n",
      "         0.1001, 0.0000, 0.1501, 0.1001, 0.0000, 0.0000, 0.4502, 0.2001, 0.4002,\n",
      "         0.0000, 0.0000, 0.1501, 0.0000, 0.0500, 0.2501, 0.4002, 0.0000, 0.0000,\n",
      "         0.0000, 0.5003, 0.0000, 0.1001, 0.2001, 0.3502, 0.1501, 0.0000, 0.0000,\n",
      "         0.2501, 0.0000, 0.0000, 0.3502, 0.0000, 0.0000, 0.0000, 0.3002, 0.4502,\n",
      "         0.0000, 0.2501, 0.5003, 0.2501, 0.4002, 0.0500, 0.5003, 0.0000, 0.4502,\n",
      "         0.4502, 0.0000, 0.0000, 0.0000, 0.0000, 0.2501, 0.1001, 0.0000, 0.1501,\n",
      "         0.0500, 0.1001, 0.3002, 0.0500, 0.2501, 0.0500, 0.1001, 0.3002, 0.0000,\n",
      "         0.4002]], device='cuda:0')\n",
      "-0.5939897048553506 -0.7199463838814203\n"
     ]
    }
   ],
   "source": [
    "from scipy.stats import spearmanr, pearsonr\n",
    "\n",
    "test_env = KaggleMABEnvTorchVectorized(n_players=2, decay_rate=0.97)\n",
    "with torch.no_grad():\n",
    "    test_env.reset()\n",
    "    # Take n good actions\n",
    "    for i in range(500):\n",
    "        actions = test_env.thresholds.argmax(axis=-1)[:, None]\n",
    "        s, _, _, _ = test_env.step(actions.repeat(1, test_env.n_players))\n",
    "    logits, values = model(s[0,0].to(device=DEVICE)[None, None, :])\n",
    "    logits = logits.cpu().numpy().squeeze()\n",
    "    values = values.cpu().numpy().squeeze()\n",
    "print()\n",
    "print(logits)\n",
    "print(values)\n",
    "print(s[:,0].squeeze().t())\n",
    "print(spearmanr(logits, test_env.thresholds.squeeze().cpu().numpy())[0],\n",
    "      pearsonr(logits, test_env.thresholds.squeeze().cpu().numpy())[0])"
   ]
  },
  {
   "cell_type": "code",
   "execution_count": null,
   "metadata": {},
   "outputs": [],
   "source": [
    "child_layer_idx = -1\n",
    "child_layer = list(model.children())[child_layer_idx]\n",
    "print(child_layer.transform_features.weight.data, child_layer.transform_features.bias.data)\n",
    "print(child_layer.recombine_features.weight.data, child_layer.recombine_features.bias.data)\n",
    "print(model)\n",
    "print(child_layer)"
   ]
  },
  {
   "cell_type": "code",
   "execution_count": null,
   "metadata": {
    "scrolled": false
   },
   "outputs": [],
   "source": [
    "test_env = KaggleMABEnvTorchVectorized(n_envs=3, n_players=2, decay_rate=0.97, env_device=torch.device('cpu'), out_device=DEVICE)\n",
    "test_env.reset()\n",
    "actions = torch.arange(6).view(3,2)\n",
    "test_env.step(actions)\n",
    "test_env.step(actions)\n",
    "actions = torch.arange(1,7).view(3,2)\n",
    "test_env.step(actions)\n",
    "test_env.step(actions)\n",
    "test_env.step(actions)\n",
    "\n",
    "test = test_env.player_n_pulls.unsqueeze(3).expand(-1,-1,-1,2).transpose(1,3)\n",
    "test = torch.cat([\n",
    "    test[:,0,:,:].unsqueeze(1),\n",
    "    test[:,0,:,[1,0]].unsqueeze(1)\n",
    "], dim=1)\n",
    "test[0,0]\n",
    "test_env.player_rewards_sums"
   ]
  },
  {
   "cell_type": "code",
   "execution_count": null,
   "metadata": {},
   "outputs": [],
   "source": [
    "# Simulated env rollouts with random policy\n",
    "test_env = KaggleMABEnvTorchVectorized(n_envs=1000, n_players=2, decay_rate=0.97, env_device=torch.device('cuda'), out_device=torch.device('cuda'))\n",
    "\n",
    "for i in tqdm.trange(test_env.n_steps):\n",
    "    actions = torch.randint(test_env.n_bandits, size=(test_env.n_envs, test_env.n_players))\n",
    "    test_env.step(actions)\n",
    "print(f'Mean of player rewards: {test_env.player_rewards_sums.sum(axis=-1).mean():.2f}, Standard deviation of player rewards: {test_env.player_rewards_sums.sum(axis=-1).std():.2f}')"
   ]
  },
  {
   "cell_type": "code",
   "execution_count": null,
   "metadata": {},
   "outputs": [],
   "source": [
    "# Simulated env rollouts with omniscient optimal policy\n",
    "test_env = KaggleMABEnvTorchVectorized(n_envs=1000, n_players=2, decay_rate=0.97, env_device=torch.device('cuda'), out_device=torch.device('cpu'))\n",
    "\n",
    "for i in tqdm.trange(test_env.n_steps):\n",
    "    actions = test_env.thresholds.argmax(axis=-1)[:, None]\n",
    "    test_env.step(actions.repeat(1, test_env.n_players))\n",
    "print(f'Mean of player rewards: {test_env.player_rewards_sums.sum(axis=-1).mean():.2f}, Standard deviation of player rewards: {test_env.player_rewards_sums.sum(axis=-1).std():.2f}')"
   ]
  },
  {
   "cell_type": "code",
   "execution_count": null,
   "metadata": {},
   "outputs": [],
   "source": []
  },
  {
   "cell_type": "code",
   "execution_count": null,
   "metadata": {},
   "outputs": [],
   "source": [
    "n_nodes = 10\n",
    "activation_func = nn.ReLU()\n",
    "layer_size = 64\n",
    "layers = (\n",
    "    [FullyConnectedGNNLayer(n_nodes, 1, layer_size, activation_func=activation_func)] +\n",
    "    [FullyConnectedGNNLayer(n_nodes, layer_size, layer_size, activation_func=activation_func)] * 0 +\n",
    "    [FullyConnectedGNNLayer(n_nodes, layer_size, 1, activation_func=activation_func)]\n",
    ")\n",
    "model = nn.Sequential(\n",
    "    *layers\n",
    ")\n",
    "#model = FullyConnectedGNNLayer(n_nodes, 1, 1, activation_func=nn.Identity())\n",
    "model.train()\n",
    "model.to('cuda')\n",
    "loss_func = nn.CrossEntropyLoss()\n",
    "optimizer = torch.optim.SGD(model.parameters(), lr=0.0002)\n",
    "#optimizer = torch.optim.Adam(model.parameters(), lr=0.0001)\n",
    "\n",
    "for i in tqdm.trange(10):\n",
    "    train_batch_in = torch.rand((250, n_nodes, 1), dtype=torch.float).to('cuda')\n",
    "    k = 2\n",
    "    labels = torch.topk(train_batch_in, k=k, dim=1).indices[:,k-1]\n",
    "    \n",
    "    optimizer.zero_grad()\n",
    "    outputs = model(train_batch_in)\n",
    "    loss = loss_func(outputs, labels)\n",
    "    loss.backward()\n",
    "    optimizer.step()\n",
    "    \n",
    "    accuracy = (F.softmax(outputs, dim=1).argmax(dim=1) == labels).float().mean()\n",
    "print(f'Loss: {loss:.2f}, Accuracy: {accuracy:.3f}')\n",
    "\n",
    "test_batch_in = torch.rand((1, n_nodes, 1), dtype=torch.float).to('cuda')\n",
    "print(test_batch_in)\n",
    "print(F.softmax(model(test_batch_in), dim=1))\n",
    "print(torch.topk(test_batch_in, k=k, dim=1).indices[:,k-1])\n",
    "print(F.softmax(model(test_batch_in), dim=1).argmax(dim=1))"
   ]
  },
  {
   "cell_type": "code",
   "execution_count": null,
   "metadata": {},
   "outputs": [],
   "source": [
    "for i in tqdm.trange(1000):\n",
    "    train_batch_in = torch.rand((250, n_nodes, 1), dtype=torch.float).to('cuda')\n",
    "    k = 2\n",
    "    labels = torch.topk(train_batch_in, k=k, dim=1).indices[:,k-1]\n",
    "    \n",
    "    optimizer.zero_grad()\n",
    "    outputs = model(train_batch_in)\n",
    "    loss = loss_func(outputs, labels)\n",
    "    loss.backward()\n",
    "    optimizer.step()\n",
    "    \n",
    "    accuracy = (F.softmax(outputs, dim=1).argmax(dim=1) == labels).float().mean()\n",
    "print(f'Loss: {loss:.2f}, Accuracy: {accuracy:.3f}')"
   ]
  },
  {
   "cell_type": "code",
   "execution_count": null,
   "metadata": {},
   "outputs": [],
   "source": [
    "model = FullyConnectedGNNLayer(5, 1, 1, activation_func=nn.Identity())\n",
    "model.train()\n",
    "model.to('cuda')\n",
    "loss_func = nn.MSELoss()\n",
    "optimizer = torch.optim.SGD(model.parameters(), lr=0.01, momentum=0.)\n",
    "\n",
    "for i in tqdm.trange(10000):\n",
    "    train_batch_in = torch.rand((1024, 5, 1), dtype=torch.float).to('cuda')\n",
    "    train_batch_out = train_batch_in + train_batch_in.sum(dim=1, keepdims=True)\n",
    "    \n",
    "    optimizer.zero_grad()\n",
    "    outputs = model(train_batch_in)\n",
    "    loss = loss_func(outputs, train_batch_out)\n",
    "    loss.backward()\n",
    "    optimizer.step()\n",
    "loss"
   ]
  },
  {
   "cell_type": "code",
   "execution_count": null,
   "metadata": {},
   "outputs": [],
   "source": [
    "train_batch_in = torch.rand((2, 5, 1), dtype=torch.float).to('cuda')\n",
    "print(train_batch_in)\n",
    "print(train_batch_in + train_batch_in.sum(dim=1, keepdims=True))\n",
    "print(model(train_batch_in))"
   ]
  },
  {
   "cell_type": "markdown",
   "metadata": {},
   "source": [
    "## Deprecated"
   ]
  },
  {
   "cell_type": "code",
   "execution_count": null,
   "metadata": {},
   "outputs": [],
   "source": [
    "# Loosely based on: https://github.com/MorvanZhou/pytorch-A3C\n",
    "def a3c_vectorized_env(env, model, optimizer, n_episodes, batch_size,\n",
    "                       gamma=0.9):\n",
    "    model.to(device=DEVICE)\n",
    "    model.train()\n",
    "    episode_reward_sums = []\n",
    "    \n",
    "    for episode in tqdm.trange(n_episodes):\n",
    "        buffer_s, buffer_a, buffer_r = [], [], []\n",
    "        s, r, _, _ = env.reset()\n",
    "        episode_reward_sums.append(r)\n",
    "        step_count = 1\n",
    "        while not env.done:\n",
    "            # Batch size of 1 for inference\n",
    "            a = model.sample_action(s.to(device=DEVICE).unsqueeze(0)).squeeze(0)\n",
    "            next_s, r, done, _ = env.step(a)\n",
    "            \n",
    "            #print(s.shape, a.shape, r.shape)\n",
    "            buffer_s.append(s)\n",
    "            buffer_a.append(a)\n",
    "            buffer_r.append(r)\n",
    "            \n",
    "            if step_count % batch_size == 0 or done:\n",
    "                if done:\n",
    "                    v_next_s = torch.zeros_like(buffer_r[-1])\n",
    "                else:\n",
    "                    _, v_next_s = model(next_s.to(device=DEVICE).unsqueeze(0))\n",
    "                    v_next_s = v_next_s.detach().squeeze(0)\n",
    "                v_next_s.to(device=DEVICE)\n",
    "                \n",
    "                buffer_v_target = []\n",
    "                for r in buffer_r[::-1]:\n",
    "                    v_next_s = r + gamma * v_next_s\n",
    "                    buffer_v_target.append(v_next_s)\n",
    "                buffer_v_target.reverse()\n",
    "                \n",
    "                loss = model.loss_func(\n",
    "                    torch.stack(buffer_s).to(device=DEVICE),\n",
    "                    torch.stack(buffer_a).to(device=DEVICE),\n",
    "                    torch.stack(buffer_v_target).to(device=DEVICE)\n",
    "                )\n",
    "                optimizer.zero_grad()\n",
    "                loss.backward()\n",
    "                optimizer.step()\n",
    "                buffer_s, buffer_a, buffer_r = [], [], []\n",
    "            s = next_s\n",
    "            episode_reward_sums[-1] += r\n",
    "            step_count += 1\n",
    "        episode_reward_sums[-1] = episode_reward_sums[-1].mean()\n",
    "    return episode_reward_sums"
   ]
  },
  {
   "cell_type": "code",
   "execution_count": null,
   "metadata": {},
   "outputs": [],
   "source": [
    "class Kaggle_MAB_Env_Numpy_Vectorized():\n",
    "    def __init__(self,\n",
    "                 # Kaggle MAB env params\n",
    "                 n_bandits=100, n_steps=1999, decay_rate=0.97, sample_resolution=100,\n",
    "                 # Custom params\n",
    "                 n_envs=1, n_players=2, reward_type=EVERY_STEP, remove_extra_dims=False):\n",
    "        # Assert parameter conditions\n",
    "        assert 0 <= decay_rate <= 1.\n",
    "        assert reward_type in (END_OF_GAME, EVERY_STEP)\n",
    "        if reward_type == END_OF_GAME:\n",
    "            assert n_players >= 2\n",
    "        else:\n",
    "            assert n_players >= 1\n",
    "        self.n_bandits = n_bandits\n",
    "        self.n_steps = n_steps\n",
    "        self.decay_rate = decay_rate\n",
    "        self.sample_resolution = sample_resolution\n",
    "        \n",
    "        self.n_envs = n_envs\n",
    "        self.n_players = n_players\n",
    "        self.reward_type = reward_type\n",
    "        self.remove_extra_dims = remove_extra_dims\n",
    "        \n",
    "        self.timestep = None\n",
    "        self.orig_thresholds = None\n",
    "        self.player_n_pulls = None\n",
    "        self.player_rewards_sums = None\n",
    "        self.reset()\n",
    "    \n",
    "    @property\n",
    "    def thresholds(self):\n",
    "        return self.orig_thresholds * (self.decay_rate ** self.player_n_pulls[:,0,:])\n",
    "    \n",
    "    def reset(self):\n",
    "        self.timestep = 0\n",
    "        self.orig_thresholds = np.random.randint(self.sample_resolution + 1, size=(self.n_envs, self.n_bandits)).astype(np.float32)\n",
    "        self.player_n_pulls = np.zeros((self.n_envs, self.n_players, self.n_bandits))\n",
    "        self.player_rewards_sums = np.zeros_like(self.player_n_pulls)\n",
    "        \n",
    "        rewards = np.zeros((self.n_envs, self.n_players))\n",
    "        if self.remove_extra_dims:\n",
    "            return self.get_obs().squeeze(), rewards.squeeze(), self.done, dict(thresholds=self.thresholds.squeeze())\n",
    "        else:\n",
    "            return self.get_obs(), rewards, self.done, dict(thresholds=self.thresholds)\n",
    "        \n",
    "    def step(self, actions):\n",
    "        if self.remove_extra_dims:\n",
    "            if type(actions) == int:\n",
    "                actions = np.array([[actions]])\n",
    "            else:\n",
    "                actions = actions.reshape((self.n_envs, self.n_players))\n",
    "        assert actions.shape == (self.n_envs, self.n_players), f'actions.shape was: {actions.shape}'\n",
    "        assert not self.done\n",
    "        self.timestep += 1\n",
    "        \n",
    "        # Compute agent rewards\n",
    "        selected_thresholds = np.take_along_axis(self.thresholds, actions, axis=1)\n",
    "        pull_rewards = np.random.randint(self.sample_resolution, size=selected_thresholds.shape) < selected_thresholds\n",
    "        #pull_rewards = selected_thresholds / float(self.sample_resolution)\n",
    "        \n",
    "        # Update player_n_pulls and player_rewards_sums\n",
    "        for env_idx, env_actions in enumerate(actions):\n",
    "            for player_idx, pull_idx in enumerate(env_actions):\n",
    "                self.player_n_pulls[env_idx, :, pull_idx] += 1\n",
    "                self.player_rewards_sums[env_idx, player_idx, pull_idx] += pull_rewards[env_idx, player_idx]\n",
    "        \n",
    "        # Return (obs, reward, done) tuple\n",
    "        if self.reward_type == END_OF_GAME:\n",
    "            rewards = np.zeros_like(actions)\n",
    "            if self.timestep == self.n_steps:\n",
    "                rewards_sums = self.player_rewards_sums.sum(axis=2)\n",
    "                winners = rewards_sums.argmax(axis=1)\n",
    "                rewards[winners] = 1\n",
    "        elif self.reward_type == EVERY_STEP:\n",
    "            rewards = pull_rewards\n",
    "        \n",
    "        # State, reward, done, info_dict\n",
    "        if self.remove_extra_dims:\n",
    "            return self.get_obs().squeeze(), rewards.squeeze(), self.done, dict(thresholds=self.thresholds.squeeze())\n",
    "        else:\n",
    "            return self.get_obs(), rewards, self.done, dict(thresholds=self.thresholds)\n",
    "    \n",
    "    def get_obs(self):\n",
    "        # TODO: Clearly do not return thresholds or orig_thresholds\n",
    "        return np.stack([\n",
    "            #np.broadcast_to(self.orig_thresholds[:, None, :] / self.sample_resolution, self.player_n_pulls.shape),\n",
    "            self.player_n_pulls,\n",
    "            self.player_rewards_sums\n",
    "        ], axis=-1).astype(np.float32)\n",
    "    \n",
    "    @property\n",
    "    def done(self):\n",
    "        return self.timestep >= self.n_steps"
   ]
  },
  {
   "cell_type": "code",
   "execution_count": null,
   "metadata": {},
   "outputs": [],
   "source": [
    "class FeedForwardNN_A3C(nn.Module):\n",
    "    def __init__(self, in_features, n_bandits, activation_func=nn.ReLU()):\n",
    "        super().__init__()\n",
    "        self.in_features = in_features\n",
    "        self.activation_func = activation_func\n",
    "        layer_size = 128\n",
    "        self.base = nn.Sequential(\n",
    "            nn.Linear(self.in_features, layer_size),\n",
    "            activation_func,\n",
    "            nn.Linear(layer_size, layer_size),\n",
    "            activation_func,\n",
    "        )\n",
    "        self.actor = nn.Linear(layer_size, n_bandits)\n",
    "        self.critic = nn.Linear(layer_size, 1)\n",
    "        \n",
    "    def forward(self, states):\n",
    "        in_shape = states.shape\n",
    "        base_out = self.base(states.view(-1, self.in_features))\n",
    "        return self.activation_func(self.actor(base_out)).view(in_shape[:-1]), self.critic(base_out).view(in_shape[:-2])\n",
    "    \n",
    "    def sample_action(self, states):\n",
    "        with torch.no_grad():\n",
    "            logits, _ = self.forward(states)\n",
    "            probs = F.softmax(logits, dim=-1)\n",
    "            batch_size, n_envs, n_players, n_bandits = probs.shape\n",
    "            m = distributions.Categorical(probs.view(batch_size * n_envs * n_players, n_bandits))\n",
    "            return m.sample().view(batch_size, n_envs, n_players)\n",
    "    \n",
    "    def choose_best_action(self, states):\n",
    "        with torch.no_grad():\n",
    "            logits, _ = self.forward(states)\n",
    "            return logits.argmax(dim=-1)\n",
    "        \n",
    "    def loss_func(self, states, actions, v_t):\n",
    "        #print(f'states.shape: {states.shape}, actions.shape: {actions.shape}, v_t.shape: {v_t.shape}')\n",
    "        logits, values = self.forward(states)\n",
    "        \n",
    "        #print(f'logits.shape: {logits.shape}, values.shape: {values.shape}')\n",
    "        td = v_t - values\n",
    "        critic_loss = td.pow(2).view(-1)\n",
    "        \n",
    "        probs = F.softmax(logits, dim=-1)\n",
    "        batch_size, n_envs, n_players, n_bandits = probs.shape\n",
    "        m = distributions.Categorical(probs.view(batch_size * n_envs * n_players, n_bandits))\n",
    "        #print(f'm.log_prob(actions.view(batch_size * n_envs * n_players)).shape: {m.log_prob(actions.view(batch_size * n_envs * n_players)).shape}, td.shape: {td.shape}')\n",
    "        actor_loss = -(m.log_prob(actions.view(-1)) * td.detach().view(-1))\n",
    "        total_loss = (critic_loss + actor_loss).mean()\n",
    "        return total_loss"
   ]
  }
 ],
 "metadata": {
  "kernelspec": {
   "display_name": "Python 3",
   "language": "python",
   "name": "python3"
  },
  "language_info": {
   "codemirror_mode": {
    "name": "ipython",
    "version": 3
   },
   "file_extension": ".py",
   "mimetype": "text/x-python",
   "name": "python",
   "nbconvert_exporter": "python",
   "pygments_lexer": "ipython3",
   "version": "3.7.7"
  }
 },
 "nbformat": 4,
 "nbformat_minor": 4
}
