{
 "cells": [
  {
   "cell_type": "markdown",
   "metadata": {
    "papermill": {
     "duration": 0.012085,
     "end_time": "2020-12-18T20:36:15.509116",
     "exception": false,
     "start_time": "2020-12-18T20:36:15.497031",
     "status": "completed"
    },
    "tags": []
   },
   "source": [
    "## Santa 2020 replay visualizer\n",
    "\n",
    "This notebook sets up an interactive plotly widget that can be used to visualise episodes. The widget shows:\n",
    "\n",
    "- initial thresholds\n",
    "- current thresholds\n",
    "- current agent moves and whether they were successful\n",
    "- cumulative agent rewards\n",
    "- expected rewards (i.e. adding up the probabilities of success for each pull)\n",
    "- cumulative agent pulls for each lever\n",
    "\n",
    "The visualizer requires a running notebook to render each step. To use it, plug in an episode ID below, run all notebook cells, and then use the slider in the final cell to step through the episode."
   ]
  },
  {
   "cell_type": "code",
   "execution_count": 1,
   "metadata": {
    "_cell_guid": "b1076dfc-b9ad-4769-8c92-a6c4dae69d19",
    "_uuid": "8f2839f25d086af736a60e9eeb907d3b93b6e0e5",
    "execution": {
     "iopub.execute_input": "2020-12-18T20:36:15.555429Z",
     "iopub.status.busy": "2020-12-18T20:36:15.554736Z",
     "iopub.status.idle": "2020-12-18T20:36:15.572663Z",
     "shell.execute_reply": "2020-12-18T20:36:15.573221Z"
    },
    "papermill": {
     "duration": 0.032105,
     "end_time": "2020-12-18T20:36:15.573430",
     "exception": false,
     "start_time": "2020-12-18T20:36:15.541325",
     "status": "completed"
    },
    "tags": []
   },
   "outputs": [
    {
     "name": "stdout",
     "output_type": "stream",
     "text": [
      "Loading environment football failed: No module named 'gfootball'\n"
     ]
    }
   ],
   "source": [
    "from ipywidgets import interact\n",
    "from jupyterthemes import jtplot\n",
    "import kaggle_environments\n",
    "import matplotlib.pyplot as plt\n",
    "import numpy as np\n",
    "import plotly.graph_objects as go\n",
    "import requests\n",
    "\n",
    "%matplotlib inline\n",
    "jtplot.style()"
   ]
  },
  {
   "cell_type": "code",
   "execution_count": 2,
   "metadata": {
    "execution": {
     "iopub.execute_input": "2020-12-18T20:36:15.597935Z",
     "iopub.status.busy": "2020-12-18T20:36:15.597205Z",
     "iopub.status.idle": "2020-12-18T20:36:16.854524Z",
     "shell.execute_reply": "2020-12-18T20:36:16.853243Z"
    },
    "papermill": {
     "duration": 1.270457,
     "end_time": "2020-12-18T20:36:16.854650",
     "exception": false,
     "start_time": "2020-12-18T20:36:15.584193",
     "status": "completed"
    },
    "tags": []
   },
   "outputs": [],
   "source": [
    "EPISODE_ID = 8240896\n",
    "\n",
    "url = f\"https://www.kaggleusercontent.com/episodes/{EPISODE_ID}.json\"\n",
    "replay = requests.get(url).json()"
   ]
  },
  {
   "cell_type": "code",
   "execution_count": 3,
   "metadata": {
    "_cell_guid": "79c7e3d0-c299-4dcb-8224-4455121ee9b0",
    "_uuid": "d629ff2d2480ee46fbb7e2d37f6b5fab8052498a",
    "execution": {
     "iopub.execute_input": "2020-12-18T20:36:29.669617Z",
     "iopub.status.busy": "2020-12-18T20:36:29.668927Z",
     "iopub.status.idle": "2020-12-18T20:36:29.743623Z",
     "shell.execute_reply": "2020-12-18T20:36:29.743054Z"
    },
    "papermill": {
     "duration": 0.096691,
     "end_time": "2020-12-18T20:36:29.743738",
     "exception": false,
     "start_time": "2020-12-18T20:36:29.647047",
     "status": "completed"
    },
    "tags": []
   },
   "outputs": [
    {
     "name": "stdout",
     "output_type": "stream",
     "text": [
      "rewards: [636, 600]\n"
     ]
    }
   ],
   "source": [
    "env = kaggle_environments.make(\n",
    "    \"mab\",\n",
    "    configuration=replay[\"configuration\"],\n",
    "    steps=replay[\"steps\"],\n",
    "    info=replay[\"info\"]\n",
    ")\n",
    "\n",
    "# # or instead of a replay you could simulate a new episode, e.g:\n",
    "# env.run([\"/kaggle/input/santa-2020/submission.py\", \"round_robin\"])\n",
    "\n",
    "print(\"rewards:\", [agent.reward for agent in env.state])"
   ]
  },
  {
   "cell_type": "code",
   "execution_count": 4,
   "metadata": {
    "execution": {
     "iopub.execute_input": "2020-12-18T20:36:29.812535Z",
     "iopub.status.busy": "2020-12-18T20:36:29.805902Z",
     "iopub.status.idle": "2020-12-18T20:36:29.815938Z",
     "shell.execute_reply": "2020-12-18T20:36:29.815212Z"
    },
    "papermill": {
     "duration": 0.056132,
     "end_time": "2020-12-18T20:36:29.816064",
     "exception": false,
     "start_time": "2020-12-18T20:36:29.759932",
     "status": "completed"
    },
    "tags": []
   },
   "outputs": [],
   "source": [
    "def make_traces(env, data, step):\n",
    "    \n",
    "    initial_thresholds = env.steps[0][0][\"observation\"][\"thresholds\"]\n",
    "    current_thresholds = env.steps[step][0][\"observation\"][\"thresholds\"]\n",
    "    actions = [s[\"action\"] for s in env.steps[step]]\n",
    "    rewards = [s[\"reward\"] for s in env.steps[step]]\n",
    "\n",
    "    if step > 0:\n",
    "        last_rewards = [s[\"reward\"] for s in env.steps[step - 1]]\n",
    "    else:\n",
    "        last_rewards = [0, 0]\n",
    "        \n",
    "    success = [1 if rewards[i] > last_rewards[i] else 0 for i in range(2)]\n",
    "    \n",
    "    text_offset = 5 if step < 85 else 2\n",
    "    red = \"red\"\n",
    "    blue = \"blue\"\n",
    "\n",
    "    traces = [\n",
    "        go.Scatter(\n",
    "            name=\"agent0_pulls\",\n",
    "            x=list(range(100)),\n",
    "            y=data[\"action_histogram\"][0, step],\n",
    "            mode=\"markers\",\n",
    "            marker=dict(symbol=\"line-ew\", line=dict(width=1, color=blue)),\n",
    "        ),\n",
    "        go.Scatter(\n",
    "            name=\"agent1_pulls\",\n",
    "            x=list(range(100)),\n",
    "            y=data[\"action_histogram\"][1, step],\n",
    "            mode=\"markers\",\n",
    "            marker=dict(symbol=\"line-ew\", line=dict(width=1, color=red)),\n",
    "        ),\n",
    "        go.Scatter(\n",
    "            name=\"agent0_line\",\n",
    "            x=[actions[0]] * 2,\n",
    "            y=[0, 108],\n",
    "            mode=\"lines\",\n",
    "            line=dict(color=blue, dash=\"solid\" if success[0] else \"dot\", width=1),\n",
    "        ),\n",
    "        go.Scatter(\n",
    "            name=\"agent1_line\",\n",
    "            x=[actions[1]] * 2,\n",
    "            y=[0, 122],\n",
    "            mode=\"lines\",\n",
    "            line=dict(color=red, dash=\"solid\" if success[1] else \"dot\", width=1),\n",
    "        ),\n",
    "        go.Scatter(\n",
    "            name=\"agent_indicators\",\n",
    "            x=actions,\n",
    "            y=[108, 122],\n",
    "            text=[\"0\", \"1\"],\n",
    "            textposition=\"top left\",\n",
    "            textfont=dict(color=[blue, red]),\n",
    "            mode=\"markers+text\",\n",
    "            marker=dict(\n",
    "                color=[blue, red],\n",
    "                size=16,\n",
    "                symbol=[\"triangle-up\" if s else \"triangle-down-open\" for s in success],\n",
    "            ),\n",
    "        ),\n",
    "        go.Bar(\n",
    "            name=\"initial_thresholds\",\n",
    "            x=list(range(100)),\n",
    "            y=initial_thresholds,\n",
    "            marker_line_width=0,\n",
    "            marker_color=\"grey\",\n",
    "        ),\n",
    "        go.Scatter(\n",
    "            name=\"current_thresholds\",\n",
    "            x=list(range(100)),\n",
    "            y=current_thresholds,\n",
    "            mode=\"markers\",\n",
    "            marker_line_width=0,\n",
    "            marker_color=\"orange\"\n",
    "        ),\n",
    "        go.Bar(\n",
    "            name=\"rewards\",\n",
    "            x=[r / 8 for r in rewards],\n",
    "            y=[180, 195],\n",
    "            text=rewards,\n",
    "            textposition=\"auto\",\n",
    "            marker_line_width=1.5,\n",
    "            marker_line_color=[blue, red],\n",
    "            marker_color=[blue, red],\n",
    "            orientation=\"h\",\n",
    "        ),\n",
    "        go.Scatter(\n",
    "            name=\"team_names\",\n",
    "            x=[r / 8 + text_offset for r in rewards],\n",
    "            y=[180, 195],\n",
    "            text=env.info.get(\"TeamNames\", [\"\"] * 2),\n",
    "            textposition=\"bottom right\",\n",
    "            textfont=dict(color=[blue, red]),\n",
    "            mode=\"text\",\n",
    "        ),\n",
    "        go.Bar(\n",
    "            name=\"expected_rewards\",\n",
    "            x=[r / 8 for r in data[\"expected_rewards\"][:, step]],\n",
    "            y=[150, 165],\n",
    "            text=[\"{:.2f}\".format(x) for x in data[\"expected_rewards\"][:, step]],\n",
    "            textposition=\"auto\",\n",
    "            textfont=dict(color=[blue, red]),\n",
    "            marker_line_width=1.5,\n",
    "            marker_line_color=[blue, red],\n",
    "            marker_color=\"silver\",\n",
    "            orientation=\"h\",\n",
    "        ),\n",
    "        go.Scatter(\n",
    "            name=\"expected_label\",\n",
    "            x=[r / 8 + text_offset for r in data[\"expected_rewards\"][:, step]],\n",
    "            y=[150, 165],\n",
    "            text=\"(expected)\",\n",
    "            textposition=\"bottom right\",\n",
    "            textfont=dict(color=[blue, red]),\n",
    "            mode=\"text\",\n",
    "        ),\n",
    "    ]\n",
    "    \n",
    "    return traces"
   ]
  },
  {
   "cell_type": "code",
   "execution_count": 5,
   "metadata": {
    "execution": {
     "iopub.execute_input": "2020-12-18T20:36:29.864287Z",
     "iopub.status.busy": "2020-12-18T20:36:29.863339Z",
     "iopub.status.idle": "2020-12-18T20:36:29.867280Z",
     "shell.execute_reply": "2020-12-18T20:36:29.867786Z"
    },
    "papermill": {
     "duration": 0.035338,
     "end_time": "2020-12-18T20:36:29.867947",
     "exception": false,
     "start_time": "2020-12-18T20:36:29.832609",
     "status": "completed"
    },
    "tags": []
   },
   "outputs": [],
   "source": [
    "def make_figure_widget(env, n_traces=30):\n",
    "\n",
    "    fig = go.FigureWidget()\n",
    "\n",
    "    fig.update_xaxes(\n",
    "        range=[-2, 102],\n",
    "        zeroline=False,\n",
    "        showgrid=False,\n",
    "    )\n",
    "    fig.update_yaxes(\n",
    "        range=[-2, 208],\n",
    "        zerolinecolor=\"white\",\n",
    "        showgrid=False,\n",
    "    )\n",
    "    fig.update_layout(\n",
    "        showlegend=False,\n",
    "        plot_bgcolor=\"silver\",\n",
    "        autosize=False,\n",
    "        width=1800,\n",
    "        height=800,\n",
    "        margin=dict(l=10, r=10, b=10, t=30, pad=1),\n",
    "    )\n",
    "    fig.add_shape(type=\"line\",\n",
    "        xref=\"paper\", yref=\"paper\",\n",
    "        x0=0, y0=0.5, x1=1., y1=0.5,\n",
    "        line=dict(\n",
    "            color=\"Black\",\n",
    "            width=3,\n",
    "        ),\n",
    "    )\n",
    "    \n",
    "    # create a couple extra datasets\n",
    "    action_histogram = np.zeros((2, 2000, 100), dtype=int)\n",
    "    expected_rewards = np.zeros((2, 2000), dtype=float)\n",
    "    for step_idx, step in enumerate(env.steps):\n",
    "        if step_idx == 0:\n",
    "            continue\n",
    "        for agent_idx, agent in enumerate(step):\n",
    "            action = agent[\"action\"]\n",
    "            thresholds = env.steps[step_idx - 1][0][\"observation\"][\"thresholds\"]\n",
    "            expected_reward = np.ceil(thresholds[action]) / 101\n",
    "            action_histogram[agent_idx, step_idx:, action] += 1\n",
    "            expected_rewards[agent_idx, step_idx:] += expected_reward\n",
    "            \n",
    "    data = {\n",
    "        \"action_histogram\": action_histogram,\n",
    "        \"expected_rewards\": expected_rewards,\n",
    "    }\n",
    "\n",
    "    fig.add_traces(make_traces(env, data, 0))\n",
    "\n",
    "    return fig, data"
   ]
  },
  {
   "cell_type": "code",
   "execution_count": 6,
   "metadata": {
    "execution": {
     "iopub.execute_input": "2020-12-18T20:36:29.905978Z",
     "iopub.status.busy": "2020-12-18T20:36:29.905127Z",
     "iopub.status.idle": "2020-12-18T20:36:31.277562Z",
     "shell.execute_reply": "2020-12-18T20:36:31.276979Z"
    },
    "papermill": {
     "duration": 1.393238,
     "end_time": "2020-12-18T20:36:31.277693",
     "exception": false,
     "start_time": "2020-12-18T20:36:29.884455",
     "status": "completed"
    },
    "scrolled": false,
    "tags": []
   },
   "outputs": [],
   "source": [
    "fig, data = make_figure_widget(env)"
   ]
  },
  {
   "cell_type": "code",
   "execution_count": 7,
   "metadata": {
    "execution": {
     "iopub.execute_input": "2020-12-18T20:36:31.319682Z",
     "iopub.status.busy": "2020-12-18T20:36:31.318853Z",
     "iopub.status.idle": "2020-12-18T20:36:31.609460Z",
     "shell.execute_reply": "2020-12-18T20:36:31.608637Z"
    },
    "papermill": {
     "duration": 0.315537,
     "end_time": "2020-12-18T20:36:31.609589",
     "exception": false,
     "start_time": "2020-12-18T20:36:31.294052",
     "status": "completed"
    },
    "tags": []
   },
   "outputs": [
    {
     "data": {
      "application/vnd.jupyter.widget-view+json": {
       "model_id": "f32526b33aa7424e8ed70d287e18c4e0",
       "version_major": 2,
       "version_minor": 0
      },
      "text/plain": [
       "interactive(children=(IntSlider(value=0, description='step', max=1999), Output()), _dom_classes=('widget-inter…"
      ]
     },
     "metadata": {},
     "output_type": "display_data"
    },
    {
     "data": {
      "application/vnd.jupyter.widget-view+json": {
       "model_id": "8872fe95107a41959f9b7a34e3e12b3f",
       "version_major": 2,
       "version_minor": 0
      },
      "text/plain": [
       "FigureWidget({\n",
       "    'data': [{'marker': {'line': {'color': 'blue', 'width': 1}, 'symbol': 'line-ew'},\n",
       "         …"
      ]
     },
     "metadata": {},
     "output_type": "display_data"
    }
   ],
   "source": [
    "@interact(step=(0, len(env.steps) - 1))\n",
    "def interactive_display(step=0):\n",
    "    fig.update(data=make_traces(env, data, step))\n",
    "fig"
   ]
  },
  {
   "cell_type": "code",
   "execution_count": 8,
   "metadata": {},
   "outputs": [
    {
     "data": {
      "image/png": "[encoded data removed]",
      "text/plain": [
       "<Figure size 576x1152 with 2 Axes>"
      ]
     },
     "metadata": {},
     "output_type": "display_data"
    }
   ],
   "source": [
    "actual_rewards = []\n",
    "for step in env.steps:\n",
    "    actual_rewards.append([s[\"reward\"] for s in step])\n",
    "actual_rewards = np.array(actual_rewards).T\n",
    "colors = plt.rcParams['axes.prop_cycle'].by_key()['color']\n",
    "\n",
    "plt_fig, axes = plt.subplots(2, 1, figsize=(8, 16), sharex=True);\n",
    "\n",
    "team_names = env.info.get(\"TeamNames\", [\"\"] * 2)\n",
    "for i, team_name in enumerate(team_names):\n",
    "    axes[0].plot(data['expected_rewards'][i], label=f\"{team_name}'s expected rewards\",\n",
    "                 color=colors[i], linestyle='--')\n",
    "    axes[0].plot(actual_rewards[i], label=f\"{team_name}'s actual rewards\",\n",
    "                 color=colors[i])\n",
    "axes[0].legend()\n",
    "\n",
    "my_team_idx = np.argmax(np.array(team_names) == 'IsaiahP')\n",
    "axes[1].plot(data['expected_rewards'][my_team_idx] - data['expected_rewards'][int(not my_team_idx)], label=f\"{team_names[my_team_idx]}'s expected advantage\",\n",
    "             color=colors[2])\n",
    "axes[1].plot(actual_rewards[my_team_idx] - actual_rewards[int(not my_team_idx)], label=f\"{team_names[my_team_idx]}'s actual advantage\",\n",
    "             color=colors[3])\n",
    "axes[1].legend();"
   ]
  }
 ],
 "metadata": {
  "kernelspec": {
   "display_name": "Python 3",
   "language": "python",
   "name": "python3"
  },
  "language_info": {
   "codemirror_mode": {
    "name": "ipython",
    "version": 3
   },
   "file_extension": ".py",
   "mimetype": "text/x-python",
   "name": "python",
   "nbconvert_exporter": "python",
   "pygments_lexer": "ipython3",
   "version": "3.7.7"
  },
  "papermill": {
   "duration": 21.312527,
   "end_time": "2020-12-18T20:36:31.749521",
   "environment_variables": {},
   "exception": null,
   "input_path": "__notebook__.ipynb",
   "output_path": "__notebook__.ipynb",
   "parameters": {},
   "start_time": "2020-12-18T20:36:10.436994",
   "version": "2.1.0"
  },
  "widgets": {
   "application/vnd.jupyter.widget-state+json": {
    "state": {
     "16d1501cbb494350aaa53a81ff5bceff": {
      "model_module": "@jupyter-widgets/controls",
      "model_module_version": "1.5.0",
      "model_name": "VBoxModel",
      "state": {
       "_dom_classes": [
        "widget-interact"
       ],
       "_model_module": "@jupyter-widgets/controls",
       "_model_module_version": "1.5.0",
       "_model_name": "VBoxModel",
       "_view_count": null,
       "_view_module": "@jupyter-widgets/controls",
       "_view_module_version": "1.5.0",
       "_view_name": "VBoxView",
       "box_style": "",
       "children": [
        "IPY_MODEL_e60624dbd63e43b8900a11e0d1bd1843",
        "IPY_MODEL_463b8dde2c404c038c636e1f83960e1d"
       ],
       "layout": "IPY_MODEL_45c8810fedcd4c4f963de93bcb5f3eb0"
      }
     },
     "34cd5f5569e441eaa26d5587d4a2a30f": {
      "model_module": "@jupyter-widgets/controls",
      "model_module_version": "1.5.0",
      "model_name": "SliderStyleModel",
      "state": {
       "_model_module": "@jupyter-widgets/controls",
       "_model_module_version": "1.5.0",
       "_model_name": "SliderStyleModel",
       "_view_count": null,
       "_view_module": "@jupyter-widgets/base",
       "_view_module_version": "1.2.0",
       "_view_name": "StyleView",
       "description_width": "",
       "handle_color": null
      }
     },
     "3da6577a13e04ff588c7dd5506e5a760": {
      "model_module": "plotlywidget",
      "model_module_version": "^4.14.0",
      "model_name": "FigureModel",
      "state": {
       "_config": {
        "plotlyServerURL": "https://plot.ly"
       },
       "_data": [],
       "_dom_classes": [],
       "_js2py_layoutDelta": {},
       "_js2py_pointsCallback": {},
       "_js2py_relayout": {},
       "_js2py_restyle": {},
       "_js2py_traceDeltas": {},
       "_js2py_update": {},
       "_last_layout_edit_id": 4,
       "_last_trace_edit_id": 4,
       "_layout": {},
       "_model_module": "plotlywidget",
       "_model_module_version": "^4.14.0",
       "_model_name": "FigureModel",
       "_py2js_addTraces": null,
       "_py2js_animate": {},
       "_py2js_deleteTraces": {},
       "_py2js_moveTraces": {},
       "_py2js_relayout": null,
       "_py2js_removeLayoutProps": {},
       "_py2js_removeTraceProps": {},
       "_py2js_restyle": {},
       "_py2js_update": null,
       "_view_count": 0,
       "_view_module": "plotlywidget",
       "_view_module_version": "^4.14.0",
       "_view_name": "FigureView"
      }
     },
     "45c8810fedcd4c4f963de93bcb5f3eb0": {
      "model_module": "@jupyter-widgets/base",
      "model_module_version": "1.2.0",
      "model_name": "LayoutModel",
      "state": {
       "_model_module": "@jupyter-widgets/base",
       "_model_module_version": "1.2.0",
       "_model_name": "LayoutModel",
       "_view_count": null,
       "_view_module": "@jupyter-widgets/base",
       "_view_module_version": "1.2.0",
       "_view_name": "LayoutView",
       "align_content": null,
       "align_items": null,
       "align_self": null,
       "border": null,
       "bottom": null,
       "display": null,
       "flex": null,
       "flex_flow": null,
       "grid_area": null,
       "grid_auto_columns": null,
       "grid_auto_flow": null,
       "grid_auto_rows": null,
       "grid_column": null,
       "grid_gap": null,
       "grid_row": null,
       "grid_template_areas": null,
       "grid_template_columns": null,
       "grid_template_rows": null,
       "height": null,
       "justify_content": null,
       "justify_items": null,
       "left": null,
       "margin": null,
       "max_height": null,
       "max_width": null,
       "min_height": null,
       "min_width": null,
       "object_fit": null,
       "object_position": null,
       "order": null,
       "overflow": null,
       "overflow_x": null,
       "overflow_y": null,
       "padding": null,
       "right": null,
       "top": null,
       "visibility": null,
       "width": null
      }
     },
     "463b8dde2c404c038c636e1f83960e1d": {
      "model_module": "@jupyter-widgets/output",
      "model_module_version": "1.0.0",
      "model_name": "OutputModel",
      "state": {
       "_dom_classes": [],
       "_model_module": "@jupyter-widgets/output",
       "_model_module_version": "1.0.0",
       "_model_name": "OutputModel",
       "_view_count": null,
       "_view_module": "@jupyter-widgets/output",
       "_view_module_version": "1.0.0",
       "_view_name": "OutputView",
       "layout": "IPY_MODEL_e01a02afda8b4f3c93e3879518aa3171",
       "msg_id": "",
       "outputs": []
      }
     },
     "8f46c094b0d543e187f5a8deb20a2a9a": {
      "model_module": "@jupyter-widgets/base",
      "model_module_version": "1.2.0",
      "model_name": "LayoutModel",
      "state": {
       "_model_module": "@jupyter-widgets/base",
       "_model_module_version": "1.2.0",
       "_model_name": "LayoutModel",
       "_view_count": null,
       "_view_module": "@jupyter-widgets/base",
       "_view_module_version": "1.2.0",
       "_view_name": "LayoutView",
       "align_content": null,
       "align_items": null,
       "align_self": null,
       "border": null,
       "bottom": null,
       "display": null,
       "flex": null,
       "flex_flow": null,
       "grid_area": null,
       "grid_auto_columns": null,
       "grid_auto_flow": null,
       "grid_auto_rows": null,
       "grid_column": null,
       "grid_gap": null,
       "grid_row": null,
       "grid_template_areas": null,
       "grid_template_columns": null,
       "grid_template_rows": null,
       "height": null,
       "justify_content": null,
       "justify_items": null,
       "left": null,
       "margin": null,
       "max_height": null,
       "max_width": null,
       "min_height": null,
       "min_width": null,
       "object_fit": null,
       "object_position": null,
       "order": null,
       "overflow": null,
       "overflow_x": null,
       "overflow_y": null,
       "padding": null,
       "right": null,
       "top": null,
       "visibility": null,
       "width": null
      }
     },
     "e01a02afda8b4f3c93e3879518aa3171": {
      "model_module": "@jupyter-widgets/base",
      "model_module_version": "1.2.0",
      "model_name": "LayoutModel",
      "state": {
       "_model_module": "@jupyter-widgets/base",
       "_model_module_version": "1.2.0",
       "_model_name": "LayoutModel",
       "_view_count": null,
       "_view_module": "@jupyter-widgets/base",
       "_view_module_version": "1.2.0",
       "_view_name": "LayoutView",
       "align_content": null,
       "align_items": null,
       "align_self": null,
       "border": null,
       "bottom": null,
       "display": null,
       "flex": null,
       "flex_flow": null,
       "grid_area": null,
       "grid_auto_columns": null,
       "grid_auto_flow": null,
       "grid_auto_rows": null,
       "grid_column": null,
       "grid_gap": null,
       "grid_row": null,
       "grid_template_areas": null,
       "grid_template_columns": null,
       "grid_template_rows": null,
       "height": null,
       "justify_content": null,
       "justify_items": null,
       "left": null,
       "margin": null,
       "max_height": null,
       "max_width": null,
       "min_height": null,
       "min_width": null,
       "object_fit": null,
       "object_position": null,
       "order": null,
       "overflow": null,
       "overflow_x": null,
       "overflow_y": null,
       "padding": null,
       "right": null,
       "top": null,
       "visibility": null,
       "width": null
      }
     },
     "e60624dbd63e43b8900a11e0d1bd1843": {
      "model_module": "@jupyter-widgets/controls",
      "model_module_version": "1.5.0",
      "model_name": "IntSliderModel",
      "state": {
       "_dom_classes": [],
       "_model_module": "@jupyter-widgets/controls",
       "_model_module_version": "1.5.0",
       "_model_name": "IntSliderModel",
       "_view_count": null,
       "_view_module": "@jupyter-widgets/controls",
       "_view_module_version": "1.5.0",
       "_view_name": "IntSliderView",
       "continuous_update": true,
       "description": "step",
       "description_tooltip": null,
       "disabled": false,
       "layout": "IPY_MODEL_8f46c094b0d543e187f5a8deb20a2a9a",
       "max": 1999,
       "min": 0,
       "orientation": "horizontal",
       "readout": true,
       "readout_format": "d",
       "step": 1,
       "style": "IPY_MODEL_34cd5f5569e441eaa26d5587d4a2a30f",
       "value": 0
      }
     }
    },
    "version_major": 2,
    "version_minor": 0
   }
  }
 },
 "nbformat": 4,
 "nbformat_minor": 4
}
